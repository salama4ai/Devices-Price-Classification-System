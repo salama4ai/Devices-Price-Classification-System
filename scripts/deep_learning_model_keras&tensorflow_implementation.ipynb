{
  "cells": [
    {
      "cell_type": "markdown",
      "metadata": {
        "id": "AQC6OjfDxmh_"
      },
      "source": [
        "# This notebook for preprocessing and deep-learning model model implemented using pytorch of the Devices-Price-Classification-System project"
      ]
    },
    {
      "cell_type": "code",
      "execution_count": 1,
      "metadata": {
        "colab": {
          "base_uri": "https://localhost:8080/"
        },
        "id": "EPHHOoL9KJT7",
        "outputId": "c19298fa-0642-4f00-be3f-52ad4074bee9"
      },
      "outputs": [
        {
          "output_type": "stream",
          "name": "stdout",
          "text": [
            "Mounted at /content/drive\n"
          ]
        }
      ],
      "source": [
        "from google.colab import drive\n",
        "drive.mount('/content/drive')"
      ]
    },
    {
      "cell_type": "markdown",
      "metadata": {
        "id": "VmmAp68WlpZx"
      },
      "source": [
        "## importing libraries"
      ]
    },
    {
      "cell_type": "code",
      "execution_count": 2,
      "metadata": {
        "id": "ajVUf3e6aaIk"
      },
      "outputs": [],
      "source": [
        "# importing the libraries\n",
        "import os\n",
        "import random\n",
        "import numpy as np\n",
        "import pandas as pd\n",
        "from matplotlib import pyplot as plt\n",
        "import time\n",
        "from tqdm import tqdm\n",
        "import joblib\n",
        "import pickle\n",
        "import seaborn as sns\n",
        "from sklearn.compose import make_column_transformer, make_column_selector\n",
        "from sklearn.model_selection import train_test_split\n",
        "from sklearn.pipeline import make_pipeline\n",
        "#from sklearn.metrics import accuracy_score, f1_score\n",
        "from sklearn.preprocessing import StandardScaler, MinMaxScaler\n",
        "\n",
        "# explicitly require this experimental feature\n",
        "from sklearn.experimental import enable_iterative_imputer  # noqa\n",
        "# now you can import normally from sklearn.impute\n",
        "from sklearn.impute import IterativeImputer\n",
        "import tensorflow as tf\n",
        "#from keras import backend as K\n",
        "\n"
      ]
    },
    {
      "cell_type": "code",
      "execution_count": 3,
      "metadata": {
        "id": "KmmhSZl2NboD",
        "colab": {
          "base_uri": "https://localhost:8080/"
        },
        "outputId": "8078cbee-6ba0-4c54-cb8a-28e2be9cce3a"
      },
      "outputs": [
        {
          "output_type": "stream",
          "name": "stdout",
          "text": [
            "using version 2.15.0\n"
          ]
        }
      ],
      "source": [
        "# This function to be able to reproduce the same numbers in the future, by fixing\n",
        "# the algorithms parameters that lead to generate the same random numbers\n",
        "\n",
        "# printing pytorch version as this point may affect the reproducability if diffrent pytorch version used\n",
        "print(f'using version {tf.__version__}')\n",
        "\n",
        "\n",
        "# fix random number generation aka regenerate the same random numbers every time (such as weight and bias initialization )\n",
        "def set_random_seed(seed=7, deterministic=True):\n",
        "    \"\"\"Set random seed, for python, numpy, tensorflow\n",
        "\n",
        "    This function to be able to reproduce the same numbers in the future, by fixing\n",
        "    the algorithms parameters that lead to generate the same random numbers\n",
        "\n",
        "    Args:\n",
        "        seed (int): Seed to be used.\n",
        "    \"\"\"\n",
        "\n",
        "    #\n",
        "    os.environ['PYTHONHASHSEED']=str(seed)\n",
        "\n",
        "    # set seed for python random numbers.Set `python` pseudo-random generator at a fixed value\n",
        "    random.seed(seed)\n",
        "\n",
        "    # set seed for numpy random numbers. Set `numpy` pseudo-random generator at a fixed value\n",
        "    np.random.seed(seed)\n",
        "\n",
        "    #GLOBAL SEED:- set seed for tensorflow random numbers.  Set `tensorflow` pseudo-random generator at a fixed value\n",
        "    tf.random.set_seed(seed)\n",
        "\n",
        "    # tf gpu fix seed, please `pip install tensorflow-determinism` first\n",
        "    os.environ['TF_DETERMINISTIC_OPS'] = '1'\n",
        "\n",
        "\n",
        "    # sets seeds for keras\n",
        "    tf.keras.utils.set_random_seed(seed)\n",
        "\n",
        "    # forcing tensorflow to use single thread since multiple threads are potential source of un-reproducibility\n",
        "    # Configure a new global `tensorflow` session\n",
        "    session_conf = tf.compat.v1.ConfigProto(intra_op_parallelism_threads=1, inter_op_parallelism_threads=1)\n",
        "    sess = tf.compat.v1.Session(graph=tf.compat.v1.get_default_graph(), config=session_conf)\n",
        "    tf.compat.v1.keras.backend.set_session(sess)\n",
        "\n",
        "    # # if if speed is less important than reproducibility then un-comment this line, as it will reduce the calculations-speed significantly but will leads to more robust reproducibility\n",
        "    # tf.config.experimental.enable_op_determinism()\n",
        "\n",
        "seed=7\n",
        "set_random_seed(seed=seed)"
      ]
    },
    {
      "cell_type": "markdown",
      "metadata": {
        "id": "rt-EjR4qmSWr"
      },
      "source": [
        "## load data"
      ]
    },
    {
      "cell_type": "code",
      "execution_count": 4,
      "metadata": {
        "id": "PUR3ELTFmpXW"
      },
      "outputs": [],
      "source": [
        "df = pd.read_csv(\"/content/drive/MyDrive/maids.cc/data/train - train.csv\")\n",
        "test_data = pd.read_csv(\"/content/drive/MyDrive/maids.cc/data/test - test.csv\")"
      ]
    },
    {
      "cell_type": "markdown",
      "metadata": {
        "id": "ie5tOwq_4X04"
      },
      "source": [
        "split the label column from the feature columns"
      ]
    },
    {
      "cell_type": "code",
      "execution_count": 5,
      "metadata": {
        "id": "rTfthDaP3X2J",
        "colab": {
          "base_uri": "https://localhost:8080/"
        },
        "outputId": "2bdd53ab-839b-4503-bcc8-12cf2a33fa0b"
      },
      "outputs": [
        {
          "output_type": "execute_result",
          "data": {
            "text/plain": [
              "((2000, 4), (2000, 20))"
            ]
          },
          "metadata": {},
          "execution_count": 5
        }
      ],
      "source": [
        "# label column naming it (y)\n",
        "y = df[\"price_range\"]\n",
        "#feature columns naming them x\n",
        "x = df.drop(\"price_range\", axis=1)\n",
        "y = tf.keras.utils.to_categorical(y, num_classes=4)\n",
        "y.shape, x.shape\n"
      ]
    },
    {
      "cell_type": "markdown",
      "metadata": {
        "id": "qt6OFy2w47YS"
      },
      "source": [
        "#### using train test split function to split the training data into training and validation set"
      ]
    },
    {
      "cell_type": "code",
      "execution_count": 6,
      "metadata": {
        "id": "zVJzSOmc4vJK"
      },
      "outputs": [],
      "source": [
        "from sklearn.model_selection import train_test_split\n",
        "xtrain_unprocessed, xtest_unprocessed, ytrain, ytest = train_test_split(\n",
        "    x, y, test_size=0.17, random_state=seed, stratify=y, shuffle=True)"
      ]
    },
    {
      "cell_type": "markdown",
      "metadata": {
        "id": "FfOl5Uu45DHM"
      },
      "source": [
        "we will do all the preprocessing steps using the make_column_transformer this has many advantages, such as we can involve the preprocessing step in the fine tuning process, and we dont need the repeat the same steps for testing data step by step"
      ]
    },
    {
      "cell_type": "code",
      "execution_count": 7,
      "metadata": {
        "id": "4m4M8y0KK6J_"
      },
      "outputs": [],
      "source": [
        "preprocessor_1 = make_column_transformer((MinMaxScaler(feature_range=(0, 3)), [\"ram\"]),\n",
        "                                          remainder=\"passthrough\")\n",
        "\n",
        "preprocessor_2 = make_column_transformer(\n",
        "    #(KNNImputer(), slice(0, k)),  # test this choice, but it leads to poor results\n",
        "     (IterativeImputer(random_state=seed, tol=1e-5, max_iter=55), slice(0, 20)),\n",
        "     remainder=\"passthrough\")\n",
        "\n",
        "preprocessor_3 = make_column_transformer((StandardScaler(), slice(1, 20)),\n",
        "                                         remainder=\"passthrough\")\n",
        "\n",
        "# by the way deep-learning can deal with unscaled features, but anyway i did StandardScaler, MinMaxScaler steps"
      ]
    },
    {
      "cell_type": "markdown",
      "metadata": {
        "id": "tQxk1thnzf4S"
      },
      "source": [
        "#### machine learning is a search problem"
      ]
    },
    {
      "cell_type": "code",
      "execution_count": 8,
      "metadata": {
        "id": "8hE4eKYfK55O"
      },
      "outputs": [],
      "source": [
        "\n",
        "pipe = make_pipeline(preprocessor_1, preprocessor_2, preprocessor_3)\n",
        "\n",
        "# apply the needed transformations over the training data\n",
        "xtrain = pipe.fit_transform(xtrain_unprocessed)\n",
        "\n",
        "# apply the needed transformations over the testing data\n",
        "xtest = pipe.transform(xtest_unprocessed)"
      ]
    },
    {
      "cell_type": "code",
      "execution_count": 9,
      "metadata": {
        "id": "P6rGheIAArUu"
      },
      "outputs": [],
      "source": [
        "number_of_output_layer_neurons = ytrain.shape[1]\n",
        "number_of_input_layer_neurons = xtrain.shape[1]\n",
        "\n",
        "#compine the features and the corresponding labels into one object\n",
        "train_set = tf.data.Dataset.from_tensor_slices((xtrain, ytrain))\n",
        "\n",
        "#compine the features and the corresponding labels into one object\n",
        "test_set = tf.data.Dataset.from_tensor_slices((xtest, ytest))"
      ]
    },
    {
      "cell_type": "code",
      "source": [
        "#initializing accuracy function\n",
        "accuracy = tf.keras.metrics.Accuracy(name='accuracy')\n",
        "\n",
        "#initializing cross_entropy_loss function\n",
        "cross_entropy_loss = tf.keras.metrics.CategoricalCrossentropy(name='cross_entropy_loss')\n",
        "\n",
        "#initializing f1score function\n",
        "f1score = tf.keras.metrics.F1Score(average='macro', threshold=None, name='f1score', dtype=tf.float32)\n",
        "\n",
        "# evaluate the performance using the R2Score and mean-square-error pytorch functions\n",
        "def evaluate_model(model, data_loader):\n",
        "    '''this function is to evaluate the performance of the model using R2Score and mean-square-error pytorch functions'''\n",
        "\n",
        "    # initialize the labels and preds and transfering them to device(cpu or gpu)\n",
        "    labels = tf.constant([], dtype=tf.float32, shape=(0, number_of_output_layer_neurons))\n",
        "    predictions = tf.constant([], dtype=tf.float32, shape=(0, number_of_output_layer_neurons))\n",
        "\n",
        "    # starting the loop over data\n",
        "    for features, label in data_loader:\n",
        "\n",
        "        # concatenate all the labels\n",
        "        labels = tf.concat(values=[labels, label], axis=0)\n",
        "\n",
        "        # get the model predictions of the given data and flatten them\n",
        "        preds = model(features, training=False)\n",
        "\n",
        "        # concatenate all the predictions\n",
        "        predictions = tf.concat(values=[preds, predictions], axis=0)\n",
        "\n",
        "    # calculate cross_entropy_loss\n",
        "    cross_entropy_loss.reset_state()\n",
        "    cross_entropy_loss.update_state(labels, predictions)\n",
        "    cross_entropy_loss_evaluation = cross_entropy_loss.result().numpy()\n",
        "\n",
        "    #print(f\" preds shape = {preds.shape}\")\n",
        "    #print(f\" labels shape = {labels.shape}\")\n",
        "    #print(f\" label shape = {label.shape}\")\n",
        "    #print(f\"predictionss shape =  {predictions.shape}\")\n",
        "\n",
        "    # calculate accuracy\n",
        "    accuracy.reset_state()\n",
        "    accuracy.update_state(tf.argmax(labels, axis=1), tf.argmax(predictions, axis=1))\n",
        "    accuracy_evaluation = accuracy.result().numpy()\n",
        "\n",
        "    # calculate f1score\n",
        "    f1score.reset_state()\n",
        "    f1score.update_state(labels, predictions)\n",
        "    f1score_evaluation = f1score.result().numpy()\n",
        "\n",
        "    # evaluation metrics\n",
        "    model_evaluations = np.array([accuracy_evaluation, cross_entropy_loss_evaluation, f1score_evaluation], dtype=np.float32)\n",
        "\n",
        "    # return the model_evaluations result\n",
        "    return model_evaluations\n",
        "\n",
        "#evaluate_model(model, data_loader=test_loader)"
      ],
      "metadata": {
        "id": "yodVnuoKgn5q"
      },
      "execution_count": 10,
      "outputs": []
    },
    {
      "cell_type": "code",
      "execution_count": 11,
      "metadata": {
        "id": "3X-I6OxsLKOv"
      },
      "outputs": [],
      "source": [
        "class network(tf.keras.Model):\n",
        "    '''create the structure of the model'''\n",
        "\n",
        "    def __init__(self, number_of_input_layer_neurons=20, number_of_output_layer_neurons=4):\n",
        "        '''like a class constructor function or initialization'''\n",
        "\n",
        "        super().__init__()\n",
        "        # the fully connected layers\n",
        "        self.fc1 = tf.keras.layers.Dense(units=21, input_shape=(number_of_input_layer_neurons,), activation='leaky_relu')\n",
        "        self.fc2 = tf.keras.layers.Dense(units=21, activation='relu')\n",
        "        self.fc3 = tf.keras.layers.Dense(units=21, activation='tanh')\n",
        "        self.fc4 = tf.keras.layers.Dense(units=21, activation='relu')\n",
        "        #self.fc5 = tf.keras.layers.Dense(units=21, activation='tanh')\n",
        "        #self.fc6 = tf.keras.layers.Dense(units=21, activation='relu')\n",
        "        self.fc7 = tf.keras.layers.Dense(units=number_of_output_layer_neurons, activation='softmax'\n",
        "                                        )\n",
        "\n",
        "\n",
        "    def call(self, features):\n",
        "        '''this the forward path of the model'''\n",
        "        # i used different activation functions to enable the model to select the output without limitation of any activation function\n",
        "        out = (self.fc1(features))\n",
        "        out = (self.fc2(out))\n",
        "        out = (self.fc3(out))\n",
        "        out = (self.fc4(out))\n",
        "        #out = (self.fc5(out))\n",
        "        #out = (self.fc6(out))\n",
        "        out =(self.fc7(out))\n",
        "        #print(out.shape)\n",
        "        return out\n"
      ]
    },
    {
      "cell_type": "code",
      "execution_count": 12,
      "metadata": {
        "id": "eJmx9uZcBKPn"
      },
      "outputs": [],
      "source": [
        " # define the training function.\n",
        "def train_model(num_epochs, data_loader):\n",
        "\n",
        "    # set the number of batches to be the length of 'data_loader'\n",
        "    num_batches = len(data_loader)\n",
        "\n",
        "    # print the hyperparameters informations that the model going to train based on.\n",
        "    print(f\"\"\"batch_size = {batch_size} \\n starting learning rate = {learning_rate} \\n number of epochs = {num_epochs}\\\n",
        "    \\n number of batches = {num_batches} \\n model = {model}, \\n criterion={criterion}, \\n optimizer={optimizer}\"\"\")\n",
        "\n",
        "    # initialize lists to save the training and testing validation progress to be able to plot the results later\n",
        "    evaluations_progress = np.empty(shape=(num_epochs, 2, 3), dtype=np.float32)\n",
        "\n",
        "    # start the epochs loop\n",
        "    for epoch in range(num_epochs):\n",
        "\n",
        "        # printing out the time which the model starts, to be able to calculate the minuts it take\n",
        "        start_time = time.time()\n",
        "\n",
        "        # initialize progress function that display the progress of the training.\n",
        "        progress = tqdm(enumerate(data_loader), total=num_batches, leave=True)\n",
        "\n",
        "        # starting the training loop for each epoch\n",
        "        for batch_idx, (features, labels) in progress:\n",
        "\n",
        "            with tf.GradientTape() as tape:\n",
        "\n",
        "                # calculate the predictions.\n",
        "                predictions = model(features, training=True)\n",
        "\n",
        "                # calculate the loss.\n",
        "                loss = criterion(labels, predictions)\n",
        "\n",
        "                # back propagation calculations\n",
        "                grads = tape.gradient(loss, model.trainable_variables)\n",
        "\n",
        "                # optimization step\n",
        "                optimizer.apply_gradients(zip(grads, model.trainable_variables))\n",
        "\n",
        "            # determine the information to be showed while training progress and show it\n",
        "            progress.set_description(f\"epoch [{1+epoch}/{num_epochs}], loss={loss:0.4f}\")\n",
        "            progress.set_postfix()\n",
        "\n",
        "        # calculate the training evaluations\n",
        "        train_evaluations = evaluate_model(model, data_loader=train_loader)\n",
        "\n",
        "        # calculate the test evaluations\n",
        "        test_evaluations = evaluate_model(model, data_loader=test_loader)\n",
        "\n",
        "        # printing the important information about the training progress\n",
        "        print(f\"after {1+epoch} epoch, \\ntrain-data evaluation:- acc = {test_evaluations[0]:.5f}, CrossEntropyLoss = {test_evaluations[1]:.2f}, f1score = {test_evaluations[2]:.5f}\\\n",
        "        \\ntest-data evaluation:- acc = {test_evaluations[0]:.5f}, CrossEntropyLoss = {test_evaluations[1]:.2f}, f1score = {test_evaluations[2]:.5f}\\\n",
        "        time_elapsed = {((time.time()-start_time)/60):.1f} minuts. \\n\",\"-\"*119)\n",
        "\n",
        "        # add the training evaluations to a list to be able to visulaize the over all progress after the training completed\n",
        "        evaluations_progress[epoch, 0, :] = train_evaluations\n",
        "\n",
        "        # add the testing evaluations to a list to be able to visulaize the over all progress after the testing completed\n",
        "        evaluations_progress[epoch, 1, :] = test_evaluations\n",
        "\n",
        "    # # print the model structure\n",
        "    print(model.summary())\n",
        "\n",
        "    # return test_eval_progress and train_eval_progress after the training completed\n",
        "    return evaluations_progress"
      ]
    },
    {
      "cell_type": "code",
      "execution_count": 13,
      "metadata": {
        "colab": {
          "base_uri": "https://localhost:8080/"
        },
        "id": "PDrwaxTWMjAF",
        "outputId": "80e4dc50-70af-477b-b953-34446dbf9415"
      },
      "outputs": [
        {
          "output_type": "stream",
          "name": "stdout",
          "text": [
            "<__main__.network object at 0x7f7a8415c520>\n",
            "batch_size = 2000 \n",
            " starting learning rate = 0.007 \n",
            " number of epochs = 100   \n",
            " number of batches = 1 \n",
            " model = <__main__.network object at 0x7f7a8415c520>, \n",
            " criterion=<keras.src.losses.CategoricalCrossentropy object at 0x7f7a8415d570>, \n",
            " optimizer=<keras.src.optimizers.adam.Adam object at 0x7f7a841a9420>\n"
          ]
        },
        {
          "output_type": "stream",
          "name": "stderr",
          "text": [
            "epoch [1/100], loss=1.4677: 100%|██████████| 1/1 [00:00<00:00,  6.11it/s]\n"
          ]
        },
        {
          "output_type": "stream",
          "name": "stdout",
          "text": [
            "after 1 epoch, \n",
            "train-data evaluation:- acc = 0.27059, CrossEntropyLoss = 1.41, f1score = 0.26508       \n",
            "test-data evaluation:- acc = 0.27059, CrossEntropyLoss = 1.41, f1score = 0.26508       time_elapsed = 0.0 minuts. \n",
            " -----------------------------------------------------------------------------------------------------------------------\n"
          ]
        },
        {
          "output_type": "stream",
          "name": "stderr",
          "text": [
            "epoch [2/100], loss=1.4171: 100%|██████████| 1/1 [00:00<00:00,  8.80it/s]\n"
          ]
        },
        {
          "output_type": "stream",
          "name": "stdout",
          "text": [
            "after 2 epoch, \n",
            "train-data evaluation:- acc = 0.29412, CrossEntropyLoss = 1.38, f1score = 0.27415       \n",
            "test-data evaluation:- acc = 0.29412, CrossEntropyLoss = 1.38, f1score = 0.27415       time_elapsed = 0.0 minuts. \n",
            " -----------------------------------------------------------------------------------------------------------------------\n"
          ]
        },
        {
          "output_type": "stream",
          "name": "stderr",
          "text": [
            "epoch [3/100], loss=1.3856: 100%|██████████| 1/1 [00:00<00:00, 13.38it/s]\n"
          ]
        },
        {
          "output_type": "stream",
          "name": "stdout",
          "text": [
            "after 3 epoch, \n",
            "train-data evaluation:- acc = 0.31176, CrossEntropyLoss = 1.37, f1score = 0.28617       \n",
            "test-data evaluation:- acc = 0.31176, CrossEntropyLoss = 1.37, f1score = 0.28617       time_elapsed = 0.0 minuts. \n",
            " -----------------------------------------------------------------------------------------------------------------------\n"
          ]
        },
        {
          "output_type": "stream",
          "name": "stderr",
          "text": [
            "epoch [4/100], loss=1.3631: 100%|██████████| 1/1 [00:00<00:00,  5.46it/s]\n"
          ]
        },
        {
          "output_type": "stream",
          "name": "stdout",
          "text": [
            "after 4 epoch, \n",
            "train-data evaluation:- acc = 0.31765, CrossEntropyLoss = 1.35, f1score = 0.28733       \n",
            "test-data evaluation:- acc = 0.31765, CrossEntropyLoss = 1.35, f1score = 0.28733       time_elapsed = 0.0 minuts. \n",
            " -----------------------------------------------------------------------------------------------------------------------\n"
          ]
        },
        {
          "output_type": "stream",
          "name": "stderr",
          "text": [
            "epoch [5/100], loss=1.3437: 100%|██████████| 1/1 [00:00<00:00,  5.93it/s]\n"
          ]
        },
        {
          "output_type": "stream",
          "name": "stdout",
          "text": [
            "after 5 epoch, \n",
            "train-data evaluation:- acc = 0.33824, CrossEntropyLoss = 1.34, f1score = 0.31244       \n",
            "test-data evaluation:- acc = 0.33824, CrossEntropyLoss = 1.34, f1score = 0.31244       time_elapsed = 0.0 minuts. \n",
            " -----------------------------------------------------------------------------------------------------------------------\n"
          ]
        },
        {
          "output_type": "stream",
          "name": "stderr",
          "text": [
            "epoch [6/100], loss=1.3226: 100%|██████████| 1/1 [00:00<00:00,  4.60it/s]\n"
          ]
        },
        {
          "output_type": "stream",
          "name": "stdout",
          "text": [
            "after 6 epoch, \n",
            "train-data evaluation:- acc = 0.33235, CrossEntropyLoss = 1.32, f1score = 0.31031       \n",
            "test-data evaluation:- acc = 0.33235, CrossEntropyLoss = 1.32, f1score = 0.31031       time_elapsed = 0.0 minuts. \n",
            " -----------------------------------------------------------------------------------------------------------------------\n"
          ]
        },
        {
          "output_type": "stream",
          "name": "stderr",
          "text": [
            "epoch [7/100], loss=1.2983: 100%|██████████| 1/1 [00:00<00:00, 15.13it/s]\n"
          ]
        },
        {
          "output_type": "stream",
          "name": "stdout",
          "text": [
            "after 7 epoch, \n",
            "train-data evaluation:- acc = 0.33824, CrossEntropyLoss = 1.29, f1score = 0.31523       \n",
            "test-data evaluation:- acc = 0.33824, CrossEntropyLoss = 1.29, f1score = 0.31523       time_elapsed = 0.0 minuts. \n",
            " -----------------------------------------------------------------------------------------------------------------------\n"
          ]
        },
        {
          "output_type": "stream",
          "name": "stderr",
          "text": [
            "epoch [8/100], loss=1.2698: 100%|██████████| 1/1 [00:00<00:00,  4.00it/s]\n"
          ]
        },
        {
          "output_type": "stream",
          "name": "stdout",
          "text": [
            "after 8 epoch, \n",
            "train-data evaluation:- acc = 0.36765, CrossEntropyLoss = 1.27, f1score = 0.33969       \n",
            "test-data evaluation:- acc = 0.36765, CrossEntropyLoss = 1.27, f1score = 0.33969       time_elapsed = 0.0 minuts. \n",
            " -----------------------------------------------------------------------------------------------------------------------\n"
          ]
        },
        {
          "output_type": "stream",
          "name": "stderr",
          "text": [
            "epoch [9/100], loss=1.2366: 100%|██████████| 1/1 [00:00<00:00,  5.25it/s]\n"
          ]
        },
        {
          "output_type": "stream",
          "name": "stdout",
          "text": [
            "after 9 epoch, \n",
            "train-data evaluation:- acc = 0.39706, CrossEntropyLoss = 1.24, f1score = 0.36878       \n",
            "test-data evaluation:- acc = 0.39706, CrossEntropyLoss = 1.24, f1score = 0.36878       time_elapsed = 0.0 minuts. \n",
            " -----------------------------------------------------------------------------------------------------------------------\n"
          ]
        },
        {
          "output_type": "stream",
          "name": "stderr",
          "text": [
            "epoch [10/100], loss=1.1990: 100%|██████████| 1/1 [00:00<00:00,  5.70it/s]\n"
          ]
        },
        {
          "output_type": "stream",
          "name": "stdout",
          "text": [
            "after 10 epoch, \n",
            "train-data evaluation:- acc = 0.40588, CrossEntropyLoss = 1.20, f1score = 0.37434       \n",
            "test-data evaluation:- acc = 0.40588, CrossEntropyLoss = 1.20, f1score = 0.37434       time_elapsed = 0.0 minuts. \n",
            " -----------------------------------------------------------------------------------------------------------------------\n"
          ]
        },
        {
          "output_type": "stream",
          "name": "stderr",
          "text": [
            "epoch [11/100], loss=1.1572: 100%|██████████| 1/1 [00:00<00:00,  4.33it/s]\n"
          ]
        },
        {
          "output_type": "stream",
          "name": "stdout",
          "text": [
            "after 11 epoch, \n",
            "train-data evaluation:- acc = 0.44118, CrossEntropyLoss = 1.17, f1score = 0.40920       \n",
            "test-data evaluation:- acc = 0.44118, CrossEntropyLoss = 1.17, f1score = 0.40920       time_elapsed = 0.0 minuts. \n",
            " -----------------------------------------------------------------------------------------------------------------------\n"
          ]
        },
        {
          "output_type": "stream",
          "name": "stderr",
          "text": [
            "epoch [12/100], loss=1.1108: 100%|██████████| 1/1 [00:00<00:00,  4.61it/s]\n"
          ]
        },
        {
          "output_type": "stream",
          "name": "stdout",
          "text": [
            "after 12 epoch, \n",
            "train-data evaluation:- acc = 0.46471, CrossEntropyLoss = 1.12, f1score = 0.43738       \n",
            "test-data evaluation:- acc = 0.46471, CrossEntropyLoss = 1.12, f1score = 0.43738       time_elapsed = 0.0 minuts. \n",
            " -----------------------------------------------------------------------------------------------------------------------\n"
          ]
        },
        {
          "output_type": "stream",
          "name": "stderr",
          "text": [
            "epoch [13/100], loss=1.0608: 100%|██████████| 1/1 [00:00<00:00, 12.47it/s]\n"
          ]
        },
        {
          "output_type": "stream",
          "name": "stdout",
          "text": [
            "after 13 epoch, \n",
            "train-data evaluation:- acc = 0.47941, CrossEntropyLoss = 1.07, f1score = 0.46477       \n",
            "test-data evaluation:- acc = 0.47941, CrossEntropyLoss = 1.07, f1score = 0.46477       time_elapsed = 0.0 minuts. \n",
            " -----------------------------------------------------------------------------------------------------------------------\n"
          ]
        },
        {
          "output_type": "stream",
          "name": "stderr",
          "text": [
            "epoch [14/100], loss=1.0075: 100%|██████████| 1/1 [00:00<00:00, 20.60it/s]\n"
          ]
        },
        {
          "output_type": "stream",
          "name": "stdout",
          "text": [
            "after 14 epoch, \n",
            "train-data evaluation:- acc = 0.55000, CrossEntropyLoss = 1.02, f1score = 0.54790       \n",
            "test-data evaluation:- acc = 0.55000, CrossEntropyLoss = 1.02, f1score = 0.54790       time_elapsed = 0.0 minuts. \n",
            " -----------------------------------------------------------------------------------------------------------------------\n"
          ]
        },
        {
          "output_type": "stream",
          "name": "stderr",
          "text": [
            "epoch [15/100], loss=0.9529: 100%|██████████| 1/1 [00:00<00:00, 20.39it/s]\n"
          ]
        },
        {
          "output_type": "stream",
          "name": "stdout",
          "text": [
            "after 15 epoch, \n",
            "train-data evaluation:- acc = 0.58824, CrossEntropyLoss = 0.96, f1score = 0.58206       \n",
            "test-data evaluation:- acc = 0.58824, CrossEntropyLoss = 0.96, f1score = 0.58206       time_elapsed = 0.0 minuts. \n",
            " -----------------------------------------------------------------------------------------------------------------------\n"
          ]
        },
        {
          "output_type": "stream",
          "name": "stderr",
          "text": [
            "epoch [16/100], loss=0.8996: 100%|██████████| 1/1 [00:00<00:00, 21.78it/s]\n"
          ]
        },
        {
          "output_type": "stream",
          "name": "stdout",
          "text": [
            "after 16 epoch, \n",
            "train-data evaluation:- acc = 0.59706, CrossEntropyLoss = 0.91, f1score = 0.57895       \n",
            "test-data evaluation:- acc = 0.59706, CrossEntropyLoss = 0.91, f1score = 0.57895       time_elapsed = 0.0 minuts. \n",
            " -----------------------------------------------------------------------------------------------------------------------\n"
          ]
        },
        {
          "output_type": "stream",
          "name": "stderr",
          "text": [
            "epoch [17/100], loss=0.8498: 100%|██████████| 1/1 [00:00<00:00, 19.27it/s]\n"
          ]
        },
        {
          "output_type": "stream",
          "name": "stdout",
          "text": [
            "after 17 epoch, \n",
            "train-data evaluation:- acc = 0.63529, CrossEntropyLoss = 0.86, f1score = 0.61114       \n",
            "test-data evaluation:- acc = 0.63529, CrossEntropyLoss = 0.86, f1score = 0.61114       time_elapsed = 0.0 minuts. \n",
            " -----------------------------------------------------------------------------------------------------------------------\n"
          ]
        },
        {
          "output_type": "stream",
          "name": "stderr",
          "text": [
            "epoch [18/100], loss=0.8033: 100%|██████████| 1/1 [00:00<00:00, 18.21it/s]\n"
          ]
        },
        {
          "output_type": "stream",
          "name": "stdout",
          "text": [
            "after 18 epoch, \n",
            "train-data evaluation:- acc = 0.65294, CrossEntropyLoss = 0.82, f1score = 0.62939       \n",
            "test-data evaluation:- acc = 0.65294, CrossEntropyLoss = 0.82, f1score = 0.62939       time_elapsed = 0.0 minuts. \n",
            " -----------------------------------------------------------------------------------------------------------------------\n"
          ]
        },
        {
          "output_type": "stream",
          "name": "stderr",
          "text": [
            "epoch [19/100], loss=0.7601: 100%|██████████| 1/1 [00:00<00:00, 15.55it/s]\n"
          ]
        },
        {
          "output_type": "stream",
          "name": "stdout",
          "text": [
            "after 19 epoch, \n",
            "train-data evaluation:- acc = 0.66765, CrossEntropyLoss = 0.78, f1score = 0.64509       \n",
            "test-data evaluation:- acc = 0.66765, CrossEntropyLoss = 0.78, f1score = 0.64509       time_elapsed = 0.0 minuts. \n",
            " -----------------------------------------------------------------------------------------------------------------------\n"
          ]
        },
        {
          "output_type": "stream",
          "name": "stderr",
          "text": [
            "epoch [20/100], loss=0.7186: 100%|██████████| 1/1 [00:00<00:00, 12.66it/s]\n"
          ]
        },
        {
          "output_type": "stream",
          "name": "stdout",
          "text": [
            "after 20 epoch, \n",
            "train-data evaluation:- acc = 0.68529, CrossEntropyLoss = 0.75, f1score = 0.66839       \n",
            "test-data evaluation:- acc = 0.68529, CrossEntropyLoss = 0.75, f1score = 0.66839       time_elapsed = 0.0 minuts. \n",
            " -----------------------------------------------------------------------------------------------------------------------\n"
          ]
        },
        {
          "output_type": "stream",
          "name": "stderr",
          "text": [
            "epoch [21/100], loss=0.6761: 100%|██████████| 1/1 [00:00<00:00, 15.46it/s]\n"
          ]
        },
        {
          "output_type": "stream",
          "name": "stdout",
          "text": [
            "after 21 epoch, \n",
            "train-data evaluation:- acc = 0.70000, CrossEntropyLoss = 0.72, f1score = 0.68904       \n",
            "test-data evaluation:- acc = 0.70000, CrossEntropyLoss = 0.72, f1score = 0.68904       time_elapsed = 0.0 minuts. \n",
            " -----------------------------------------------------------------------------------------------------------------------\n"
          ]
        },
        {
          "output_type": "stream",
          "name": "stderr",
          "text": [
            "epoch [22/100], loss=0.6350: 100%|██████████| 1/1 [00:00<00:00, 12.03it/s]\n"
          ]
        },
        {
          "output_type": "stream",
          "name": "stdout",
          "text": [
            "after 22 epoch, \n",
            "train-data evaluation:- acc = 0.71471, CrossEntropyLoss = 0.69, f1score = 0.71011       \n",
            "test-data evaluation:- acc = 0.71471, CrossEntropyLoss = 0.69, f1score = 0.71011       time_elapsed = 0.0 minuts. \n",
            " -----------------------------------------------------------------------------------------------------------------------\n"
          ]
        },
        {
          "output_type": "stream",
          "name": "stderr",
          "text": [
            "epoch [23/100], loss=0.5984: 100%|██████████| 1/1 [00:00<00:00, 11.92it/s]\n"
          ]
        },
        {
          "output_type": "stream",
          "name": "stdout",
          "text": [
            "after 23 epoch, \n",
            "train-data evaluation:- acc = 0.72941, CrossEntropyLoss = 0.66, f1score = 0.72949       \n",
            "test-data evaluation:- acc = 0.72941, CrossEntropyLoss = 0.66, f1score = 0.72949       time_elapsed = 0.0 minuts. \n",
            " -----------------------------------------------------------------------------------------------------------------------\n"
          ]
        },
        {
          "output_type": "stream",
          "name": "stderr",
          "text": [
            "epoch [24/100], loss=0.5657: 100%|██████████| 1/1 [00:00<00:00, 12.46it/s]\n"
          ]
        },
        {
          "output_type": "stream",
          "name": "stdout",
          "text": [
            "after 24 epoch, \n",
            "train-data evaluation:- acc = 0.75294, CrossEntropyLoss = 0.63, f1score = 0.75378       \n",
            "test-data evaluation:- acc = 0.75294, CrossEntropyLoss = 0.63, f1score = 0.75378       time_elapsed = 0.0 minuts. \n",
            " -----------------------------------------------------------------------------------------------------------------------\n"
          ]
        },
        {
          "output_type": "stream",
          "name": "stderr",
          "text": [
            "epoch [25/100], loss=0.5352: 100%|██████████| 1/1 [00:00<00:00, 13.22it/s]\n"
          ]
        },
        {
          "output_type": "stream",
          "name": "stdout",
          "text": [
            "after 25 epoch, \n",
            "train-data evaluation:- acc = 0.75882, CrossEntropyLoss = 0.60, f1score = 0.75887       \n",
            "test-data evaluation:- acc = 0.75882, CrossEntropyLoss = 0.60, f1score = 0.75887       time_elapsed = 0.0 minuts. \n",
            " -----------------------------------------------------------------------------------------------------------------------\n"
          ]
        },
        {
          "output_type": "stream",
          "name": "stderr",
          "text": [
            "epoch [26/100], loss=0.5040: 100%|██████████| 1/1 [00:00<00:00, 11.14it/s]\n"
          ]
        },
        {
          "output_type": "stream",
          "name": "stdout",
          "text": [
            "after 26 epoch, \n",
            "train-data evaluation:- acc = 0.76471, CrossEntropyLoss = 0.57, f1score = 0.76445       \n",
            "test-data evaluation:- acc = 0.76471, CrossEntropyLoss = 0.57, f1score = 0.76445       time_elapsed = 0.0 minuts. \n",
            " -----------------------------------------------------------------------------------------------------------------------\n"
          ]
        },
        {
          "output_type": "stream",
          "name": "stderr",
          "text": [
            "epoch [27/100], loss=0.4716: 100%|██████████| 1/1 [00:00<00:00, 12.35it/s]\n"
          ]
        },
        {
          "output_type": "stream",
          "name": "stdout",
          "text": [
            "after 27 epoch, \n",
            "train-data evaluation:- acc = 0.77353, CrossEntropyLoss = 0.54, f1score = 0.77132       \n",
            "test-data evaluation:- acc = 0.77353, CrossEntropyLoss = 0.54, f1score = 0.77132       time_elapsed = 0.0 minuts. \n",
            " -----------------------------------------------------------------------------------------------------------------------\n"
          ]
        },
        {
          "output_type": "stream",
          "name": "stderr",
          "text": [
            "epoch [28/100], loss=0.4413: 100%|██████████| 1/1 [00:00<00:00, 16.35it/s]\n"
          ]
        },
        {
          "output_type": "stream",
          "name": "stdout",
          "text": [
            "after 28 epoch, \n",
            "train-data evaluation:- acc = 0.78529, CrossEntropyLoss = 0.51, f1score = 0.78267       \n",
            "test-data evaluation:- acc = 0.78529, CrossEntropyLoss = 0.51, f1score = 0.78267       time_elapsed = 0.0 minuts. \n",
            " -----------------------------------------------------------------------------------------------------------------------\n"
          ]
        },
        {
          "output_type": "stream",
          "name": "stderr",
          "text": [
            "epoch [29/100], loss=0.4142: 100%|██████████| 1/1 [00:00<00:00, 13.80it/s]\n"
          ]
        },
        {
          "output_type": "stream",
          "name": "stdout",
          "text": [
            "after 29 epoch, \n",
            "train-data evaluation:- acc = 0.79412, CrossEntropyLoss = 0.49, f1score = 0.79206       \n",
            "test-data evaluation:- acc = 0.79412, CrossEntropyLoss = 0.49, f1score = 0.79206       time_elapsed = 0.0 minuts. \n",
            " -----------------------------------------------------------------------------------------------------------------------\n"
          ]
        },
        {
          "output_type": "stream",
          "name": "stderr",
          "text": [
            "epoch [30/100], loss=0.3888: 100%|██████████| 1/1 [00:00<00:00, 10.05it/s]\n"
          ]
        },
        {
          "output_type": "stream",
          "name": "stdout",
          "text": [
            "after 30 epoch, \n",
            "train-data evaluation:- acc = 0.80588, CrossEntropyLoss = 0.46, f1score = 0.80492       \n",
            "test-data evaluation:- acc = 0.80588, CrossEntropyLoss = 0.46, f1score = 0.80492       time_elapsed = 0.0 minuts. \n",
            " -----------------------------------------------------------------------------------------------------------------------\n"
          ]
        },
        {
          "output_type": "stream",
          "name": "stderr",
          "text": [
            "epoch [31/100], loss=0.3637: 100%|██████████| 1/1 [00:00<00:00, 21.84it/s]\n"
          ]
        },
        {
          "output_type": "stream",
          "name": "stdout",
          "text": [
            "after 31 epoch, \n",
            "train-data evaluation:- acc = 0.81765, CrossEntropyLoss = 0.44, f1score = 0.81756       \n",
            "test-data evaluation:- acc = 0.81765, CrossEntropyLoss = 0.44, f1score = 0.81756       time_elapsed = 0.0 minuts. \n",
            " -----------------------------------------------------------------------------------------------------------------------\n"
          ]
        },
        {
          "output_type": "stream",
          "name": "stderr",
          "text": [
            "epoch [32/100], loss=0.3402: 100%|██████████| 1/1 [00:00<00:00, 20.43it/s]\n"
          ]
        },
        {
          "output_type": "stream",
          "name": "stdout",
          "text": [
            "after 32 epoch, \n",
            "train-data evaluation:- acc = 0.82647, CrossEntropyLoss = 0.42, f1score = 0.82747       \n",
            "test-data evaluation:- acc = 0.82647, CrossEntropyLoss = 0.42, f1score = 0.82747       time_elapsed = 0.0 minuts. \n",
            " -----------------------------------------------------------------------------------------------------------------------\n"
          ]
        },
        {
          "output_type": "stream",
          "name": "stderr",
          "text": [
            "epoch [33/100], loss=0.3187: 100%|██████████| 1/1 [00:00<00:00, 18.85it/s]\n"
          ]
        },
        {
          "output_type": "stream",
          "name": "stdout",
          "text": [
            "after 33 epoch, \n",
            "train-data evaluation:- acc = 0.84118, CrossEntropyLoss = 0.40, f1score = 0.84233       \n",
            "test-data evaluation:- acc = 0.84118, CrossEntropyLoss = 0.40, f1score = 0.84233       time_elapsed = 0.0 minuts. \n",
            " -----------------------------------------------------------------------------------------------------------------------\n"
          ]
        },
        {
          "output_type": "stream",
          "name": "stderr",
          "text": [
            "epoch [34/100], loss=0.2984: 100%|██████████| 1/1 [00:00<00:00, 15.80it/s]\n"
          ]
        },
        {
          "output_type": "stream",
          "name": "stdout",
          "text": [
            "after 34 epoch, \n",
            "train-data evaluation:- acc = 0.84706, CrossEntropyLoss = 0.38, f1score = 0.84785       \n",
            "test-data evaluation:- acc = 0.84706, CrossEntropyLoss = 0.38, f1score = 0.84785       time_elapsed = 0.0 minuts. \n",
            " -----------------------------------------------------------------------------------------------------------------------\n"
          ]
        },
        {
          "output_type": "stream",
          "name": "stderr",
          "text": [
            "epoch [35/100], loss=0.2788: 100%|██████████| 1/1 [00:00<00:00, 20.09it/s]\n"
          ]
        },
        {
          "output_type": "stream",
          "name": "stdout",
          "text": [
            "after 35 epoch, \n",
            "train-data evaluation:- acc = 0.86471, CrossEntropyLoss = 0.36, f1score = 0.86553       \n",
            "test-data evaluation:- acc = 0.86471, CrossEntropyLoss = 0.36, f1score = 0.86553       time_elapsed = 0.0 minuts. \n",
            " -----------------------------------------------------------------------------------------------------------------------\n"
          ]
        },
        {
          "output_type": "stream",
          "name": "stderr",
          "text": [
            "epoch [36/100], loss=0.2610: 100%|██████████| 1/1 [00:00<00:00, 11.51it/s]\n"
          ]
        },
        {
          "output_type": "stream",
          "name": "stdout",
          "text": [
            "after 36 epoch, \n",
            "train-data evaluation:- acc = 0.87353, CrossEntropyLoss = 0.35, f1score = 0.87405       \n",
            "test-data evaluation:- acc = 0.87353, CrossEntropyLoss = 0.35, f1score = 0.87405       time_elapsed = 0.0 minuts. \n",
            " -----------------------------------------------------------------------------------------------------------------------\n"
          ]
        },
        {
          "output_type": "stream",
          "name": "stderr",
          "text": [
            "epoch [37/100], loss=0.2450: 100%|██████████| 1/1 [00:00<00:00, 13.08it/s]\n"
          ]
        },
        {
          "output_type": "stream",
          "name": "stdout",
          "text": [
            "after 37 epoch, \n",
            "train-data evaluation:- acc = 0.87353, CrossEntropyLoss = 0.33, f1score = 0.87377       \n",
            "test-data evaluation:- acc = 0.87353, CrossEntropyLoss = 0.33, f1score = 0.87377       time_elapsed = 0.0 minuts. \n",
            " -----------------------------------------------------------------------------------------------------------------------\n"
          ]
        },
        {
          "output_type": "stream",
          "name": "stderr",
          "text": [
            "epoch [38/100], loss=0.2300: 100%|██████████| 1/1 [00:00<00:00, 11.11it/s]\n"
          ]
        },
        {
          "output_type": "stream",
          "name": "stdout",
          "text": [
            "after 38 epoch, \n",
            "train-data evaluation:- acc = 0.87941, CrossEntropyLoss = 0.32, f1score = 0.87979       \n",
            "test-data evaluation:- acc = 0.87941, CrossEntropyLoss = 0.32, f1score = 0.87979       time_elapsed = 0.0 minuts. \n",
            " -----------------------------------------------------------------------------------------------------------------------\n"
          ]
        },
        {
          "output_type": "stream",
          "name": "stderr",
          "text": [
            "epoch [39/100], loss=0.2160: 100%|██████████| 1/1 [00:00<00:00, 13.98it/s]\n"
          ]
        },
        {
          "output_type": "stream",
          "name": "stdout",
          "text": [
            "after 39 epoch, \n",
            "train-data evaluation:- acc = 0.88529, CrossEntropyLoss = 0.31, f1score = 0.88571       \n",
            "test-data evaluation:- acc = 0.88529, CrossEntropyLoss = 0.31, f1score = 0.88571       time_elapsed = 0.0 minuts. \n",
            " -----------------------------------------------------------------------------------------------------------------------\n"
          ]
        },
        {
          "output_type": "stream",
          "name": "stderr",
          "text": [
            "epoch [40/100], loss=0.2034: 100%|██████████| 1/1 [00:00<00:00,  3.23it/s]\n"
          ]
        },
        {
          "output_type": "stream",
          "name": "stdout",
          "text": [
            "after 40 epoch, \n",
            "train-data evaluation:- acc = 0.89118, CrossEntropyLoss = 0.29, f1score = 0.89157       \n",
            "test-data evaluation:- acc = 0.89118, CrossEntropyLoss = 0.29, f1score = 0.89157       time_elapsed = 0.0 minuts. \n",
            " -----------------------------------------------------------------------------------------------------------------------\n"
          ]
        },
        {
          "output_type": "stream",
          "name": "stderr",
          "text": [
            "epoch [41/100], loss=0.1916: 100%|██████████| 1/1 [00:00<00:00,  6.82it/s]\n"
          ]
        },
        {
          "output_type": "stream",
          "name": "stdout",
          "text": [
            "after 41 epoch, \n",
            "train-data evaluation:- acc = 0.89706, CrossEntropyLoss = 0.29, f1score = 0.89746       \n",
            "test-data evaluation:- acc = 0.89706, CrossEntropyLoss = 0.29, f1score = 0.89746       time_elapsed = 0.0 minuts. \n",
            " -----------------------------------------------------------------------------------------------------------------------\n"
          ]
        },
        {
          "output_type": "stream",
          "name": "stderr",
          "text": [
            "epoch [42/100], loss=0.1802: 100%|██████████| 1/1 [00:00<00:00,  9.53it/s]\n"
          ]
        },
        {
          "output_type": "stream",
          "name": "stdout",
          "text": [
            "after 42 epoch, \n",
            "train-data evaluation:- acc = 0.89412, CrossEntropyLoss = 0.28, f1score = 0.89434       \n",
            "test-data evaluation:- acc = 0.89412, CrossEntropyLoss = 0.28, f1score = 0.89434       time_elapsed = 0.0 minuts. \n",
            " -----------------------------------------------------------------------------------------------------------------------\n"
          ]
        },
        {
          "output_type": "stream",
          "name": "stderr",
          "text": [
            "epoch [43/100], loss=0.1692: 100%|██████████| 1/1 [00:00<00:00, 13.50it/s]\n"
          ]
        },
        {
          "output_type": "stream",
          "name": "stdout",
          "text": [
            "after 43 epoch, \n",
            "train-data evaluation:- acc = 0.89412, CrossEntropyLoss = 0.27, f1score = 0.89419       \n",
            "test-data evaluation:- acc = 0.89412, CrossEntropyLoss = 0.27, f1score = 0.89419       time_elapsed = 0.0 minuts. \n",
            " -----------------------------------------------------------------------------------------------------------------------\n"
          ]
        },
        {
          "output_type": "stream",
          "name": "stderr",
          "text": [
            "epoch [44/100], loss=0.1592: 100%|██████████| 1/1 [00:00<00:00,  4.82it/s]\n"
          ]
        },
        {
          "output_type": "stream",
          "name": "stdout",
          "text": [
            "after 44 epoch, \n",
            "train-data evaluation:- acc = 0.89706, CrossEntropyLoss = 0.27, f1score = 0.89723       \n",
            "test-data evaluation:- acc = 0.89706, CrossEntropyLoss = 0.27, f1score = 0.89723       time_elapsed = 0.0 minuts. \n",
            " -----------------------------------------------------------------------------------------------------------------------\n"
          ]
        },
        {
          "output_type": "stream",
          "name": "stderr",
          "text": [
            "epoch [45/100], loss=0.1496: 100%|██████████| 1/1 [00:00<00:00,  4.27it/s]\n"
          ]
        },
        {
          "output_type": "stream",
          "name": "stdout",
          "text": [
            "after 45 epoch, \n",
            "train-data evaluation:- acc = 0.90000, CrossEntropyLoss = 0.26, f1score = 0.90030       \n",
            "test-data evaluation:- acc = 0.90000, CrossEntropyLoss = 0.26, f1score = 0.90030       time_elapsed = 0.0 minuts. \n",
            " -----------------------------------------------------------------------------------------------------------------------\n"
          ]
        },
        {
          "output_type": "stream",
          "name": "stderr",
          "text": [
            "epoch [46/100], loss=0.1406: 100%|██████████| 1/1 [00:00<00:00,  8.12it/s]\n"
          ]
        },
        {
          "output_type": "stream",
          "name": "stdout",
          "text": [
            "after 46 epoch, \n",
            "train-data evaluation:- acc = 0.89412, CrossEntropyLoss = 0.26, f1score = 0.89444       \n",
            "test-data evaluation:- acc = 0.89412, CrossEntropyLoss = 0.26, f1score = 0.89444       time_elapsed = 0.0 minuts. \n",
            " -----------------------------------------------------------------------------------------------------------------------\n"
          ]
        },
        {
          "output_type": "stream",
          "name": "stderr",
          "text": [
            "epoch [47/100], loss=0.1323: 100%|██████████| 1/1 [00:00<00:00,  5.58it/s]\n"
          ]
        },
        {
          "output_type": "stream",
          "name": "stdout",
          "text": [
            "after 47 epoch, \n",
            "train-data evaluation:- acc = 0.89118, CrossEntropyLoss = 0.26, f1score = 0.89175       \n",
            "test-data evaluation:- acc = 0.89118, CrossEntropyLoss = 0.26, f1score = 0.89175       time_elapsed = 0.0 minuts. \n",
            " -----------------------------------------------------------------------------------------------------------------------\n"
          ]
        },
        {
          "output_type": "stream",
          "name": "stderr",
          "text": [
            "epoch [48/100], loss=0.1247: 100%|██████████| 1/1 [00:00<00:00, 13.68it/s]\n"
          ]
        },
        {
          "output_type": "stream",
          "name": "stdout",
          "text": [
            "after 48 epoch, \n",
            "train-data evaluation:- acc = 0.89118, CrossEntropyLoss = 0.25, f1score = 0.89175       \n",
            "test-data evaluation:- acc = 0.89118, CrossEntropyLoss = 0.25, f1score = 0.89175       time_elapsed = 0.0 minuts. \n",
            " -----------------------------------------------------------------------------------------------------------------------\n"
          ]
        },
        {
          "output_type": "stream",
          "name": "stderr",
          "text": [
            "epoch [49/100], loss=0.1174: 100%|██████████| 1/1 [00:00<00:00,  4.39it/s]\n"
          ]
        },
        {
          "output_type": "stream",
          "name": "stdout",
          "text": [
            "after 49 epoch, \n",
            "train-data evaluation:- acc = 0.90588, CrossEntropyLoss = 0.24, f1score = 0.90634       \n",
            "test-data evaluation:- acc = 0.90588, CrossEntropyLoss = 0.24, f1score = 0.90634       time_elapsed = 0.0 minuts. \n",
            " -----------------------------------------------------------------------------------------------------------------------\n"
          ]
        },
        {
          "output_type": "stream",
          "name": "stderr",
          "text": [
            "epoch [50/100], loss=0.1107: 100%|██████████| 1/1 [00:00<00:00,  2.76it/s]\n"
          ]
        },
        {
          "output_type": "stream",
          "name": "stdout",
          "text": [
            "after 50 epoch, \n",
            "train-data evaluation:- acc = 0.90588, CrossEntropyLoss = 0.24, f1score = 0.90628       \n",
            "test-data evaluation:- acc = 0.90588, CrossEntropyLoss = 0.24, f1score = 0.90628       time_elapsed = 0.0 minuts. \n",
            " -----------------------------------------------------------------------------------------------------------------------\n"
          ]
        },
        {
          "output_type": "stream",
          "name": "stderr",
          "text": [
            "epoch [51/100], loss=0.1044: 100%|██████████| 1/1 [00:00<00:00,  5.75it/s]\n"
          ]
        },
        {
          "output_type": "stream",
          "name": "stdout",
          "text": [
            "after 51 epoch, \n",
            "train-data evaluation:- acc = 0.91176, CrossEntropyLoss = 0.24, f1score = 0.91232       \n",
            "test-data evaluation:- acc = 0.91176, CrossEntropyLoss = 0.24, f1score = 0.91232       time_elapsed = 0.0 minuts. \n",
            " -----------------------------------------------------------------------------------------------------------------------\n"
          ]
        },
        {
          "output_type": "stream",
          "name": "stderr",
          "text": [
            "epoch [52/100], loss=0.0982: 100%|██████████| 1/1 [00:00<00:00, 12.44it/s]\n"
          ]
        },
        {
          "output_type": "stream",
          "name": "stdout",
          "text": [
            "after 52 epoch, \n",
            "train-data evaluation:- acc = 0.90882, CrossEntropyLoss = 0.23, f1score = 0.90950       \n",
            "test-data evaluation:- acc = 0.90882, CrossEntropyLoss = 0.23, f1score = 0.90950       time_elapsed = 0.0 minuts. \n",
            " -----------------------------------------------------------------------------------------------------------------------\n"
          ]
        },
        {
          "output_type": "stream",
          "name": "stderr",
          "text": [
            "epoch [53/100], loss=0.0923: 100%|██████████| 1/1 [00:00<00:00, 11.38it/s]\n"
          ]
        },
        {
          "output_type": "stream",
          "name": "stdout",
          "text": [
            "after 53 epoch, \n",
            "train-data evaluation:- acc = 0.92059, CrossEntropyLoss = 0.23, f1score = 0.92130       \n",
            "test-data evaluation:- acc = 0.92059, CrossEntropyLoss = 0.23, f1score = 0.92130       time_elapsed = 0.0 minuts. \n",
            " -----------------------------------------------------------------------------------------------------------------------\n"
          ]
        },
        {
          "output_type": "stream",
          "name": "stderr",
          "text": [
            "epoch [54/100], loss=0.0869: 100%|██████████| 1/1 [00:00<00:00, 12.31it/s]\n"
          ]
        },
        {
          "output_type": "stream",
          "name": "stdout",
          "text": [
            "after 54 epoch, \n",
            "train-data evaluation:- acc = 0.91471, CrossEntropyLoss = 0.21, f1score = 0.91529       \n",
            "test-data evaluation:- acc = 0.91471, CrossEntropyLoss = 0.21, f1score = 0.91529       time_elapsed = 0.0 minuts. \n",
            " -----------------------------------------------------------------------------------------------------------------------\n"
          ]
        },
        {
          "output_type": "stream",
          "name": "stderr",
          "text": [
            "epoch [55/100], loss=0.0818: 100%|██████████| 1/1 [00:00<00:00, 13.67it/s]\n"
          ]
        },
        {
          "output_type": "stream",
          "name": "stdout",
          "text": [
            "after 55 epoch, \n",
            "train-data evaluation:- acc = 0.92059, CrossEntropyLoss = 0.23, f1score = 0.92130       \n",
            "test-data evaluation:- acc = 0.92059, CrossEntropyLoss = 0.23, f1score = 0.92130       time_elapsed = 0.0 minuts. \n",
            " -----------------------------------------------------------------------------------------------------------------------\n"
          ]
        },
        {
          "output_type": "stream",
          "name": "stderr",
          "text": [
            "epoch [56/100], loss=0.0779: 100%|██████████| 1/1 [00:00<00:00, 19.65it/s]\n"
          ]
        },
        {
          "output_type": "stream",
          "name": "stdout",
          "text": [
            "after 56 epoch, \n",
            "train-data evaluation:- acc = 0.90882, CrossEntropyLoss = 0.21, f1score = 0.90944       \n",
            "test-data evaluation:- acc = 0.90882, CrossEntropyLoss = 0.21, f1score = 0.90944       time_elapsed = 0.0 minuts. \n",
            " -----------------------------------------------------------------------------------------------------------------------\n"
          ]
        },
        {
          "output_type": "stream",
          "name": "stderr",
          "text": [
            "epoch [57/100], loss=0.0746: 100%|██████████| 1/1 [00:00<00:00, 12.78it/s]\n"
          ]
        },
        {
          "output_type": "stream",
          "name": "stdout",
          "text": [
            "after 57 epoch, \n",
            "train-data evaluation:- acc = 0.91176, CrossEntropyLoss = 0.22, f1score = 0.91216       \n",
            "test-data evaluation:- acc = 0.91176, CrossEntropyLoss = 0.22, f1score = 0.91216       time_elapsed = 0.0 minuts. \n",
            " -----------------------------------------------------------------------------------------------------------------------\n"
          ]
        },
        {
          "output_type": "stream",
          "name": "stderr",
          "text": [
            "epoch [58/100], loss=0.0690: 100%|██████████| 1/1 [00:00<00:00, 12.09it/s]\n"
          ]
        },
        {
          "output_type": "stream",
          "name": "stdout",
          "text": [
            "after 58 epoch, \n",
            "train-data evaluation:- acc = 0.91176, CrossEntropyLoss = 0.21, f1score = 0.91205       \n",
            "test-data evaluation:- acc = 0.91176, CrossEntropyLoss = 0.21, f1score = 0.91205       time_elapsed = 0.0 minuts. \n",
            " -----------------------------------------------------------------------------------------------------------------------\n"
          ]
        },
        {
          "output_type": "stream",
          "name": "stderr",
          "text": [
            "epoch [59/100], loss=0.0635: 100%|██████████| 1/1 [00:00<00:00, 14.29it/s]\n"
          ]
        },
        {
          "output_type": "stream",
          "name": "stdout",
          "text": [
            "after 59 epoch, \n",
            "train-data evaluation:- acc = 0.92647, CrossEntropyLoss = 0.21, f1score = 0.92660       \n",
            "test-data evaluation:- acc = 0.92647, CrossEntropyLoss = 0.21, f1score = 0.92660       time_elapsed = 0.0 minuts. \n",
            " -----------------------------------------------------------------------------------------------------------------------\n"
          ]
        },
        {
          "output_type": "stream",
          "name": "stderr",
          "text": [
            "epoch [60/100], loss=0.0609: 100%|██████████| 1/1 [00:00<00:00, 11.54it/s]\n"
          ]
        },
        {
          "output_type": "stream",
          "name": "stdout",
          "text": [
            "after 60 epoch, \n",
            "train-data evaluation:- acc = 0.91176, CrossEntropyLoss = 0.23, f1score = 0.91204       \n",
            "test-data evaluation:- acc = 0.91176, CrossEntropyLoss = 0.23, f1score = 0.91204       time_elapsed = 0.0 minuts. \n",
            " -----------------------------------------------------------------------------------------------------------------------\n"
          ]
        },
        {
          "output_type": "stream",
          "name": "stderr",
          "text": [
            "epoch [61/100], loss=0.0575: 100%|██████████| 1/1 [00:00<00:00, 20.26it/s]\n"
          ]
        },
        {
          "output_type": "stream",
          "name": "stdout",
          "text": [
            "after 61 epoch, \n",
            "train-data evaluation:- acc = 0.91176, CrossEntropyLoss = 0.22, f1score = 0.91197       \n",
            "test-data evaluation:- acc = 0.91176, CrossEntropyLoss = 0.22, f1score = 0.91197       time_elapsed = 0.0 minuts. \n",
            " -----------------------------------------------------------------------------------------------------------------------\n"
          ]
        },
        {
          "output_type": "stream",
          "name": "stderr",
          "text": [
            "epoch [62/100], loss=0.0528: 100%|██████████| 1/1 [00:00<00:00, 20.56it/s]\n"
          ]
        },
        {
          "output_type": "stream",
          "name": "stdout",
          "text": [
            "after 62 epoch, \n",
            "train-data evaluation:- acc = 0.91471, CrossEntropyLoss = 0.21, f1score = 0.91488       \n",
            "test-data evaluation:- acc = 0.91471, CrossEntropyLoss = 0.21, f1score = 0.91488       time_elapsed = 0.0 minuts. \n",
            " -----------------------------------------------------------------------------------------------------------------------\n"
          ]
        },
        {
          "output_type": "stream",
          "name": "stderr",
          "text": [
            "epoch [63/100], loss=0.0503: 100%|██████████| 1/1 [00:00<00:00, 13.60it/s]\n"
          ]
        },
        {
          "output_type": "stream",
          "name": "stdout",
          "text": [
            "after 63 epoch, \n",
            "train-data evaluation:- acc = 0.91471, CrossEntropyLoss = 0.23, f1score = 0.91496       \n",
            "test-data evaluation:- acc = 0.91471, CrossEntropyLoss = 0.23, f1score = 0.91496       time_elapsed = 0.0 minuts. \n",
            " -----------------------------------------------------------------------------------------------------------------------\n"
          ]
        },
        {
          "output_type": "stream",
          "name": "stderr",
          "text": [
            "epoch [64/100], loss=0.0477: 100%|██████████| 1/1 [00:00<00:00, 12.15it/s]\n"
          ]
        },
        {
          "output_type": "stream",
          "name": "stdout",
          "text": [
            "after 64 epoch, \n",
            "train-data evaluation:- acc = 0.92059, CrossEntropyLoss = 0.22, f1score = 0.92087       \n",
            "test-data evaluation:- acc = 0.92059, CrossEntropyLoss = 0.22, f1score = 0.92087       time_elapsed = 0.0 minuts. \n",
            " -----------------------------------------------------------------------------------------------------------------------\n"
          ]
        },
        {
          "output_type": "stream",
          "name": "stderr",
          "text": [
            "epoch [65/100], loss=0.0440: 100%|██████████| 1/1 [00:00<00:00, 11.45it/s]\n"
          ]
        },
        {
          "output_type": "stream",
          "name": "stdout",
          "text": [
            "after 65 epoch, \n",
            "train-data evaluation:- acc = 0.92647, CrossEntropyLoss = 0.21, f1score = 0.92677       \n",
            "test-data evaluation:- acc = 0.92647, CrossEntropyLoss = 0.21, f1score = 0.92677       time_elapsed = 0.0 minuts. \n",
            " -----------------------------------------------------------------------------------------------------------------------\n"
          ]
        },
        {
          "output_type": "stream",
          "name": "stderr",
          "text": [
            "epoch [66/100], loss=0.0419: 100%|██████████| 1/1 [00:00<00:00, 16.99it/s]\n"
          ]
        },
        {
          "output_type": "stream",
          "name": "stdout",
          "text": [
            "after 66 epoch, \n",
            "train-data evaluation:- acc = 0.92647, CrossEntropyLoss = 0.23, f1score = 0.92656       \n",
            "test-data evaluation:- acc = 0.92647, CrossEntropyLoss = 0.23, f1score = 0.92656       time_elapsed = 0.0 minuts. \n",
            " -----------------------------------------------------------------------------------------------------------------------\n"
          ]
        },
        {
          "output_type": "stream",
          "name": "stderr",
          "text": [
            "epoch [67/100], loss=0.0396: 100%|██████████| 1/1 [00:00<00:00, 12.01it/s]\n"
          ]
        },
        {
          "output_type": "stream",
          "name": "stdout",
          "text": [
            "after 67 epoch, \n",
            "train-data evaluation:- acc = 0.93235, CrossEntropyLoss = 0.22, f1score = 0.93247       \n",
            "test-data evaluation:- acc = 0.93235, CrossEntropyLoss = 0.22, f1score = 0.93247       time_elapsed = 0.0 minuts. \n",
            " -----------------------------------------------------------------------------------------------------------------------\n"
          ]
        },
        {
          "output_type": "stream",
          "name": "stderr",
          "text": [
            "epoch [68/100], loss=0.0366: 100%|██████████| 1/1 [00:00<00:00, 12.31it/s]\n"
          ]
        },
        {
          "output_type": "stream",
          "name": "stdout",
          "text": [
            "after 68 epoch, \n",
            "train-data evaluation:- acc = 0.92941, CrossEntropyLoss = 0.21, f1score = 0.92959       \n",
            "test-data evaluation:- acc = 0.92941, CrossEntropyLoss = 0.21, f1score = 0.92959       time_elapsed = 0.0 minuts. \n",
            " -----------------------------------------------------------------------------------------------------------------------\n"
          ]
        },
        {
          "output_type": "stream",
          "name": "stderr",
          "text": [
            "epoch [69/100], loss=0.0349: 100%|██████████| 1/1 [00:00<00:00, 11.12it/s]\n"
          ]
        },
        {
          "output_type": "stream",
          "name": "stdout",
          "text": [
            "after 69 epoch, \n",
            "train-data evaluation:- acc = 0.93235, CrossEntropyLoss = 0.22, f1score = 0.93247       \n",
            "test-data evaluation:- acc = 0.93235, CrossEntropyLoss = 0.22, f1score = 0.93247       time_elapsed = 0.0 minuts. \n",
            " -----------------------------------------------------------------------------------------------------------------------\n"
          ]
        },
        {
          "output_type": "stream",
          "name": "stderr",
          "text": [
            "epoch [70/100], loss=0.0327: 100%|██████████| 1/1 [00:00<00:00, 13.12it/s]\n"
          ]
        },
        {
          "output_type": "stream",
          "name": "stdout",
          "text": [
            "after 70 epoch, \n",
            "train-data evaluation:- acc = 0.93235, CrossEntropyLoss = 0.22, f1score = 0.93247       \n",
            "test-data evaluation:- acc = 0.93235, CrossEntropyLoss = 0.22, f1score = 0.93247       time_elapsed = 0.0 minuts. \n",
            " -----------------------------------------------------------------------------------------------------------------------\n"
          ]
        },
        {
          "output_type": "stream",
          "name": "stderr",
          "text": [
            "epoch [71/100], loss=0.0305: 100%|██████████| 1/1 [00:00<00:00, 12.82it/s]\n"
          ]
        },
        {
          "output_type": "stream",
          "name": "stdout",
          "text": [
            "after 71 epoch, \n",
            "train-data evaluation:- acc = 0.93235, CrossEntropyLoss = 0.21, f1score = 0.93247       \n",
            "test-data evaluation:- acc = 0.93235, CrossEntropyLoss = 0.21, f1score = 0.93247       time_elapsed = 0.0 minuts. \n",
            " -----------------------------------------------------------------------------------------------------------------------\n"
          ]
        },
        {
          "output_type": "stream",
          "name": "stderr",
          "text": [
            "epoch [72/100], loss=0.0292: 100%|██████████| 1/1 [00:00<00:00, 12.58it/s]\n"
          ]
        },
        {
          "output_type": "stream",
          "name": "stdout",
          "text": [
            "after 72 epoch, \n",
            "train-data evaluation:- acc = 0.93529, CrossEntropyLoss = 0.22, f1score = 0.93535       \n",
            "test-data evaluation:- acc = 0.93529, CrossEntropyLoss = 0.22, f1score = 0.93535       time_elapsed = 0.0 minuts. \n",
            " -----------------------------------------------------------------------------------------------------------------------\n"
          ]
        },
        {
          "output_type": "stream",
          "name": "stderr",
          "text": [
            "epoch [73/100], loss=0.0272: 100%|██████████| 1/1 [00:00<00:00, 17.41it/s]\n"
          ]
        },
        {
          "output_type": "stream",
          "name": "stdout",
          "text": [
            "after 73 epoch, \n",
            "train-data evaluation:- acc = 0.93529, CrossEntropyLoss = 0.22, f1score = 0.93535       \n",
            "test-data evaluation:- acc = 0.93529, CrossEntropyLoss = 0.22, f1score = 0.93535       time_elapsed = 0.0 minuts. \n",
            " -----------------------------------------------------------------------------------------------------------------------\n"
          ]
        },
        {
          "output_type": "stream",
          "name": "stderr",
          "text": [
            "epoch [74/100], loss=0.0258: 100%|██████████| 1/1 [00:00<00:00, 13.07it/s]\n"
          ]
        },
        {
          "output_type": "stream",
          "name": "stdout",
          "text": [
            "after 74 epoch, \n",
            "train-data evaluation:- acc = 0.93529, CrossEntropyLoss = 0.21, f1score = 0.93535       \n",
            "test-data evaluation:- acc = 0.93529, CrossEntropyLoss = 0.21, f1score = 0.93535       time_elapsed = 0.0 minuts. \n",
            " -----------------------------------------------------------------------------------------------------------------------\n"
          ]
        },
        {
          "output_type": "stream",
          "name": "stderr",
          "text": [
            "epoch [75/100], loss=0.0244: 100%|██████████| 1/1 [00:00<00:00,  4.57it/s]\n"
          ]
        },
        {
          "output_type": "stream",
          "name": "stdout",
          "text": [
            "after 75 epoch, \n",
            "train-data evaluation:- acc = 0.93529, CrossEntropyLoss = 0.22, f1score = 0.93535       \n",
            "test-data evaluation:- acc = 0.93529, CrossEntropyLoss = 0.22, f1score = 0.93535       time_elapsed = 0.0 minuts. \n",
            " -----------------------------------------------------------------------------------------------------------------------\n"
          ]
        },
        {
          "output_type": "stream",
          "name": "stderr",
          "text": [
            "epoch [76/100], loss=0.0229: 100%|██████████| 1/1 [00:00<00:00,  4.60it/s]\n"
          ]
        },
        {
          "output_type": "stream",
          "name": "stdout",
          "text": [
            "after 76 epoch, \n",
            "train-data evaluation:- acc = 0.92941, CrossEntropyLoss = 0.22, f1score = 0.92944       \n",
            "test-data evaluation:- acc = 0.92941, CrossEntropyLoss = 0.22, f1score = 0.92944       time_elapsed = 0.0 minuts. \n",
            " -----------------------------------------------------------------------------------------------------------------------\n"
          ]
        },
        {
          "output_type": "stream",
          "name": "stderr",
          "text": [
            "epoch [77/100], loss=0.0219: 100%|██████████| 1/1 [00:00<00:00,  4.82it/s]\n"
          ]
        },
        {
          "output_type": "stream",
          "name": "stdout",
          "text": [
            "after 77 epoch, \n",
            "train-data evaluation:- acc = 0.93529, CrossEntropyLoss = 0.21, f1score = 0.93535       \n",
            "test-data evaluation:- acc = 0.93529, CrossEntropyLoss = 0.21, f1score = 0.93535       time_elapsed = 0.0 minuts. \n",
            " -----------------------------------------------------------------------------------------------------------------------\n"
          ]
        },
        {
          "output_type": "stream",
          "name": "stderr",
          "text": [
            "epoch [78/100], loss=0.0205: 100%|██████████| 1/1 [00:00<00:00,  4.56it/s]\n"
          ]
        },
        {
          "output_type": "stream",
          "name": "stdout",
          "text": [
            "after 78 epoch, \n",
            "train-data evaluation:- acc = 0.93824, CrossEntropyLoss = 0.21, f1score = 0.93834       \n",
            "test-data evaluation:- acc = 0.93824, CrossEntropyLoss = 0.21, f1score = 0.93834       time_elapsed = 0.0 minuts. \n",
            " -----------------------------------------------------------------------------------------------------------------------\n"
          ]
        },
        {
          "output_type": "stream",
          "name": "stderr",
          "text": [
            "epoch [79/100], loss=0.0195: 100%|██████████| 1/1 [00:00<00:00,  4.77it/s]\n"
          ]
        },
        {
          "output_type": "stream",
          "name": "stdout",
          "text": [
            "after 79 epoch, \n",
            "train-data evaluation:- acc = 0.93824, CrossEntropyLoss = 0.22, f1score = 0.93834       \n",
            "test-data evaluation:- acc = 0.93824, CrossEntropyLoss = 0.22, f1score = 0.93834       time_elapsed = 0.0 minuts. \n",
            " -----------------------------------------------------------------------------------------------------------------------\n"
          ]
        },
        {
          "output_type": "stream",
          "name": "stderr",
          "text": [
            "epoch [80/100], loss=0.0184: 100%|██████████| 1/1 [00:00<00:00,  4.49it/s]\n"
          ]
        },
        {
          "output_type": "stream",
          "name": "stdout",
          "text": [
            "after 80 epoch, \n",
            "train-data evaluation:- acc = 0.93824, CrossEntropyLoss = 0.22, f1score = 0.93834       \n",
            "test-data evaluation:- acc = 0.93824, CrossEntropyLoss = 0.22, f1score = 0.93834       time_elapsed = 0.0 minuts. \n",
            " -----------------------------------------------------------------------------------------------------------------------\n"
          ]
        },
        {
          "output_type": "stream",
          "name": "stderr",
          "text": [
            "epoch [81/100], loss=0.0174: 100%|██████████| 1/1 [00:00<00:00,  4.45it/s]\n"
          ]
        },
        {
          "output_type": "stream",
          "name": "stdout",
          "text": [
            "after 81 epoch, \n",
            "train-data evaluation:- acc = 0.93824, CrossEntropyLoss = 0.21, f1score = 0.93834       \n",
            "test-data evaluation:- acc = 0.93824, CrossEntropyLoss = 0.21, f1score = 0.93834       time_elapsed = 0.0 minuts. \n",
            " -----------------------------------------------------------------------------------------------------------------------\n"
          ]
        },
        {
          "output_type": "stream",
          "name": "stderr",
          "text": [
            "epoch [82/100], loss=0.0165: 100%|██████████| 1/1 [00:00<00:00,  4.90it/s]\n"
          ]
        },
        {
          "output_type": "stream",
          "name": "stdout",
          "text": [
            "after 82 epoch, \n",
            "train-data evaluation:- acc = 0.93824, CrossEntropyLoss = 0.21, f1score = 0.93834       \n",
            "test-data evaluation:- acc = 0.93824, CrossEntropyLoss = 0.21, f1score = 0.93834       time_elapsed = 0.0 minuts. \n",
            " -----------------------------------------------------------------------------------------------------------------------\n"
          ]
        },
        {
          "output_type": "stream",
          "name": "stderr",
          "text": [
            "epoch [83/100], loss=0.0155: 100%|██████████| 1/1 [00:00<00:00,  4.71it/s]\n"
          ]
        },
        {
          "output_type": "stream",
          "name": "stdout",
          "text": [
            "after 83 epoch, \n",
            "train-data evaluation:- acc = 0.94118, CrossEntropyLoss = 0.22, f1score = 0.94124       \n",
            "test-data evaluation:- acc = 0.94118, CrossEntropyLoss = 0.22, f1score = 0.94124       time_elapsed = 0.0 minuts. \n",
            " -----------------------------------------------------------------------------------------------------------------------\n"
          ]
        },
        {
          "output_type": "stream",
          "name": "stderr",
          "text": [
            "epoch [84/100], loss=0.0148: 100%|██████████| 1/1 [00:00<00:00,  4.89it/s]\n"
          ]
        },
        {
          "output_type": "stream",
          "name": "stdout",
          "text": [
            "after 84 epoch, \n",
            "train-data evaluation:- acc = 0.94118, CrossEntropyLoss = 0.21, f1score = 0.94124       \n",
            "test-data evaluation:- acc = 0.94118, CrossEntropyLoss = 0.21, f1score = 0.94124       time_elapsed = 0.0 minuts. \n",
            " -----------------------------------------------------------------------------------------------------------------------\n"
          ]
        },
        {
          "output_type": "stream",
          "name": "stderr",
          "text": [
            "epoch [85/100], loss=0.0139: 100%|██████████| 1/1 [00:00<00:00,  5.29it/s]\n"
          ]
        },
        {
          "output_type": "stream",
          "name": "stdout",
          "text": [
            "after 85 epoch, \n",
            "train-data evaluation:- acc = 0.94118, CrossEntropyLoss = 0.21, f1score = 0.94126       \n",
            "test-data evaluation:- acc = 0.94118, CrossEntropyLoss = 0.21, f1score = 0.94126       time_elapsed = 0.0 minuts. \n",
            " -----------------------------------------------------------------------------------------------------------------------\n"
          ]
        },
        {
          "output_type": "stream",
          "name": "stderr",
          "text": [
            "epoch [86/100], loss=0.0132: 100%|██████████| 1/1 [00:00<00:00,  6.84it/s]\n"
          ]
        },
        {
          "output_type": "stream",
          "name": "stdout",
          "text": [
            "after 86 epoch, \n",
            "train-data evaluation:- acc = 0.94118, CrossEntropyLoss = 0.22, f1score = 0.94124       \n",
            "test-data evaluation:- acc = 0.94118, CrossEntropyLoss = 0.22, f1score = 0.94124       time_elapsed = 0.0 minuts. \n",
            " -----------------------------------------------------------------------------------------------------------------------\n"
          ]
        },
        {
          "output_type": "stream",
          "name": "stderr",
          "text": [
            "epoch [87/100], loss=0.0125: 100%|██████████| 1/1 [00:00<00:00, 18.72it/s]\n"
          ]
        },
        {
          "output_type": "stream",
          "name": "stdout",
          "text": [
            "after 87 epoch, \n",
            "train-data evaluation:- acc = 0.94412, CrossEntropyLoss = 0.22, f1score = 0.94418       \n",
            "test-data evaluation:- acc = 0.94412, CrossEntropyLoss = 0.22, f1score = 0.94418       time_elapsed = 0.0 minuts. \n",
            " -----------------------------------------------------------------------------------------------------------------------\n"
          ]
        },
        {
          "output_type": "stream",
          "name": "stderr",
          "text": [
            "epoch [88/100], loss=0.0118: 100%|██████████| 1/1 [00:00<00:00, 14.23it/s]\n"
          ]
        },
        {
          "output_type": "stream",
          "name": "stdout",
          "text": [
            "after 88 epoch, \n",
            "train-data evaluation:- acc = 0.94118, CrossEntropyLoss = 0.22, f1score = 0.94129       \n",
            "test-data evaluation:- acc = 0.94118, CrossEntropyLoss = 0.22, f1score = 0.94129       time_elapsed = 0.0 minuts. \n",
            " -----------------------------------------------------------------------------------------------------------------------\n"
          ]
        },
        {
          "output_type": "stream",
          "name": "stderr",
          "text": [
            "epoch [89/100], loss=0.0112: 100%|██████████| 1/1 [00:00<00:00, 11.73it/s]\n"
          ]
        },
        {
          "output_type": "stream",
          "name": "stdout",
          "text": [
            "after 89 epoch, \n",
            "train-data evaluation:- acc = 0.94118, CrossEntropyLoss = 0.22, f1score = 0.94129       \n",
            "test-data evaluation:- acc = 0.94118, CrossEntropyLoss = 0.22, f1score = 0.94129       time_elapsed = 0.0 minuts. \n",
            " -----------------------------------------------------------------------------------------------------------------------\n"
          ]
        },
        {
          "output_type": "stream",
          "name": "stderr",
          "text": [
            "epoch [90/100], loss=0.0106: 100%|██████████| 1/1 [00:00<00:00, 13.32it/s]\n"
          ]
        },
        {
          "output_type": "stream",
          "name": "stdout",
          "text": [
            "after 90 epoch, \n",
            "train-data evaluation:- acc = 0.94118, CrossEntropyLoss = 0.22, f1score = 0.94129       \n",
            "test-data evaluation:- acc = 0.94118, CrossEntropyLoss = 0.22, f1score = 0.94129       time_elapsed = 0.0 minuts. \n",
            " -----------------------------------------------------------------------------------------------------------------------\n"
          ]
        },
        {
          "output_type": "stream",
          "name": "stderr",
          "text": [
            "epoch [91/100], loss=0.0101: 100%|██████████| 1/1 [00:00<00:00, 16.95it/s]\n"
          ]
        },
        {
          "output_type": "stream",
          "name": "stdout",
          "text": [
            "after 91 epoch, \n",
            "train-data evaluation:- acc = 0.94412, CrossEntropyLoss = 0.22, f1score = 0.94418       \n",
            "test-data evaluation:- acc = 0.94412, CrossEntropyLoss = 0.22, f1score = 0.94418       time_elapsed = 0.0 minuts. \n",
            " -----------------------------------------------------------------------------------------------------------------------\n"
          ]
        },
        {
          "output_type": "stream",
          "name": "stderr",
          "text": [
            "epoch [92/100], loss=0.0096: 100%|██████████| 1/1 [00:00<00:00, 11.33it/s]\n"
          ]
        },
        {
          "output_type": "stream",
          "name": "stdout",
          "text": [
            "after 92 epoch, \n",
            "train-data evaluation:- acc = 0.94118, CrossEntropyLoss = 0.22, f1score = 0.94129       \n",
            "test-data evaluation:- acc = 0.94118, CrossEntropyLoss = 0.22, f1score = 0.94129       time_elapsed = 0.0 minuts. \n",
            " -----------------------------------------------------------------------------------------------------------------------\n"
          ]
        },
        {
          "output_type": "stream",
          "name": "stderr",
          "text": [
            "epoch [93/100], loss=0.0091: 100%|██████████| 1/1 [00:00<00:00, 19.04it/s]\n"
          ]
        },
        {
          "output_type": "stream",
          "name": "stdout",
          "text": [
            "after 93 epoch, \n",
            "train-data evaluation:- acc = 0.94412, CrossEntropyLoss = 0.22, f1score = 0.94419       \n",
            "test-data evaluation:- acc = 0.94412, CrossEntropyLoss = 0.22, f1score = 0.94419       time_elapsed = 0.0 minuts. \n",
            " -----------------------------------------------------------------------------------------------------------------------\n"
          ]
        },
        {
          "output_type": "stream",
          "name": "stderr",
          "text": [
            "epoch [94/100], loss=0.0087: 100%|██████████| 1/1 [00:00<00:00, 11.74it/s]\n"
          ]
        },
        {
          "output_type": "stream",
          "name": "stdout",
          "text": [
            "after 94 epoch, \n",
            "train-data evaluation:- acc = 0.94412, CrossEntropyLoss = 0.22, f1score = 0.94418       \n",
            "test-data evaluation:- acc = 0.94412, CrossEntropyLoss = 0.22, f1score = 0.94418       time_elapsed = 0.0 minuts. \n",
            " -----------------------------------------------------------------------------------------------------------------------\n"
          ]
        },
        {
          "output_type": "stream",
          "name": "stderr",
          "text": [
            "epoch [95/100], loss=0.0083: 100%|██████████| 1/1 [00:00<00:00, 12.88it/s]\n"
          ]
        },
        {
          "output_type": "stream",
          "name": "stdout",
          "text": [
            "after 95 epoch, \n",
            "train-data evaluation:- acc = 0.94412, CrossEntropyLoss = 0.22, f1score = 0.94418       \n",
            "test-data evaluation:- acc = 0.94412, CrossEntropyLoss = 0.22, f1score = 0.94418       time_elapsed = 0.0 minuts. \n",
            " -----------------------------------------------------------------------------------------------------------------------\n"
          ]
        },
        {
          "output_type": "stream",
          "name": "stderr",
          "text": [
            "epoch [96/100], loss=0.0079: 100%|██████████| 1/1 [00:00<00:00, 13.59it/s]\n"
          ]
        },
        {
          "output_type": "stream",
          "name": "stdout",
          "text": [
            "after 96 epoch, \n",
            "train-data evaluation:- acc = 0.94706, CrossEntropyLoss = 0.22, f1score = 0.94709       \n",
            "test-data evaluation:- acc = 0.94706, CrossEntropyLoss = 0.22, f1score = 0.94709       time_elapsed = 0.0 minuts. \n",
            " -----------------------------------------------------------------------------------------------------------------------\n"
          ]
        },
        {
          "output_type": "stream",
          "name": "stderr",
          "text": [
            "epoch [97/100], loss=0.0075: 100%|██████████| 1/1 [00:00<00:00, 13.28it/s]\n"
          ]
        },
        {
          "output_type": "stream",
          "name": "stdout",
          "text": [
            "after 97 epoch, \n",
            "train-data evaluation:- acc = 0.94412, CrossEntropyLoss = 0.22, f1score = 0.94419       \n",
            "test-data evaluation:- acc = 0.94412, CrossEntropyLoss = 0.22, f1score = 0.94419       time_elapsed = 0.0 minuts. \n",
            " -----------------------------------------------------------------------------------------------------------------------\n"
          ]
        },
        {
          "output_type": "stream",
          "name": "stderr",
          "text": [
            "epoch [98/100], loss=0.0072: 100%|██████████| 1/1 [00:00<00:00, 13.84it/s]\n"
          ]
        },
        {
          "output_type": "stream",
          "name": "stdout",
          "text": [
            "after 98 epoch, \n",
            "train-data evaluation:- acc = 0.94706, CrossEntropyLoss = 0.22, f1score = 0.94709       \n",
            "test-data evaluation:- acc = 0.94706, CrossEntropyLoss = 0.22, f1score = 0.94709       time_elapsed = 0.0 minuts. \n",
            " -----------------------------------------------------------------------------------------------------------------------\n"
          ]
        },
        {
          "output_type": "stream",
          "name": "stderr",
          "text": [
            "epoch [99/100], loss=0.0069: 100%|██████████| 1/1 [00:00<00:00, 13.45it/s]\n"
          ]
        },
        {
          "output_type": "stream",
          "name": "stdout",
          "text": [
            "after 99 epoch, \n",
            "train-data evaluation:- acc = 0.94706, CrossEntropyLoss = 0.22, f1score = 0.94709       \n",
            "test-data evaluation:- acc = 0.94706, CrossEntropyLoss = 0.22, f1score = 0.94709       time_elapsed = 0.0 minuts. \n",
            " -----------------------------------------------------------------------------------------------------------------------\n"
          ]
        },
        {
          "output_type": "stream",
          "name": "stderr",
          "text": [
            "epoch [100/100], loss=0.0066: 100%|██████████| 1/1 [00:00<00:00, 12.22it/s]"
          ]
        },
        {
          "output_type": "stream",
          "name": "stdout",
          "text": [
            "after 100 epoch, \n",
            "train-data evaluation:- acc = 0.94412, CrossEntropyLoss = 0.22, f1score = 0.94419       \n",
            "test-data evaluation:- acc = 0.94412, CrossEntropyLoss = 0.22, f1score = 0.94419       time_elapsed = 0.0 minuts. \n",
            " -----------------------------------------------------------------------------------------------------------------------\n",
            "Model: \"network\"\n",
            "_________________________________________________________________\n"
          ]
        },
        {
          "output_type": "stream",
          "name": "stderr",
          "text": [
            "\n"
          ]
        },
        {
          "output_type": "stream",
          "name": "stdout",
          "text": [
            " Layer (type)                Output Shape              Param #   \n",
            "=================================================================\n",
            " dense (Dense)               multiple                  441       \n",
            "                                                                 \n",
            " dense_1 (Dense)             multiple                  462       \n",
            "                                                                 \n",
            " dense_2 (Dense)             multiple                  462       \n",
            "                                                                 \n",
            " dense_3 (Dense)             multiple                  462       \n",
            "                                                                 \n",
            " dense_4 (Dense)             multiple                  88        \n",
            "                                                                 \n",
            "=================================================================\n",
            "Total params: 1915 (7.48 KB)\n",
            "Trainable params: 1915 (7.48 KB)\n",
            "Non-trainable params: 0 (0.00 Byte)\n",
            "_________________________________________________________________\n",
            "None\n"
          ]
        }
      ],
      "source": [
        "# from this cell you can adjust/tune almost all the hyper paremeters,\n",
        "# except the model structure which can be adjusted from the previous cell\n",
        "\n",
        "# initializing the model and convert it to device(gpu or cpu)\n",
        "model = network()\n",
        "\n",
        "# print the model structure\n",
        "print(model)\n",
        "\n",
        "# the Learning Rate hyperparameter\n",
        "learning_rate = 0.007\n",
        "\n",
        "\n",
        "#initializing loss cross_entropy_loss function\n",
        "criterion = tf.keras.losses.CategoricalCrossentropy(name='cross_entropy_loss', from_logits=False)\n",
        "\n",
        "#learning-rate schedular initialization\n",
        "# i used values here to elimiate this function effect, as i found i don't need it now, and i didn't remove it totally\n",
        "# to be able to call it again just by modify the factor and patience values without change any other part of the code\n",
        "learning_rate_schedular = tf.keras.optimizers.schedules.ExponentialDecay(\n",
        "    initial_learning_rate=learning_rate, decay_steps=100, decay_rate=0.9, staircase=False, name='learning_rate_schedular')\n",
        "\n",
        "# optimizer initializing\n",
        "optimizer = tf.keras.optimizers.Adam(learning_rate=learning_rate_schedular)\n",
        "#optimizer = tf.keras.optimizers.SGD(learning_rate=learning_rate_schedular)\n",
        "\n",
        "\n",
        "# determine number of calculations\n",
        "num_epochs = 100\n",
        "\n",
        "# set the batch size\n",
        "batch_size = 2000\n",
        "\n",
        "# create the train_loader object\n",
        "train_loader = train_set.shuffle(seed=seed, buffer_size=512).batch(batch_size)\n",
        "\n",
        "# create the test_loader object\n",
        "test_loader = test_set.batch(batch_size)\n",
        "\n",
        "# lets check the valaidation before training\n",
        "starting_test_eval = evaluate_model(model, data_loader=test_loader)\n",
        "\n",
        "# call the training function\n",
        "evaluations_progress = train_model(num_epochs, data_loader=train_loader)"
      ]
    },
    {
      "cell_type": "markdown",
      "metadata": {
        "id": "b0lFHs5Q4M6H"
      },
      "source": [
        "i printed the maximum accuracy the model reached? as sometimes the model reach to a very good accuracy then it's accuracy degraded, but the point is as long as the model did reach to that good accuracy then i need to know that to figure out if i'm close to optimum hyperparameters or no and to decide if i need to change the hyperparameters with small scale or large one."
      ]
    },
    {
      "cell_type": "code",
      "execution_count": 20,
      "metadata": {
        "id": "2ONGH5gBBKIQ",
        "colab": {
          "base_uri": "https://localhost:8080/"
        },
        "outputId": "cb71e4bd-a8ac-42fa-889b-39ad048804fa"
      },
      "outputs": [
        {
          "output_type": "stream",
          "name": "stdout",
          "text": [
            "maximun accuracy training evaluation=1.00000\n",
            "maximun accuracy test evaluation=1.00000\n",
            "minimun cross_entropy_loss training evaluation=0.006288761273026466\n",
            "minimun cross_entropy_loss test evaluation=0.006288761273026466\n",
            "maximun f1score training evaluation=1.00000\n",
            "maximun f1score test evaluation=1.00000\n"
          ]
        }
      ],
      "source": [
        "# # printing the maximum training accuracy and maximum testing accuracy the model reached\n",
        "print(f\"maximun accuracy training evaluation={(max(evaluations_progress[:, 0, 0])):.5f}\\\n",
        "\\nmaximun accuracy test evaluation={(max(evaluations_progress[:, 0, 0])):.5f}\\\n",
        "\\nminimun cross_entropy_loss training evaluation={(min(evaluations_progress[:, 0, 1]))}\\\n",
        "\\nminimun cross_entropy_loss test evaluation={(min(evaluations_progress[:, 0, 1]))}\\\n",
        "\\nmaximun f1score training evaluation={(max(evaluations_progress[:, 0, 2])):.5f}\\\n",
        "\\nmaximun f1score test evaluation={(max(evaluations_progress[:, 0, 2])):.5f}\")\n"
      ]
    },
    {
      "cell_type": "markdown",
      "metadata": {
        "id": "wQMI2xqKQgUH"
      },
      "source": [
        "### plot the overall training and testing accuracy progress"
      ]
    },
    {
      "cell_type": "code",
      "execution_count": 21,
      "metadata": {
        "colab": {
          "base_uri": "https://localhost:8080/",
          "height": 472
        },
        "id": "HWV83STLBJ-J",
        "outputId": "b5297b80-e308-4632-d5a5-7735136a470e"
      },
      "outputs": [
        {
          "output_type": "display_data",
          "data": {
            "text/plain": [
              "<Figure size 640x480 with 1 Axes>"
            ],
            "image/png": "[encoded data removed]"
          },
          "metadata": {}
        }
      ],
      "source": [
        "def plot_evaluation(train_progress, test_progress, title):\n",
        "    '''function to plot the progress of training and testing data'''\n",
        "\n",
        "    # convert the train accuracy list into numpy array.\n",
        "    train_line_val = np.array([val for val in train_progress])\n",
        "    # convert the train accuracy list into numpy array.\n",
        "    test_line_val = np.array([val for val in test_progress])\n",
        "\n",
        "    # plot the progress of training accuracy over epochs.\n",
        "    train_progress, = plt.plot((range(len(train_line_val))), train_line_val, label=\"train progress\", marker=\"*\", linewidth=3)\n",
        "    # plot the progress of testing accuracy over epochs.\n",
        "    test_progress, = plt.plot((range(len(test_line_val))), test_line_val, label=\"test progress\", marker=\"o\", linewidth=1)\n",
        "\n",
        "    # set the legend parameters.\n",
        "    plt.legend(loc=\"best\", handles=[train_progress, test_progress])\n",
        "    # write the figure title.\n",
        "    plt.title(title)\n",
        "    # write the label of x axis.\n",
        "    plt.xlabel(\"epochs\")\n",
        "    # write the label of y axis.\n",
        "    plt.ylabel(\"validation\")\n",
        "    # add grid to the figure\n",
        "    plt.grid(which='major')\n",
        "    # to show the figure and remove any unwanted appered words\n",
        "    plt.show()\n",
        "\n",
        "plot_evaluation(evaluations_progress[:, 0, 0], evaluations_progress[:, 1, 0], 'accuracy evaluation progress while training')"
      ]
    },
    {
      "cell_type": "code",
      "execution_count": 22,
      "metadata": {
        "colab": {
          "base_uri": "https://localhost:8080/",
          "height": 472
        },
        "id": "E9rA1gDIx0sw",
        "outputId": "883d6627-d663-434b-bb06-99b4a3ceceba"
      },
      "outputs": [
        {
          "output_type": "display_data",
          "data": {
            "text/plain": [
              "<Figure size 640x480 with 1 Axes>"
            ],
            "image/png": "[encoded data removed]"
          },
          "metadata": {}
        }
      ],
      "source": [
        "plot_evaluation(evaluations_progress[:, 0, 1], evaluations_progress[:, 1, 1], 'cross_entropy_loss evaluation progress while training')"
      ]
    },
    {
      "cell_type": "code",
      "execution_count": 23,
      "metadata": {
        "colab": {
          "base_uri": "https://localhost:8080/",
          "height": 472
        },
        "id": "svmxgyivdCOm",
        "outputId": "49bc7a5d-229e-4877-d4f6-d55be24eaca6"
      },
      "outputs": [
        {
          "output_type": "display_data",
          "data": {
            "text/plain": [
              "<Figure size 640x480 with 1 Axes>"
            ],
            "image/png": "[encoded data removed]"
          },
          "metadata": {}
        }
      ],
      "source": [
        "plot_evaluation(evaluations_progress[:, 0, 2], evaluations_progress[:, 1, 2], 'f1score evaluation progress while training')"
      ]
    }
  ],
  "metadata": {
    "colab": {
      "provenance": []
    },
    "kernelspec": {
      "display_name": "Python 3",
      "name": "python3"
    },
    "language_info": {
      "name": "python"
    }
  },
  "nbformat": 4,
  "nbformat_minor": 0
}