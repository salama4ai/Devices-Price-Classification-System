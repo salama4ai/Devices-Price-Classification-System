{
  "cells": [
    {
      "cell_type": "markdown",
      "metadata": {
        "id": "AQC6OjfDxmh_"
      },
      "source": [
        "# This notebook for preprocessing and machine-learning model of the Devices-Price-Classification-System project"
      ]
    },
    {
      "cell_type": "code",
      "execution_count": 1,
      "metadata": {
        "colab": {
          "base_uri": "https://localhost:8080/"
        },
        "id": "EPHHOoL9KJT7",
        "outputId": "abd6c85f-7911-446f-dea2-20e950cd1d70"
      },
      "outputs": [
        {
          "output_type": "stream",
          "name": "stdout",
          "text": [
            "Mounted at /content/drive\n"
          ]
        }
      ],
      "source": [
        "from google.colab import drive\n",
        "drive.mount('/content/drive')"
      ]
    },
    {
      "cell_type": "markdown",
      "metadata": {
        "id": "VmmAp68WlpZx"
      },
      "source": [
        "## importing libraries"
      ]
    },
    {
      "cell_type": "code",
      "execution_count": 22,
      "metadata": {
        "id": "J0IZVwuBlrL4"
      },
      "outputs": [],
      "source": [
        "import numpy as np\n",
        "import pandas as pd\n",
        "import matplotlib.pyplot as plt\n",
        "from matplotlib.pyplot import figure\n",
        "import seaborn as sns\n",
        "import random\n",
        "import joblib\n",
        "import pickle\n",
        "from sklearn.compose import make_column_transformer, make_column_selector\n",
        "from sklearn.pipeline import make_pipeline\n",
        "from sklearn.metrics import accuracy_score, f1_score, classification_report\n",
        "from sklearn.preprocessing import StandardScaler, MinMaxScaler\n",
        "from sklearn.linear_model import LogisticRegression\n",
        "from sklearn.model_selection import GridSearchCV\n",
        "from sklearn.neighbors import KNeighborsClassifier\n",
        "from sklearn.svm import SVC\n",
        "from sklearn.naive_bayes import GaussianNB\n",
        "from sklearn.feature_selection import mutual_info_classif\n",
        "from sklearn.feature_selection import SelectKBest\n",
        "from sklearn.impute import KNNImputer\n",
        "# explicitly require this experimental feature\n",
        "from sklearn.experimental import enable_iterative_imputer  # noqa\n",
        "# now you can import normally from sklearn.impute\n",
        "from sklearn.impute import IterativeImputer"
      ]
    },
    {
      "cell_type": "code",
      "execution_count": 29,
      "metadata": {
        "id": "sUsZ37feRsqq"
      },
      "outputs": [],
      "source": [
        "# fix random number generation aka regenerate the same random numbers every time to be able to reproduce the same results\n",
        "def set_random_seed(seed=7):\n",
        "    \"\"\"Set random seed, for python, numpy\n",
        "\n",
        "       fix random number generation aka regenerate the same random numbers every\n",
        "       time to be able to reproduce the same results\n",
        "    Args:\n",
        "        seed (int): Seed to be used.\n",
        "\n",
        "    \"\"\"\n",
        "    random.seed(seed)\n",
        "    np.random.seed(seed)\n",
        "\n",
        "seed=7\n",
        "set_random_seed(seed=seed)"
      ]
    },
    {
      "cell_type": "markdown",
      "metadata": {
        "id": "rt-EjR4qmSWr"
      },
      "source": [
        "## load data"
      ]
    },
    {
      "cell_type": "code",
      "execution_count": 30,
      "metadata": {
        "id": "PUR3ELTFmpXW"
      },
      "outputs": [],
      "source": [
        "df = pd.read_csv(\"/content/drive/MyDrive/maids.cc/data/train - train.csv\")\n",
        "test_data = pd.read_csv(\"/content/drive/MyDrive/maids.cc/data/test - test.csv\")"
      ]
    },
    {
      "cell_type": "markdown",
      "metadata": {
        "id": "ie5tOwq_4X04"
      },
      "source": [
        "split the label column from the feature columns"
      ]
    },
    {
      "cell_type": "code",
      "execution_count": 31,
      "metadata": {
        "id": "rTfthDaP3X2J"
      },
      "outputs": [],
      "source": [
        "# label column naming it (y)\n",
        "y = df[\"price_range\"]\n",
        "#feature columns naming them x\n",
        "x = df.drop(\"price_range\", axis=1)\n",
        "\n",
        "# number of features i will use\n",
        "k = 20  # i tested many values, but almost all values less than 20 lead to poor results"
      ]
    },
    {
      "cell_type": "markdown",
      "metadata": {
        "id": "qt6OFy2w47YS"
      },
      "source": [
        "#### using train test split function to split the training data into training and validation set"
      ]
    },
    {
      "cell_type": "code",
      "execution_count": 32,
      "metadata": {
        "id": "zVJzSOmc4vJK"
      },
      "outputs": [],
      "source": [
        "from sklearn.model_selection import train_test_split\n",
        "xtrain, xtest, ytrain, ytest = train_test_split(x, y, test_size=0.15, random_state=7, stratify=y, shuffle=True)"
      ]
    },
    {
      "cell_type": "code",
      "source": [
        "#we Will test the top k important features and train the model on them to get the best features for getting higher accuracy\n",
        "most_important = SelectKBest(mutual_info_classif, k=k)\n",
        "most_important.fit(xtrain.fillna(0), ytrain)\n",
        "most_important_cols = xtrain.columns[most_important.get_support()]\n",
        "#most_important_cols.scores_"
      ],
      "metadata": {
        "id": "DqrF3p4M-Uf2"
      },
      "execution_count": 33,
      "outputs": []
    },
    {
      "cell_type": "code",
      "source": [
        "# use only the best K featues and drop the other to reduce curse of dimentionality\n",
        "xtrain = xtrain[most_important_cols]\n",
        "xtest = xtest[most_important_cols]\n",
        "# tried to increase the data, but it doesn't provide any gain to the performance\n",
        "#xtrain = pd.concat([xtrain]*7, ignore_index=True)\n",
        "#ytrain = pd.concat([ytrain]*7, ignore_index=True)"
      ],
      "metadata": {
        "id": "X8iQ4swUKtAm"
      },
      "execution_count": 34,
      "outputs": []
    },
    {
      "cell_type": "code",
      "execution_count": 35,
      "metadata": {
        "id": "4m4M8y0KK6J_"
      },
      "outputs": [],
      "source": [
        "# we will do all the preprocessing steps using the make_column_transformer this has many advantages,\n",
        "# such as we can involve the preprocessing step in the fine tuning process, and we dont need the repeat\n",
        "# the same steps for testing data step by step\n",
        "\n",
        "preprocessor_1 = make_column_transformer((MinMaxScaler(feature_range=(0, 3)), [\"ram\"]),\n",
        "                                         ('passthrough', most_important_cols),\n",
        "                                         remainder=\"drop\")\n",
        "\n",
        "preprocessor_1 = make_column_transformer((MinMaxScaler(feature_range=(0, 3)), [\"ram\"]), remainder=\"passthrough\")\n",
        "\n",
        "preprocessor_2 = make_column_transformer(\n",
        "    #(KNNImputer(), slice(0, k)),  # i tested this choice, but it leads to poor results\n",
        "     (IterativeImputer(random_state=seed, tol=1e-5, max_iter=500), slice(0, k)),\n",
        "     remainder=\"passthrough\")\n",
        "\n",
        "preprocessor_3 = make_column_transformer((StandardScaler(), slice(1, k)),\n",
        "                                         remainder=\"passthrough\")"
      ]
    },
    {
      "cell_type": "markdown",
      "source": [
        "#### machine learning is a search problem"
      ],
      "metadata": {
        "id": "tQxk1thnzf4S"
      }
    },
    {
      "cell_type": "markdown",
      "source": [
        "i was guess that linear model will perform well, as it do so when the number of training data is small"
      ],
      "metadata": {
        "id": "Isqfe1H-zETj"
      }
    },
    {
      "cell_type": "code",
      "execution_count": 36,
      "metadata": {
        "id": "8hE4eKYfK55O"
      },
      "outputs": [],
      "source": [
        "# i tested different algorithms and comment them, but keep the best one of them which is logistic regression\n",
        "#clf = KNeighborsClassifier()  # test this choice, but it leads to poor results\n",
        "#clf = SVC(random_state=seed) # test this choice, but it leads to poor results\n",
        "#clf = GaussianNB()  # test this choice, but it leads to poor results\n",
        "clf = LogisticRegression(random_state=seed, tol=1e-7, n_jobs=-1, max_iter=500, penalty=None, solver='lbfgs'\n",
        "                         #, solver='sag'\n",
        "                         )\n",
        "\n",
        "# i tried many parameters values, and finally kept the best parameters values\n",
        "\n",
        "pipe = make_pipeline(preprocessor_1, preprocessor_2, preprocessor_3, clf)\n",
        "param_grid={#\"logisticregression__penalty\":['l1', 'l2', 'elasticnet'#, None],\n",
        "            #\"logisticregression__solver\":['lbfgs', 'liblinear', 'newton-cg', 'newton-cholesky', 'saga', 'sag'],\n",
        "            #'logisticregression__C': [0.1, 10., 1.]\n",
        "            #\"logisticregression__multi_class\":['auto', 'ovr', 'multinomial'],\n",
        "            #\"logisticregression__solver\": ['lbfgs'], \"logisticregression__penalty\": ['l2', None] #96.23\n",
        "            #\"logisticregression__solver\": ['liblinear'], \"logisticregression__penalty\": ['l2', 'l1']#82\n",
        "            #\"logisticregression__solver\": ['newton-cg'], \"logisticregression__penalty\": ['l2', None]#95.7\n",
        "            #\"logisticregression__solver\": ['newton-cholesky'], \"logisticregression__penalty\": ['l2', None]#83\n",
        "            #\"logisticregression__solver\": ['sag'],\n",
        "            #\"logisticregression__penalty\": ['l2', None]#96.7\n",
        "            #\"logisticregression__solver\": ['saga'], \"logisticregression__penalty\": ['l2', None, 'elasticnet', 'l1'] 96\n",
        "            }\n",
        "search = GridSearchCV(pipe, param_grid, return_train_score=True, cv=33, refit=True)"
      ]
    },
    {
      "cell_type": "code",
      "source": [
        "# to show up the parameters names in case i need to test any of them\n",
        "#pipe.get_params().keys()"
      ],
      "metadata": {
        "id": "LclFHYw3Xak2"
      },
      "execution_count": 37,
      "outputs": []
    },
    {
      "cell_type": "code",
      "execution_count": 38,
      "metadata": {
        "id": "3YBqph4O4ucs",
        "colab": {
          "base_uri": "https://localhost:8080/"
        },
        "outputId": "ca359843-4cda-4d19-87f9-9ea613acf8f0"
      },
      "outputs": [
        {
          "output_type": "execute_result",
          "data": {
            "text/plain": [
              "0.9695027195027195"
            ]
          },
          "metadata": {},
          "execution_count": 38
        }
      ],
      "source": [
        "# train the model and then print the training accuracy\n",
        "search.fit(xtrain, ytrain)\n",
        "score = search.best_score_\n",
        "score"
      ]
    },
    {
      "cell_type": "code",
      "source": [
        "# best model score\n",
        "search.best_score_"
      ],
      "metadata": {
        "colab": {
          "base_uri": "https://localhost:8080/"
        },
        "id": "ESLRiUKqxhcu",
        "outputId": "0256ad49-3588-4494-ee4e-818674373db3"
      },
      "execution_count": 39,
      "outputs": [
        {
          "output_type": "execute_result",
          "data": {
            "text/plain": [
              "0.9695027195027195"
            ]
          },
          "metadata": {},
          "execution_count": 39
        }
      ]
    },
    {
      "cell_type": "code",
      "source": [
        "# best estimator\n",
        "search.best_estimator_"
      ],
      "metadata": {
        "colab": {
          "base_uri": "https://localhost:8080/",
          "height": 394
        },
        "id": "ejabZcJLpnBD",
        "outputId": "8c258d12-d223-48e0-8636-d309984cd506"
      },
      "execution_count": 40,
      "outputs": [
        {
          "output_type": "execute_result",
          "data": {
            "text/plain": [
              "Pipeline(steps=[('columntransformer-1',\n",
              "                 ColumnTransformer(remainder='passthrough',\n",
              "                                   transformers=[('minmaxscaler',\n",
              "                                                  MinMaxScaler(feature_range=(0,\n",
              "                                                                              3)),\n",
              "                                                  ['ram'])])),\n",
              "                ('columntransformer-2',\n",
              "                 ColumnTransformer(remainder='passthrough',\n",
              "                                   transformers=[('iterativeimputer',\n",
              "                                                  IterativeImputer(max_iter=500,\n",
              "                                                                   random_state=7,\n",
              "                                                                   tol=1e-05),\n",
              "                                                  slice(0, 20, None))])),\n",
              "                ('columntransformer-3',\n",
              "                 ColumnTransformer(remainder='passthrough',\n",
              "                                   transformers=[('standardscaler',\n",
              "                                                  StandardScaler(),\n",
              "                                                  slice(1, 20, None))])),\n",
              "                ('logisticregression',\n",
              "                 LogisticRegression(max_iter=500, n_jobs=-1, penalty=None,\n",
              "                                    random_state=7, tol=1e-07))])"
            ],
            "text/html": [
              "<style>#sk-container-id-2 {color: black;background-color: white;}#sk-container-id-2 pre{padding: 0;}#sk-container-id-2 div.sk-toggleable {background-color: white;}#sk-container-id-2 label.sk-toggleable__label {cursor: pointer;display: block;width: 100%;margin-bottom: 0;padding: 0.3em;box-sizing: border-box;text-align: center;}#sk-container-id-2 label.sk-toggleable__label-arrow:before {content: \"▸\";float: left;margin-right: 0.25em;color: #696969;}#sk-container-id-2 label.sk-toggleable__label-arrow:hover:before {color: black;}#sk-container-id-2 div.sk-estimator:hover label.sk-toggleable__label-arrow:before {color: black;}#sk-container-id-2 div.sk-toggleable__content {max-height: 0;max-width: 0;overflow: hidden;text-align: left;background-color: #f0f8ff;}#sk-container-id-2 div.sk-toggleable__content pre {margin: 0.2em;color: black;border-radius: 0.25em;background-color: #f0f8ff;}#sk-container-id-2 input.sk-toggleable__control:checked~div.sk-toggleable__content {max-height: 200px;max-width: 100%;overflow: auto;}#sk-container-id-2 input.sk-toggleable__control:checked~label.sk-toggleable__label-arrow:before {content: \"▾\";}#sk-container-id-2 div.sk-estimator input.sk-toggleable__control:checked~label.sk-toggleable__label {background-color: #d4ebff;}#sk-container-id-2 div.sk-label input.sk-toggleable__control:checked~label.sk-toggleable__label {background-color: #d4ebff;}#sk-container-id-2 input.sk-hidden--visually {border: 0;clip: rect(1px 1px 1px 1px);clip: rect(1px, 1px, 1px, 1px);height: 1px;margin: -1px;overflow: hidden;padding: 0;position: absolute;width: 1px;}#sk-container-id-2 div.sk-estimator {font-family: monospace;background-color: #f0f8ff;border: 1px dotted black;border-radius: 0.25em;box-sizing: border-box;margin-bottom: 0.5em;}#sk-container-id-2 div.sk-estimator:hover {background-color: #d4ebff;}#sk-container-id-2 div.sk-parallel-item::after {content: \"\";width: 100%;border-bottom: 1px solid gray;flex-grow: 1;}#sk-container-id-2 div.sk-label:hover label.sk-toggleable__label {background-color: #d4ebff;}#sk-container-id-2 div.sk-serial::before {content: \"\";position: absolute;border-left: 1px solid gray;box-sizing: border-box;top: 0;bottom: 0;left: 50%;z-index: 0;}#sk-container-id-2 div.sk-serial {display: flex;flex-direction: column;align-items: center;background-color: white;padding-right: 0.2em;padding-left: 0.2em;position: relative;}#sk-container-id-2 div.sk-item {position: relative;z-index: 1;}#sk-container-id-2 div.sk-parallel {display: flex;align-items: stretch;justify-content: center;background-color: white;position: relative;}#sk-container-id-2 div.sk-item::before, #sk-container-id-2 div.sk-parallel-item::before {content: \"\";position: absolute;border-left: 1px solid gray;box-sizing: border-box;top: 0;bottom: 0;left: 50%;z-index: -1;}#sk-container-id-2 div.sk-parallel-item {display: flex;flex-direction: column;z-index: 1;position: relative;background-color: white;}#sk-container-id-2 div.sk-parallel-item:first-child::after {align-self: flex-end;width: 50%;}#sk-container-id-2 div.sk-parallel-item:last-child::after {align-self: flex-start;width: 50%;}#sk-container-id-2 div.sk-parallel-item:only-child::after {width: 0;}#sk-container-id-2 div.sk-dashed-wrapped {border: 1px dashed gray;margin: 0 0.4em 0.5em 0.4em;box-sizing: border-box;padding-bottom: 0.4em;background-color: white;}#sk-container-id-2 div.sk-label label {font-family: monospace;font-weight: bold;display: inline-block;line-height: 1.2em;}#sk-container-id-2 div.sk-label-container {text-align: center;}#sk-container-id-2 div.sk-container {/* jupyter's `normalize.less` sets `[hidden] { display: none; }` but bootstrap.min.css set `[hidden] { display: none !important; }` so we also need the `!important` here to be able to override the default hidden behavior on the sphinx rendered scikit-learn.org. See: https://github.com/scikit-learn/scikit-learn/issues/21755 */display: inline-block !important;position: relative;}#sk-container-id-2 div.sk-text-repr-fallback {display: none;}</style><div id=\"sk-container-id-2\" class=\"sk-top-container\"><div class=\"sk-text-repr-fallback\"><pre>Pipeline(steps=[(&#x27;columntransformer-1&#x27;,\n",
              "                 ColumnTransformer(remainder=&#x27;passthrough&#x27;,\n",
              "                                   transformers=[(&#x27;minmaxscaler&#x27;,\n",
              "                                                  MinMaxScaler(feature_range=(0,\n",
              "                                                                              3)),\n",
              "                                                  [&#x27;ram&#x27;])])),\n",
              "                (&#x27;columntransformer-2&#x27;,\n",
              "                 ColumnTransformer(remainder=&#x27;passthrough&#x27;,\n",
              "                                   transformers=[(&#x27;iterativeimputer&#x27;,\n",
              "                                                  IterativeImputer(max_iter=500,\n",
              "                                                                   random_state=7,\n",
              "                                                                   tol=1e-05),\n",
              "                                                  slice(0, 20, None))])),\n",
              "                (&#x27;columntransformer-3&#x27;,\n",
              "                 ColumnTransformer(remainder=&#x27;passthrough&#x27;,\n",
              "                                   transformers=[(&#x27;standardscaler&#x27;,\n",
              "                                                  StandardScaler(),\n",
              "                                                  slice(1, 20, None))])),\n",
              "                (&#x27;logisticregression&#x27;,\n",
              "                 LogisticRegression(max_iter=500, n_jobs=-1, penalty=None,\n",
              "                                    random_state=7, tol=1e-07))])</pre><b>In a Jupyter environment, please rerun this cell to show the HTML representation or trust the notebook. <br />On GitHub, the HTML representation is unable to render, please try loading this page with nbviewer.org.</b></div><div class=\"sk-container\" hidden><div class=\"sk-item sk-dashed-wrapped\"><div class=\"sk-label-container\"><div class=\"sk-label sk-toggleable\"><input class=\"sk-toggleable__control sk-hidden--visually\" id=\"sk-estimator-id-18\" type=\"checkbox\" ><label for=\"sk-estimator-id-18\" class=\"sk-toggleable__label sk-toggleable__label-arrow\">Pipeline</label><div class=\"sk-toggleable__content\"><pre>Pipeline(steps=[(&#x27;columntransformer-1&#x27;,\n",
              "                 ColumnTransformer(remainder=&#x27;passthrough&#x27;,\n",
              "                                   transformers=[(&#x27;minmaxscaler&#x27;,\n",
              "                                                  MinMaxScaler(feature_range=(0,\n",
              "                                                                              3)),\n",
              "                                                  [&#x27;ram&#x27;])])),\n",
              "                (&#x27;columntransformer-2&#x27;,\n",
              "                 ColumnTransformer(remainder=&#x27;passthrough&#x27;,\n",
              "                                   transformers=[(&#x27;iterativeimputer&#x27;,\n",
              "                                                  IterativeImputer(max_iter=500,\n",
              "                                                                   random_state=7,\n",
              "                                                                   tol=1e-05),\n",
              "                                                  slice(0, 20, None))])),\n",
              "                (&#x27;columntransformer-3&#x27;,\n",
              "                 ColumnTransformer(remainder=&#x27;passthrough&#x27;,\n",
              "                                   transformers=[(&#x27;standardscaler&#x27;,\n",
              "                                                  StandardScaler(),\n",
              "                                                  slice(1, 20, None))])),\n",
              "                (&#x27;logisticregression&#x27;,\n",
              "                 LogisticRegression(max_iter=500, n_jobs=-1, penalty=None,\n",
              "                                    random_state=7, tol=1e-07))])</pre></div></div></div><div class=\"sk-serial\"><div class=\"sk-item sk-dashed-wrapped\"><div class=\"sk-label-container\"><div class=\"sk-label sk-toggleable\"><input class=\"sk-toggleable__control sk-hidden--visually\" id=\"sk-estimator-id-19\" type=\"checkbox\" ><label for=\"sk-estimator-id-19\" class=\"sk-toggleable__label sk-toggleable__label-arrow\">columntransformer-1: ColumnTransformer</label><div class=\"sk-toggleable__content\"><pre>ColumnTransformer(remainder=&#x27;passthrough&#x27;,\n",
              "                  transformers=[(&#x27;minmaxscaler&#x27;,\n",
              "                                 MinMaxScaler(feature_range=(0, 3)), [&#x27;ram&#x27;])])</pre></div></div></div><div class=\"sk-parallel\"><div class=\"sk-parallel-item\"><div class=\"sk-item\"><div class=\"sk-label-container\"><div class=\"sk-label sk-toggleable\"><input class=\"sk-toggleable__control sk-hidden--visually\" id=\"sk-estimator-id-20\" type=\"checkbox\" ><label for=\"sk-estimator-id-20\" class=\"sk-toggleable__label sk-toggleable__label-arrow\">minmaxscaler</label><div class=\"sk-toggleable__content\"><pre>[&#x27;ram&#x27;]</pre></div></div></div><div class=\"sk-serial\"><div class=\"sk-item\"><div class=\"sk-estimator sk-toggleable\"><input class=\"sk-toggleable__control sk-hidden--visually\" id=\"sk-estimator-id-21\" type=\"checkbox\" ><label for=\"sk-estimator-id-21\" class=\"sk-toggleable__label sk-toggleable__label-arrow\">MinMaxScaler</label><div class=\"sk-toggleable__content\"><pre>MinMaxScaler(feature_range=(0, 3))</pre></div></div></div></div></div></div><div class=\"sk-parallel-item\"><div class=\"sk-item\"><div class=\"sk-label-container\"><div class=\"sk-label sk-toggleable\"><input class=\"sk-toggleable__control sk-hidden--visually\" id=\"sk-estimator-id-22\" type=\"checkbox\" ><label for=\"sk-estimator-id-22\" class=\"sk-toggleable__label sk-toggleable__label-arrow\">remainder</label><div class=\"sk-toggleable__content\"><pre>[&#x27;battery_power&#x27;, &#x27;blue&#x27;, &#x27;clock_speed&#x27;, &#x27;dual_sim&#x27;, &#x27;fc&#x27;, &#x27;four_g&#x27;, &#x27;int_memory&#x27;, &#x27;m_dep&#x27;, &#x27;mobile_wt&#x27;, &#x27;n_cores&#x27;, &#x27;pc&#x27;, &#x27;px_height&#x27;, &#x27;px_width&#x27;, &#x27;sc_h&#x27;, &#x27;sc_w&#x27;, &#x27;talk_time&#x27;, &#x27;three_g&#x27;, &#x27;touch_screen&#x27;, &#x27;wifi&#x27;]</pre></div></div></div><div class=\"sk-serial\"><div class=\"sk-item\"><div class=\"sk-estimator sk-toggleable\"><input class=\"sk-toggleable__control sk-hidden--visually\" id=\"sk-estimator-id-23\" type=\"checkbox\" ><label for=\"sk-estimator-id-23\" class=\"sk-toggleable__label sk-toggleable__label-arrow\">passthrough</label><div class=\"sk-toggleable__content\"><pre>passthrough</pre></div></div></div></div></div></div></div></div><div class=\"sk-item sk-dashed-wrapped\"><div class=\"sk-label-container\"><div class=\"sk-label sk-toggleable\"><input class=\"sk-toggleable__control sk-hidden--visually\" id=\"sk-estimator-id-24\" type=\"checkbox\" ><label for=\"sk-estimator-id-24\" class=\"sk-toggleable__label sk-toggleable__label-arrow\">columntransformer-2: ColumnTransformer</label><div class=\"sk-toggleable__content\"><pre>ColumnTransformer(remainder=&#x27;passthrough&#x27;,\n",
              "                  transformers=[(&#x27;iterativeimputer&#x27;,\n",
              "                                 IterativeImputer(max_iter=500, random_state=7,\n",
              "                                                  tol=1e-05),\n",
              "                                 slice(0, 20, None))])</pre></div></div></div><div class=\"sk-parallel\"><div class=\"sk-parallel-item\"><div class=\"sk-item\"><div class=\"sk-label-container\"><div class=\"sk-label sk-toggleable\"><input class=\"sk-toggleable__control sk-hidden--visually\" id=\"sk-estimator-id-25\" type=\"checkbox\" ><label for=\"sk-estimator-id-25\" class=\"sk-toggleable__label sk-toggleable__label-arrow\">iterativeimputer</label><div class=\"sk-toggleable__content\"><pre>slice(0, 20, None)</pre></div></div></div><div class=\"sk-serial\"><div class=\"sk-item\"><div class=\"sk-estimator sk-toggleable\"><input class=\"sk-toggleable__control sk-hidden--visually\" id=\"sk-estimator-id-26\" type=\"checkbox\" ><label for=\"sk-estimator-id-26\" class=\"sk-toggleable__label sk-toggleable__label-arrow\">IterativeImputer</label><div class=\"sk-toggleable__content\"><pre>IterativeImputer(max_iter=500, random_state=7, tol=1e-05)</pre></div></div></div></div></div></div><div class=\"sk-parallel-item\"><div class=\"sk-item\"><div class=\"sk-label-container\"><div class=\"sk-label sk-toggleable\"><input class=\"sk-toggleable__control sk-hidden--visually\" id=\"sk-estimator-id-27\" type=\"checkbox\" ><label for=\"sk-estimator-id-27\" class=\"sk-toggleable__label sk-toggleable__label-arrow\">remainder</label><div class=\"sk-toggleable__content\"><pre>[]</pre></div></div></div><div class=\"sk-serial\"><div class=\"sk-item\"><div class=\"sk-estimator sk-toggleable\"><input class=\"sk-toggleable__control sk-hidden--visually\" id=\"sk-estimator-id-28\" type=\"checkbox\" ><label for=\"sk-estimator-id-28\" class=\"sk-toggleable__label sk-toggleable__label-arrow\">passthrough</label><div class=\"sk-toggleable__content\"><pre>passthrough</pre></div></div></div></div></div></div></div></div><div class=\"sk-item sk-dashed-wrapped\"><div class=\"sk-label-container\"><div class=\"sk-label sk-toggleable\"><input class=\"sk-toggleable__control sk-hidden--visually\" id=\"sk-estimator-id-29\" type=\"checkbox\" ><label for=\"sk-estimator-id-29\" class=\"sk-toggleable__label sk-toggleable__label-arrow\">columntransformer-3: ColumnTransformer</label><div class=\"sk-toggleable__content\"><pre>ColumnTransformer(remainder=&#x27;passthrough&#x27;,\n",
              "                  transformers=[(&#x27;standardscaler&#x27;, StandardScaler(),\n",
              "                                 slice(1, 20, None))])</pre></div></div></div><div class=\"sk-parallel\"><div class=\"sk-parallel-item\"><div class=\"sk-item\"><div class=\"sk-label-container\"><div class=\"sk-label sk-toggleable\"><input class=\"sk-toggleable__control sk-hidden--visually\" id=\"sk-estimator-id-30\" type=\"checkbox\" ><label for=\"sk-estimator-id-30\" class=\"sk-toggleable__label sk-toggleable__label-arrow\">standardscaler</label><div class=\"sk-toggleable__content\"><pre>slice(1, 20, None)</pre></div></div></div><div class=\"sk-serial\"><div class=\"sk-item\"><div class=\"sk-estimator sk-toggleable\"><input class=\"sk-toggleable__control sk-hidden--visually\" id=\"sk-estimator-id-31\" type=\"checkbox\" ><label for=\"sk-estimator-id-31\" class=\"sk-toggleable__label sk-toggleable__label-arrow\">StandardScaler</label><div class=\"sk-toggleable__content\"><pre>StandardScaler()</pre></div></div></div></div></div></div><div class=\"sk-parallel-item\"><div class=\"sk-item\"><div class=\"sk-label-container\"><div class=\"sk-label sk-toggleable\"><input class=\"sk-toggleable__control sk-hidden--visually\" id=\"sk-estimator-id-32\" type=\"checkbox\" ><label for=\"sk-estimator-id-32\" class=\"sk-toggleable__label sk-toggleable__label-arrow\">remainder</label><div class=\"sk-toggleable__content\"><pre>[0]</pre></div></div></div><div class=\"sk-serial\"><div class=\"sk-item\"><div class=\"sk-estimator sk-toggleable\"><input class=\"sk-toggleable__control sk-hidden--visually\" id=\"sk-estimator-id-33\" type=\"checkbox\" ><label for=\"sk-estimator-id-33\" class=\"sk-toggleable__label sk-toggleable__label-arrow\">passthrough</label><div class=\"sk-toggleable__content\"><pre>passthrough</pre></div></div></div></div></div></div></div></div><div class=\"sk-item\"><div class=\"sk-estimator sk-toggleable\"><input class=\"sk-toggleable__control sk-hidden--visually\" id=\"sk-estimator-id-34\" type=\"checkbox\" ><label for=\"sk-estimator-id-34\" class=\"sk-toggleable__label sk-toggleable__label-arrow\">LogisticRegression</label><div class=\"sk-toggleable__content\"><pre>LogisticRegression(max_iter=500, n_jobs=-1, penalty=None, random_state=7,\n",
              "                   tol=1e-07)</pre></div></div></div></div></div></div></div>"
            ]
          },
          "metadata": {},
          "execution_count": 40
        }
      ]
    },
    {
      "cell_type": "code",
      "source": [
        "# the parameters of the best model\n",
        "search.best_estimator_.get_params(deep=True)"
      ],
      "metadata": {
        "colab": {
          "base_uri": "https://localhost:8080/"
        },
        "id": "7i9mjaEtpseN",
        "outputId": "5b202f78-e575-42b3-db58-7c9db3a2db9b"
      },
      "execution_count": 41,
      "outputs": [
        {
          "output_type": "execute_result",
          "data": {
            "text/plain": [
              "{'memory': None,\n",
              " 'steps': [('columntransformer-1',\n",
              "   ColumnTransformer(remainder='passthrough',\n",
              "                     transformers=[('minmaxscaler',\n",
              "                                    MinMaxScaler(feature_range=(0, 3)), ['ram'])])),\n",
              "  ('columntransformer-2',\n",
              "   ColumnTransformer(remainder='passthrough',\n",
              "                     transformers=[('iterativeimputer',\n",
              "                                    IterativeImputer(max_iter=500, random_state=7,\n",
              "                                                     tol=1e-05),\n",
              "                                    slice(0, 20, None))])),\n",
              "  ('columntransformer-3',\n",
              "   ColumnTransformer(remainder='passthrough',\n",
              "                     transformers=[('standardscaler', StandardScaler(),\n",
              "                                    slice(1, 20, None))])),\n",
              "  ('logisticregression',\n",
              "   LogisticRegression(max_iter=500, n_jobs=-1, penalty=None, random_state=7,\n",
              "                      tol=1e-07))],\n",
              " 'verbose': False,\n",
              " 'columntransformer-1': ColumnTransformer(remainder='passthrough',\n",
              "                   transformers=[('minmaxscaler',\n",
              "                                  MinMaxScaler(feature_range=(0, 3)), ['ram'])]),\n",
              " 'columntransformer-2': ColumnTransformer(remainder='passthrough',\n",
              "                   transformers=[('iterativeimputer',\n",
              "                                  IterativeImputer(max_iter=500, random_state=7,\n",
              "                                                   tol=1e-05),\n",
              "                                  slice(0, 20, None))]),\n",
              " 'columntransformer-3': ColumnTransformer(remainder='passthrough',\n",
              "                   transformers=[('standardscaler', StandardScaler(),\n",
              "                                  slice(1, 20, None))]),\n",
              " 'logisticregression': LogisticRegression(max_iter=500, n_jobs=-1, penalty=None, random_state=7,\n",
              "                    tol=1e-07),\n",
              " 'columntransformer-1__n_jobs': None,\n",
              " 'columntransformer-1__remainder': 'passthrough',\n",
              " 'columntransformer-1__sparse_threshold': 0.3,\n",
              " 'columntransformer-1__transformer_weights': None,\n",
              " 'columntransformer-1__transformers': [('minmaxscaler',\n",
              "   MinMaxScaler(feature_range=(0, 3)),\n",
              "   ['ram'])],\n",
              " 'columntransformer-1__verbose': False,\n",
              " 'columntransformer-1__verbose_feature_names_out': True,\n",
              " 'columntransformer-1__minmaxscaler': MinMaxScaler(feature_range=(0, 3)),\n",
              " 'columntransformer-1__minmaxscaler__clip': False,\n",
              " 'columntransformer-1__minmaxscaler__copy': True,\n",
              " 'columntransformer-1__minmaxscaler__feature_range': (0, 3),\n",
              " 'columntransformer-2__n_jobs': None,\n",
              " 'columntransformer-2__remainder': 'passthrough',\n",
              " 'columntransformer-2__sparse_threshold': 0.3,\n",
              " 'columntransformer-2__transformer_weights': None,\n",
              " 'columntransformer-2__transformers': [('iterativeimputer',\n",
              "   IterativeImputer(max_iter=500, random_state=7, tol=1e-05),\n",
              "   slice(0, 20, None))],\n",
              " 'columntransformer-2__verbose': False,\n",
              " 'columntransformer-2__verbose_feature_names_out': True,\n",
              " 'columntransformer-2__iterativeimputer': IterativeImputer(max_iter=500, random_state=7, tol=1e-05),\n",
              " 'columntransformer-2__iterativeimputer__add_indicator': False,\n",
              " 'columntransformer-2__iterativeimputer__estimator': None,\n",
              " 'columntransformer-2__iterativeimputer__imputation_order': 'ascending',\n",
              " 'columntransformer-2__iterativeimputer__initial_strategy': 'mean',\n",
              " 'columntransformer-2__iterativeimputer__keep_empty_features': False,\n",
              " 'columntransformer-2__iterativeimputer__max_iter': 500,\n",
              " 'columntransformer-2__iterativeimputer__max_value': inf,\n",
              " 'columntransformer-2__iterativeimputer__min_value': -inf,\n",
              " 'columntransformer-2__iterativeimputer__missing_values': nan,\n",
              " 'columntransformer-2__iterativeimputer__n_nearest_features': None,\n",
              " 'columntransformer-2__iterativeimputer__random_state': 7,\n",
              " 'columntransformer-2__iterativeimputer__sample_posterior': False,\n",
              " 'columntransformer-2__iterativeimputer__skip_complete': False,\n",
              " 'columntransformer-2__iterativeimputer__tol': 1e-05,\n",
              " 'columntransformer-2__iterativeimputer__verbose': 0,\n",
              " 'columntransformer-3__n_jobs': None,\n",
              " 'columntransformer-3__remainder': 'passthrough',\n",
              " 'columntransformer-3__sparse_threshold': 0.3,\n",
              " 'columntransformer-3__transformer_weights': None,\n",
              " 'columntransformer-3__transformers': [('standardscaler',\n",
              "   StandardScaler(),\n",
              "   slice(1, 20, None))],\n",
              " 'columntransformer-3__verbose': False,\n",
              " 'columntransformer-3__verbose_feature_names_out': True,\n",
              " 'columntransformer-3__standardscaler': StandardScaler(),\n",
              " 'columntransformer-3__standardscaler__copy': True,\n",
              " 'columntransformer-3__standardscaler__with_mean': True,\n",
              " 'columntransformer-3__standardscaler__with_std': True,\n",
              " 'logisticregression__C': 1.0,\n",
              " 'logisticregression__class_weight': None,\n",
              " 'logisticregression__dual': False,\n",
              " 'logisticregression__fit_intercept': True,\n",
              " 'logisticregression__intercept_scaling': 1,\n",
              " 'logisticregression__l1_ratio': None,\n",
              " 'logisticregression__max_iter': 500,\n",
              " 'logisticregression__multi_class': 'auto',\n",
              " 'logisticregression__n_jobs': -1,\n",
              " 'logisticregression__penalty': None,\n",
              " 'logisticregression__random_state': 7,\n",
              " 'logisticregression__solver': 'lbfgs',\n",
              " 'logisticregression__tol': 1e-07,\n",
              " 'logisticregression__verbose': 0,\n",
              " 'logisticregression__warm_start': False}"
            ]
          },
          "metadata": {},
          "execution_count": 41
        }
      ]
    },
    {
      "cell_type": "markdown",
      "source": [
        "#### model performance"
      ],
      "metadata": {
        "id": "fz1kzSDbcqRX"
      }
    },
    {
      "cell_type": "code",
      "source": [
        "best_model = search.best_estimator_\n",
        "# calculation predictions\n",
        "ypreds = best_model.predict(xtest)\n",
        "# accuracy # percentage of correct labels relative to all prediction\n",
        "acc = accuracy_score(ytest, ypreds)\n",
        "# classification_report\n",
        "clf_rport = classification_report(ytest, ypreds)\n",
        "# f1 score = 2*recall*precision/(recall+precision)\n",
        "f1score = f1_score(ytest, ypreds, average=None)\n",
        "# Note:- f1-score metric is usefull when we deal with imbalanced dataset\n",
        "print(f\" accuracy = {acc}, \\nf1score = {f1score}, \\n\\nclassification_report = {clf_rport}\")"
      ],
      "metadata": {
        "colab": {
          "base_uri": "https://localhost:8080/"
        },
        "id": "Y0S4rINqaqiB",
        "outputId": "34316149-c658-4e04-ef82-9c4f5582d779"
      },
      "execution_count": 54,
      "outputs": [
        {
          "output_type": "stream",
          "name": "stdout",
          "text": [
            " accuracy = 0.9866666666666667, \n",
            "f1score = [0.98666667 0.98013245 0.98666667 0.99328859], \n",
            "\n",
            "classification_report =               precision    recall  f1-score   support\n",
            "\n",
            "           0       0.99      0.99      0.99        75\n",
            "           1       0.97      0.99      0.98        75\n",
            "           2       0.99      0.99      0.99        75\n",
            "           3       1.00      0.99      0.99        75\n",
            "\n",
            "    accuracy                           0.99       300\n",
            "   macro avg       0.99      0.99      0.99       300\n",
            "weighted avg       0.99      0.99      0.99       300\n",
            "\n"
          ]
        }
      ]
    },
    {
      "cell_type": "markdown",
      "source": [
        "dispite of prediction of price_range is easy given this clear simple not-complex problem and balanced output column, but number of training set is small, i suggest to increase number of training set to increase the accuracy furthure"
      ],
      "metadata": {
        "id": "l75jz8Vl_zsg"
      }
    },
    {
      "cell_type": "code",
      "execution_count": 49,
      "metadata": {
        "id": "PzqBU2NA15x4"
      },
      "outputs": [],
      "source": [
        "ypred = best_model.predict(test_data)\n",
        "index = test_data[\"id\"]\n",
        "my_submission = pd.DataFrame({'id': index, \"price_range\": ypred})\n",
        "my_submission.to_csv('submission.csv', index=False)"
      ]
    },
    {
      "cell_type": "code",
      "source": [
        "# to change to this directory\n",
        "%cd /content/drive/MyDrive/maids.cc/data/savings/\n",
        "#################################################################################\n",
        "#save and load and use model using joblib\n",
        "#################################################################################\n",
        "# # # #save the trained model to disk\n",
        "LogReg_filename = 'LogisticRegressionModel.joblib'\n",
        "# # # save the model\n",
        "#joblib.dump(best_model, LogReg_filename)\n",
        "# # # to load the model from disk\n",
        "best_model = joblib.load(LogReg_filename)\n",
        "############\n",
        "# # # inference process\n",
        "labels = best_model.predict(xtest)\n",
        "print(f\"accuracy = {float(sum(labels==ytest)/len(ytest))*100:.2f}%\")\n",
        "#################################################################################\n",
        "#################################################################################\n",
        "\n",
        "\n",
        "#################################################################################\n",
        "#save and load and use model using pickle\n",
        "#################################################################################\n",
        "# # # another way to save the trained model\n",
        "LogReg_filename = 'LogisticRegressionModel.pkl'\n",
        "# # # save the model\n",
        "#pickle.dump(best_model, open(LogReg_filename, 'wb'))\n",
        "# # # # to load the model from disk\n",
        "best_model = pickle.load(open(LogReg_filename, 'rb'))\n",
        "############################\n",
        "# # # inference process\n",
        "labels = best_model.predict(xtest)\n",
        "print(f\"accuracy = {float(sum(labels==ytest)/len(ytest))*100:.2f}%\")"
      ],
      "metadata": {
        "colab": {
          "base_uri": "https://localhost:8080/"
        },
        "id": "OCRvB-r6mRJl",
        "outputId": "2914a592-9b5a-4a17-e5a3-53e5c0372078"
      },
      "execution_count": 50,
      "outputs": [
        {
          "output_type": "stream",
          "name": "stdout",
          "text": [
            "/content/drive/MyDrive/maids.cc/data/savings\n",
            "accuracy = 98.67%\n",
            "accuracy = 98.67%\n"
          ]
        }
      ]
    },
    {
      "cell_type": "code",
      "source": [],
      "metadata": {
        "id": "6y0gxTzxQisW"
      },
      "execution_count": null,
      "outputs": []
    }
  ],
  "metadata": {
    "colab": {
      "provenance": []
    },
    "kernelspec": {
      "display_name": "Python 3",
      "name": "python3"
    },
    "language_info": {
      "name": "python"
    }
  },
  "nbformat": 4,
  "nbformat_minor": 0
}