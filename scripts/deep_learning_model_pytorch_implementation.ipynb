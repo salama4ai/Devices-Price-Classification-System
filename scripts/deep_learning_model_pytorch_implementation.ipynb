{
  "cells": [
    {
      "cell_type": "markdown",
      "metadata": {
        "id": "AQC6OjfDxmh_"
      },
      "source": [
        "# This notebook for preprocessing and deep-learning model model implemented using pytorch of the Devices-Price-Classification-System project"
      ]
    },
    {
      "cell_type": "code",
      "execution_count": 1,
      "metadata": {
        "colab": {
          "base_uri": "https://localhost:8080/"
        },
        "id": "EPHHOoL9KJT7",
        "outputId": "be6b5a0f-5f1f-4f96-969e-6cc6d247ce4b"
      },
      "outputs": [
        {
          "output_type": "stream",
          "name": "stdout",
          "text": [
            "Mounted at /content/drive\n"
          ]
        }
      ],
      "source": [
        "from google.colab import drive\n",
        "drive.mount('/content/drive')"
      ]
    },
    {
      "cell_type": "markdown",
      "metadata": {
        "id": "VmmAp68WlpZx"
      },
      "source": [
        "## importing libraries"
      ]
    },
    {
      "cell_type": "code",
      "execution_count": 2,
      "metadata": {
        "colab": {
          "base_uri": "https://localhost:8080/"
        },
        "id": "ajVUf3e6aaIk",
        "outputId": "5dcedfdd-e3be-44f9-f446-034fb3593f05"
      },
      "outputs": [
        {
          "output_type": "stream",
          "name": "stdout",
          "text": [
            "Collecting torchmetrics\n",
            "  Downloading torchmetrics-1.4.0.post0-py3-none-any.whl (868 kB)\n",
            "\u001b[?25l     \u001b[90m━━━━━━━━━━━━━━━━━━━━━━━━━━━━━━━━━━━━━━━━\u001b[0m \u001b[32m0.0/868.8 kB\u001b[0m \u001b[31m?\u001b[0m eta \u001b[36m-:--:--\u001b[0m\r\u001b[2K     \u001b[91m━━━━━━━━━━━━━━━\u001b[0m\u001b[91m╸\u001b[0m\u001b[90m━━━━━━━━━━━━━━━━━━━━━━━━\u001b[0m \u001b[32m337.9/868.8 kB\u001b[0m \u001b[31m10.1 MB/s\u001b[0m eta \u001b[36m0:00:01\u001b[0m\r\u001b[2K     \u001b[90m━━━━━━━━━━━━━━━━━━━━━━━━━━━━━━━━━━━━━━━━\u001b[0m \u001b[32m868.8/868.8 kB\u001b[0m \u001b[31m15.2 MB/s\u001b[0m eta \u001b[36m0:00:00\u001b[0m\n",
            "\u001b[?25hRequirement already satisfied: numpy>1.20.0 in /usr/local/lib/python3.10/dist-packages (from torchmetrics) (1.25.2)\n",
            "Requirement already satisfied: packaging>17.1 in /usr/local/lib/python3.10/dist-packages (from torchmetrics) (24.0)\n",
            "Requirement already satisfied: torch>=1.10.0 in /usr/local/lib/python3.10/dist-packages (from torchmetrics) (2.3.0+cu121)\n",
            "Collecting lightning-utilities>=0.8.0 (from torchmetrics)\n",
            "  Downloading lightning_utilities-0.11.2-py3-none-any.whl (26 kB)\n",
            "Requirement already satisfied: setuptools in /usr/local/lib/python3.10/dist-packages (from lightning-utilities>=0.8.0->torchmetrics) (67.7.2)\n",
            "Requirement already satisfied: typing-extensions in /usr/local/lib/python3.10/dist-packages (from lightning-utilities>=0.8.0->torchmetrics) (4.11.0)\n",
            "Requirement already satisfied: filelock in /usr/local/lib/python3.10/dist-packages (from torch>=1.10.0->torchmetrics) (3.14.0)\n",
            "Requirement already satisfied: sympy in /usr/local/lib/python3.10/dist-packages (from torch>=1.10.0->torchmetrics) (1.12)\n",
            "Requirement already satisfied: networkx in /usr/local/lib/python3.10/dist-packages (from torch>=1.10.0->torchmetrics) (3.3)\n",
            "Requirement already satisfied: jinja2 in /usr/local/lib/python3.10/dist-packages (from torch>=1.10.0->torchmetrics) (3.1.4)\n",
            "Requirement already satisfied: fsspec in /usr/local/lib/python3.10/dist-packages (from torch>=1.10.0->torchmetrics) (2023.6.0)\n",
            "Collecting nvidia-cuda-nvrtc-cu12==12.1.105 (from torch>=1.10.0->torchmetrics)\n",
            "  Using cached nvidia_cuda_nvrtc_cu12-12.1.105-py3-none-manylinux1_x86_64.whl (23.7 MB)\n",
            "Collecting nvidia-cuda-runtime-cu12==12.1.105 (from torch>=1.10.0->torchmetrics)\n",
            "  Using cached nvidia_cuda_runtime_cu12-12.1.105-py3-none-manylinux1_x86_64.whl (823 kB)\n",
            "Collecting nvidia-cuda-cupti-cu12==12.1.105 (from torch>=1.10.0->torchmetrics)\n",
            "  Using cached nvidia_cuda_cupti_cu12-12.1.105-py3-none-manylinux1_x86_64.whl (14.1 MB)\n",
            "Collecting nvidia-cudnn-cu12==8.9.2.26 (from torch>=1.10.0->torchmetrics)\n",
            "  Using cached nvidia_cudnn_cu12-8.9.2.26-py3-none-manylinux1_x86_64.whl (731.7 MB)\n",
            "Collecting nvidia-cublas-cu12==12.1.3.1 (from torch>=1.10.0->torchmetrics)\n",
            "  Using cached nvidia_cublas_cu12-12.1.3.1-py3-none-manylinux1_x86_64.whl (410.6 MB)\n",
            "Collecting nvidia-cufft-cu12==11.0.2.54 (from torch>=1.10.0->torchmetrics)\n",
            "  Using cached nvidia_cufft_cu12-11.0.2.54-py3-none-manylinux1_x86_64.whl (121.6 MB)\n",
            "Collecting nvidia-curand-cu12==10.3.2.106 (from torch>=1.10.0->torchmetrics)\n",
            "  Using cached nvidia_curand_cu12-10.3.2.106-py3-none-manylinux1_x86_64.whl (56.5 MB)\n",
            "Collecting nvidia-cusolver-cu12==11.4.5.107 (from torch>=1.10.0->torchmetrics)\n",
            "  Using cached nvidia_cusolver_cu12-11.4.5.107-py3-none-manylinux1_x86_64.whl (124.2 MB)\n",
            "Collecting nvidia-cusparse-cu12==12.1.0.106 (from torch>=1.10.0->torchmetrics)\n",
            "  Using cached nvidia_cusparse_cu12-12.1.0.106-py3-none-manylinux1_x86_64.whl (196.0 MB)\n",
            "Collecting nvidia-nccl-cu12==2.20.5 (from torch>=1.10.0->torchmetrics)\n",
            "  Using cached nvidia_nccl_cu12-2.20.5-py3-none-manylinux2014_x86_64.whl (176.2 MB)\n",
            "Collecting nvidia-nvtx-cu12==12.1.105 (from torch>=1.10.0->torchmetrics)\n",
            "  Using cached nvidia_nvtx_cu12-12.1.105-py3-none-manylinux1_x86_64.whl (99 kB)\n",
            "Requirement already satisfied: triton==2.3.0 in /usr/local/lib/python3.10/dist-packages (from torch>=1.10.0->torchmetrics) (2.3.0)\n",
            "Collecting nvidia-nvjitlink-cu12 (from nvidia-cusolver-cu12==11.4.5.107->torch>=1.10.0->torchmetrics)\n",
            "  Downloading nvidia_nvjitlink_cu12-12.5.40-py3-none-manylinux2014_x86_64.whl (21.3 MB)\n",
            "\u001b[2K     \u001b[90m━━━━━━━━━━━━━━━━━━━━━━━━━━━━━━━━━━━━━━━━\u001b[0m \u001b[32m21.3/21.3 MB\u001b[0m \u001b[31m48.1 MB/s\u001b[0m eta \u001b[36m0:00:00\u001b[0m\n",
            "\u001b[?25hRequirement already satisfied: MarkupSafe>=2.0 in /usr/local/lib/python3.10/dist-packages (from jinja2->torch>=1.10.0->torchmetrics) (2.1.5)\n",
            "Requirement already satisfied: mpmath>=0.19 in /usr/local/lib/python3.10/dist-packages (from sympy->torch>=1.10.0->torchmetrics) (1.3.0)\n",
            "Installing collected packages: nvidia-nvtx-cu12, nvidia-nvjitlink-cu12, nvidia-nccl-cu12, nvidia-curand-cu12, nvidia-cufft-cu12, nvidia-cuda-runtime-cu12, nvidia-cuda-nvrtc-cu12, nvidia-cuda-cupti-cu12, nvidia-cublas-cu12, lightning-utilities, nvidia-cusparse-cu12, nvidia-cudnn-cu12, nvidia-cusolver-cu12, torchmetrics\n",
            "Successfully installed lightning-utilities-0.11.2 nvidia-cublas-cu12-12.1.3.1 nvidia-cuda-cupti-cu12-12.1.105 nvidia-cuda-nvrtc-cu12-12.1.105 nvidia-cuda-runtime-cu12-12.1.105 nvidia-cudnn-cu12-8.9.2.26 nvidia-cufft-cu12-11.0.2.54 nvidia-curand-cu12-10.3.2.106 nvidia-cusolver-cu12-11.4.5.107 nvidia-cusparse-cu12-12.1.0.106 nvidia-nccl-cu12-2.20.5 nvidia-nvjitlink-cu12-12.5.40 nvidia-nvtx-cu12-12.1.105 torchmetrics-1.4.0.post0\n"
          ]
        }
      ],
      "source": [
        "# installing torchmetrics library to our colab notebook\n",
        "!pip install torchmetrics\n",
        "\n",
        "# importing the libraries\n",
        "import os\n",
        "import random\n",
        "import numpy as np\n",
        "import pandas as pd\n",
        "from matplotlib import pyplot as plt\n",
        "import time\n",
        "from tqdm import tqdm\n",
        "import joblib\n",
        "import pickle\n",
        "from matplotlib.pyplot import figure\n",
        "import seaborn as sns\n",
        "from sklearn.preprocessing import OneHotEncoder\n",
        "from sklearn.compose import make_column_transformer, make_column_selector\n",
        "from sklearn.model_selection import train_test_split\n",
        "from sklearn.pipeline import make_pipeline\n",
        "from sklearn.metrics import accuracy_score, mean_squared_error, mean_absolute_error, f1_score\n",
        "from sklearn.preprocessing import StandardScaler, MinMaxScaler\n",
        "from sklearn.model_selection import GridSearchCV\n",
        "from sklearn.feature_selection import SelectKBest\n",
        "# explicitly require this experimental feature\n",
        "from sklearn.experimental import enable_iterative_imputer  # noqa\n",
        "# now you can import normally from sklearn.impute\n",
        "from sklearn.impute import IterativeImputer\n",
        "import torch\n",
        "import torch.nn as nn\n",
        "import torch.nn.functional as F\n",
        "from torch.utils.data import Dataset, DataLoader, TensorDataset\n",
        "from torchmetrics.classification import Accuracy, MulticlassF1Score#, ConfusionMatrix"
      ]
    },
    {
      "cell_type": "code",
      "execution_count": 91,
      "metadata": {
        "colab": {
          "base_uri": "https://localhost:8080/"
        },
        "id": "KmmhSZl2NboD",
        "outputId": "4a71f602-386d-47db-893b-55f7933035ad"
      },
      "outputs": [
        {
          "output_type": "stream",
          "name": "stdout",
          "text": [
            "using version 2.3.0+cu121\n"
          ]
        }
      ],
      "source": [
        "device = torch.device(\"cuda\" if torch.cuda.is_available() else \"cpu\")\n",
        "\n",
        "# printing pytorch version as this point may affect the reproducability if diffrent pytorch version used\n",
        "print(f'using version {torch.__version__}')\n",
        "\n",
        "# This function to be able to reproduce the same numbers in the future, by fixing\n",
        "# the algorithms parameters that lead to generate the same random numbers\n",
        "\n",
        "# fix random number generation aka regenerate the same random numbers every time (such as weight and bias initialization )\n",
        "def set_random_seed(seed=7, deterministic=True):\n",
        "    \"\"\"Set random seed, for python, numpy, pytorch\n",
        "\n",
        "    Args:\n",
        "        seed (int): Seed to be used.\n",
        "        deterministic (bool): Whether to set the deterministic option for\n",
        "            CUDNN backend, i.e., set `torch.backends.cudnn.deterministic`\n",
        "            to True and `torch.backends.cudnn.benchmark` to False.\n",
        "            Default: True.\n",
        "    \"\"\"\n",
        "    # set seed for python random numbers.\n",
        "    random.seed(seed)\n",
        "    # set seed for numpy random numbers.\n",
        "    np.random.seed(seed)\n",
        "    # set seed for pytorch random numbers.\n",
        "    torch.manual_seed(seed)\n",
        "    # set seed for cuda.\n",
        "    torch.cuda.manual_seed_all(seed)\n",
        "    if deterministic:\n",
        "        torch.backends.cudnn.deterministic = True\n",
        "        torch.backends.cudnn.benchmark = False\n",
        "\n",
        "# select random seed number\n",
        "seed=7\n",
        "# call the function\n",
        "set_random_seed(seed=seed)"
      ]
    },
    {
      "cell_type": "markdown",
      "metadata": {
        "id": "rt-EjR4qmSWr"
      },
      "source": [
        "## load data"
      ]
    },
    {
      "cell_type": "code",
      "execution_count": 92,
      "metadata": {
        "id": "PUR3ELTFmpXW"
      },
      "outputs": [],
      "source": [
        "df = pd.read_csv(\"/content/drive/MyDrive/maids.cc/data/train - train.csv\")\n",
        "test_data = pd.read_csv(\"/content/drive/MyDrive/maids.cc/data/test - test.csv\")"
      ]
    },
    {
      "cell_type": "markdown",
      "metadata": {
        "id": "ie5tOwq_4X04"
      },
      "source": [
        "split the label column from the feature columns"
      ]
    },
    {
      "cell_type": "code",
      "execution_count": 93,
      "metadata": {
        "id": "rTfthDaP3X2J"
      },
      "outputs": [],
      "source": [
        "\n",
        "# label column naming it (y)\n",
        "y = df[\"price_range\"]\n",
        "#feature columns naming them x\n",
        "x = df.drop(\"price_range\", axis=1)\n",
        "#y.shape, x.shape"
      ]
    },
    {
      "cell_type": "markdown",
      "metadata": {
        "id": "qt6OFy2w47YS"
      },
      "source": [
        "#### using train test split function to split the training data into training and validation set"
      ]
    },
    {
      "cell_type": "code",
      "execution_count": 94,
      "metadata": {
        "id": "zVJzSOmc4vJK"
      },
      "outputs": [],
      "source": [
        "from sklearn.model_selection import train_test_split\n",
        "xtrain_unprocessed, xtest_unprocessed, ytrain, ytest = train_test_split(\n",
        "    x, y, test_size=0.15, random_state=seed, stratify=y, shuffle=True)"
      ]
    },
    {
      "cell_type": "code",
      "execution_count": 95,
      "metadata": {
        "id": "HuiKKRJjTlg6"
      },
      "outputs": [],
      "source": [
        "## initializing the one_hot_encoder\n",
        "#one_hot_encoder = OneHotEncoder(handle_unknown='ignore', sparse_output=False)\n",
        "## apply transformation\n",
        "#ytrain = one_hot_encoder.fit_transform(ytrain_unprocessed)\n",
        "#ytest = one_hot_encoder.transform(ytest_unprocessed)\n",
        "##ytrain.shape"
      ]
    },
    {
      "cell_type": "markdown",
      "metadata": {
        "id": "FfOl5Uu45DHM"
      },
      "source": [
        "we will do all the preprocessing steps using the make_column_transformer this has many advantages, such as we can involve the preprocessing step in the fine tuning process, and we dont need the repeat the same steps for testing data step by step"
      ]
    },
    {
      "cell_type": "code",
      "execution_count": 96,
      "metadata": {
        "id": "4m4M8y0KK6J_"
      },
      "outputs": [],
      "source": [
        "preprocessor_1 = make_column_transformer((MinMaxScaler(feature_range=(0, 3)), [\"ram\"]),\n",
        "                                          remainder=\"passthrough\")\n",
        "\n",
        "preprocessor_2 = make_column_transformer(\n",
        "    #(KNNImputer(), slice(0, k)),  # test this choice, but it leads to poor results\n",
        "     (IterativeImputer(random_state=seed, tol=1e-5, max_iter=55), slice(0, 20)),\n",
        "     remainder=\"passthrough\")\n",
        "\n",
        "preprocessor_3 = make_column_transformer((StandardScaler(), slice(1, 20)),\n",
        "                                         remainder=\"passthrough\")\n",
        "\n",
        "# by the way deep-learning can deal with unscaled features, but anyway i did StandardScaler, MinMaxScaler steps"
      ]
    },
    {
      "cell_type": "markdown",
      "metadata": {
        "id": "tQxk1thnzf4S"
      },
      "source": [
        "#### machine learning is a search problem"
      ]
    },
    {
      "cell_type": "code",
      "execution_count": 97,
      "metadata": {
        "id": "8hE4eKYfK55O"
      },
      "outputs": [],
      "source": [
        "\n",
        "pipe = make_pipeline(preprocessor_1, preprocessor_2, preprocessor_3)\n",
        "\n",
        "# apply the needed transformations over the training data\n",
        "xtrain = pipe.fit_transform(xtrain_unprocessed)\n",
        "\n",
        "# apply the needed transformations over the testing data\n",
        "xtest = pipe.transform(xtest_unprocessed)"
      ]
    },
    {
      "cell_type": "code",
      "execution_count": 98,
      "metadata": {
        "id": "P6rGheIAArUu"
      },
      "outputs": [],
      "source": [
        "\n",
        "class CollectedData(Dataset):\n",
        "    '''create the class to deal with the data convert them into torch tensors, getting the data item and getting the length of the data'''\n",
        "\n",
        "    def __init__(self, x, y):\n",
        "        self.data = torch.tensor(x, dtype=torch.float32)\n",
        "        self.label = torch.tensor(y.values)\n",
        "        self.n_smpl = x.shape[0]\n",
        "\n",
        "\n",
        "    def __getitem__(self, idx):\n",
        "        '''return the data sample given the index'''\n",
        "\n",
        "        # return the features and the corresponding label of the given index\n",
        "        # i convert them to float to solve an error appears while train the model\n",
        "        return (self.data[idx].float(), self.label[idx]#.float()\n",
        "        )\n",
        "\n",
        "    def __len__(self):\n",
        "        '''function to return the length of the dataset'''\n",
        "\n",
        "        # return the length of the dataset\n",
        "        return self.n_smpl\n",
        "\n",
        "#compine the features and the corresponding labels into one object\n",
        "train_set = CollectedData(xtrain, ytrain)\n",
        "\n",
        "#compine the features and the corresponding labels into one object\n",
        "test_set = CollectedData(xtest, ytest)"
      ]
    },
    {
      "cell_type": "code",
      "execution_count": 99,
      "metadata": {
        "id": "VlgjN9U9A4lc"
      },
      "outputs": [],
      "source": [
        "## almost the same result of the brevious cell, using another way.\n",
        "# # train_set, test_set = torch.utils.data.random_split(dataset, [len(dataset)-test_len, int(len(dataset)*0.2)])\n",
        "\n",
        "train_labels = torch.tensor(ytrain.values.astype(np.int64))\n",
        "test_labels = torch.tensor(ytest.values.astype(np.int64))\n",
        "train_input = torch.tensor(xtrain.astype(np.float32))\n",
        "test_input = torch.tensor(xtest.astype(np.float32))\n",
        "\n",
        "train_set = TensorDataset(train_input, train_labels)\n",
        "test_set = TensorDataset(test_input, test_labels)\n"
      ]
    },
    {
      "cell_type": "code",
      "execution_count": 107,
      "metadata": {
        "id": "oIAP1h5YBAzE"
      },
      "outputs": [],
      "source": [
        "num_classes=4\n",
        "\n",
        "#initializing accuracy function\n",
        "accuracy = Accuracy(task=\"multiclass\", num_classes=num_classes)\n",
        "\n",
        "#initializing mean-square-error function\n",
        "cross_entropy_loss = nn.CrossEntropyLoss()\n",
        "\n",
        "#initializing f1score function\n",
        "f1score = MulticlassF1Score(num_classes=num_classes, average='micro')\n",
        "\n",
        "# evaluate the performance using the accuracy, mean-square-error and f1score pytorch functions\n",
        "@torch.no_grad()\n",
        "def evaluate_model(model, data_loader):\n",
        "    '''this function is to evaluate the performance of the model using R2Score and mean-square-error pytorch functions'''\n",
        "\n",
        "    # Set the model to eval mode while validating\n",
        "    model.eval()\n",
        "\n",
        "    # initialize the labels and preds and transfering them to device(cpu or gpu)\n",
        "    labels = torch.tensor([], dtype=torch.long).to(device)\n",
        "    predictions = torch.tensor([], dtype=torch.float).to(device)\n",
        "\n",
        "    # starting the loop over data\n",
        "    for features, label in data_loader:\n",
        "\n",
        "        # transfering data to cuda\n",
        "        features = features.to(device=device)\n",
        "\n",
        "        # concatenate all the labels\n",
        "        labels = torch.cat((labels, label), dim=0)\n",
        "        #print(f\"labels shape:-- {labels.shape}\")\n",
        "\n",
        "        # get the model predictions of the given data and flatten them\n",
        "        preds = model(features)#.argmax(dim=1).reshape(-1) # the preds.shape must be [number_of_samples] incase of some metrics\n",
        "        predictions = torch.cat((predictions, preds), dim=0)\n",
        "\n",
        "    #print(f\"preds shape  {preds.shape}\")\n",
        "    #print(f\"Shape of predictions: {predictions.shape}\")\n",
        "    #print(f\"Shape of labels: {labels.shape}\")\n",
        "    #print(f\"dtype of labels: {labels.dtype}\")\n",
        "\n",
        "    # calculate cross_entropy_loss\n",
        "    cross_entropy_loss_evaluation = cross_entropy_loss(predictions, labels)\n",
        "\n",
        "    # calculate accuracy\n",
        "    accuracy_evaluation = accuracy(predictions.argmax(dim=1), labels)\n",
        "\n",
        "    # calculate f1score\n",
        "    f1score_evaluation = f1score(predictions.argmax(dim=1), labels)\n",
        "\n",
        "    #print(f1score_evaluation.shape, accuracy_evaluation.shape, cross_entropy_loss_evaluation.shape)\n",
        "    #print(f1score_evaluation, accuracy_evaluation, cross_entropy_loss_evaluation)\n",
        "\n",
        "    # evaluation metrics\n",
        "    model_evaluations = np.array([accuracy_evaluation,\n",
        "                                  cross_entropy_loss_evaluation,\n",
        "                                  f1score_evaluation])\n",
        "\n",
        "    # return the model to the train mode.\n",
        "    model.train()\n",
        "\n",
        "    # return the model_evaluations result\n",
        "    return model_evaluations\n",
        "\n",
        "#evaluate_model(model, data_loader=test_loader)"
      ]
    },
    {
      "cell_type": "code",
      "execution_count": 108,
      "metadata": {
        "id": "3X-I6OxsLKOv"
      },
      "outputs": [],
      "source": [
        "class network(nn.Module):\n",
        "    '''create the structure of the model'''\n",
        "\n",
        "    def __init__(self, in_features=20, out_features=4):\n",
        "        '''like a class constructor function or initialization'''\n",
        "\n",
        "        super().__init__()\n",
        "        self.fc1  = nn.Linear(in_features, 21)\n",
        "        self.fc2 = nn.Linear(self.fc1.out_features, 21)\n",
        "        self.fc3 = nn.Linear(self.fc2.out_features, 21)\n",
        "        self.fc4 = nn.Linear(self.fc3.out_features, 21)\n",
        "        self.fc5 = nn.Linear(self.fc4.out_features, 21)\n",
        "        #self.fc6 = nn.Linear(self.fc5.out_features, 21)\n",
        "        #self.fc7 = nn.Linear(self.fc6.out_features, 21)\n",
        "        #self.fc8 = nn.Linear(self.fc7.out_features, 21)\n",
        "        #self.fc9 = nn.Linear(self.fc8.out_features, 21)\n",
        "        #self.fc10 = nn.Linear(self.fc9.out_features, 21)\n",
        "        self.fc_output_layer = nn.Linear(self.fc4.out_features, out_features=4)\n",
        "        # initialize the model parameters(weights, bias)\n",
        "        self.initialize_weights()\n",
        "\n",
        "    def forward(self, features):\n",
        "        '''this the forward path of the model'''\n",
        "        # i used different activation functions to enable the model to select the output without limitation of any activation function\n",
        "\n",
        "        out = F.leaky_relu(self.fc1(features))\n",
        "        out = F.tanh(self.fc2(out))\n",
        "        out = F.relu(self.fc3(out))\n",
        "        out = F.tanh(self.fc4(out))\n",
        "        #out = F.tanh(self.fc5(out))\n",
        "        #out = F.relu(self.fc6(out))\n",
        "        #out = F.tanh(self.fc7(out))\n",
        "        #out = F.relu(self.fc8(out))\n",
        "        #out = F.tanh(self.fc9(out))\n",
        "        #out = F.relu(self.fc10(out))\n",
        "        out =(#F.softmax(\n",
        "              self.fc_output_layer(out)\n",
        "              #, dim=1)\n",
        "             )\n",
        "        return out\n",
        "\n",
        "    def initialize_weights(self):\n",
        "        '''initialize the model parameters(W, b)'''\n",
        "\n",
        "        for m in self.modules():\n",
        "            if isinstance(m, nn.Linear):\n",
        "                nn.init.kaiming_uniform_(m.weight)\n",
        "                nn.init.constant_(m.bias, 0)\n",
        "\n",
        "# initializing the model and convert it to device(gpu or cpu)\n",
        "model = network().to(device)"
      ]
    },
    {
      "cell_type": "code",
      "execution_count": 109,
      "metadata": {
        "id": "eJmx9uZcBKPn"
      },
      "outputs": [],
      "source": [
        " # define the training function.\n",
        "def train_model(num_epochs, data_loader):\n",
        "\n",
        "    # set the number of batches to be the length of 'data_loader'\n",
        "    num_batches = len(data_loader)\n",
        "\n",
        "    # print the hyperparameters informations that the model going to train based on.\n",
        "    print(f\"\"\"batch_size = {batch_size} \\n starting learning rate = {learning_rate} \\n number of epochs = {num_epochs}\\\n",
        "    \\n number of batches = {num_batches} \\n model = {model}, \\n criterion={criterion}, \\n optimizer={optimizer}\"\"\")\n",
        "\n",
        "    # initialize lists to save the training and testing validation progress to be able to plot the results later\n",
        "    evaluations_progress = np.empty(shape=(num_epochs, 2, 3), dtype=np.float32)\n",
        "\n",
        "    # return the model to the train mode.\n",
        "    model.train()\n",
        "\n",
        "    # start the epochs loop\n",
        "    for epoch in range(num_epochs):\n",
        "\n",
        "        # printing out the time which the model starts, to be able to calculate the minuts it take\n",
        "        start_time = time.time()\n",
        "\n",
        "        # initialize progress function that display the progress of the training.\n",
        "        progress = tqdm(enumerate(data_loader), total=num_batches, leave=True)\n",
        "\n",
        "        # starting the training loop for each epoch\n",
        "        for batch_idx, (features, labels) in progress:\n",
        "\n",
        "            # convert data to device\n",
        "            features = features.to(device=device)\n",
        "\n",
        "            # convert labels to device\n",
        "            labels = labels.to(device=device)\n",
        "\n",
        "            # calculate the predictions.\n",
        "            output = model(features)#.argmax(dim=1).reshape(-1).float()   # reshape(-1 or 0 -the same-) is just as the r2score produce tensor of output shape [batch_size, 1] so to make it's output shape is just [batch_size], i.e flatten it\n",
        "\n",
        "            # calculate the loss.\n",
        "            loss = criterion(output, labels)\n",
        "\n",
        "            # back propagation calculations\n",
        "            optimizer.zero_grad()\n",
        "            loss.backward()\n",
        "\n",
        "            # optimization step\n",
        "            optimizer.step()\n",
        "\n",
        "            # determine the information to be showed while training progress and show it\n",
        "            progress.set_description(f\"epoch [{1+epoch}/{num_epochs}], loss={loss.item():0.4f}\")\n",
        "            progress.set_postfix()\n",
        "\n",
        "        # calculate the training evaluations\n",
        "        train_evaluations = evaluate_model(model, data_loader=train_loader)\n",
        "\n",
        "        # calculate the test evaluations\n",
        "        test_evaluations = evaluate_model(model, data_loader=test_loader)\n",
        "\n",
        "        # take learning-rate schedular step\n",
        "        schedular.step(test_evaluations[2])\n",
        "        # printing the important information about the training progress\n",
        "        print(f\"after {1+epoch} epoch, learning_rate= {learning_rate} \\ntrain-data evaluation:- acc = {test_evaluations[0]:.5f}, CrossEntropyLoss = {test_evaluations[1]:.2f}, f1score = {test_evaluations[2]:.5f}\\\n",
        "        \\ntest-data evaluation:- acc = {test_evaluations[0]:.5f}, CrossEntropyLoss = {test_evaluations[1]:.2f}, f1score = {test_evaluations[2]:.5f}\\\n",
        "        time_elapsed = {((time.time()-start_time)/60):.1f} minuts. \\n\",\"-\"*119)\n",
        "\n",
        "        # add the training evaluations to a list to be able to visulaize the over all progress after the training completed\n",
        "        evaluations_progress[epoch, 0, :] = train_evaluations\n",
        "\n",
        "        # the same but for the test evaluations\n",
        "        evaluations_progress[epoch, 1, :] = test_evaluations\n",
        "\n",
        "    # return test_eval_progress and train_eval_progress after the training completed\n",
        "    return evaluations_progress"
      ]
    },
    {
      "cell_type": "code",
      "execution_count": 112,
      "metadata": {
        "id": "PDrwaxTWMjAF",
        "colab": {
          "base_uri": "https://localhost:8080/"
        },
        "outputId": "83117caa-77a6-45e2-818a-91d38063391d"
      },
      "outputs": [
        {
          "output_type": "stream",
          "name": "stdout",
          "text": [
            "network(\n",
            "  (fc1): Linear(in_features=20, out_features=21, bias=True)\n",
            "  (fc2): Linear(in_features=21, out_features=21, bias=True)\n",
            "  (fc3): Linear(in_features=21, out_features=21, bias=True)\n",
            "  (fc4): Linear(in_features=21, out_features=21, bias=True)\n",
            "  (fc5): Linear(in_features=21, out_features=21, bias=True)\n",
            "  (fc_output_layer): Linear(in_features=21, out_features=4, bias=True)\n",
            ")\n",
            "batch_size = 2000 \n",
            " starting learning rate = 0.017 \n",
            " number of epochs = 100   \n",
            " number of batches = 1 \n",
            " model = network(\n",
            "  (fc1): Linear(in_features=20, out_features=21, bias=True)\n",
            "  (fc2): Linear(in_features=21, out_features=21, bias=True)\n",
            "  (fc3): Linear(in_features=21, out_features=21, bias=True)\n",
            "  (fc4): Linear(in_features=21, out_features=21, bias=True)\n",
            "  (fc5): Linear(in_features=21, out_features=21, bias=True)\n",
            "  (fc_output_layer): Linear(in_features=21, out_features=4, bias=True)\n",
            "), \n",
            " criterion=CrossEntropyLoss(), \n",
            " optimizer=Adam (\n",
            "Parameter Group 0\n",
            "    amsgrad: False\n",
            "    betas: (0.9, 0.999)\n",
            "    capturable: False\n",
            "    differentiable: False\n",
            "    eps: 1e-08\n",
            "    foreach: None\n",
            "    fused: None\n",
            "    lr: 0.017\n",
            "    maximize: False\n",
            "    weight_decay: 0\n",
            ")\n"
          ]
        },
        {
          "output_type": "stream",
          "name": "stderr",
          "text": [
            "epoch [1/100], loss=1.8757: 100%|██████████| 1/1 [00:00<00:00, 42.11it/s]\n"
          ]
        },
        {
          "output_type": "stream",
          "name": "stdout",
          "text": [
            "after 1 epoch, learning_rate= 0.017 \n",
            "train-data evaluation:- acc = 0.27333, CrossEntropyLoss = 1.60, f1score = 0.27333       \n",
            "test-data evaluation:- acc = 0.27333, CrossEntropyLoss = 1.60, f1score = 0.27333       time_elapsed = 0.0 minuts. \n",
            " -----------------------------------------------------------------------------------------------------------------------\n"
          ]
        },
        {
          "output_type": "stream",
          "name": "stderr",
          "text": [
            "epoch [2/100], loss=1.5958: 100%|██████████| 1/1 [00:00<00:00, 40.23it/s]\n"
          ]
        },
        {
          "output_type": "stream",
          "name": "stdout",
          "text": [
            "after 2 epoch, learning_rate= 0.017 \n",
            "train-data evaluation:- acc = 0.29667, CrossEntropyLoss = 1.51, f1score = 0.29667       \n",
            "test-data evaluation:- acc = 0.29667, CrossEntropyLoss = 1.51, f1score = 0.29667       time_elapsed = 0.0 minuts. \n",
            " -----------------------------------------------------------------------------------------------------------------------\n"
          ]
        },
        {
          "output_type": "stream",
          "name": "stderr",
          "text": [
            "epoch [3/100], loss=1.5043: 100%|██████████| 1/1 [00:00<00:00, 37.34it/s]\n"
          ]
        },
        {
          "output_type": "stream",
          "name": "stdout",
          "text": [
            "after 3 epoch, learning_rate= 0.017 \n",
            "train-data evaluation:- acc = 0.29333, CrossEntropyLoss = 1.44, f1score = 0.29333       \n",
            "test-data evaluation:- acc = 0.29333, CrossEntropyLoss = 1.44, f1score = 0.29333       time_elapsed = 0.0 minuts. \n",
            " -----------------------------------------------------------------------------------------------------------------------\n"
          ]
        },
        {
          "output_type": "stream",
          "name": "stderr",
          "text": [
            "epoch [4/100], loss=1.4066: 100%|██████████| 1/1 [00:00<00:00, 37.59it/s]\n"
          ]
        },
        {
          "output_type": "stream",
          "name": "stdout",
          "text": [
            "after 4 epoch, learning_rate= 0.017 \n",
            "train-data evaluation:- acc = 0.32667, CrossEntropyLoss = 1.41, f1score = 0.32667       \n",
            "test-data evaluation:- acc = 0.32667, CrossEntropyLoss = 1.41, f1score = 0.32667       time_elapsed = 0.0 minuts. \n",
            " -----------------------------------------------------------------------------------------------------------------------\n"
          ]
        },
        {
          "output_type": "stream",
          "name": "stderr",
          "text": [
            "epoch [5/100], loss=1.3608: 100%|██████████| 1/1 [00:00<00:00, 38.67it/s]\n"
          ]
        },
        {
          "output_type": "stream",
          "name": "stdout",
          "text": [
            "after 5 epoch, learning_rate= 0.017 \n",
            "train-data evaluation:- acc = 0.34000, CrossEntropyLoss = 1.37, f1score = 0.34000       \n",
            "test-data evaluation:- acc = 0.34000, CrossEntropyLoss = 1.37, f1score = 0.34000       time_elapsed = 0.0 minuts. \n",
            " -----------------------------------------------------------------------------------------------------------------------\n"
          ]
        },
        {
          "output_type": "stream",
          "name": "stderr",
          "text": [
            "epoch [6/100], loss=1.3172: 100%|██████████| 1/1 [00:00<00:00, 38.80it/s]\n"
          ]
        },
        {
          "output_type": "stream",
          "name": "stdout",
          "text": [
            "after 6 epoch, learning_rate= 0.017 \n",
            "train-data evaluation:- acc = 0.32000, CrossEntropyLoss = 1.33, f1score = 0.32000       \n",
            "test-data evaluation:- acc = 0.32000, CrossEntropyLoss = 1.33, f1score = 0.32000       time_elapsed = 0.0 minuts. \n",
            " -----------------------------------------------------------------------------------------------------------------------\n"
          ]
        },
        {
          "output_type": "stream",
          "name": "stderr",
          "text": [
            "epoch [7/100], loss=1.2750: 100%|██████████| 1/1 [00:00<00:00, 37.77it/s]\n"
          ]
        },
        {
          "output_type": "stream",
          "name": "stdout",
          "text": [
            "after 7 epoch, learning_rate= 0.017 \n",
            "train-data evaluation:- acc = 0.35000, CrossEntropyLoss = 1.30, f1score = 0.35000       \n",
            "test-data evaluation:- acc = 0.35000, CrossEntropyLoss = 1.30, f1score = 0.35000       time_elapsed = 0.0 minuts. \n",
            " -----------------------------------------------------------------------------------------------------------------------\n"
          ]
        },
        {
          "output_type": "stream",
          "name": "stderr",
          "text": [
            "epoch [8/100], loss=1.2372: 100%|██████████| 1/1 [00:00<00:00, 39.26it/s]\n"
          ]
        },
        {
          "output_type": "stream",
          "name": "stdout",
          "text": [
            "after 8 epoch, learning_rate= 0.017 \n",
            "train-data evaluation:- acc = 0.39333, CrossEntropyLoss = 1.27, f1score = 0.39333       \n",
            "test-data evaluation:- acc = 0.39333, CrossEntropyLoss = 1.27, f1score = 0.39333       time_elapsed = 0.0 minuts. \n",
            " -----------------------------------------------------------------------------------------------------------------------\n"
          ]
        },
        {
          "output_type": "stream",
          "name": "stderr",
          "text": [
            "epoch [9/100], loss=1.2018: 100%|██████████| 1/1 [00:00<00:00, 39.03it/s]\n"
          ]
        },
        {
          "output_type": "stream",
          "name": "stdout",
          "text": [
            "after 9 epoch, learning_rate= 0.017 \n",
            "train-data evaluation:- acc = 0.39667, CrossEntropyLoss = 1.23, f1score = 0.39667       \n",
            "test-data evaluation:- acc = 0.39667, CrossEntropyLoss = 1.23, f1score = 0.39667       time_elapsed = 0.0 minuts. \n",
            " -----------------------------------------------------------------------------------------------------------------------\n"
          ]
        },
        {
          "output_type": "stream",
          "name": "stderr",
          "text": [
            "epoch [10/100], loss=1.1632: 100%|██████████| 1/1 [00:00<00:00, 41.75it/s]\n"
          ]
        },
        {
          "output_type": "stream",
          "name": "stdout",
          "text": [
            "after 10 epoch, learning_rate= 0.017 \n",
            "train-data evaluation:- acc = 0.42000, CrossEntropyLoss = 1.18, f1score = 0.42000       \n",
            "test-data evaluation:- acc = 0.42000, CrossEntropyLoss = 1.18, f1score = 0.42000       time_elapsed = 0.0 minuts. \n",
            " -----------------------------------------------------------------------------------------------------------------------\n"
          ]
        },
        {
          "output_type": "stream",
          "name": "stderr",
          "text": [
            "epoch [11/100], loss=1.1200: 100%|██████████| 1/1 [00:00<00:00, 38.40it/s]\n"
          ]
        },
        {
          "output_type": "stream",
          "name": "stdout",
          "text": [
            "after 11 epoch, learning_rate= 0.017 \n",
            "train-data evaluation:- acc = 0.45000, CrossEntropyLoss = 1.13, f1score = 0.45000       \n",
            "test-data evaluation:- acc = 0.45000, CrossEntropyLoss = 1.13, f1score = 0.45000       time_elapsed = 0.0 minuts. \n",
            " -----------------------------------------------------------------------------------------------------------------------\n"
          ]
        },
        {
          "output_type": "stream",
          "name": "stderr",
          "text": [
            "epoch [12/100], loss=1.0713: 100%|██████████| 1/1 [00:00<00:00, 38.71it/s]\n"
          ]
        },
        {
          "output_type": "stream",
          "name": "stdout",
          "text": [
            "after 12 epoch, learning_rate= 0.017 \n",
            "train-data evaluation:- acc = 0.50667, CrossEntropyLoss = 1.08, f1score = 0.50667       \n",
            "test-data evaluation:- acc = 0.50667, CrossEntropyLoss = 1.08, f1score = 0.50667       time_elapsed = 0.0 minuts. \n",
            " -----------------------------------------------------------------------------------------------------------------------\n"
          ]
        },
        {
          "output_type": "stream",
          "name": "stderr",
          "text": [
            "epoch [13/100], loss=1.0203: 100%|██████████| 1/1 [00:00<00:00, 36.48it/s]\n"
          ]
        },
        {
          "output_type": "stream",
          "name": "stdout",
          "text": [
            "after 13 epoch, learning_rate= 0.017 \n",
            "train-data evaluation:- acc = 0.54000, CrossEntropyLoss = 1.03, f1score = 0.54000       \n",
            "test-data evaluation:- acc = 0.54000, CrossEntropyLoss = 1.03, f1score = 0.54000       time_elapsed = 0.0 minuts. \n",
            " -----------------------------------------------------------------------------------------------------------------------\n"
          ]
        },
        {
          "output_type": "stream",
          "name": "stderr",
          "text": [
            "epoch [14/100], loss=0.9766: 100%|██████████| 1/1 [00:00<00:00, 30.87it/s]\n"
          ]
        },
        {
          "output_type": "stream",
          "name": "stdout",
          "text": [
            "after 14 epoch, learning_rate= 0.017 \n",
            "train-data evaluation:- acc = 0.56333, CrossEntropyLoss = 0.99, f1score = 0.56333       \n",
            "test-data evaluation:- acc = 0.56333, CrossEntropyLoss = 0.99, f1score = 0.56333       time_elapsed = 0.0 minuts. \n",
            " -----------------------------------------------------------------------------------------------------------------------\n"
          ]
        },
        {
          "output_type": "stream",
          "name": "stderr",
          "text": [
            "epoch [15/100], loss=0.9348: 100%|██████████| 1/1 [00:00<00:00, 41.05it/s]\n"
          ]
        },
        {
          "output_type": "stream",
          "name": "stdout",
          "text": [
            "after 15 epoch, learning_rate= 0.017 \n",
            "train-data evaluation:- acc = 0.59333, CrossEntropyLoss = 0.94, f1score = 0.59333       \n",
            "test-data evaluation:- acc = 0.59333, CrossEntropyLoss = 0.94, f1score = 0.59333       time_elapsed = 0.0 minuts. \n",
            " -----------------------------------------------------------------------------------------------------------------------\n"
          ]
        },
        {
          "output_type": "stream",
          "name": "stderr",
          "text": [
            "epoch [16/100], loss=0.8825: 100%|██████████| 1/1 [00:00<00:00, 39.71it/s]\n"
          ]
        },
        {
          "output_type": "stream",
          "name": "stdout",
          "text": [
            "after 16 epoch, learning_rate= 0.017 \n",
            "train-data evaluation:- acc = 0.58667, CrossEntropyLoss = 0.89, f1score = 0.58667       \n",
            "test-data evaluation:- acc = 0.58667, CrossEntropyLoss = 0.89, f1score = 0.58667       time_elapsed = 0.0 minuts. \n",
            " -----------------------------------------------------------------------------------------------------------------------\n"
          ]
        },
        {
          "output_type": "stream",
          "name": "stderr",
          "text": [
            "epoch [17/100], loss=0.8297: 100%|██████████| 1/1 [00:00<00:00, 32.19it/s]\n"
          ]
        },
        {
          "output_type": "stream",
          "name": "stdout",
          "text": [
            "after 17 epoch, learning_rate= 0.017 \n",
            "train-data evaluation:- acc = 0.61667, CrossEntropyLoss = 0.84, f1score = 0.61667       \n",
            "test-data evaluation:- acc = 0.61667, CrossEntropyLoss = 0.84, f1score = 0.61667       time_elapsed = 0.0 minuts. \n",
            " -----------------------------------------------------------------------------------------------------------------------\n"
          ]
        },
        {
          "output_type": "stream",
          "name": "stderr",
          "text": [
            "epoch [18/100], loss=0.7812: 100%|██████████| 1/1 [00:00<00:00, 40.41it/s]\n"
          ]
        },
        {
          "output_type": "stream",
          "name": "stdout",
          "text": [
            "after 18 epoch, learning_rate= 0.017 \n",
            "train-data evaluation:- acc = 0.63000, CrossEntropyLoss = 0.79, f1score = 0.63000       \n",
            "test-data evaluation:- acc = 0.63000, CrossEntropyLoss = 0.79, f1score = 0.63000       time_elapsed = 0.0 minuts. \n",
            " -----------------------------------------------------------------------------------------------------------------------\n"
          ]
        },
        {
          "output_type": "stream",
          "name": "stderr",
          "text": [
            "epoch [19/100], loss=0.7380: 100%|██████████| 1/1 [00:00<00:00, 40.78it/s]\n"
          ]
        },
        {
          "output_type": "stream",
          "name": "stdout",
          "text": [
            "after 19 epoch, learning_rate= 0.017 \n",
            "train-data evaluation:- acc = 0.65667, CrossEntropyLoss = 0.75, f1score = 0.65667       \n",
            "test-data evaluation:- acc = 0.65667, CrossEntropyLoss = 0.75, f1score = 0.65667       time_elapsed = 0.0 minuts. \n",
            " -----------------------------------------------------------------------------------------------------------------------\n"
          ]
        },
        {
          "output_type": "stream",
          "name": "stderr",
          "text": [
            "epoch [20/100], loss=0.7048: 100%|██████████| 1/1 [00:00<00:00, 30.43it/s]\n"
          ]
        },
        {
          "output_type": "stream",
          "name": "stdout",
          "text": [
            "after 20 epoch, learning_rate= 0.017 \n",
            "train-data evaluation:- acc = 0.67667, CrossEntropyLoss = 0.72, f1score = 0.67667       \n",
            "test-data evaluation:- acc = 0.67667, CrossEntropyLoss = 0.72, f1score = 0.67667       time_elapsed = 0.0 minuts. \n",
            " -----------------------------------------------------------------------------------------------------------------------\n"
          ]
        },
        {
          "output_type": "stream",
          "name": "stderr",
          "text": [
            "epoch [21/100], loss=0.6772: 100%|██████████| 1/1 [00:00<00:00, 38.06it/s]\n"
          ]
        },
        {
          "output_type": "stream",
          "name": "stdout",
          "text": [
            "after 21 epoch, learning_rate= 0.017 \n",
            "train-data evaluation:- acc = 0.69000, CrossEntropyLoss = 0.69, f1score = 0.69000       \n",
            "test-data evaluation:- acc = 0.69000, CrossEntropyLoss = 0.69, f1score = 0.69000       time_elapsed = 0.0 minuts. \n",
            " -----------------------------------------------------------------------------------------------------------------------\n"
          ]
        },
        {
          "output_type": "stream",
          "name": "stderr",
          "text": [
            "epoch [22/100], loss=0.6497: 100%|██████████| 1/1 [00:00<00:00, 39.53it/s]\n"
          ]
        },
        {
          "output_type": "stream",
          "name": "stdout",
          "text": [
            "after 22 epoch, learning_rate= 0.017 \n",
            "train-data evaluation:- acc = 0.70000, CrossEntropyLoss = 0.67, f1score = 0.70000       \n",
            "test-data evaluation:- acc = 0.70000, CrossEntropyLoss = 0.67, f1score = 0.70000       time_elapsed = 0.0 minuts. \n",
            " -----------------------------------------------------------------------------------------------------------------------\n"
          ]
        },
        {
          "output_type": "stream",
          "name": "stderr",
          "text": [
            "epoch [23/100], loss=0.6259: 100%|██████████| 1/1 [00:00<00:00, 40.49it/s]\n"
          ]
        },
        {
          "output_type": "stream",
          "name": "stdout",
          "text": [
            "after 23 epoch, learning_rate= 0.017 \n",
            "train-data evaluation:- acc = 0.70667, CrossEntropyLoss = 0.65, f1score = 0.70667       \n",
            "test-data evaluation:- acc = 0.70667, CrossEntropyLoss = 0.65, f1score = 0.70667       time_elapsed = 0.0 minuts. \n",
            " -----------------------------------------------------------------------------------------------------------------------\n"
          ]
        },
        {
          "output_type": "stream",
          "name": "stderr",
          "text": [
            "epoch [24/100], loss=0.6023: 100%|██████████| 1/1 [00:00<00:00, 37.54it/s]\n"
          ]
        },
        {
          "output_type": "stream",
          "name": "stdout",
          "text": [
            "after 24 epoch, learning_rate= 0.017 \n",
            "train-data evaluation:- acc = 0.73333, CrossEntropyLoss = 0.63, f1score = 0.73333       \n",
            "test-data evaluation:- acc = 0.73333, CrossEntropyLoss = 0.63, f1score = 0.73333       time_elapsed = 0.0 minuts. \n",
            " -----------------------------------------------------------------------------------------------------------------------\n"
          ]
        },
        {
          "output_type": "stream",
          "name": "stderr",
          "text": [
            "epoch [25/100], loss=0.5784: 100%|██████████| 1/1 [00:00<00:00, 38.51it/s]\n"
          ]
        },
        {
          "output_type": "stream",
          "name": "stdout",
          "text": [
            "after 25 epoch, learning_rate= 0.017 \n",
            "train-data evaluation:- acc = 0.74667, CrossEntropyLoss = 0.60, f1score = 0.74667       \n",
            "test-data evaluation:- acc = 0.74667, CrossEntropyLoss = 0.60, f1score = 0.74667       time_elapsed = 0.0 minuts. \n",
            " -----------------------------------------------------------------------------------------------------------------------\n"
          ]
        },
        {
          "output_type": "stream",
          "name": "stderr",
          "text": [
            "epoch [26/100], loss=0.5536: 100%|██████████| 1/1 [00:00<00:00, 35.12it/s]\n"
          ]
        },
        {
          "output_type": "stream",
          "name": "stdout",
          "text": [
            "after 26 epoch, learning_rate= 0.017 \n",
            "train-data evaluation:- acc = 0.74333, CrossEntropyLoss = 0.58, f1score = 0.74333       \n",
            "test-data evaluation:- acc = 0.74333, CrossEntropyLoss = 0.58, f1score = 0.74333       time_elapsed = 0.0 minuts. \n",
            " -----------------------------------------------------------------------------------------------------------------------\n"
          ]
        },
        {
          "output_type": "stream",
          "name": "stderr",
          "text": [
            "epoch [27/100], loss=0.5277: 100%|██████████| 1/1 [00:00<00:00, 34.31it/s]\n"
          ]
        },
        {
          "output_type": "stream",
          "name": "stdout",
          "text": [
            "after 27 epoch, learning_rate= 0.017 \n",
            "train-data evaluation:- acc = 0.75000, CrossEntropyLoss = 0.55, f1score = 0.75000       \n",
            "test-data evaluation:- acc = 0.75000, CrossEntropyLoss = 0.55, f1score = 0.75000       time_elapsed = 0.0 minuts. \n",
            " -----------------------------------------------------------------------------------------------------------------------\n"
          ]
        },
        {
          "output_type": "stream",
          "name": "stderr",
          "text": [
            "epoch [28/100], loss=0.5028: 100%|██████████| 1/1 [00:00<00:00, 36.09it/s]\n"
          ]
        },
        {
          "output_type": "stream",
          "name": "stdout",
          "text": [
            "after 28 epoch, learning_rate= 0.017 \n",
            "train-data evaluation:- acc = 0.76667, CrossEntropyLoss = 0.52, f1score = 0.76667       \n",
            "test-data evaluation:- acc = 0.76667, CrossEntropyLoss = 0.52, f1score = 0.76667       time_elapsed = 0.0 minuts. \n",
            " -----------------------------------------------------------------------------------------------------------------------\n"
          ]
        },
        {
          "output_type": "stream",
          "name": "stderr",
          "text": [
            "epoch [29/100], loss=0.4803: 100%|██████████| 1/1 [00:00<00:00, 37.35it/s]\n"
          ]
        },
        {
          "output_type": "stream",
          "name": "stdout",
          "text": [
            "after 29 epoch, learning_rate= 0.017 \n",
            "train-data evaluation:- acc = 0.77333, CrossEntropyLoss = 0.51, f1score = 0.77333       \n",
            "test-data evaluation:- acc = 0.77333, CrossEntropyLoss = 0.51, f1score = 0.77333       time_elapsed = 0.0 minuts. \n",
            " -----------------------------------------------------------------------------------------------------------------------\n"
          ]
        },
        {
          "output_type": "stream",
          "name": "stderr",
          "text": [
            "epoch [30/100], loss=0.4599: 100%|██████████| 1/1 [00:00<00:00, 36.41it/s]\n"
          ]
        },
        {
          "output_type": "stream",
          "name": "stdout",
          "text": [
            "after 30 epoch, learning_rate= 0.017 \n",
            "train-data evaluation:- acc = 0.77667, CrossEntropyLoss = 0.49, f1score = 0.77667       \n",
            "test-data evaluation:- acc = 0.77667, CrossEntropyLoss = 0.49, f1score = 0.77667       time_elapsed = 0.0 minuts. \n",
            " -----------------------------------------------------------------------------------------------------------------------\n"
          ]
        },
        {
          "output_type": "stream",
          "name": "stderr",
          "text": [
            "epoch [31/100], loss=0.4423: 100%|██████████| 1/1 [00:00<00:00, 41.14it/s]\n"
          ]
        },
        {
          "output_type": "stream",
          "name": "stdout",
          "text": [
            "after 31 epoch, learning_rate= 0.017 \n",
            "train-data evaluation:- acc = 0.78333, CrossEntropyLoss = 0.48, f1score = 0.78333       \n",
            "test-data evaluation:- acc = 0.78333, CrossEntropyLoss = 0.48, f1score = 0.78333       time_elapsed = 0.0 minuts. \n",
            " -----------------------------------------------------------------------------------------------------------------------\n"
          ]
        },
        {
          "output_type": "stream",
          "name": "stderr",
          "text": [
            "epoch [32/100], loss=0.4234: 100%|██████████| 1/1 [00:00<00:00, 36.67it/s]\n"
          ]
        },
        {
          "output_type": "stream",
          "name": "stdout",
          "text": [
            "after 32 epoch, learning_rate= 0.017 \n",
            "train-data evaluation:- acc = 0.80333, CrossEntropyLoss = 0.46, f1score = 0.80333       \n",
            "test-data evaluation:- acc = 0.80333, CrossEntropyLoss = 0.46, f1score = 0.80333       time_elapsed = 0.0 minuts. \n",
            " -----------------------------------------------------------------------------------------------------------------------\n"
          ]
        },
        {
          "output_type": "stream",
          "name": "stderr",
          "text": [
            "epoch [33/100], loss=0.4068: 100%|██████████| 1/1 [00:00<00:00, 35.77it/s]\n"
          ]
        },
        {
          "output_type": "stream",
          "name": "stdout",
          "text": [
            "after 33 epoch, learning_rate= 0.017 \n",
            "train-data evaluation:- acc = 0.80333, CrossEntropyLoss = 0.45, f1score = 0.80333       \n",
            "test-data evaluation:- acc = 0.80333, CrossEntropyLoss = 0.45, f1score = 0.80333       time_elapsed = 0.0 minuts. \n",
            " -----------------------------------------------------------------------------------------------------------------------\n"
          ]
        },
        {
          "output_type": "stream",
          "name": "stderr",
          "text": [
            "epoch [34/100], loss=0.3895: 100%|██████████| 1/1 [00:00<00:00, 40.84it/s]\n"
          ]
        },
        {
          "output_type": "stream",
          "name": "stdout",
          "text": [
            "after 34 epoch, learning_rate= 0.017 \n",
            "train-data evaluation:- acc = 0.82000, CrossEntropyLoss = 0.44, f1score = 0.82000       \n",
            "test-data evaluation:- acc = 0.82000, CrossEntropyLoss = 0.44, f1score = 0.82000       time_elapsed = 0.0 minuts. \n",
            " -----------------------------------------------------------------------------------------------------------------------\n"
          ]
        },
        {
          "output_type": "stream",
          "name": "stderr",
          "text": [
            "epoch [35/100], loss=0.3724: 100%|██████████| 1/1 [00:00<00:00, 35.86it/s]\n"
          ]
        },
        {
          "output_type": "stream",
          "name": "stdout",
          "text": [
            "after 35 epoch, learning_rate= 0.017 \n",
            "train-data evaluation:- acc = 0.83667, CrossEntropyLoss = 0.42, f1score = 0.83667       \n",
            "test-data evaluation:- acc = 0.83667, CrossEntropyLoss = 0.42, f1score = 0.83667       time_elapsed = 0.0 minuts. \n",
            " -----------------------------------------------------------------------------------------------------------------------\n"
          ]
        },
        {
          "output_type": "stream",
          "name": "stderr",
          "text": [
            "epoch [36/100], loss=0.3553: 100%|██████████| 1/1 [00:00<00:00, 36.50it/s]\n"
          ]
        },
        {
          "output_type": "stream",
          "name": "stdout",
          "text": [
            "after 36 epoch, learning_rate= 0.017 \n",
            "train-data evaluation:- acc = 0.82333, CrossEntropyLoss = 0.41, f1score = 0.82333       \n",
            "test-data evaluation:- acc = 0.82333, CrossEntropyLoss = 0.41, f1score = 0.82333       time_elapsed = 0.0 minuts. \n",
            " -----------------------------------------------------------------------------------------------------------------------\n"
          ]
        },
        {
          "output_type": "stream",
          "name": "stderr",
          "text": [
            "epoch [37/100], loss=0.3382: 100%|██████████| 1/1 [00:00<00:00, 38.95it/s]\n"
          ]
        },
        {
          "output_type": "stream",
          "name": "stdout",
          "text": [
            "after 37 epoch, learning_rate= 0.017 \n",
            "train-data evaluation:- acc = 0.83000, CrossEntropyLoss = 0.39, f1score = 0.83000       \n",
            "test-data evaluation:- acc = 0.83000, CrossEntropyLoss = 0.39, f1score = 0.83000       time_elapsed = 0.0 minuts. \n",
            " -----------------------------------------------------------------------------------------------------------------------\n"
          ]
        },
        {
          "output_type": "stream",
          "name": "stderr",
          "text": [
            "epoch [38/100], loss=0.3225: 100%|██████████| 1/1 [00:00<00:00, 36.86it/s]\n"
          ]
        },
        {
          "output_type": "stream",
          "name": "stdout",
          "text": [
            "after 38 epoch, learning_rate= 0.017 \n",
            "train-data evaluation:- acc = 0.83667, CrossEntropyLoss = 0.38, f1score = 0.83667       \n",
            "test-data evaluation:- acc = 0.83667, CrossEntropyLoss = 0.38, f1score = 0.83667       time_elapsed = 0.0 minuts. \n",
            " -----------------------------------------------------------------------------------------------------------------------\n"
          ]
        },
        {
          "output_type": "stream",
          "name": "stderr",
          "text": [
            "epoch [39/100], loss=0.3089: 100%|██████████| 1/1 [00:00<00:00, 39.55it/s]\n"
          ]
        },
        {
          "output_type": "stream",
          "name": "stdout",
          "text": [
            "after 39 epoch, learning_rate= 0.017 \n",
            "train-data evaluation:- acc = 0.84333, CrossEntropyLoss = 0.38, f1score = 0.84333       \n",
            "test-data evaluation:- acc = 0.84333, CrossEntropyLoss = 0.38, f1score = 0.84333       time_elapsed = 0.0 minuts. \n",
            " -----------------------------------------------------------------------------------------------------------------------\n"
          ]
        },
        {
          "output_type": "stream",
          "name": "stderr",
          "text": [
            "epoch [40/100], loss=0.2957: 100%|██████████| 1/1 [00:00<00:00, 38.53it/s]\n"
          ]
        },
        {
          "output_type": "stream",
          "name": "stdout",
          "text": [
            "after 40 epoch, learning_rate= 0.017 \n",
            "train-data evaluation:- acc = 0.84667, CrossEntropyLoss = 0.36, f1score = 0.84667       \n",
            "test-data evaluation:- acc = 0.84667, CrossEntropyLoss = 0.36, f1score = 0.84667       time_elapsed = 0.0 minuts. \n",
            " -----------------------------------------------------------------------------------------------------------------------\n"
          ]
        },
        {
          "output_type": "stream",
          "name": "stderr",
          "text": [
            "epoch [41/100], loss=0.2824: 100%|██████████| 1/1 [00:00<00:00, 36.14it/s]\n"
          ]
        },
        {
          "output_type": "stream",
          "name": "stdout",
          "text": [
            "after 41 epoch, learning_rate= 0.017 \n",
            "train-data evaluation:- acc = 0.85667, CrossEntropyLoss = 0.35, f1score = 0.85667       \n",
            "test-data evaluation:- acc = 0.85667, CrossEntropyLoss = 0.35, f1score = 0.85667       time_elapsed = 0.0 minuts. \n",
            " -----------------------------------------------------------------------------------------------------------------------\n"
          ]
        },
        {
          "output_type": "stream",
          "name": "stderr",
          "text": [
            "epoch [42/100], loss=0.2703: 100%|██████████| 1/1 [00:00<00:00, 30.19it/s]\n"
          ]
        },
        {
          "output_type": "stream",
          "name": "stdout",
          "text": [
            "after 42 epoch, learning_rate= 0.017 \n",
            "train-data evaluation:- acc = 0.85667, CrossEntropyLoss = 0.34, f1score = 0.85667       \n",
            "test-data evaluation:- acc = 0.85667, CrossEntropyLoss = 0.34, f1score = 0.85667       time_elapsed = 0.0 minuts. \n",
            " -----------------------------------------------------------------------------------------------------------------------\n"
          ]
        },
        {
          "output_type": "stream",
          "name": "stderr",
          "text": [
            "epoch [43/100], loss=0.2588: 100%|██████████| 1/1 [00:00<00:00, 34.55it/s]\n"
          ]
        },
        {
          "output_type": "stream",
          "name": "stdout",
          "text": [
            "after 43 epoch, learning_rate= 0.017 \n",
            "train-data evaluation:- acc = 0.86333, CrossEntropyLoss = 0.33, f1score = 0.86333       \n",
            "test-data evaluation:- acc = 0.86333, CrossEntropyLoss = 0.33, f1score = 0.86333       time_elapsed = 0.0 minuts. \n",
            " -----------------------------------------------------------------------------------------------------------------------\n"
          ]
        },
        {
          "output_type": "stream",
          "name": "stderr",
          "text": [
            "epoch [44/100], loss=0.2480: 100%|██████████| 1/1 [00:00<00:00, 28.03it/s]\n"
          ]
        },
        {
          "output_type": "stream",
          "name": "stdout",
          "text": [
            "after 44 epoch, learning_rate= 0.017 \n",
            "train-data evaluation:- acc = 0.86667, CrossEntropyLoss = 0.32, f1score = 0.86667       \n",
            "test-data evaluation:- acc = 0.86667, CrossEntropyLoss = 0.32, f1score = 0.86667       time_elapsed = 0.0 minuts. \n",
            " -----------------------------------------------------------------------------------------------------------------------\n"
          ]
        },
        {
          "output_type": "stream",
          "name": "stderr",
          "text": [
            "epoch [45/100], loss=0.2381: 100%|██████████| 1/1 [00:00<00:00, 35.16it/s]\n"
          ]
        },
        {
          "output_type": "stream",
          "name": "stdout",
          "text": [
            "after 45 epoch, learning_rate= 0.017 \n",
            "train-data evaluation:- acc = 0.87000, CrossEntropyLoss = 0.31, f1score = 0.87000       \n",
            "test-data evaluation:- acc = 0.87000, CrossEntropyLoss = 0.31, f1score = 0.87000       time_elapsed = 0.0 minuts. \n",
            " -----------------------------------------------------------------------------------------------------------------------\n"
          ]
        },
        {
          "output_type": "stream",
          "name": "stderr",
          "text": [
            "epoch [46/100], loss=0.2288: 100%|██████████| 1/1 [00:00<00:00, 26.11it/s]\n"
          ]
        },
        {
          "output_type": "stream",
          "name": "stdout",
          "text": [
            "after 46 epoch, learning_rate= 0.017 \n",
            "train-data evaluation:- acc = 0.87333, CrossEntropyLoss = 0.31, f1score = 0.87333       \n",
            "test-data evaluation:- acc = 0.87333, CrossEntropyLoss = 0.31, f1score = 0.87333       time_elapsed = 0.0 minuts. \n",
            " -----------------------------------------------------------------------------------------------------------------------\n"
          ]
        },
        {
          "output_type": "stream",
          "name": "stderr",
          "text": [
            "epoch [47/100], loss=0.2197: 100%|██████████| 1/1 [00:00<00:00, 27.84it/s]\n"
          ]
        },
        {
          "output_type": "stream",
          "name": "stdout",
          "text": [
            "after 47 epoch, learning_rate= 0.017 \n",
            "train-data evaluation:- acc = 0.87333, CrossEntropyLoss = 0.30, f1score = 0.87333       \n",
            "test-data evaluation:- acc = 0.87333, CrossEntropyLoss = 0.30, f1score = 0.87333       time_elapsed = 0.0 minuts. \n",
            " -----------------------------------------------------------------------------------------------------------------------\n"
          ]
        },
        {
          "output_type": "stream",
          "name": "stderr",
          "text": [
            "epoch [48/100], loss=0.2111: 100%|██████████| 1/1 [00:00<00:00, 31.12it/s]\n"
          ]
        },
        {
          "output_type": "stream",
          "name": "stdout",
          "text": [
            "after 48 epoch, learning_rate= 0.017 \n",
            "train-data evaluation:- acc = 0.88000, CrossEntropyLoss = 0.29, f1score = 0.88000       \n",
            "test-data evaluation:- acc = 0.88000, CrossEntropyLoss = 0.29, f1score = 0.88000       time_elapsed = 0.0 minuts. \n",
            " -----------------------------------------------------------------------------------------------------------------------\n"
          ]
        },
        {
          "output_type": "stream",
          "name": "stderr",
          "text": [
            "epoch [49/100], loss=0.2027: 100%|██████████| 1/1 [00:00<00:00, 30.40it/s]\n"
          ]
        },
        {
          "output_type": "stream",
          "name": "stdout",
          "text": [
            "after 49 epoch, learning_rate= 0.017 \n",
            "train-data evaluation:- acc = 0.89000, CrossEntropyLoss = 0.29, f1score = 0.89000       \n",
            "test-data evaluation:- acc = 0.89000, CrossEntropyLoss = 0.29, f1score = 0.89000       time_elapsed = 0.0 minuts. \n",
            " -----------------------------------------------------------------------------------------------------------------------\n"
          ]
        },
        {
          "output_type": "stream",
          "name": "stderr",
          "text": [
            "epoch [50/100], loss=0.1946: 100%|██████████| 1/1 [00:00<00:00, 24.37it/s]\n"
          ]
        },
        {
          "output_type": "stream",
          "name": "stdout",
          "text": [
            "after 50 epoch, learning_rate= 0.017 \n",
            "train-data evaluation:- acc = 0.89333, CrossEntropyLoss = 0.28, f1score = 0.89333       \n",
            "test-data evaluation:- acc = 0.89333, CrossEntropyLoss = 0.28, f1score = 0.89333       time_elapsed = 0.0 minuts. \n",
            " -----------------------------------------------------------------------------------------------------------------------\n"
          ]
        },
        {
          "output_type": "stream",
          "name": "stderr",
          "text": [
            "epoch [51/100], loss=0.1877: 100%|██████████| 1/1 [00:00<00:00, 26.08it/s]\n"
          ]
        },
        {
          "output_type": "stream",
          "name": "stdout",
          "text": [
            "after 51 epoch, learning_rate= 0.017 \n",
            "train-data evaluation:- acc = 0.89333, CrossEntropyLoss = 0.27, f1score = 0.89333       \n",
            "test-data evaluation:- acc = 0.89333, CrossEntropyLoss = 0.27, f1score = 0.89333       time_elapsed = 0.0 minuts. \n",
            " -----------------------------------------------------------------------------------------------------------------------\n"
          ]
        },
        {
          "output_type": "stream",
          "name": "stderr",
          "text": [
            "epoch [52/100], loss=0.1804: 100%|██████████| 1/1 [00:00<00:00, 25.41it/s]\n"
          ]
        },
        {
          "output_type": "stream",
          "name": "stdout",
          "text": [
            "after 52 epoch, learning_rate= 0.017 \n",
            "train-data evaluation:- acc = 0.89667, CrossEntropyLoss = 0.26, f1score = 0.89667       \n",
            "test-data evaluation:- acc = 0.89667, CrossEntropyLoss = 0.26, f1score = 0.89667       time_elapsed = 0.0 minuts. \n",
            " -----------------------------------------------------------------------------------------------------------------------\n"
          ]
        },
        {
          "output_type": "stream",
          "name": "stderr",
          "text": [
            "epoch [53/100], loss=0.1735: 100%|██████████| 1/1 [00:00<00:00, 26.30it/s]\n"
          ]
        },
        {
          "output_type": "stream",
          "name": "stdout",
          "text": [
            "after 53 epoch, learning_rate= 0.017 \n",
            "train-data evaluation:- acc = 0.89667, CrossEntropyLoss = 0.26, f1score = 0.89667       \n",
            "test-data evaluation:- acc = 0.89667, CrossEntropyLoss = 0.26, f1score = 0.89667       time_elapsed = 0.0 minuts. \n",
            " -----------------------------------------------------------------------------------------------------------------------\n"
          ]
        },
        {
          "output_type": "stream",
          "name": "stderr",
          "text": [
            "epoch [54/100], loss=0.1667: 100%|██████████| 1/1 [00:00<00:00, 27.57it/s]\n"
          ]
        },
        {
          "output_type": "stream",
          "name": "stdout",
          "text": [
            "after 54 epoch, learning_rate= 0.017 \n",
            "train-data evaluation:- acc = 0.90000, CrossEntropyLoss = 0.25, f1score = 0.90000       \n",
            "test-data evaluation:- acc = 0.90000, CrossEntropyLoss = 0.25, f1score = 0.90000       time_elapsed = 0.0 minuts. \n",
            " -----------------------------------------------------------------------------------------------------------------------\n"
          ]
        },
        {
          "output_type": "stream",
          "name": "stderr",
          "text": [
            "epoch [55/100], loss=0.1603: 100%|██████████| 1/1 [00:00<00:00, 28.16it/s]\n"
          ]
        },
        {
          "output_type": "stream",
          "name": "stdout",
          "text": [
            "after 55 epoch, learning_rate= 0.017 \n",
            "train-data evaluation:- acc = 0.90333, CrossEntropyLoss = 0.24, f1score = 0.90333       \n",
            "test-data evaluation:- acc = 0.90333, CrossEntropyLoss = 0.24, f1score = 0.90333       time_elapsed = 0.0 minuts. \n",
            " -----------------------------------------------------------------------------------------------------------------------\n"
          ]
        },
        {
          "output_type": "stream",
          "name": "stderr",
          "text": [
            "epoch [56/100], loss=0.1540: 100%|██████████| 1/1 [00:00<00:00,  3.62it/s]\n"
          ]
        },
        {
          "output_type": "stream",
          "name": "stdout",
          "text": [
            "after 56 epoch, learning_rate= 0.017 \n",
            "train-data evaluation:- acc = 0.90667, CrossEntropyLoss = 0.24, f1score = 0.90667       \n",
            "test-data evaluation:- acc = 0.90667, CrossEntropyLoss = 0.24, f1score = 0.90667       time_elapsed = 0.0 minuts. \n",
            " -----------------------------------------------------------------------------------------------------------------------\n"
          ]
        },
        {
          "output_type": "stream",
          "name": "stderr",
          "text": [
            "epoch [57/100], loss=0.1486: 100%|██████████| 1/1 [00:00<00:00, 28.08it/s]\n"
          ]
        },
        {
          "output_type": "stream",
          "name": "stdout",
          "text": [
            "after 57 epoch, learning_rate= 0.017 \n",
            "train-data evaluation:- acc = 0.90667, CrossEntropyLoss = 0.23, f1score = 0.90667       \n",
            "test-data evaluation:- acc = 0.90667, CrossEntropyLoss = 0.23, f1score = 0.90667       time_elapsed = 0.0 minuts. \n",
            " -----------------------------------------------------------------------------------------------------------------------\n"
          ]
        },
        {
          "output_type": "stream",
          "name": "stderr",
          "text": [
            "epoch [58/100], loss=0.1433: 100%|██████████| 1/1 [00:00<00:00, 30.01it/s]\n"
          ]
        },
        {
          "output_type": "stream",
          "name": "stdout",
          "text": [
            "after 58 epoch, learning_rate= 0.017 \n",
            "train-data evaluation:- acc = 0.90667, CrossEntropyLoss = 0.23, f1score = 0.90667       \n",
            "test-data evaluation:- acc = 0.90667, CrossEntropyLoss = 0.23, f1score = 0.90667       time_elapsed = 0.0 minuts. \n",
            " -----------------------------------------------------------------------------------------------------------------------\n"
          ]
        },
        {
          "output_type": "stream",
          "name": "stderr",
          "text": [
            "epoch [59/100], loss=0.1382: 100%|██████████| 1/1 [00:00<00:00, 30.24it/s]\n"
          ]
        },
        {
          "output_type": "stream",
          "name": "stdout",
          "text": [
            "after 59 epoch, learning_rate= 0.017 \n",
            "train-data evaluation:- acc = 0.91000, CrossEntropyLoss = 0.22, f1score = 0.91000       \n",
            "test-data evaluation:- acc = 0.91000, CrossEntropyLoss = 0.22, f1score = 0.91000       time_elapsed = 0.0 minuts. \n",
            " -----------------------------------------------------------------------------------------------------------------------\n"
          ]
        },
        {
          "output_type": "stream",
          "name": "stderr",
          "text": [
            "epoch [60/100], loss=0.1332: 100%|██████████| 1/1 [00:00<00:00, 21.54it/s]\n"
          ]
        },
        {
          "output_type": "stream",
          "name": "stdout",
          "text": [
            "after 60 epoch, learning_rate= 0.017 \n",
            "train-data evaluation:- acc = 0.91000, CrossEntropyLoss = 0.22, f1score = 0.91000       \n",
            "test-data evaluation:- acc = 0.91000, CrossEntropyLoss = 0.22, f1score = 0.91000       time_elapsed = 0.0 minuts. \n",
            " -----------------------------------------------------------------------------------------------------------------------\n"
          ]
        },
        {
          "output_type": "stream",
          "name": "stderr",
          "text": [
            "epoch [61/100], loss=0.1282: 100%|██████████| 1/1 [00:00<00:00, 28.18it/s]\n"
          ]
        },
        {
          "output_type": "stream",
          "name": "stdout",
          "text": [
            "after 61 epoch, learning_rate= 0.017 \n",
            "train-data evaluation:- acc = 0.91000, CrossEntropyLoss = 0.22, f1score = 0.91000       \n",
            "test-data evaluation:- acc = 0.91000, CrossEntropyLoss = 0.22, f1score = 0.91000       time_elapsed = 0.0 minuts. \n",
            " -----------------------------------------------------------------------------------------------------------------------\n"
          ]
        },
        {
          "output_type": "stream",
          "name": "stderr",
          "text": [
            "epoch [62/100], loss=0.1235: 100%|██████████| 1/1 [00:00<00:00, 30.40it/s]\n"
          ]
        },
        {
          "output_type": "stream",
          "name": "stdout",
          "text": [
            "after 62 epoch, learning_rate= 0.017 \n",
            "train-data evaluation:- acc = 0.92333, CrossEntropyLoss = 0.21, f1score = 0.92333       \n",
            "test-data evaluation:- acc = 0.92333, CrossEntropyLoss = 0.21, f1score = 0.92333       time_elapsed = 0.0 minuts. \n",
            " -----------------------------------------------------------------------------------------------------------------------\n"
          ]
        },
        {
          "output_type": "stream",
          "name": "stderr",
          "text": [
            "epoch [63/100], loss=0.1192: 100%|██████████| 1/1 [00:00<00:00, 27.04it/s]\n"
          ]
        },
        {
          "output_type": "stream",
          "name": "stdout",
          "text": [
            "after 63 epoch, learning_rate= 0.017 \n",
            "train-data evaluation:- acc = 0.92333, CrossEntropyLoss = 0.20, f1score = 0.92333       \n",
            "test-data evaluation:- acc = 0.92333, CrossEntropyLoss = 0.20, f1score = 0.92333       time_elapsed = 0.0 minuts. \n",
            " -----------------------------------------------------------------------------------------------------------------------\n"
          ]
        },
        {
          "output_type": "stream",
          "name": "stderr",
          "text": [
            "epoch [64/100], loss=0.1150: 100%|██████████| 1/1 [00:00<00:00, 29.61it/s]\n"
          ]
        },
        {
          "output_type": "stream",
          "name": "stdout",
          "text": [
            "after 64 epoch, learning_rate= 0.017 \n",
            "train-data evaluation:- acc = 0.92667, CrossEntropyLoss = 0.20, f1score = 0.92667       \n",
            "test-data evaluation:- acc = 0.92667, CrossEntropyLoss = 0.20, f1score = 0.92667       time_elapsed = 0.0 minuts. \n",
            " -----------------------------------------------------------------------------------------------------------------------\n"
          ]
        },
        {
          "output_type": "stream",
          "name": "stderr",
          "text": [
            "epoch [65/100], loss=0.1108: 100%|██████████| 1/1 [00:00<00:00, 27.56it/s]\n"
          ]
        },
        {
          "output_type": "stream",
          "name": "stdout",
          "text": [
            "after 65 epoch, learning_rate= 0.017 \n",
            "train-data evaluation:- acc = 0.92667, CrossEntropyLoss = 0.20, f1score = 0.92667       \n",
            "test-data evaluation:- acc = 0.92667, CrossEntropyLoss = 0.20, f1score = 0.92667       time_elapsed = 0.0 minuts. \n",
            " -----------------------------------------------------------------------------------------------------------------------\n"
          ]
        },
        {
          "output_type": "stream",
          "name": "stderr",
          "text": [
            "epoch [66/100], loss=0.1069: 100%|██████████| 1/1 [00:00<00:00, 22.14it/s]\n"
          ]
        },
        {
          "output_type": "stream",
          "name": "stdout",
          "text": [
            "after 66 epoch, learning_rate= 0.017 \n",
            "train-data evaluation:- acc = 0.92333, CrossEntropyLoss = 0.20, f1score = 0.92333       \n",
            "test-data evaluation:- acc = 0.92333, CrossEntropyLoss = 0.20, f1score = 0.92333       time_elapsed = 0.0 minuts. \n",
            " -----------------------------------------------------------------------------------------------------------------------\n"
          ]
        },
        {
          "output_type": "stream",
          "name": "stderr",
          "text": [
            "epoch [67/100], loss=0.1031: 100%|██████████| 1/1 [00:00<00:00, 26.75it/s]\n"
          ]
        },
        {
          "output_type": "stream",
          "name": "stdout",
          "text": [
            "after 67 epoch, learning_rate= 0.017 \n",
            "train-data evaluation:- acc = 0.93000, CrossEntropyLoss = 0.20, f1score = 0.93000       \n",
            "test-data evaluation:- acc = 0.93000, CrossEntropyLoss = 0.20, f1score = 0.93000       time_elapsed = 0.0 minuts. \n",
            " -----------------------------------------------------------------------------------------------------------------------\n"
          ]
        },
        {
          "output_type": "stream",
          "name": "stderr",
          "text": [
            "epoch [68/100], loss=0.0994: 100%|██████████| 1/1 [00:00<00:00, 31.81it/s]\n"
          ]
        },
        {
          "output_type": "stream",
          "name": "stdout",
          "text": [
            "after 68 epoch, learning_rate= 0.017 \n",
            "train-data evaluation:- acc = 0.93000, CrossEntropyLoss = 0.20, f1score = 0.93000       \n",
            "test-data evaluation:- acc = 0.93000, CrossEntropyLoss = 0.20, f1score = 0.93000       time_elapsed = 0.0 minuts. \n",
            " -----------------------------------------------------------------------------------------------------------------------\n"
          ]
        },
        {
          "output_type": "stream",
          "name": "stderr",
          "text": [
            "epoch [69/100], loss=0.0962: 100%|██████████| 1/1 [00:00<00:00, 27.89it/s]\n"
          ]
        },
        {
          "output_type": "stream",
          "name": "stdout",
          "text": [
            "after 69 epoch, learning_rate= 0.017 \n",
            "train-data evaluation:- acc = 0.93000, CrossEntropyLoss = 0.19, f1score = 0.93000       \n",
            "test-data evaluation:- acc = 0.93000, CrossEntropyLoss = 0.19, f1score = 0.93000       time_elapsed = 0.0 minuts. \n",
            " -----------------------------------------------------------------------------------------------------------------------\n"
          ]
        },
        {
          "output_type": "stream",
          "name": "stderr",
          "text": [
            "epoch [70/100], loss=0.0931: 100%|██████████| 1/1 [00:00<00:00, 27.10it/s]\n"
          ]
        },
        {
          "output_type": "stream",
          "name": "stdout",
          "text": [
            "after 70 epoch, learning_rate= 0.017 \n",
            "train-data evaluation:- acc = 0.93000, CrossEntropyLoss = 0.19, f1score = 0.93000       \n",
            "test-data evaluation:- acc = 0.93000, CrossEntropyLoss = 0.19, f1score = 0.93000       time_elapsed = 0.0 minuts. \n",
            " -----------------------------------------------------------------------------------------------------------------------\n"
          ]
        },
        {
          "output_type": "stream",
          "name": "stderr",
          "text": [
            "epoch [71/100], loss=0.0901: 100%|██████████| 1/1 [00:00<00:00, 27.82it/s]\n"
          ]
        },
        {
          "output_type": "stream",
          "name": "stdout",
          "text": [
            "after 71 epoch, learning_rate= 0.017 \n",
            "train-data evaluation:- acc = 0.93000, CrossEntropyLoss = 0.19, f1score = 0.93000       \n",
            "test-data evaluation:- acc = 0.93000, CrossEntropyLoss = 0.19, f1score = 0.93000       time_elapsed = 0.0 minuts. \n",
            " -----------------------------------------------------------------------------------------------------------------------\n"
          ]
        },
        {
          "output_type": "stream",
          "name": "stderr",
          "text": [
            "epoch [72/100], loss=0.0872: 100%|██████████| 1/1 [00:00<00:00, 30.97it/s]\n"
          ]
        },
        {
          "output_type": "stream",
          "name": "stdout",
          "text": [
            "after 72 epoch, learning_rate= 0.017 \n",
            "train-data evaluation:- acc = 0.93333, CrossEntropyLoss = 0.19, f1score = 0.93333       \n",
            "test-data evaluation:- acc = 0.93333, CrossEntropyLoss = 0.19, f1score = 0.93333       time_elapsed = 0.0 minuts. \n",
            " -----------------------------------------------------------------------------------------------------------------------\n"
          ]
        },
        {
          "output_type": "stream",
          "name": "stderr",
          "text": [
            "epoch [73/100], loss=0.0843: 100%|██████████| 1/1 [00:00<00:00, 31.26it/s]\n"
          ]
        },
        {
          "output_type": "stream",
          "name": "stdout",
          "text": [
            "after 73 epoch, learning_rate= 0.017 \n",
            "train-data evaluation:- acc = 0.93333, CrossEntropyLoss = 0.19, f1score = 0.93333       \n",
            "test-data evaluation:- acc = 0.93333, CrossEntropyLoss = 0.19, f1score = 0.93333       time_elapsed = 0.0 minuts. \n",
            " -----------------------------------------------------------------------------------------------------------------------\n"
          ]
        },
        {
          "output_type": "stream",
          "name": "stderr",
          "text": [
            "epoch [74/100], loss=0.0816: 100%|██████████| 1/1 [00:00<00:00, 28.76it/s]\n"
          ]
        },
        {
          "output_type": "stream",
          "name": "stdout",
          "text": [
            "after 74 epoch, learning_rate= 0.017 \n",
            "train-data evaluation:- acc = 0.93000, CrossEntropyLoss = 0.19, f1score = 0.93000       \n",
            "test-data evaluation:- acc = 0.93000, CrossEntropyLoss = 0.19, f1score = 0.93000       time_elapsed = 0.0 minuts. \n",
            " -----------------------------------------------------------------------------------------------------------------------\n"
          ]
        },
        {
          "output_type": "stream",
          "name": "stderr",
          "text": [
            "epoch [75/100], loss=0.0792: 100%|██████████| 1/1 [00:00<00:00, 30.46it/s]\n"
          ]
        },
        {
          "output_type": "stream",
          "name": "stdout",
          "text": [
            "after 75 epoch, learning_rate= 0.017 \n",
            "train-data evaluation:- acc = 0.93000, CrossEntropyLoss = 0.19, f1score = 0.93000       \n",
            "test-data evaluation:- acc = 0.93000, CrossEntropyLoss = 0.19, f1score = 0.93000       time_elapsed = 0.0 minuts. \n",
            " -----------------------------------------------------------------------------------------------------------------------\n"
          ]
        },
        {
          "output_type": "stream",
          "name": "stderr",
          "text": [
            "epoch [76/100], loss=0.0768: 100%|██████████| 1/1 [00:00<00:00, 31.37it/s]\n"
          ]
        },
        {
          "output_type": "stream",
          "name": "stdout",
          "text": [
            "after 76 epoch, learning_rate= 0.017 \n",
            "train-data evaluation:- acc = 0.93000, CrossEntropyLoss = 0.19, f1score = 0.93000       \n",
            "test-data evaluation:- acc = 0.93000, CrossEntropyLoss = 0.19, f1score = 0.93000       time_elapsed = 0.0 minuts. \n",
            " -----------------------------------------------------------------------------------------------------------------------\n"
          ]
        },
        {
          "output_type": "stream",
          "name": "stderr",
          "text": [
            "epoch [77/100], loss=0.0745: 100%|██████████| 1/1 [00:00<00:00, 23.72it/s]\n"
          ]
        },
        {
          "output_type": "stream",
          "name": "stdout",
          "text": [
            "after 77 epoch, learning_rate= 0.017 \n",
            "train-data evaluation:- acc = 0.92667, CrossEntropyLoss = 0.19, f1score = 0.92667       \n",
            "test-data evaluation:- acc = 0.92667, CrossEntropyLoss = 0.19, f1score = 0.92667       time_elapsed = 0.0 minuts. \n",
            " -----------------------------------------------------------------------------------------------------------------------\n"
          ]
        },
        {
          "output_type": "stream",
          "name": "stderr",
          "text": [
            "epoch [78/100], loss=0.0722: 100%|██████████| 1/1 [00:00<00:00, 30.75it/s]\n"
          ]
        },
        {
          "output_type": "stream",
          "name": "stdout",
          "text": [
            "after 78 epoch, learning_rate= 0.017 \n",
            "train-data evaluation:- acc = 0.92333, CrossEntropyLoss = 0.19, f1score = 0.92333       \n",
            "test-data evaluation:- acc = 0.92333, CrossEntropyLoss = 0.19, f1score = 0.92333       time_elapsed = 0.0 minuts. \n",
            " -----------------------------------------------------------------------------------------------------------------------\n"
          ]
        },
        {
          "output_type": "stream",
          "name": "stderr",
          "text": [
            "epoch [79/100], loss=0.0701: 100%|██████████| 1/1 [00:00<00:00, 28.26it/s]\n"
          ]
        },
        {
          "output_type": "stream",
          "name": "stdout",
          "text": [
            "after 79 epoch, learning_rate= 0.017 \n",
            "train-data evaluation:- acc = 0.92333, CrossEntropyLoss = 0.18, f1score = 0.92333       \n",
            "test-data evaluation:- acc = 0.92333, CrossEntropyLoss = 0.18, f1score = 0.92333       time_elapsed = 0.0 minuts. \n",
            " -----------------------------------------------------------------------------------------------------------------------\n"
          ]
        },
        {
          "output_type": "stream",
          "name": "stderr",
          "text": [
            "epoch [80/100], loss=0.0680: 100%|██████████| 1/1 [00:00<00:00, 31.26it/s]\n"
          ]
        },
        {
          "output_type": "stream",
          "name": "stdout",
          "text": [
            "after 80 epoch, learning_rate= 0.017 \n",
            "train-data evaluation:- acc = 0.93000, CrossEntropyLoss = 0.18, f1score = 0.93000       \n",
            "test-data evaluation:- acc = 0.93000, CrossEntropyLoss = 0.18, f1score = 0.93000       time_elapsed = 0.0 minuts. \n",
            " -----------------------------------------------------------------------------------------------------------------------\n"
          ]
        },
        {
          "output_type": "stream",
          "name": "stderr",
          "text": [
            "epoch [81/100], loss=0.0661: 100%|██████████| 1/1 [00:00<00:00, 32.77it/s]\n"
          ]
        },
        {
          "output_type": "stream",
          "name": "stdout",
          "text": [
            "after 81 epoch, learning_rate= 0.017 \n",
            "train-data evaluation:- acc = 0.93000, CrossEntropyLoss = 0.18, f1score = 0.93000       \n",
            "test-data evaluation:- acc = 0.93000, CrossEntropyLoss = 0.18, f1score = 0.93000       time_elapsed = 0.0 minuts. \n",
            " -----------------------------------------------------------------------------------------------------------------------\n"
          ]
        },
        {
          "output_type": "stream",
          "name": "stderr",
          "text": [
            "epoch [82/100], loss=0.0643: 100%|██████████| 1/1 [00:00<00:00, 31.34it/s]\n"
          ]
        },
        {
          "output_type": "stream",
          "name": "stdout",
          "text": [
            "after 82 epoch, learning_rate= 0.017 \n",
            "train-data evaluation:- acc = 0.93333, CrossEntropyLoss = 0.18, f1score = 0.93333       \n",
            "test-data evaluation:- acc = 0.93333, CrossEntropyLoss = 0.18, f1score = 0.93333       time_elapsed = 0.0 minuts. \n",
            " -----------------------------------------------------------------------------------------------------------------------\n"
          ]
        },
        {
          "output_type": "stream",
          "name": "stderr",
          "text": [
            "epoch [83/100], loss=0.0625: 100%|██████████| 1/1 [00:00<00:00, 31.27it/s]\n"
          ]
        },
        {
          "output_type": "stream",
          "name": "stdout",
          "text": [
            "after 83 epoch, learning_rate= 0.017 \n",
            "train-data evaluation:- acc = 0.93333, CrossEntropyLoss = 0.18, f1score = 0.93333       \n",
            "test-data evaluation:- acc = 0.93333, CrossEntropyLoss = 0.18, f1score = 0.93333       time_elapsed = 0.0 minuts. \n",
            " -----------------------------------------------------------------------------------------------------------------------\n"
          ]
        },
        {
          "output_type": "stream",
          "name": "stderr",
          "text": [
            "epoch [84/100], loss=0.0608: 100%|██████████| 1/1 [00:00<00:00, 29.51it/s]\n"
          ]
        },
        {
          "output_type": "stream",
          "name": "stdout",
          "text": [
            "after 84 epoch, learning_rate= 0.017 \n",
            "train-data evaluation:- acc = 0.93333, CrossEntropyLoss = 0.18, f1score = 0.93333       \n",
            "test-data evaluation:- acc = 0.93333, CrossEntropyLoss = 0.18, f1score = 0.93333       time_elapsed = 0.0 minuts. \n",
            " -----------------------------------------------------------------------------------------------------------------------\n"
          ]
        },
        {
          "output_type": "stream",
          "name": "stderr",
          "text": [
            "epoch [85/100], loss=0.0592: 100%|██████████| 1/1 [00:00<00:00, 26.42it/s]\n"
          ]
        },
        {
          "output_type": "stream",
          "name": "stdout",
          "text": [
            "after 85 epoch, learning_rate= 0.017 \n",
            "train-data evaluation:- acc = 0.93333, CrossEntropyLoss = 0.18, f1score = 0.93333       \n",
            "test-data evaluation:- acc = 0.93333, CrossEntropyLoss = 0.18, f1score = 0.93333       time_elapsed = 0.0 minuts. \n",
            " -----------------------------------------------------------------------------------------------------------------------\n"
          ]
        },
        {
          "output_type": "stream",
          "name": "stderr",
          "text": [
            "epoch [86/100], loss=0.0576: 100%|██████████| 1/1 [00:00<00:00, 30.34it/s]\n"
          ]
        },
        {
          "output_type": "stream",
          "name": "stdout",
          "text": [
            "after 86 epoch, learning_rate= 0.017 \n",
            "train-data evaluation:- acc = 0.93000, CrossEntropyLoss = 0.18, f1score = 0.93000       \n",
            "test-data evaluation:- acc = 0.93000, CrossEntropyLoss = 0.18, f1score = 0.93000       time_elapsed = 0.0 minuts. \n",
            " -----------------------------------------------------------------------------------------------------------------------\n"
          ]
        },
        {
          "output_type": "stream",
          "name": "stderr",
          "text": [
            "epoch [87/100], loss=0.0562: 100%|██████████| 1/1 [00:00<00:00, 25.23it/s]\n"
          ]
        },
        {
          "output_type": "stream",
          "name": "stdout",
          "text": [
            "after 87 epoch, learning_rate= 0.017 \n",
            "train-data evaluation:- acc = 0.93000, CrossEntropyLoss = 0.18, f1score = 0.93000       \n",
            "test-data evaluation:- acc = 0.93000, CrossEntropyLoss = 0.18, f1score = 0.93000       time_elapsed = 0.0 minuts. \n",
            " -----------------------------------------------------------------------------------------------------------------------\n"
          ]
        },
        {
          "output_type": "stream",
          "name": "stderr",
          "text": [
            "epoch [88/100], loss=0.0548: 100%|██████████| 1/1 [00:00<00:00, 28.76it/s]\n"
          ]
        },
        {
          "output_type": "stream",
          "name": "stdout",
          "text": [
            "after 88 epoch, learning_rate= 0.017 \n",
            "train-data evaluation:- acc = 0.93000, CrossEntropyLoss = 0.18, f1score = 0.93000       \n",
            "test-data evaluation:- acc = 0.93000, CrossEntropyLoss = 0.18, f1score = 0.93000       time_elapsed = 0.0 minuts. \n",
            " -----------------------------------------------------------------------------------------------------------------------\n"
          ]
        },
        {
          "output_type": "stream",
          "name": "stderr",
          "text": [
            "epoch [89/100], loss=0.0534: 100%|██████████| 1/1 [00:00<00:00, 26.66it/s]\n"
          ]
        },
        {
          "output_type": "stream",
          "name": "stdout",
          "text": [
            "after 89 epoch, learning_rate= 0.017 \n",
            "train-data evaluation:- acc = 0.93000, CrossEntropyLoss = 0.18, f1score = 0.93000       \n",
            "test-data evaluation:- acc = 0.93000, CrossEntropyLoss = 0.18, f1score = 0.93000       time_elapsed = 0.0 minuts. \n",
            " -----------------------------------------------------------------------------------------------------------------------\n"
          ]
        },
        {
          "output_type": "stream",
          "name": "stderr",
          "text": [
            "epoch [90/100], loss=0.0521: 100%|██████████| 1/1 [00:00<00:00, 24.74it/s]\n"
          ]
        },
        {
          "output_type": "stream",
          "name": "stdout",
          "text": [
            "after 90 epoch, learning_rate= 0.017 \n",
            "train-data evaluation:- acc = 0.93000, CrossEntropyLoss = 0.18, f1score = 0.93000       \n",
            "test-data evaluation:- acc = 0.93000, CrossEntropyLoss = 0.18, f1score = 0.93000       time_elapsed = 0.0 minuts. \n",
            " -----------------------------------------------------------------------------------------------------------------------\n"
          ]
        },
        {
          "output_type": "stream",
          "name": "stderr",
          "text": [
            "epoch [91/100], loss=0.0508: 100%|██████████| 1/1 [00:00<00:00, 19.96it/s]\n"
          ]
        },
        {
          "output_type": "stream",
          "name": "stdout",
          "text": [
            "after 91 epoch, learning_rate= 0.017 \n",
            "train-data evaluation:- acc = 0.93000, CrossEntropyLoss = 0.18, f1score = 0.93000       \n",
            "test-data evaluation:- acc = 0.93000, CrossEntropyLoss = 0.18, f1score = 0.93000       time_elapsed = 0.0 minuts. \n",
            " -----------------------------------------------------------------------------------------------------------------------\n"
          ]
        },
        {
          "output_type": "stream",
          "name": "stderr",
          "text": [
            "epoch [92/100], loss=0.0496: 100%|██████████| 1/1 [00:00<00:00, 28.15it/s]\n"
          ]
        },
        {
          "output_type": "stream",
          "name": "stdout",
          "text": [
            "after 92 epoch, learning_rate= 0.017 \n",
            "train-data evaluation:- acc = 0.93000, CrossEntropyLoss = 0.18, f1score = 0.93000       \n",
            "test-data evaluation:- acc = 0.93000, CrossEntropyLoss = 0.18, f1score = 0.93000       time_elapsed = 0.0 minuts. \n",
            " -----------------------------------------------------------------------------------------------------------------------\n"
          ]
        },
        {
          "output_type": "stream",
          "name": "stderr",
          "text": [
            "epoch [93/100], loss=0.0485: 100%|██████████| 1/1 [00:00<00:00, 29.76it/s]\n"
          ]
        },
        {
          "output_type": "stream",
          "name": "stdout",
          "text": [
            "after 93 epoch, learning_rate= 0.017 \n",
            "train-data evaluation:- acc = 0.93000, CrossEntropyLoss = 0.18, f1score = 0.93000       \n",
            "test-data evaluation:- acc = 0.93000, CrossEntropyLoss = 0.18, f1score = 0.93000       time_elapsed = 0.0 minuts. \n",
            " -----------------------------------------------------------------------------------------------------------------------\n"
          ]
        },
        {
          "output_type": "stream",
          "name": "stderr",
          "text": [
            "epoch [94/100], loss=0.0474: 100%|██████████| 1/1 [00:00<00:00, 26.07it/s]\n"
          ]
        },
        {
          "output_type": "stream",
          "name": "stdout",
          "text": [
            "after 94 epoch, learning_rate= 0.017 \n",
            "train-data evaluation:- acc = 0.92667, CrossEntropyLoss = 0.18, f1score = 0.92667       \n",
            "test-data evaluation:- acc = 0.92667, CrossEntropyLoss = 0.18, f1score = 0.92667       time_elapsed = 0.0 minuts. \n",
            " -----------------------------------------------------------------------------------------------------------------------\n"
          ]
        },
        {
          "output_type": "stream",
          "name": "stderr",
          "text": [
            "epoch [95/100], loss=0.0464: 100%|██████████| 1/1 [00:00<00:00,  3.45it/s]\n"
          ]
        },
        {
          "output_type": "stream",
          "name": "stdout",
          "text": [
            "after 95 epoch, learning_rate= 0.017 \n",
            "train-data evaluation:- acc = 0.92667, CrossEntropyLoss = 0.18, f1score = 0.92667       \n",
            "test-data evaluation:- acc = 0.92667, CrossEntropyLoss = 0.18, f1score = 0.92667       time_elapsed = 0.0 minuts. \n",
            " -----------------------------------------------------------------------------------------------------------------------\n"
          ]
        },
        {
          "output_type": "stream",
          "name": "stderr",
          "text": [
            "epoch [96/100], loss=0.0454: 100%|██████████| 1/1 [00:00<00:00, 24.09it/s]\n"
          ]
        },
        {
          "output_type": "stream",
          "name": "stdout",
          "text": [
            "after 96 epoch, learning_rate= 0.017 \n",
            "train-data evaluation:- acc = 0.92667, CrossEntropyLoss = 0.18, f1score = 0.92667       \n",
            "test-data evaluation:- acc = 0.92667, CrossEntropyLoss = 0.18, f1score = 0.92667       time_elapsed = 0.0 minuts. \n",
            " -----------------------------------------------------------------------------------------------------------------------\n"
          ]
        },
        {
          "output_type": "stream",
          "name": "stderr",
          "text": [
            "epoch [97/100], loss=0.0444: 100%|██████████| 1/1 [00:00<00:00, 26.71it/s]\n"
          ]
        },
        {
          "output_type": "stream",
          "name": "stdout",
          "text": [
            "after 97 epoch, learning_rate= 0.017 \n",
            "train-data evaluation:- acc = 0.92667, CrossEntropyLoss = 0.18, f1score = 0.92667       \n",
            "test-data evaluation:- acc = 0.92667, CrossEntropyLoss = 0.18, f1score = 0.92667       time_elapsed = 0.0 minuts. \n",
            " -----------------------------------------------------------------------------------------------------------------------\n"
          ]
        },
        {
          "output_type": "stream",
          "name": "stderr",
          "text": [
            "epoch [98/100], loss=0.0434: 100%|██████████| 1/1 [00:00<00:00, 23.65it/s]\n"
          ]
        },
        {
          "output_type": "stream",
          "name": "stdout",
          "text": [
            "after 98 epoch, learning_rate= 0.017 \n",
            "train-data evaluation:- acc = 0.92667, CrossEntropyLoss = 0.18, f1score = 0.92667       \n",
            "test-data evaluation:- acc = 0.92667, CrossEntropyLoss = 0.18, f1score = 0.92667       time_elapsed = 0.0 minuts. \n",
            " -----------------------------------------------------------------------------------------------------------------------\n"
          ]
        },
        {
          "output_type": "stream",
          "name": "stderr",
          "text": [
            "epoch [99/100], loss=0.0425: 100%|██████████| 1/1 [00:00<00:00, 22.48it/s]\n"
          ]
        },
        {
          "output_type": "stream",
          "name": "stdout",
          "text": [
            "after 99 epoch, learning_rate= 0.017 \n",
            "train-data evaluation:- acc = 0.92667, CrossEntropyLoss = 0.18, f1score = 0.92667       \n",
            "test-data evaluation:- acc = 0.92667, CrossEntropyLoss = 0.18, f1score = 0.92667       time_elapsed = 0.0 minuts. \n",
            " -----------------------------------------------------------------------------------------------------------------------\n"
          ]
        },
        {
          "output_type": "stream",
          "name": "stderr",
          "text": [
            "epoch [100/100], loss=0.0417: 100%|██████████| 1/1 [00:00<00:00, 28.93it/s]\n"
          ]
        },
        {
          "output_type": "stream",
          "name": "stdout",
          "text": [
            "after 100 epoch, learning_rate= 0.017 \n",
            "train-data evaluation:- acc = 0.93000, CrossEntropyLoss = 0.18, f1score = 0.93000       \n",
            "test-data evaluation:- acc = 0.93000, CrossEntropyLoss = 0.18, f1score = 0.93000       time_elapsed = 0.0 minuts. \n",
            " -----------------------------------------------------------------------------------------------------------------------\n"
          ]
        }
      ],
      "source": [
        "# from this cell you can adjust/tune almost all the hyper paremeters,\n",
        "# except the model structure which can be adjusted from the previous cell\n",
        "\n",
        "# initializing the model and convert it to device(gpu or cpu)\n",
        "model = network().to(device)\n",
        "\n",
        "# print the model structure\n",
        "print(model)\n",
        "\n",
        "# the Learning Rate hyperparameter\n",
        "learning_rate = 0.017\n",
        "\n",
        "# loss initializing\n",
        "#criterion = nn.MSELoss()\n",
        "criterion = nn.CrossEntropyLoss()\n",
        "\n",
        "# optimizer initializing\n",
        "optimizer = torch.optim.Adam(params=model.parameters(), lr=learning_rate)\n",
        "\n",
        "#learning-rate schedular initialization\n",
        "# i used values here to elimiate this function effect, as i found i don't need it now, and i didn't remove it totally\n",
        "# to be able to call it again just by modify the factor and patience values without change any other part of the code\n",
        "schedular = torch.optim.lr_scheduler.ReduceLROnPlateau(optimizer, factor=0.9, patience=5)\n",
        "\n",
        "# determine number of calculations\n",
        "num_epochs = 100\n",
        "\n",
        "# set the batch size\n",
        "batch_size = 2000\n",
        "\n",
        "# create the train_loader object\n",
        "train_loader = DataLoader(dataset=train_set, shuffle=True, batch_size=batch_size)\n",
        "\n",
        "# create the test_loader object\n",
        "test_loader = DataLoader(dataset=test_set, batch_size=batch_size)\n",
        "\n",
        "# lets check the valaidation before training\n",
        "starting_test_eval = evaluate_model(model, data_loader=test_loader)\n",
        "\n",
        "# call the training function\n",
        "evaluations_progress = train_model(num_epochs, data_loader=train_loader)"
      ]
    },
    {
      "cell_type": "markdown",
      "metadata": {
        "id": "b0lFHs5Q4M6H"
      },
      "source": [
        "why i print maximum accuracy the model reached? as sometimes the model reach to a very good accuracy then it's accuracy degraded, but the point is as long as the model can to reach to that good accuracy then i need to know that to figure out if i'm close to optimum hyperparameters or no and to decide if i need to change the hyperparameters with small scale or large one."
      ]
    },
    {
      "cell_type": "code",
      "execution_count": 113,
      "metadata": {
        "id": "2ONGH5gBBKIQ",
        "colab": {
          "base_uri": "https://localhost:8080/"
        },
        "outputId": "784512fa-87cb-4944-fa35-9ab10f75cf52"
      },
      "outputs": [
        {
          "output_type": "stream",
          "name": "stdout",
          "text": [
            "maximun accuracy training evaluation=0.99706\n",
            "maximun accuracy test evaluation=0.99706\n",
            "minimun cross_entropy_loss training evaluation=0.0408483\n",
            "minimun cross_entropy_loss test evaluation=0.0408483\n",
            "maximun f1score training evaluation=0.99706\n",
            "maximun f1score test evaluation=0.99706\n"
          ]
        }
      ],
      "source": [
        "## printing the maximum training accuracy and maximum testing accuracy the model reached\n",
        "print(f\"maximun accuracy training evaluation={(max(evaluations_progress[:, 0, 0])):.5f}\\\n",
        "\\nmaximun accuracy test evaluation={(max(evaluations_progress[:, 0, 0])):.5f}\\\n",
        "\\nminimun cross_entropy_loss training evaluation={(min(evaluations_progress[:, 0, 1])):.7f}\\\n",
        "\\nminimun cross_entropy_loss test evaluation={(min(evaluations_progress[:, 0, 1])):.7f}\\\n",
        "\\nmaximun f1score training evaluation={(max(evaluations_progress[:, 0, 2])):.5f}\\\n",
        "\\nmaximun f1score test evaluation={(max(evaluations_progress[:, 0, 2])):.5f}\")\n"
      ]
    },
    {
      "cell_type": "markdown",
      "metadata": {
        "id": "wQMI2xqKQgUH"
      },
      "source": [
        "### plot the overall training and testing accuracy progress"
      ]
    },
    {
      "cell_type": "code",
      "execution_count": 114,
      "metadata": {
        "colab": {
          "base_uri": "https://localhost:8080/",
          "height": 472
        },
        "id": "HWV83STLBJ-J",
        "outputId": "f7327332-9efc-4ffd-efd7-cf0e342ca51e"
      },
      "outputs": [
        {
          "output_type": "display_data",
          "data": {
            "text/plain": [
              "<Figure size 640x480 with 1 Axes>"
            ],
            "image/png": "[encoded data removed]"
          },
          "metadata": {}
        }
      ],
      "source": [
        "def plot_evaluation(train_progress, test_progress, title):\n",
        "    '''function to plot the progress of training and testing data'''\n",
        "\n",
        "    # convert the train accuracy list into numpy array.\n",
        "    train_line_val = np.array([val for val in train_progress])\n",
        "    # convert the train accuracy list into numpy array.\n",
        "    test_line_val = np.array([val for val in test_progress])\n",
        "\n",
        "    # plot the progress of training accuracy over epochs.\n",
        "    train_progress, = plt.plot((range(len(train_line_val))), train_line_val, label=\"train progress\", marker=\"*\", linewidth=3)\n",
        "    # plot the progress of testing accuracy over epochs.\n",
        "    test_progress, = plt.plot((range(len(test_line_val))), test_line_val, label=\"test progress\", marker=\"o\", linewidth=1)\n",
        "\n",
        "    # set the legend parameters.\n",
        "    plt.legend(loc=\"best\", handles=[train_progress, test_progress])\n",
        "    # write the figure title.\n",
        "    plt.title(title)\n",
        "    # write the label of x axis.\n",
        "    plt.xlabel(\"epochs\")\n",
        "    # write the label of y axis.\n",
        "    plt.ylabel(\"validation\")\n",
        "    # add grid to the figure\n",
        "    plt.grid(which='major')\n",
        "    # to show the figure and remove any unwanted appered words\n",
        "    plt.show()\n",
        "\n",
        "plot_evaluation(evaluations_progress[:, 0, 0], evaluations_progress[:, 1, 0], 'accuracy evaluation progress while training')"
      ]
    },
    {
      "cell_type": "code",
      "execution_count": 115,
      "metadata": {
        "colab": {
          "base_uri": "https://localhost:8080/",
          "height": 472
        },
        "id": "E9rA1gDIx0sw",
        "outputId": "0cc67ecb-83c7-49b6-bbaf-7f94b045f9df"
      },
      "outputs": [
        {
          "output_type": "display_data",
          "data": {
            "text/plain": [
              "<Figure size 640x480 with 1 Axes>"
            ],
            "image/png": "[encoded data removed]"
          },
          "metadata": {}
        }
      ],
      "source": [
        "plot_evaluation(evaluations_progress[:, 0, 1], evaluations_progress[:, 1, 1], 'cross_entropy_loss evaluation progress while training')"
      ]
    },
    {
      "cell_type": "code",
      "execution_count": 116,
      "metadata": {
        "colab": {
          "base_uri": "https://localhost:8080/",
          "height": 472
        },
        "id": "svmxgyivdCOm",
        "outputId": "3827644a-626e-46a9-84e1-fc041dc1ad7a"
      },
      "outputs": [
        {
          "output_type": "display_data",
          "data": {
            "text/plain": [
              "<Figure size 640x480 with 1 Axes>"
            ],
            "image/png": "[encoded data removed]"
          },
          "metadata": {}
        }
      ],
      "source": [
        "plot_evaluation(evaluations_progress[:, 0, 2], evaluations_progress[:, 1, 2], 'f1score evaluation progress while training')"
      ]
    },
    {
      "cell_type": "code",
      "execution_count": 121,
      "metadata": {
        "colab": {
          "base_uri": "https://localhost:8080/"
        },
        "id": "5fvaK2UWsvNE",
        "outputId": "456b3360-d07e-40b0-f833-6f1971f2ce32"
      },
      "outputs": [
        {
          "output_type": "stream",
          "name": "stdout",
          "text": [
            "/content/drive/MyDrive/maids.cc/data/savings\n",
            "accuracy = 93.00%\n"
          ]
        }
      ],
      "source": [
        "# to change to this directory\n",
        "%cd /content/drive/MyDrive/maids.cc/data/savings\n",
        "\n",
        "\n",
        "#################################################################################\n",
        "#save and load and use model using joblib\n",
        "#################################################################################\n",
        "# # # #save the trained model to disk\n",
        "model_filename_ = 'pytorch_model_.sav'\n",
        "pipe_filename_ = 'pipe_preprocessing_.sav'\n",
        "# # # save the model\n",
        "#joblib.dump(model, model_filename_)\n",
        "# # # save the preprocessing pipe\n",
        "#joblib.dump(pipe, pipe_filename_)\n",
        "# # # to load the model from disk\n",
        "pytorch_model = joblib.load(model_filename_)\n",
        "# # # # to load the pipe from disk\n",
        "pipe = joblib.load(pipe_filename_)\n",
        "############\n",
        "# # # inference process\n",
        "xtest = pipe.transform(xtest_unprocessed)\n",
        "test_labels = torch.tensor(ytest.values.astype(np.int64))\n",
        "test_input = torch.tensor(xtest.astype(np.float32))\n",
        "pytorch_model.eval()\n",
        "output = pytorch_model(test_input)\n",
        "labels = torch.argmax(output, axis=1)\n",
        "print(f\"accuracy = {float(sum(labels==test_labels)/len(test_labels))*100:.2f}%\")\n",
        "#################################################################################\n",
        "#################################################################################\n",
        "\n",
        "\n",
        "\n",
        "\n",
        "#################################################################################\n",
        "#save and load and use model using pickle\n",
        "#################################################################################\n",
        "# # # another way to save the trained model\n",
        "model_filename = 'pytorch_model.sav'\n",
        "pipe_filename = 'pipe_preprocessing.sav'\n",
        "# # # save the model\n",
        "#pickle.dump(model, open(model_filename, 'wb'))\n",
        "# # # save the preprocessing pipe\n",
        "#pickle.dump(pipe, open(pipe_filename, 'wb'))\n",
        "# # # # to load the model from disk\n",
        "pytorch_model = pickle.load(open(model_filename, 'rb'))\n",
        "# # # # to load the pipe from disk\n",
        "pipe = pickle.load(open(pipe_filename, 'rb'))\n",
        "############################\n",
        "# # # inference process\n",
        "#xtest = pipe.transform(xtest_unprocessed)\n",
        "#test_labels = torch.tensor(ytest.values.astype(np.int64))\n",
        "#test_input = torch.tensor(xtest.astype(np.float32))\n",
        "#pytorch_model.eval()\n",
        "#output = pytorch_model(test_input)\n",
        "#labels = torch.argmax(output, axis=1)\n",
        "#print(f\"accuracy = {float(sum(labels==test_labels)/len(test_labels))*100:.2f}%\")\n",
        "#################################################################################\n",
        "#################################################################################\n",
        "\n",
        "\n",
        "\n",
        "\n",
        "#################################################################################\n",
        "# save and load and use model using torch, but the problem is i can't save the preprocessing and can't use the pipe saved by pickle,\n",
        "# but i'm sure that there is methos to save pipe using torch, but i didn't search almost at all\n",
        "#################################################################################\n",
        "# path to the saving file\n",
        "#model_PATH = '/content/drive/MyDrive/maids.cc/data/savings/Pytorch_model.pt'\n",
        "##preprocessing_PATH = '/content/drive/MyDrive/maids.cc/data/savings/Pytorch_model.pt'\n",
        "\n",
        "# # # saving the model using pytorch refer to https://pytorch.org/tutorials/beginner/saving_loading_models.html\n",
        "#torch.save(model, model_PATH)\n",
        "# # # loading the model when needed\n",
        "#pytorch_model = torch.load(model_PATH)\n",
        "############\n",
        "# # # inference process\n",
        "# # # NOTE:- i'm not sure if pipe can be saved by torch but i figure out how to save it by joblib and pickle\n",
        "#xtest = pipe(xtest_unprocessed)\n",
        "#pytorch_model.eval()\n",
        "#output = pytorch_model(xtest)\n",
        "#labels = torch.argmax(output, axis=1)\n",
        "#print(f\"accuracy = {float(sum(labels==test_labels)/len(test_labels))*100:.2f}%\")\n",
        "#################################################################################\n",
        "#################################################################################\n",
        "\n",
        "\n",
        "\n",
        "# inference process\n",
        "#xtest = pipe.transform(xtest_unprocessed)\n",
        "#test_labels = torch.tensor(ytest.values.astype(np.int64))\n",
        "#test_input = torch.tensor(xtest.astype(np.float32))\n",
        "#pytorch_model.eval()\n",
        "#output = pytorch_model(test_input)\n",
        "#labels = torch.argmax(output, axis=1)\n",
        "#print(f\"accuracy = {float(sum(labels==test_labels)/len(test_labels))*100:.2f}%\")"
      ]
    },
    {
      "cell_type": "code",
      "source": [],
      "metadata": {
        "id": "15YAGgBnMU0v"
      },
      "execution_count": null,
      "outputs": []
    }
  ],
  "metadata": {
    "colab": {
      "provenance": []
    },
    "kernelspec": {
      "display_name": "Python 3",
      "name": "python3"
    },
    "language_info": {
      "name": "python"
    }
  },
  "nbformat": 4,
  "nbformat_minor": 0
}