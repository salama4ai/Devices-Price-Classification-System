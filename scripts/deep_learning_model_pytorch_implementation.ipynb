{
  "cells": [
    {
      "cell_type": "markdown",
      "metadata": {
        "id": "AQC6OjfDxmh_"
      },
      "source": [
        "# This notebook for preprocessing and deep-learning model model implemented using pytorch of the Devices-Price-Classification-System project"
      ]
    },
    {
      "cell_type": "code",
      "execution_count": 1,
      "metadata": {
        "colab": {
          "base_uri": "https://localhost:8080/"
        },
        "id": "EPHHOoL9KJT7",
        "outputId": "a320869b-c632-40b3-d346-58c717d2db13"
      },
      "outputs": [
        {
          "output_type": "stream",
          "name": "stdout",
          "text": [
            "Mounted at /content/drive\n"
          ]
        }
      ],
      "source": [
        "from google.colab import drive\n",
        "drive.mount('/content/drive')"
      ]
    },
    {
      "cell_type": "markdown",
      "metadata": {
        "id": "VmmAp68WlpZx"
      },
      "source": [
        "## importing libraries"
      ]
    },
    {
      "cell_type": "code",
      "execution_count": 2,
      "metadata": {
        "colab": {
          "base_uri": "https://localhost:8080/"
        },
        "id": "ajVUf3e6aaIk",
        "outputId": "2ed70c8b-ae1f-494f-f11b-94b51a04f7fe"
      },
      "outputs": [
        {
          "output_type": "stream",
          "name": "stdout",
          "text": [
            "Collecting torchmetrics\n",
            "  Downloading torchmetrics-1.4.0.post0-py3-none-any.whl (868 kB)\n",
            "\u001b[?25l     \u001b[90m━━━━━━━━━━━━━━━━━━━━━━━━━━━━━━━━━━━━━━━━\u001b[0m \u001b[32m0.0/868.8 kB\u001b[0m \u001b[31m?\u001b[0m eta \u001b[36m-:--:--\u001b[0m\r\u001b[2K     \u001b[91m━━━━━━━\u001b[0m\u001b[90m╺\u001b[0m\u001b[90m━━━━━━━━━━━━━━━━━━━━━━━━━━━━━━━━\u001b[0m \u001b[32m153.6/868.8 kB\u001b[0m \u001b[31m4.3 MB/s\u001b[0m eta \u001b[36m0:00:01\u001b[0m\r\u001b[2K     \u001b[91m━━━━━━━━━━━━━━━━━━━━━━━━━━━━━━━━━━━━━━━\u001b[0m\u001b[91m╸\u001b[0m \u001b[32m860.2/868.8 kB\u001b[0m \u001b[31m14.4 MB/s\u001b[0m eta \u001b[36m0:00:01\u001b[0m\r\u001b[2K     \u001b[90m━━━━━━━━━━━━━━━━━━━━━━━━━━━━━━━━━━━━━━━━\u001b[0m \u001b[32m868.8/868.8 kB\u001b[0m \u001b[31m11.3 MB/s\u001b[0m eta \u001b[36m0:00:00\u001b[0m\n",
            "\u001b[?25hRequirement already satisfied: numpy>1.20.0 in /usr/local/lib/python3.10/dist-packages (from torchmetrics) (1.25.2)\n",
            "Requirement already satisfied: packaging>17.1 in /usr/local/lib/python3.10/dist-packages (from torchmetrics) (24.0)\n",
            "Requirement already satisfied: torch>=1.10.0 in /usr/local/lib/python3.10/dist-packages (from torchmetrics) (2.3.0+cu121)\n",
            "Collecting lightning-utilities>=0.8.0 (from torchmetrics)\n",
            "  Downloading lightning_utilities-0.11.2-py3-none-any.whl (26 kB)\n",
            "Requirement already satisfied: setuptools in /usr/local/lib/python3.10/dist-packages (from lightning-utilities>=0.8.0->torchmetrics) (67.7.2)\n",
            "Requirement already satisfied: typing-extensions in /usr/local/lib/python3.10/dist-packages (from lightning-utilities>=0.8.0->torchmetrics) (4.11.0)\n",
            "Requirement already satisfied: filelock in /usr/local/lib/python3.10/dist-packages (from torch>=1.10.0->torchmetrics) (3.14.0)\n",
            "Requirement already satisfied: sympy in /usr/local/lib/python3.10/dist-packages (from torch>=1.10.0->torchmetrics) (1.12)\n",
            "Requirement already satisfied: networkx in /usr/local/lib/python3.10/dist-packages (from torch>=1.10.0->torchmetrics) (3.3)\n",
            "Requirement already satisfied: jinja2 in /usr/local/lib/python3.10/dist-packages (from torch>=1.10.0->torchmetrics) (3.1.4)\n",
            "Requirement already satisfied: fsspec in /usr/local/lib/python3.10/dist-packages (from torch>=1.10.0->torchmetrics) (2023.6.0)\n",
            "Collecting nvidia-cuda-nvrtc-cu12==12.1.105 (from torch>=1.10.0->torchmetrics)\n",
            "  Using cached nvidia_cuda_nvrtc_cu12-12.1.105-py3-none-manylinux1_x86_64.whl (23.7 MB)\n",
            "Collecting nvidia-cuda-runtime-cu12==12.1.105 (from torch>=1.10.0->torchmetrics)\n",
            "  Using cached nvidia_cuda_runtime_cu12-12.1.105-py3-none-manylinux1_x86_64.whl (823 kB)\n",
            "Collecting nvidia-cuda-cupti-cu12==12.1.105 (from torch>=1.10.0->torchmetrics)\n",
            "  Using cached nvidia_cuda_cupti_cu12-12.1.105-py3-none-manylinux1_x86_64.whl (14.1 MB)\n",
            "Collecting nvidia-cudnn-cu12==8.9.2.26 (from torch>=1.10.0->torchmetrics)\n",
            "  Using cached nvidia_cudnn_cu12-8.9.2.26-py3-none-manylinux1_x86_64.whl (731.7 MB)\n",
            "Collecting nvidia-cublas-cu12==12.1.3.1 (from torch>=1.10.0->torchmetrics)\n",
            "  Using cached nvidia_cublas_cu12-12.1.3.1-py3-none-manylinux1_x86_64.whl (410.6 MB)\n",
            "Collecting nvidia-cufft-cu12==11.0.2.54 (from torch>=1.10.0->torchmetrics)\n",
            "  Using cached nvidia_cufft_cu12-11.0.2.54-py3-none-manylinux1_x86_64.whl (121.6 MB)\n",
            "Collecting nvidia-curand-cu12==10.3.2.106 (from torch>=1.10.0->torchmetrics)\n",
            "  Using cached nvidia_curand_cu12-10.3.2.106-py3-none-manylinux1_x86_64.whl (56.5 MB)\n",
            "Collecting nvidia-cusolver-cu12==11.4.5.107 (from torch>=1.10.0->torchmetrics)\n",
            "  Using cached nvidia_cusolver_cu12-11.4.5.107-py3-none-manylinux1_x86_64.whl (124.2 MB)\n",
            "Collecting nvidia-cusparse-cu12==12.1.0.106 (from torch>=1.10.0->torchmetrics)\n",
            "  Using cached nvidia_cusparse_cu12-12.1.0.106-py3-none-manylinux1_x86_64.whl (196.0 MB)\n",
            "Collecting nvidia-nccl-cu12==2.20.5 (from torch>=1.10.0->torchmetrics)\n",
            "  Using cached nvidia_nccl_cu12-2.20.5-py3-none-manylinux2014_x86_64.whl (176.2 MB)\n",
            "Collecting nvidia-nvtx-cu12==12.1.105 (from torch>=1.10.0->torchmetrics)\n",
            "  Using cached nvidia_nvtx_cu12-12.1.105-py3-none-manylinux1_x86_64.whl (99 kB)\n",
            "Requirement already satisfied: triton==2.3.0 in /usr/local/lib/python3.10/dist-packages (from torch>=1.10.0->torchmetrics) (2.3.0)\n",
            "Collecting nvidia-nvjitlink-cu12 (from nvidia-cusolver-cu12==11.4.5.107->torch>=1.10.0->torchmetrics)\n",
            "  Downloading nvidia_nvjitlink_cu12-12.5.40-py3-none-manylinux2014_x86_64.whl (21.3 MB)\n",
            "\u001b[2K     \u001b[90m━━━━━━━━━━━━━━━━━━━━━━━━━━━━━━━━━━━━━━━━\u001b[0m \u001b[32m21.3/21.3 MB\u001b[0m \u001b[31m14.5 MB/s\u001b[0m eta \u001b[36m0:00:00\u001b[0m\n",
            "\u001b[?25hRequirement already satisfied: MarkupSafe>=2.0 in /usr/local/lib/python3.10/dist-packages (from jinja2->torch>=1.10.0->torchmetrics) (2.1.5)\n",
            "Requirement already satisfied: mpmath>=0.19 in /usr/local/lib/python3.10/dist-packages (from sympy->torch>=1.10.0->torchmetrics) (1.3.0)\n",
            "Installing collected packages: nvidia-nvtx-cu12, nvidia-nvjitlink-cu12, nvidia-nccl-cu12, nvidia-curand-cu12, nvidia-cufft-cu12, nvidia-cuda-runtime-cu12, nvidia-cuda-nvrtc-cu12, nvidia-cuda-cupti-cu12, nvidia-cublas-cu12, lightning-utilities, nvidia-cusparse-cu12, nvidia-cudnn-cu12, nvidia-cusolver-cu12, torchmetrics\n",
            "Successfully installed lightning-utilities-0.11.2 nvidia-cublas-cu12-12.1.3.1 nvidia-cuda-cupti-cu12-12.1.105 nvidia-cuda-nvrtc-cu12-12.1.105 nvidia-cuda-runtime-cu12-12.1.105 nvidia-cudnn-cu12-8.9.2.26 nvidia-cufft-cu12-11.0.2.54 nvidia-curand-cu12-10.3.2.106 nvidia-cusolver-cu12-11.4.5.107 nvidia-cusparse-cu12-12.1.0.106 nvidia-nccl-cu12-2.20.5 nvidia-nvjitlink-cu12-12.5.40 nvidia-nvtx-cu12-12.1.105 torchmetrics-1.4.0.post0\n"
          ]
        }
      ],
      "source": [
        "# installing torchmetrics library to our colab notebook\n",
        "!pip install torchmetrics\n",
        "\n",
        "# importing the libraries\n",
        "import os\n",
        "import random\n",
        "import numpy as np\n",
        "import pandas as pd\n",
        "from matplotlib import pyplot as plt\n",
        "import time\n",
        "from tqdm import tqdm\n",
        "import joblib\n",
        "import pickle\n",
        "from matplotlib.pyplot import figure\n",
        "import seaborn as sns\n",
        "from sklearn.preprocessing import OneHotEncoder\n",
        "from sklearn.compose import make_column_transformer, make_column_selector\n",
        "from sklearn.model_selection import train_test_split\n",
        "from sklearn.pipeline import make_pipeline\n",
        "from sklearn.metrics import accuracy_score, mean_squared_error, mean_absolute_error, f1_score\n",
        "from sklearn.preprocessing import StandardScaler, MinMaxScaler\n",
        "from sklearn.model_selection import GridSearchCV\n",
        "from sklearn.feature_selection import SelectKBest\n",
        "# explicitly require this experimental feature\n",
        "from sklearn.experimental import enable_iterative_imputer  # noqa\n",
        "# now you can import normally from sklearn.impute\n",
        "from sklearn.impute import IterativeImputer\n",
        "import torch\n",
        "import torch.nn as nn\n",
        "import torch.nn.functional as F\n",
        "from torch.utils.data import Dataset, DataLoader, TensorDataset\n",
        "from torchmetrics.classification import Accuracy, MulticlassF1Score#, ConfusionMatrix"
      ]
    },
    {
      "cell_type": "code",
      "execution_count": 3,
      "metadata": {
        "id": "KmmhSZl2NboD",
        "colab": {
          "base_uri": "https://localhost:8080/"
        },
        "outputId": "9ee0b4c4-b9b5-4f68-a368-c01ee2dee0d4"
      },
      "outputs": [
        {
          "output_type": "stream",
          "name": "stdout",
          "text": [
            "using version 2.3.0+cu121\n"
          ]
        }
      ],
      "source": [
        "device = torch.device(\"cuda\" if torch.cuda.is_available() else \"cpu\")\n",
        "\n",
        "# printing pytorch version as this point may affect the reproducability if diffrent pytorch version used\n",
        "print(f'using version {torch.__version__}')\n",
        "\n",
        "# This function to be able to reproduce the same numbers in the future, by fixing\n",
        "# the algorithms parameters that lead to generate the same random numbers\n",
        "\n",
        "# fix random number generation aka regenerate the same random numbers every time (such as weight and bias initialization )\n",
        "def set_random_seed(seed=7, deterministic=True):\n",
        "    \"\"\"Set random seed, for python, numpy, pytorch\n",
        "\n",
        "    Args:\n",
        "        seed (int): Seed to be used.\n",
        "        deterministic (bool): Whether to set the deterministic option for\n",
        "            CUDNN backend, i.e., set `torch.backends.cudnn.deterministic`\n",
        "            to True and `torch.backends.cudnn.benchmark` to False.\n",
        "            Default: True.\n",
        "    \"\"\"\n",
        "    # set seed for python random numbers.\n",
        "    random.seed(seed)\n",
        "    # set seed for numpy random numbers.\n",
        "    np.random.seed(seed)\n",
        "    # set seed for pytorch random numbers.\n",
        "    torch.manual_seed(seed)\n",
        "    # set seed for cuda.\n",
        "    torch.cuda.manual_seed_all(seed)\n",
        "    if deterministic:\n",
        "        torch.backends.cudnn.deterministic = True\n",
        "        torch.backends.cudnn.benchmark = False\n",
        "\n",
        "# select random seed number\n",
        "seed=7\n",
        "# call the function\n",
        "set_random_seed(seed=seed)"
      ]
    },
    {
      "cell_type": "markdown",
      "metadata": {
        "id": "rt-EjR4qmSWr"
      },
      "source": [
        "## load data"
      ]
    },
    {
      "cell_type": "code",
      "execution_count": 4,
      "metadata": {
        "id": "PUR3ELTFmpXW"
      },
      "outputs": [],
      "source": [
        "df = pd.read_csv(\"/content/drive/MyDrive/maids.cc/data/train - train.csv\")\n",
        "test_data = pd.read_csv(\"/content/drive/MyDrive/maids.cc/data/test - test.csv\")"
      ]
    },
    {
      "cell_type": "markdown",
      "metadata": {
        "id": "ie5tOwq_4X04"
      },
      "source": [
        "split the label column from the feature columns"
      ]
    },
    {
      "cell_type": "code",
      "execution_count": 5,
      "metadata": {
        "id": "rTfthDaP3X2J"
      },
      "outputs": [],
      "source": [
        "# label column naming it (y)\n",
        "y = df[\"price_range\"]\n",
        "#feature columns naming them x\n",
        "x = df.drop(\"price_range\", axis=1)\n",
        "#y.shape, x.shape"
      ]
    },
    {
      "cell_type": "markdown",
      "metadata": {
        "id": "qt6OFy2w47YS"
      },
      "source": [
        "#### using train test split function to split the training data into training and validation set"
      ]
    },
    {
      "cell_type": "code",
      "execution_count": 6,
      "metadata": {
        "id": "zVJzSOmc4vJK"
      },
      "outputs": [],
      "source": [
        "from sklearn.model_selection import train_test_split\n",
        "xtrain_unprocessed, xtest_unprocessed, ytrain, ytest = train_test_split(\n",
        "    x, y, test_size=0.17, random_state=seed, stratify=y, shuffle=True)"
      ]
    },
    {
      "cell_type": "code",
      "source": [
        "## initializing the one_hot_encoder\n",
        "#one_hot_encoder = OneHotEncoder(handle_unknown='ignore', sparse_output=False)\n",
        "## apply transformation\n",
        "#ytrain = one_hot_encoder.fit_transform(ytrain_unprocessed)\n",
        "#ytest = one_hot_encoder.transform(ytest_unprocessed)\n",
        "##ytrain.shape"
      ],
      "metadata": {
        "id": "HuiKKRJjTlg6"
      },
      "execution_count": 7,
      "outputs": []
    },
    {
      "cell_type": "markdown",
      "metadata": {
        "id": "FfOl5Uu45DHM"
      },
      "source": [
        "we will do all the preprocessing steps using the make_column_transformer this has many advantages, such as we can involve the preprocessing step in the fine tuning process, and we dont need the repeat the same steps for testing data step by step"
      ]
    },
    {
      "cell_type": "code",
      "execution_count": 8,
      "metadata": {
        "id": "4m4M8y0KK6J_"
      },
      "outputs": [],
      "source": [
        "preprocessor_1 = make_column_transformer((MinMaxScaler(feature_range=(0, 3)), [\"ram\"]),\n",
        "                                          remainder=\"passthrough\")\n",
        "\n",
        "preprocessor_2 = make_column_transformer(\n",
        "    #(KNNImputer(), slice(0, k)),  # test this choice, but it leads to poor results\n",
        "     (IterativeImputer(random_state=seed, tol=1e-5, max_iter=55), slice(0, 20)),\n",
        "     remainder=\"passthrough\")\n",
        "\n",
        "preprocessor_3 = make_column_transformer((StandardScaler(), slice(1, 20)),\n",
        "                                         remainder=\"passthrough\")\n",
        "\n",
        "# by the way deep-learning can deal with unscaled features, but anyway i did StandardScaler, MinMaxScaler steps"
      ]
    },
    {
      "cell_type": "markdown",
      "metadata": {
        "id": "tQxk1thnzf4S"
      },
      "source": [
        "#### machine learning is a search problem"
      ]
    },
    {
      "cell_type": "code",
      "execution_count": 9,
      "metadata": {
        "id": "8hE4eKYfK55O"
      },
      "outputs": [],
      "source": [
        "\n",
        "pipe = make_pipeline(preprocessor_1, preprocessor_2, preprocessor_3)\n",
        "\n",
        "# apply the needed transformations over the training data\n",
        "xtrain = pipe.fit_transform(xtrain_unprocessed)\n",
        "\n",
        "# apply the needed transformations over the testing data\n",
        "xtest = pipe.transform(xtest_unprocessed)"
      ]
    },
    {
      "cell_type": "code",
      "execution_count": 10,
      "metadata": {
        "id": "P6rGheIAArUu"
      },
      "outputs": [],
      "source": [
        "class CollectedData(Dataset):\n",
        "    '''create the class to deal with the data convert them into torch tensors, getting the data item and getting the length of the data'''\n",
        "\n",
        "    def __init__(self, x, y):\n",
        "        self.data = torch.tensor(x, dtype=torch.float32)\n",
        "        self.label = torch.tensor(y.values)\n",
        "        self.n_smpl = x.shape[0]\n",
        "\n",
        "\n",
        "    def __getitem__(self, idx):\n",
        "        '''return the data sample given the index'''\n",
        "\n",
        "        # return the features and the corresponding label of the given index\n",
        "        # i convert them to float to solve an error appears while train the model\n",
        "        return (self.data[idx].float(), self.label[idx]#.float()\n",
        "        )\n",
        "\n",
        "    def __len__(self):\n",
        "        '''function to return the length of the dataset'''\n",
        "\n",
        "        # return the length of the dataset\n",
        "        return self.n_smpl\n",
        "\n",
        "#compine the features and the corresponding labels into one object\n",
        "train_set = CollectedData(xtrain, ytrain)\n",
        "\n",
        "#compine the features and the corresponding labels into one object\n",
        "test_set = CollectedData(xtest, ytest)"
      ]
    },
    {
      "cell_type": "code",
      "execution_count": 11,
      "metadata": {
        "id": "VlgjN9U9A4lc"
      },
      "outputs": [],
      "source": [
        "## almost the same result of the brevious cell, using another way.\n",
        "# # train_set, test_set = torch.utils.data.random_split(dataset, [len(dataset)-test_len, int(len(dataset)*0.2)])\n",
        "\n",
        "# train_labels = torch.tensor(ytrain.values.astype(np.float32))\n",
        "# # test_labels = torch.tensor(ytest.values.astype(np.float32))\n",
        "# train_input = torch.tensor(xtrain.values.astype(np.float32))\n",
        "# # test_input = torch.tensor(xtest.values.astype(np.float32))\n",
        "\n",
        "# train_set = TensorDataset(train_input, train_labels)\n",
        "# # test_set = TensorDataset(test_input, test_labels)\n"
      ]
    },
    {
      "cell_type": "code",
      "execution_count": 13,
      "metadata": {
        "id": "oIAP1h5YBAzE"
      },
      "outputs": [],
      "source": [
        "num_classes=4\n",
        "\n",
        "#initializing accuracy function\n",
        "accuracy = Accuracy(task=\"multiclass\", num_classes=num_classes)\n",
        "\n",
        "#initializing mean-square-error function\n",
        "cross_entropy_loss = nn.CrossEntropyLoss()\n",
        "\n",
        "#initializing f1score function\n",
        "f1score = MulticlassF1Score(num_classes=num_classes, average='micro')\n",
        "\n",
        "# evaluate the performance using the accuracy, mean-square-error and f1score pytorch functions\n",
        "@torch.no_grad()\n",
        "def evaluate_model(model, data_loader):\n",
        "    '''this function is to evaluate the performance of the model using R2Score and mean-square-error pytorch functions'''\n",
        "\n",
        "    # Set the model to eval mode while validating\n",
        "    model.eval()\n",
        "\n",
        "    # initialize the labels and preds and transfering them to device(cpu or gpu)\n",
        "    labels = torch.tensor([], dtype=torch.long).to(device)\n",
        "    predictions = torch.tensor([], dtype=torch.float).to(device)\n",
        "\n",
        "    # starting the loop over data\n",
        "    for features, label in data_loader:\n",
        "\n",
        "        # transfering data to cuda\n",
        "        features = features.to(device=device)\n",
        "\n",
        "        # concatenate all the labels\n",
        "        labels = torch.cat((labels, label), dim=0)\n",
        "        #print(f\"labels shape:-- {labels.shape}\")\n",
        "\n",
        "        # get the model predictions of the given data and flatten them\n",
        "        preds = model(features)#.argmax(dim=1).reshape(-1) # the preds.shape must be [number_of_samples] incase of some metrics\n",
        "        predictions = torch.cat((predictions, preds), dim=0)\n",
        "\n",
        "    #print(f\"preds shape  {preds.shape}\")\n",
        "    #print(f\"Shape of predictions: {predictions.shape}\")\n",
        "    #print(f\"Shape of labels: {labels.shape}\")\n",
        "        #print(f\"dtype of labels: {labels.dtype}\")\n",
        "\n",
        "    # calculate cross_entropy_loss\n",
        "    cross_entropy_loss_evaluation = cross_entropy_loss(predictions, labels)\n",
        "\n",
        "    # calculate accuracy\n",
        "    accuracy_evaluation = accuracy(predictions.argmax(dim=1), labels)\n",
        "\n",
        "    # calculate f1score\n",
        "    f1score_evaluation = f1score(predictions, labels)\n",
        "\n",
        "    #print(f1score_evaluation.shape, accuracy_evaluation.shape, cross_entropy_loss_evaluation.shape)\n",
        "    #print(f1score_evaluation, accuracy_evaluation, cross_entropy_loss_evaluation)\n",
        "\n",
        "    # evaluation metrics\n",
        "    model_evaluations = np.array([accuracy_evaluation,\n",
        "                                  cross_entropy_loss_evaluation,\n",
        "                                  f1score_evaluation])\n",
        "\n",
        "    # return the model to the train mode.\n",
        "    model.train()\n",
        "\n",
        "    # return the model_evaluations result\n",
        "    return model_evaluations\n",
        "\n",
        "#evaluate_model(model, data_loader=test_loader)"
      ]
    },
    {
      "cell_type": "code",
      "execution_count": 22,
      "metadata": {
        "id": "3X-I6OxsLKOv"
      },
      "outputs": [],
      "source": [
        "class network(nn.Module):\n",
        "    '''create the structure of the model'''\n",
        "\n",
        "    def __init__(self, in_features=20, out_features=4):\n",
        "        '''like a class constructor function or initialization'''\n",
        "\n",
        "        super().__init__()\n",
        "        # the fully connected layers\n",
        "        self.fc1 = nn.Linear(in_features, 21)\n",
        "        self.fc2 = nn.Linear(21, 21)\n",
        "        self.fc3 = nn.Linear(21, 21)\n",
        "        self.fc4 = nn.Linear(21, 21)\n",
        "        self.fc5 = nn.Linear(21, 21)\n",
        "        self.fc6 = nn.Linear(21, 21)\n",
        "        self.fc7 = nn.Linear(21, 21)\n",
        "        self.fc8 = nn.Linear(21, 21)\n",
        "        self.fc9 = nn.Linear(21, 21)\n",
        "        self.fc10 = nn.Linear(21, 21)\n",
        "        self.fc11 = nn.Linear(21, out_features)\n",
        "\n",
        "        # initialize the model parameters(weights, bias)\n",
        "        self.initialize_weights()\n",
        "\n",
        "    def forward(self, features):\n",
        "        '''this the forward path of the model'''\n",
        "        # i used different activation functions to enable the model to select the output without limitation of any activation function\n",
        "        out = F.leaky_relu(self.fc1(features))\n",
        "        out = F.relu(self.fc2(out))\n",
        "        out = F.tanh(self.fc3(out))\n",
        "        out = F.relu(self.fc4(out))\n",
        "        #out = F.tanh(self.fc5(out))\n",
        "        #out = F.relu(self.fc6(out))\n",
        "        #out = F.tanh(self.fc7(out))\n",
        "        #out = F.relu(self.fc8(out))\n",
        "        #out = F.tanh(self.fc9(out))\n",
        "        #out = F.relu(self.fc10(out))\n",
        "        out =(#F.softmax(\n",
        "              self.fc11(out)\n",
        "              #, dim=1)\n",
        "             )\n",
        "        return out\n",
        "\n",
        "    def initialize_weights(self):\n",
        "        '''initialize the model parameters(W, b)'''\n",
        "\n",
        "        for m in self.modules():\n",
        "            if isinstance(m, nn.Linear):\n",
        "                nn.init.kaiming_uniform_(m.weight)\n",
        "                nn.init.constant_(m.bias, 0)\n",
        "\n",
        "# initializing the model and convert it to device(gpu or cpu)\n",
        "model = network().to(device)"
      ]
    },
    {
      "cell_type": "code",
      "execution_count": 23,
      "metadata": {
        "id": "eJmx9uZcBKPn"
      },
      "outputs": [],
      "source": [
        " # define the training function.\n",
        "def train_model(num_epochs, data_loader):\n",
        "\n",
        "    # set the number of batches to be the length of 'data_loader'\n",
        "    num_batches = len(data_loader)\n",
        "\n",
        "    # print the hyperparameters informations that the model going to train based on.\n",
        "    print(f\"\"\"batch_size = {batch_size} \\n starting learning rate = {learning_rate} \\n number of epochs = {num_epochs}\\\n",
        "    \\n number of batches = {num_batches} \\n model = {model}, \\n criterion={criterion}, \\n optimizer={optimizer}\"\"\")\n",
        "\n",
        "    # initialize lists to save the training and testing validation progress to be able to plot the results later\n",
        "    evaluations_progress = np.empty(shape=(num_epochs, 2, 3))\n",
        "\n",
        "    # return the model to the train mode.\n",
        "    model.train()\n",
        "\n",
        "    # start the epochs loop\n",
        "    for epoch in range(num_epochs):\n",
        "\n",
        "        # printing out the time which the model starts, to be able to calculate the minuts it take\n",
        "        start_time = time.time()\n",
        "\n",
        "        # initialize progress function that display the progress of the training.\n",
        "        progress = tqdm(enumerate(data_loader), total=num_batches, leave=True)\n",
        "\n",
        "        # starting the training loop for each epoch\n",
        "        for batch_idx, (features, labels) in progress:\n",
        "\n",
        "            # convert data to device\n",
        "            features = features.to(device=device)\n",
        "\n",
        "            # convert labels to device\n",
        "            labels = labels.to(device=device)\n",
        "\n",
        "            # calculate the predictions.\n",
        "            output = model(features)#.argmax(dim=1).reshape(-1).float()   # reshape(-1 or 0 -the same-) is just as the r2score produce tensor of output shape [batch_size, 1] so to make it's output shape is just [batch_size], i.e flatten it\n",
        "\n",
        "            # calculate the loss.\n",
        "            loss = criterion(output, labels)\n",
        "\n",
        "            # back propagation calculations\n",
        "            optimizer.zero_grad()\n",
        "            loss.backward()\n",
        "\n",
        "            # optimization step\n",
        "            optimizer.step()\n",
        "\n",
        "            # determine the information to be showed while training progress and show it\n",
        "            progress.set_description(f\"epoch [{1+epoch}/{num_epochs}], loss={loss.item():0.4f}\")\n",
        "            progress.set_postfix()\n",
        "\n",
        "        # calculate the training evaluations\n",
        "        train_evaluations = evaluate_model(model, data_loader=train_loader)\n",
        "\n",
        "        # calculate the test evaluations\n",
        "        test_evaluations = evaluate_model(model, data_loader=test_loader)\n",
        "\n",
        "        # take learning-rate schedular step\n",
        "        schedular.step(test_evaluations[2])\n",
        "        # printing the important information about the training progress\n",
        "        print(f\"after {1+epoch} epoch, \\ntrain-data evaluation:- acc = {test_evaluations[0]:.5f}, CrossEntropyLoss = {test_evaluations[1]:.2f}, f1score = {test_evaluations[2]:.5f}\\\n",
        "        \\ntest-data evaluation:- acc = {test_evaluations[0]:.5f}, CrossEntropyLoss = {test_evaluations[1]:.2f}, f1score = {test_evaluations[2]:.5f}\\\n",
        "        time_elapsed = {((time.time()-start_time)/60):.1f} minuts. \\n\",\"-\"*119)\n",
        "\n",
        "        # add the training evaluations to a list to be able to visulaize the over all progress after the training completed\n",
        "        evaluations_progress[epoch, 0, :] = train_evaluations\n",
        "\n",
        "        # the same but for the test evaluations\n",
        "        evaluations_progress[epoch, 1, :] = test_evaluations\n",
        "\n",
        "    # return test_eval_progress and train_eval_progress after the training completed\n",
        "    return evaluations_progress"
      ]
    },
    {
      "cell_type": "code",
      "execution_count": 25,
      "metadata": {
        "colab": {
          "base_uri": "https://localhost:8080/"
        },
        "id": "PDrwaxTWMjAF",
        "outputId": "97f83795-8f80-45da-89c6-8d489e850135"
      },
      "outputs": [
        {
          "output_type": "stream",
          "name": "stdout",
          "text": [
            "network(\n",
            "  (fc1): Linear(in_features=20, out_features=21, bias=True)\n",
            "  (fc2): Linear(in_features=21, out_features=21, bias=True)\n",
            "  (fc3): Linear(in_features=21, out_features=21, bias=True)\n",
            "  (fc4): Linear(in_features=21, out_features=21, bias=True)\n",
            "  (fc5): Linear(in_features=21, out_features=21, bias=True)\n",
            "  (fc6): Linear(in_features=21, out_features=21, bias=True)\n",
            "  (fc7): Linear(in_features=21, out_features=21, bias=True)\n",
            "  (fc8): Linear(in_features=21, out_features=21, bias=True)\n",
            "  (fc9): Linear(in_features=21, out_features=21, bias=True)\n",
            "  (fc10): Linear(in_features=21, out_features=21, bias=True)\n",
            "  (fc11): Linear(in_features=21, out_features=4, bias=True)\n",
            ")\n",
            "batch_size = 2000 \n",
            " starting learning rate = 0.017 \n",
            " number of epochs = 300   \n",
            " number of batches = 1 \n",
            " model = network(\n",
            "  (fc1): Linear(in_features=20, out_features=21, bias=True)\n",
            "  (fc2): Linear(in_features=21, out_features=21, bias=True)\n",
            "  (fc3): Linear(in_features=21, out_features=21, bias=True)\n",
            "  (fc4): Linear(in_features=21, out_features=21, bias=True)\n",
            "  (fc5): Linear(in_features=21, out_features=21, bias=True)\n",
            "  (fc6): Linear(in_features=21, out_features=21, bias=True)\n",
            "  (fc7): Linear(in_features=21, out_features=21, bias=True)\n",
            "  (fc8): Linear(in_features=21, out_features=21, bias=True)\n",
            "  (fc9): Linear(in_features=21, out_features=21, bias=True)\n",
            "  (fc10): Linear(in_features=21, out_features=21, bias=True)\n",
            "  (fc11): Linear(in_features=21, out_features=4, bias=True)\n",
            "), \n",
            " criterion=CrossEntropyLoss(), \n",
            " optimizer=Adam (\n",
            "Parameter Group 0\n",
            "    amsgrad: False\n",
            "    betas: (0.9, 0.999)\n",
            "    capturable: False\n",
            "    differentiable: False\n",
            "    eps: 1e-08\n",
            "    foreach: None\n",
            "    fused: None\n",
            "    lr: 0.017\n",
            "    maximize: False\n",
            "    weight_decay: 0\n",
            ")\n"
          ]
        },
        {
          "output_type": "stream",
          "name": "stderr",
          "text": [
            "epoch [1/300], loss=1.9513: 100%|██████████| 1/1 [00:00<00:00, 34.99it/s]\n"
          ]
        },
        {
          "output_type": "stream",
          "name": "stdout",
          "text": [
            "after 1 epoch, \n",
            "train-data evaluation:- acc = 0.27353, CrossEntropyLoss = 1.46, f1score = 0.27353       \n",
            "test-data evaluation:- acc = 0.27353, CrossEntropyLoss = 1.46, f1score = 0.27353       time_elapsed = 0.0 minuts. \n",
            " -----------------------------------------------------------------------------------------------------------------------\n"
          ]
        },
        {
          "output_type": "stream",
          "name": "stderr",
          "text": [
            "epoch [2/300], loss=1.4855: 100%|██████████| 1/1 [00:00<00:00, 31.85it/s]\n"
          ]
        },
        {
          "output_type": "stream",
          "name": "stdout",
          "text": [
            "after 2 epoch, \n",
            "train-data evaluation:- acc = 0.32941, CrossEntropyLoss = 1.40, f1score = 0.32941       \n",
            "test-data evaluation:- acc = 0.32941, CrossEntropyLoss = 1.40, f1score = 0.32941       time_elapsed = 0.0 minuts. \n",
            " -----------------------------------------------------------------------------------------------------------------------\n"
          ]
        },
        {
          "output_type": "stream",
          "name": "stderr",
          "text": [
            "epoch [3/300], loss=1.3877: 100%|██████████| 1/1 [00:00<00:00, 28.73it/s]\n"
          ]
        },
        {
          "output_type": "stream",
          "name": "stdout",
          "text": [
            "after 3 epoch, \n",
            "train-data evaluation:- acc = 0.31471, CrossEntropyLoss = 1.40, f1score = 0.31471       \n",
            "test-data evaluation:- acc = 0.31471, CrossEntropyLoss = 1.40, f1score = 0.31471       time_elapsed = 0.0 minuts. \n",
            " -----------------------------------------------------------------------------------------------------------------------\n"
          ]
        },
        {
          "output_type": "stream",
          "name": "stderr",
          "text": [
            "epoch [4/300], loss=1.3614: 100%|██████████| 1/1 [00:00<00:00, 34.28it/s]\n"
          ]
        },
        {
          "output_type": "stream",
          "name": "stdout",
          "text": [
            "after 4 epoch, \n",
            "train-data evaluation:- acc = 0.31176, CrossEntropyLoss = 1.37, f1score = 0.31176       \n",
            "test-data evaluation:- acc = 0.31176, CrossEntropyLoss = 1.37, f1score = 0.31176       time_elapsed = 0.0 minuts. \n",
            " -----------------------------------------------------------------------------------------------------------------------\n"
          ]
        },
        {
          "output_type": "stream",
          "name": "stderr",
          "text": [
            "epoch [5/300], loss=1.3273: 100%|██████████| 1/1 [00:00<00:00, 30.57it/s]\n"
          ]
        },
        {
          "output_type": "stream",
          "name": "stdout",
          "text": [
            "after 5 epoch, \n",
            "train-data evaluation:- acc = 0.33529, CrossEntropyLoss = 1.35, f1score = 0.33529       \n",
            "test-data evaluation:- acc = 0.33529, CrossEntropyLoss = 1.35, f1score = 0.33529       time_elapsed = 0.0 minuts. \n",
            " -----------------------------------------------------------------------------------------------------------------------\n"
          ]
        },
        {
          "output_type": "stream",
          "name": "stderr",
          "text": [
            "epoch [6/300], loss=1.3073: 100%|██████████| 1/1 [00:00<00:00, 33.03it/s]\n"
          ]
        },
        {
          "output_type": "stream",
          "name": "stdout",
          "text": [
            "after 6 epoch, \n",
            "train-data evaluation:- acc = 0.35882, CrossEntropyLoss = 1.33, f1score = 0.35882       \n",
            "test-data evaluation:- acc = 0.35882, CrossEntropyLoss = 1.33, f1score = 0.35882       time_elapsed = 0.0 minuts. \n",
            " -----------------------------------------------------------------------------------------------------------------------\n"
          ]
        },
        {
          "output_type": "stream",
          "name": "stderr",
          "text": [
            "epoch [7/300], loss=1.2868: 100%|██████████| 1/1 [00:00<00:00, 36.24it/s]\n"
          ]
        },
        {
          "output_type": "stream",
          "name": "stdout",
          "text": [
            "after 7 epoch, \n",
            "train-data evaluation:- acc = 0.38824, CrossEntropyLoss = 1.29, f1score = 0.38824       \n",
            "test-data evaluation:- acc = 0.38824, CrossEntropyLoss = 1.29, f1score = 0.38824       time_elapsed = 0.0 minuts. \n",
            " -----------------------------------------------------------------------------------------------------------------------\n"
          ]
        },
        {
          "output_type": "stream",
          "name": "stderr",
          "text": [
            "epoch [8/300], loss=1.2521: 100%|██████████| 1/1 [00:00<00:00, 26.67it/s]\n"
          ]
        },
        {
          "output_type": "stream",
          "name": "stdout",
          "text": [
            "after 8 epoch, \n",
            "train-data evaluation:- acc = 0.42059, CrossEntropyLoss = 1.25, f1score = 0.42059       \n",
            "test-data evaluation:- acc = 0.42059, CrossEntropyLoss = 1.25, f1score = 0.42059       time_elapsed = 0.0 minuts. \n",
            " -----------------------------------------------------------------------------------------------------------------------\n"
          ]
        },
        {
          "output_type": "stream",
          "name": "stderr",
          "text": [
            "epoch [9/300], loss=1.2124: 100%|██████████| 1/1 [00:00<00:00, 31.90it/s]\n"
          ]
        },
        {
          "output_type": "stream",
          "name": "stdout",
          "text": [
            "after 9 epoch, \n",
            "train-data evaluation:- acc = 0.45588, CrossEntropyLoss = 1.20, f1score = 0.45588       \n",
            "test-data evaluation:- acc = 0.45588, CrossEntropyLoss = 1.20, f1score = 0.45588       time_elapsed = 0.0 minuts. \n",
            " -----------------------------------------------------------------------------------------------------------------------\n"
          ]
        },
        {
          "output_type": "stream",
          "name": "stderr",
          "text": [
            "epoch [10/300], loss=1.1708: 100%|██████████| 1/1 [00:00<00:00, 33.34it/s]\n"
          ]
        },
        {
          "output_type": "stream",
          "name": "stdout",
          "text": [
            "after 10 epoch, \n",
            "train-data evaluation:- acc = 0.46176, CrossEntropyLoss = 1.14, f1score = 0.46176       \n",
            "test-data evaluation:- acc = 0.46176, CrossEntropyLoss = 1.14, f1score = 0.46176       time_elapsed = 0.0 minuts. \n",
            " -----------------------------------------------------------------------------------------------------------------------\n"
          ]
        },
        {
          "output_type": "stream",
          "name": "stderr",
          "text": [
            "epoch [11/300], loss=1.1270: 100%|██████████| 1/1 [00:00<00:00, 30.11it/s]\n"
          ]
        },
        {
          "output_type": "stream",
          "name": "stdout",
          "text": [
            "after 11 epoch, \n",
            "train-data evaluation:- acc = 0.49412, CrossEntropyLoss = 1.08, f1score = 0.49412       \n",
            "test-data evaluation:- acc = 0.49412, CrossEntropyLoss = 1.08, f1score = 0.49412       time_elapsed = 0.0 minuts. \n",
            " -----------------------------------------------------------------------------------------------------------------------\n"
          ]
        },
        {
          "output_type": "stream",
          "name": "stderr",
          "text": [
            "epoch [12/300], loss=1.0773: 100%|██████████| 1/1 [00:00<00:00, 33.91it/s]\n"
          ]
        },
        {
          "output_type": "stream",
          "name": "stdout",
          "text": [
            "after 12 epoch, \n",
            "train-data evaluation:- acc = 0.53529, CrossEntropyLoss = 1.02, f1score = 0.53529       \n",
            "test-data evaluation:- acc = 0.53529, CrossEntropyLoss = 1.02, f1score = 0.53529       time_elapsed = 0.0 minuts. \n",
            " -----------------------------------------------------------------------------------------------------------------------\n"
          ]
        },
        {
          "output_type": "stream",
          "name": "stderr",
          "text": [
            "epoch [13/300], loss=1.0237: 100%|██████████| 1/1 [00:00<00:00, 31.77it/s]\n"
          ]
        },
        {
          "output_type": "stream",
          "name": "stdout",
          "text": [
            "after 13 epoch, \n",
            "train-data evaluation:- acc = 0.55588, CrossEntropyLoss = 0.96, f1score = 0.55588       \n",
            "test-data evaluation:- acc = 0.55588, CrossEntropyLoss = 0.96, f1score = 0.55588       time_elapsed = 0.0 minuts. \n",
            " -----------------------------------------------------------------------------------------------------------------------\n"
          ]
        },
        {
          "output_type": "stream",
          "name": "stderr",
          "text": [
            "epoch [14/300], loss=0.9709: 100%|██████████| 1/1 [00:00<00:00, 32.05it/s]\n"
          ]
        },
        {
          "output_type": "stream",
          "name": "stdout",
          "text": [
            "after 14 epoch, \n",
            "train-data evaluation:- acc = 0.56765, CrossEntropyLoss = 0.91, f1score = 0.56765       \n",
            "test-data evaluation:- acc = 0.56765, CrossEntropyLoss = 0.91, f1score = 0.56765       time_elapsed = 0.0 minuts. \n",
            " -----------------------------------------------------------------------------------------------------------------------\n"
          ]
        },
        {
          "output_type": "stream",
          "name": "stderr",
          "text": [
            "epoch [15/300], loss=0.9255: 100%|██████████| 1/1 [00:00<00:00, 34.53it/s]\n"
          ]
        },
        {
          "output_type": "stream",
          "name": "stdout",
          "text": [
            "after 15 epoch, \n",
            "train-data evaluation:- acc = 0.60588, CrossEntropyLoss = 0.87, f1score = 0.60588       \n",
            "test-data evaluation:- acc = 0.60588, CrossEntropyLoss = 0.87, f1score = 0.60588       time_elapsed = 0.0 minuts. \n",
            " -----------------------------------------------------------------------------------------------------------------------\n"
          ]
        },
        {
          "output_type": "stream",
          "name": "stderr",
          "text": [
            "epoch [16/300], loss=0.8821: 100%|██████████| 1/1 [00:00<00:00, 32.89it/s]\n"
          ]
        },
        {
          "output_type": "stream",
          "name": "stdout",
          "text": [
            "after 16 epoch, \n",
            "train-data evaluation:- acc = 0.60882, CrossEntropyLoss = 0.83, f1score = 0.60882       \n",
            "test-data evaluation:- acc = 0.60882, CrossEntropyLoss = 0.83, f1score = 0.60882       time_elapsed = 0.0 minuts. \n",
            " -----------------------------------------------------------------------------------------------------------------------\n"
          ]
        },
        {
          "output_type": "stream",
          "name": "stderr",
          "text": [
            "epoch [17/300], loss=0.8405: 100%|██████████| 1/1 [00:00<00:00, 32.24it/s]\n"
          ]
        },
        {
          "output_type": "stream",
          "name": "stdout",
          "text": [
            "after 17 epoch, \n",
            "train-data evaluation:- acc = 0.64412, CrossEntropyLoss = 0.80, f1score = 0.64412       \n",
            "test-data evaluation:- acc = 0.64412, CrossEntropyLoss = 0.80, f1score = 0.64412       time_elapsed = 0.0 minuts. \n",
            " -----------------------------------------------------------------------------------------------------------------------\n"
          ]
        },
        {
          "output_type": "stream",
          "name": "stderr",
          "text": [
            "epoch [18/300], loss=0.8010: 100%|██████████| 1/1 [00:00<00:00, 28.83it/s]\n"
          ]
        },
        {
          "output_type": "stream",
          "name": "stdout",
          "text": [
            "after 18 epoch, \n",
            "train-data evaluation:- acc = 0.66176, CrossEntropyLoss = 0.77, f1score = 0.66176       \n",
            "test-data evaluation:- acc = 0.66176, CrossEntropyLoss = 0.77, f1score = 0.66176       time_elapsed = 0.0 minuts. \n",
            " -----------------------------------------------------------------------------------------------------------------------\n"
          ]
        },
        {
          "output_type": "stream",
          "name": "stderr",
          "text": [
            "epoch [19/300], loss=0.7638: 100%|██████████| 1/1 [00:00<00:00, 36.87it/s]\n"
          ]
        },
        {
          "output_type": "stream",
          "name": "stdout",
          "text": [
            "after 19 epoch, \n",
            "train-data evaluation:- acc = 0.68824, CrossEntropyLoss = 0.73, f1score = 0.68824       \n",
            "test-data evaluation:- acc = 0.68824, CrossEntropyLoss = 0.73, f1score = 0.68824       time_elapsed = 0.0 minuts. \n",
            " -----------------------------------------------------------------------------------------------------------------------\n"
          ]
        },
        {
          "output_type": "stream",
          "name": "stderr",
          "text": [
            "epoch [20/300], loss=0.7290: 100%|██████████| 1/1 [00:00<00:00, 33.06it/s]\n"
          ]
        },
        {
          "output_type": "stream",
          "name": "stdout",
          "text": [
            "after 20 epoch, \n",
            "train-data evaluation:- acc = 0.69706, CrossEntropyLoss = 0.70, f1score = 0.69706       \n",
            "test-data evaluation:- acc = 0.69706, CrossEntropyLoss = 0.70, f1score = 0.69706       time_elapsed = 0.0 minuts. \n",
            " -----------------------------------------------------------------------------------------------------------------------\n"
          ]
        },
        {
          "output_type": "stream",
          "name": "stderr",
          "text": [
            "epoch [21/300], loss=0.6996: 100%|██████████| 1/1 [00:00<00:00, 22.69it/s]\n"
          ]
        },
        {
          "output_type": "stream",
          "name": "stdout",
          "text": [
            "after 21 epoch, \n",
            "train-data evaluation:- acc = 0.71471, CrossEntropyLoss = 0.67, f1score = 0.71471       \n",
            "test-data evaluation:- acc = 0.71471, CrossEntropyLoss = 0.67, f1score = 0.71471       time_elapsed = 0.0 minuts. \n",
            " -----------------------------------------------------------------------------------------------------------------------\n"
          ]
        },
        {
          "output_type": "stream",
          "name": "stderr",
          "text": [
            "epoch [22/300], loss=0.6676: 100%|██████████| 1/1 [00:00<00:00, 18.36it/s]\n"
          ]
        },
        {
          "output_type": "stream",
          "name": "stdout",
          "text": [
            "after 22 epoch, \n",
            "train-data evaluation:- acc = 0.71765, CrossEntropyLoss = 0.64, f1score = 0.71765       \n",
            "test-data evaluation:- acc = 0.71765, CrossEntropyLoss = 0.64, f1score = 0.71765       time_elapsed = 0.0 minuts. \n",
            " -----------------------------------------------------------------------------------------------------------------------\n"
          ]
        },
        {
          "output_type": "stream",
          "name": "stderr",
          "text": [
            "epoch [23/300], loss=0.6337: 100%|██████████| 1/1 [00:00<00:00, 33.37it/s]\n"
          ]
        },
        {
          "output_type": "stream",
          "name": "stdout",
          "text": [
            "after 23 epoch, \n",
            "train-data evaluation:- acc = 0.71765, CrossEntropyLoss = 0.61, f1score = 0.71765       \n",
            "test-data evaluation:- acc = 0.71765, CrossEntropyLoss = 0.61, f1score = 0.71765       time_elapsed = 0.0 minuts. \n",
            " -----------------------------------------------------------------------------------------------------------------------\n"
          ]
        },
        {
          "output_type": "stream",
          "name": "stderr",
          "text": [
            "epoch [24/300], loss=0.6014: 100%|██████████| 1/1 [00:00<00:00, 34.17it/s]\n"
          ]
        },
        {
          "output_type": "stream",
          "name": "stdout",
          "text": [
            "after 24 epoch, \n",
            "train-data evaluation:- acc = 0.73235, CrossEntropyLoss = 0.59, f1score = 0.73235       \n",
            "test-data evaluation:- acc = 0.73235, CrossEntropyLoss = 0.59, f1score = 0.73235       time_elapsed = 0.0 minuts. \n",
            " -----------------------------------------------------------------------------------------------------------------------\n"
          ]
        },
        {
          "output_type": "stream",
          "name": "stderr",
          "text": [
            "epoch [25/300], loss=0.5687: 100%|██████████| 1/1 [00:00<00:00, 33.45it/s]\n"
          ]
        },
        {
          "output_type": "stream",
          "name": "stdout",
          "text": [
            "after 25 epoch, \n",
            "train-data evaluation:- acc = 0.75000, CrossEntropyLoss = 0.57, f1score = 0.75000       \n",
            "test-data evaluation:- acc = 0.75000, CrossEntropyLoss = 0.57, f1score = 0.75000       time_elapsed = 0.0 minuts. \n",
            " -----------------------------------------------------------------------------------------------------------------------\n"
          ]
        },
        {
          "output_type": "stream",
          "name": "stderr",
          "text": [
            "epoch [26/300], loss=0.5352: 100%|██████████| 1/1 [00:00<00:00, 33.41it/s]\n"
          ]
        },
        {
          "output_type": "stream",
          "name": "stdout",
          "text": [
            "after 26 epoch, \n",
            "train-data evaluation:- acc = 0.76765, CrossEntropyLoss = 0.55, f1score = 0.76765       \n",
            "test-data evaluation:- acc = 0.76765, CrossEntropyLoss = 0.55, f1score = 0.76765       time_elapsed = 0.0 minuts. \n",
            " -----------------------------------------------------------------------------------------------------------------------\n"
          ]
        },
        {
          "output_type": "stream",
          "name": "stderr",
          "text": [
            "epoch [27/300], loss=0.5070: 100%|██████████| 1/1 [00:00<00:00, 27.14it/s]\n"
          ]
        },
        {
          "output_type": "stream",
          "name": "stdout",
          "text": [
            "after 27 epoch, \n",
            "train-data evaluation:- acc = 0.77647, CrossEntropyLoss = 0.53, f1score = 0.77647       \n",
            "test-data evaluation:- acc = 0.77647, CrossEntropyLoss = 0.53, f1score = 0.77647       time_elapsed = 0.0 minuts. \n",
            " -----------------------------------------------------------------------------------------------------------------------\n"
          ]
        },
        {
          "output_type": "stream",
          "name": "stderr",
          "text": [
            "epoch [28/300], loss=0.4809: 100%|██████████| 1/1 [00:00<00:00, 23.46it/s]\n"
          ]
        },
        {
          "output_type": "stream",
          "name": "stdout",
          "text": [
            "after 28 epoch, \n",
            "train-data evaluation:- acc = 0.78824, CrossEntropyLoss = 0.51, f1score = 0.78824       \n",
            "test-data evaluation:- acc = 0.78824, CrossEntropyLoss = 0.51, f1score = 0.78824       time_elapsed = 0.0 minuts. \n",
            " -----------------------------------------------------------------------------------------------------------------------\n"
          ]
        },
        {
          "output_type": "stream",
          "name": "stderr",
          "text": [
            "epoch [29/300], loss=0.4553: 100%|██████████| 1/1 [00:00<00:00, 27.11it/s]\n"
          ]
        },
        {
          "output_type": "stream",
          "name": "stdout",
          "text": [
            "after 29 epoch, \n",
            "train-data evaluation:- acc = 0.79118, CrossEntropyLoss = 0.49, f1score = 0.79118       \n",
            "test-data evaluation:- acc = 0.79118, CrossEntropyLoss = 0.49, f1score = 0.79118       time_elapsed = 0.0 minuts. \n",
            " -----------------------------------------------------------------------------------------------------------------------\n"
          ]
        },
        {
          "output_type": "stream",
          "name": "stderr",
          "text": [
            "epoch [30/300], loss=0.4308: 100%|██████████| 1/1 [00:00<00:00,  2.32it/s]\n"
          ]
        },
        {
          "output_type": "stream",
          "name": "stdout",
          "text": [
            "after 30 epoch, \n",
            "train-data evaluation:- acc = 0.81176, CrossEntropyLoss = 0.46, f1score = 0.81176       \n",
            "test-data evaluation:- acc = 0.81176, CrossEntropyLoss = 0.46, f1score = 0.81176       time_elapsed = 0.0 minuts. \n",
            " -----------------------------------------------------------------------------------------------------------------------\n"
          ]
        },
        {
          "output_type": "stream",
          "name": "stderr",
          "text": [
            "epoch [31/300], loss=0.4072: 100%|██████████| 1/1 [00:00<00:00, 24.79it/s]\n"
          ]
        },
        {
          "output_type": "stream",
          "name": "stdout",
          "text": [
            "after 31 epoch, \n",
            "train-data evaluation:- acc = 0.80882, CrossEntropyLoss = 0.44, f1score = 0.80882       \n",
            "test-data evaluation:- acc = 0.80882, CrossEntropyLoss = 0.44, f1score = 0.80882       time_elapsed = 0.0 minuts. \n",
            " -----------------------------------------------------------------------------------------------------------------------\n"
          ]
        },
        {
          "output_type": "stream",
          "name": "stderr",
          "text": [
            "epoch [32/300], loss=0.3841: 100%|██████████| 1/1 [00:00<00:00, 22.98it/s]\n"
          ]
        },
        {
          "output_type": "stream",
          "name": "stdout",
          "text": [
            "after 32 epoch, \n",
            "train-data evaluation:- acc = 0.81765, CrossEntropyLoss = 0.41, f1score = 0.81765       \n",
            "test-data evaluation:- acc = 0.81765, CrossEntropyLoss = 0.41, f1score = 0.81765       time_elapsed = 0.0 minuts. \n",
            " -----------------------------------------------------------------------------------------------------------------------\n"
          ]
        },
        {
          "output_type": "stream",
          "name": "stderr",
          "text": [
            "epoch [33/300], loss=0.3634: 100%|██████████| 1/1 [00:00<00:00, 26.48it/s]\n"
          ]
        },
        {
          "output_type": "stream",
          "name": "stdout",
          "text": [
            "after 33 epoch, \n",
            "train-data evaluation:- acc = 0.82647, CrossEntropyLoss = 0.39, f1score = 0.82647       \n",
            "test-data evaluation:- acc = 0.82647, CrossEntropyLoss = 0.39, f1score = 0.82647       time_elapsed = 0.0 minuts. \n",
            " -----------------------------------------------------------------------------------------------------------------------\n"
          ]
        },
        {
          "output_type": "stream",
          "name": "stderr",
          "text": [
            "epoch [34/300], loss=0.3441: 100%|██████████| 1/1 [00:00<00:00, 25.23it/s]\n"
          ]
        },
        {
          "output_type": "stream",
          "name": "stdout",
          "text": [
            "after 34 epoch, \n",
            "train-data evaluation:- acc = 0.82647, CrossEntropyLoss = 0.38, f1score = 0.82647       \n",
            "test-data evaluation:- acc = 0.82647, CrossEntropyLoss = 0.38, f1score = 0.82647       time_elapsed = 0.0 minuts. \n",
            " -----------------------------------------------------------------------------------------------------------------------\n"
          ]
        },
        {
          "output_type": "stream",
          "name": "stderr",
          "text": [
            "epoch [35/300], loss=0.3260: 100%|██████████| 1/1 [00:00<00:00, 21.62it/s]\n"
          ]
        },
        {
          "output_type": "stream",
          "name": "stdout",
          "text": [
            "after 35 epoch, \n",
            "train-data evaluation:- acc = 0.82647, CrossEntropyLoss = 0.37, f1score = 0.82647       \n",
            "test-data evaluation:- acc = 0.82647, CrossEntropyLoss = 0.37, f1score = 0.82647       time_elapsed = 0.0 minuts. \n",
            " -----------------------------------------------------------------------------------------------------------------------\n"
          ]
        },
        {
          "output_type": "stream",
          "name": "stderr",
          "text": [
            "epoch [36/300], loss=0.3095: 100%|██████████| 1/1 [00:00<00:00, 21.98it/s]\n"
          ]
        },
        {
          "output_type": "stream",
          "name": "stdout",
          "text": [
            "after 36 epoch, \n",
            "train-data evaluation:- acc = 0.82059, CrossEntropyLoss = 0.36, f1score = 0.82059       \n",
            "test-data evaluation:- acc = 0.82059, CrossEntropyLoss = 0.36, f1score = 0.82059       time_elapsed = 0.0 minuts. \n",
            " -----------------------------------------------------------------------------------------------------------------------\n"
          ]
        },
        {
          "output_type": "stream",
          "name": "stderr",
          "text": [
            "epoch [37/300], loss=0.2947: 100%|██████████| 1/1 [00:00<00:00, 27.47it/s]\n"
          ]
        },
        {
          "output_type": "stream",
          "name": "stdout",
          "text": [
            "after 37 epoch, \n",
            "train-data evaluation:- acc = 0.83235, CrossEntropyLoss = 0.35, f1score = 0.83235       \n",
            "test-data evaluation:- acc = 0.83235, CrossEntropyLoss = 0.35, f1score = 0.83235       time_elapsed = 0.0 minuts. \n",
            " -----------------------------------------------------------------------------------------------------------------------\n"
          ]
        },
        {
          "output_type": "stream",
          "name": "stderr",
          "text": [
            "epoch [38/300], loss=0.2803: 100%|██████████| 1/1 [00:00<00:00, 26.63it/s]\n"
          ]
        },
        {
          "output_type": "stream",
          "name": "stdout",
          "text": [
            "after 38 epoch, \n",
            "train-data evaluation:- acc = 0.84118, CrossEntropyLoss = 0.35, f1score = 0.84118       \n",
            "test-data evaluation:- acc = 0.84118, CrossEntropyLoss = 0.35, f1score = 0.84118       time_elapsed = 0.0 minuts. \n",
            " -----------------------------------------------------------------------------------------------------------------------\n"
          ]
        },
        {
          "output_type": "stream",
          "name": "stderr",
          "text": [
            "epoch [39/300], loss=0.2668: 100%|██████████| 1/1 [00:00<00:00, 26.84it/s]\n"
          ]
        },
        {
          "output_type": "stream",
          "name": "stdout",
          "text": [
            "after 39 epoch, \n",
            "train-data evaluation:- acc = 0.84118, CrossEntropyLoss = 0.33, f1score = 0.84118       \n",
            "test-data evaluation:- acc = 0.84118, CrossEntropyLoss = 0.33, f1score = 0.84118       time_elapsed = 0.0 minuts. \n",
            " -----------------------------------------------------------------------------------------------------------------------\n"
          ]
        },
        {
          "output_type": "stream",
          "name": "stderr",
          "text": [
            "epoch [40/300], loss=0.2530: 100%|██████████| 1/1 [00:00<00:00, 27.95it/s]\n"
          ]
        },
        {
          "output_type": "stream",
          "name": "stdout",
          "text": [
            "after 40 epoch, \n",
            "train-data evaluation:- acc = 0.84706, CrossEntropyLoss = 0.31, f1score = 0.84706       \n",
            "test-data evaluation:- acc = 0.84706, CrossEntropyLoss = 0.31, f1score = 0.84706       time_elapsed = 0.0 minuts. \n",
            " -----------------------------------------------------------------------------------------------------------------------\n"
          ]
        },
        {
          "output_type": "stream",
          "name": "stderr",
          "text": [
            "epoch [41/300], loss=0.2387: 100%|██████████| 1/1 [00:00<00:00, 27.67it/s]\n"
          ]
        },
        {
          "output_type": "stream",
          "name": "stdout",
          "text": [
            "after 41 epoch, \n",
            "train-data evaluation:- acc = 0.86471, CrossEntropyLoss = 0.30, f1score = 0.86471       \n",
            "test-data evaluation:- acc = 0.86471, CrossEntropyLoss = 0.30, f1score = 0.86471       time_elapsed = 0.0 minuts. \n",
            " -----------------------------------------------------------------------------------------------------------------------\n"
          ]
        },
        {
          "output_type": "stream",
          "name": "stderr",
          "text": [
            "epoch [42/300], loss=0.2245: 100%|██████████| 1/1 [00:00<00:00, 17.39it/s]\n"
          ]
        },
        {
          "output_type": "stream",
          "name": "stdout",
          "text": [
            "after 42 epoch, \n",
            "train-data evaluation:- acc = 0.87353, CrossEntropyLoss = 0.28, f1score = 0.87353       \n",
            "test-data evaluation:- acc = 0.87353, CrossEntropyLoss = 0.28, f1score = 0.87353       time_elapsed = 0.0 minuts. \n",
            " -----------------------------------------------------------------------------------------------------------------------\n"
          ]
        },
        {
          "output_type": "stream",
          "name": "stderr",
          "text": [
            "epoch [43/300], loss=0.2112: 100%|██████████| 1/1 [00:00<00:00, 22.14it/s]\n"
          ]
        },
        {
          "output_type": "stream",
          "name": "stdout",
          "text": [
            "after 43 epoch, \n",
            "train-data evaluation:- acc = 0.87647, CrossEntropyLoss = 0.27, f1score = 0.87647       \n",
            "test-data evaluation:- acc = 0.87647, CrossEntropyLoss = 0.27, f1score = 0.87647       time_elapsed = 0.0 minuts. \n",
            " -----------------------------------------------------------------------------------------------------------------------\n"
          ]
        },
        {
          "output_type": "stream",
          "name": "stderr",
          "text": [
            "epoch [44/300], loss=0.1988: 100%|██████████| 1/1 [00:00<00:00, 19.84it/s]\n"
          ]
        },
        {
          "output_type": "stream",
          "name": "stdout",
          "text": [
            "after 44 epoch, \n",
            "train-data evaluation:- acc = 0.87941, CrossEntropyLoss = 0.26, f1score = 0.87941       \n",
            "test-data evaluation:- acc = 0.87941, CrossEntropyLoss = 0.26, f1score = 0.87941       time_elapsed = 0.0 minuts. \n",
            " -----------------------------------------------------------------------------------------------------------------------\n"
          ]
        },
        {
          "output_type": "stream",
          "name": "stderr",
          "text": [
            "epoch [45/300], loss=0.1885: 100%|██████████| 1/1 [00:00<00:00, 21.87it/s]\n"
          ]
        },
        {
          "output_type": "stream",
          "name": "stdout",
          "text": [
            "after 45 epoch, \n",
            "train-data evaluation:- acc = 0.88235, CrossEntropyLoss = 0.26, f1score = 0.88235       \n",
            "test-data evaluation:- acc = 0.88235, CrossEntropyLoss = 0.26, f1score = 0.88235       time_elapsed = 0.0 minuts. \n",
            " -----------------------------------------------------------------------------------------------------------------------\n"
          ]
        },
        {
          "output_type": "stream",
          "name": "stderr",
          "text": [
            "epoch [46/300], loss=0.1789: 100%|██████████| 1/1 [00:00<00:00, 23.65it/s]\n"
          ]
        },
        {
          "output_type": "stream",
          "name": "stdout",
          "text": [
            "after 46 epoch, \n",
            "train-data evaluation:- acc = 0.88824, CrossEntropyLoss = 0.25, f1score = 0.88824       \n",
            "test-data evaluation:- acc = 0.88824, CrossEntropyLoss = 0.25, f1score = 0.88824       time_elapsed = 0.0 minuts. \n",
            " -----------------------------------------------------------------------------------------------------------------------\n"
          ]
        },
        {
          "output_type": "stream",
          "name": "stderr",
          "text": [
            "epoch [47/300], loss=0.1695: 100%|██████████| 1/1 [00:00<00:00, 22.54it/s]\n"
          ]
        },
        {
          "output_type": "stream",
          "name": "stdout",
          "text": [
            "after 47 epoch, \n",
            "train-data evaluation:- acc = 0.89412, CrossEntropyLoss = 0.25, f1score = 0.89412       \n",
            "test-data evaluation:- acc = 0.89412, CrossEntropyLoss = 0.25, f1score = 0.89412       time_elapsed = 0.0 minuts. \n",
            " -----------------------------------------------------------------------------------------------------------------------\n"
          ]
        },
        {
          "output_type": "stream",
          "name": "stderr",
          "text": [
            "epoch [48/300], loss=0.1602: 100%|██████████| 1/1 [00:00<00:00, 28.21it/s]\n"
          ]
        },
        {
          "output_type": "stream",
          "name": "stdout",
          "text": [
            "after 48 epoch, \n",
            "train-data evaluation:- acc = 0.89118, CrossEntropyLoss = 0.24, f1score = 0.89118       \n",
            "test-data evaluation:- acc = 0.89118, CrossEntropyLoss = 0.24, f1score = 0.89118       time_elapsed = 0.0 minuts. \n",
            " -----------------------------------------------------------------------------------------------------------------------\n"
          ]
        },
        {
          "output_type": "stream",
          "name": "stderr",
          "text": [
            "epoch [49/300], loss=0.1515: 100%|██████████| 1/1 [00:00<00:00, 20.43it/s]\n"
          ]
        },
        {
          "output_type": "stream",
          "name": "stdout",
          "text": [
            "after 49 epoch, \n",
            "train-data evaluation:- acc = 0.88235, CrossEntropyLoss = 0.23, f1score = 0.88235       \n",
            "test-data evaluation:- acc = 0.88235, CrossEntropyLoss = 0.23, f1score = 0.88235       time_elapsed = 0.0 minuts. \n",
            " -----------------------------------------------------------------------------------------------------------------------\n"
          ]
        },
        {
          "output_type": "stream",
          "name": "stderr",
          "text": [
            "epoch [50/300], loss=0.1435: 100%|██████████| 1/1 [00:00<00:00, 20.78it/s]\n"
          ]
        },
        {
          "output_type": "stream",
          "name": "stdout",
          "text": [
            "after 50 epoch, \n",
            "train-data evaluation:- acc = 0.88529, CrossEntropyLoss = 0.23, f1score = 0.88529       \n",
            "test-data evaluation:- acc = 0.88529, CrossEntropyLoss = 0.23, f1score = 0.88529       time_elapsed = 0.0 minuts. \n",
            " -----------------------------------------------------------------------------------------------------------------------\n"
          ]
        },
        {
          "output_type": "stream",
          "name": "stderr",
          "text": [
            "epoch [51/300], loss=0.1366: 100%|██████████| 1/1 [00:00<00:00, 24.79it/s]\n"
          ]
        },
        {
          "output_type": "stream",
          "name": "stdout",
          "text": [
            "after 51 epoch, \n",
            "train-data evaluation:- acc = 0.89118, CrossEntropyLoss = 0.22, f1score = 0.89118       \n",
            "test-data evaluation:- acc = 0.89118, CrossEntropyLoss = 0.22, f1score = 0.89118       time_elapsed = 0.0 minuts. \n",
            " -----------------------------------------------------------------------------------------------------------------------\n"
          ]
        },
        {
          "output_type": "stream",
          "name": "stderr",
          "text": [
            "epoch [52/300], loss=0.1304: 100%|██████████| 1/1 [00:00<00:00, 28.62it/s]\n"
          ]
        },
        {
          "output_type": "stream",
          "name": "stdout",
          "text": [
            "after 52 epoch, \n",
            "train-data evaluation:- acc = 0.90294, CrossEntropyLoss = 0.22, f1score = 0.90294       \n",
            "test-data evaluation:- acc = 0.90294, CrossEntropyLoss = 0.22, f1score = 0.90294       time_elapsed = 0.0 minuts. \n",
            " -----------------------------------------------------------------------------------------------------------------------\n"
          ]
        },
        {
          "output_type": "stream",
          "name": "stderr",
          "text": [
            "epoch [53/300], loss=0.1247: 100%|██████████| 1/1 [00:00<00:00, 28.01it/s]\n"
          ]
        },
        {
          "output_type": "stream",
          "name": "stdout",
          "text": [
            "after 53 epoch, \n",
            "train-data evaluation:- acc = 0.90588, CrossEntropyLoss = 0.22, f1score = 0.90588       \n",
            "test-data evaluation:- acc = 0.90588, CrossEntropyLoss = 0.22, f1score = 0.90588       time_elapsed = 0.0 minuts. \n",
            " -----------------------------------------------------------------------------------------------------------------------\n"
          ]
        },
        {
          "output_type": "stream",
          "name": "stderr",
          "text": [
            "epoch [54/300], loss=0.1193: 100%|██████████| 1/1 [00:00<00:00, 25.76it/s]\n"
          ]
        },
        {
          "output_type": "stream",
          "name": "stdout",
          "text": [
            "after 54 epoch, \n",
            "train-data evaluation:- acc = 0.91176, CrossEntropyLoss = 0.21, f1score = 0.91176       \n",
            "test-data evaluation:- acc = 0.91176, CrossEntropyLoss = 0.21, f1score = 0.91176       time_elapsed = 0.0 minuts. \n",
            " -----------------------------------------------------------------------------------------------------------------------\n"
          ]
        },
        {
          "output_type": "stream",
          "name": "stderr",
          "text": [
            "epoch [55/300], loss=0.1140: 100%|██████████| 1/1 [00:00<00:00, 28.39it/s]\n"
          ]
        },
        {
          "output_type": "stream",
          "name": "stdout",
          "text": [
            "after 55 epoch, \n",
            "train-data evaluation:- acc = 0.90882, CrossEntropyLoss = 0.21, f1score = 0.90882       \n",
            "test-data evaluation:- acc = 0.90882, CrossEntropyLoss = 0.21, f1score = 0.90882       time_elapsed = 0.0 minuts. \n",
            " -----------------------------------------------------------------------------------------------------------------------\n"
          ]
        },
        {
          "output_type": "stream",
          "name": "stderr",
          "text": [
            "epoch [56/300], loss=0.1087: 100%|██████████| 1/1 [00:00<00:00, 26.64it/s]\n"
          ]
        },
        {
          "output_type": "stream",
          "name": "stdout",
          "text": [
            "after 56 epoch, \n",
            "train-data evaluation:- acc = 0.91471, CrossEntropyLoss = 0.21, f1score = 0.91471       \n",
            "test-data evaluation:- acc = 0.91471, CrossEntropyLoss = 0.21, f1score = 0.91471       time_elapsed = 0.0 minuts. \n",
            " -----------------------------------------------------------------------------------------------------------------------\n"
          ]
        },
        {
          "output_type": "stream",
          "name": "stderr",
          "text": [
            "epoch [57/300], loss=0.1040: 100%|██████████| 1/1 [00:00<00:00, 26.10it/s]\n"
          ]
        },
        {
          "output_type": "stream",
          "name": "stdout",
          "text": [
            "after 57 epoch, \n",
            "train-data evaluation:- acc = 0.91765, CrossEntropyLoss = 0.20, f1score = 0.91765       \n",
            "test-data evaluation:- acc = 0.91765, CrossEntropyLoss = 0.20, f1score = 0.91765       time_elapsed = 0.0 minuts. \n",
            " -----------------------------------------------------------------------------------------------------------------------\n"
          ]
        },
        {
          "output_type": "stream",
          "name": "stderr",
          "text": [
            "epoch [58/300], loss=0.0996: 100%|██████████| 1/1 [00:00<00:00, 24.80it/s]\n"
          ]
        },
        {
          "output_type": "stream",
          "name": "stdout",
          "text": [
            "after 58 epoch, \n",
            "train-data evaluation:- acc = 0.92059, CrossEntropyLoss = 0.20, f1score = 0.92059       \n",
            "test-data evaluation:- acc = 0.92059, CrossEntropyLoss = 0.20, f1score = 0.92059       time_elapsed = 0.0 minuts. \n",
            " -----------------------------------------------------------------------------------------------------------------------\n"
          ]
        },
        {
          "output_type": "stream",
          "name": "stderr",
          "text": [
            "epoch [59/300], loss=0.0953: 100%|██████████| 1/1 [00:00<00:00, 26.87it/s]\n"
          ]
        },
        {
          "output_type": "stream",
          "name": "stdout",
          "text": [
            "after 59 epoch, \n",
            "train-data evaluation:- acc = 0.92059, CrossEntropyLoss = 0.20, f1score = 0.92059       \n",
            "test-data evaluation:- acc = 0.92059, CrossEntropyLoss = 0.20, f1score = 0.92059       time_elapsed = 0.0 minuts. \n",
            " -----------------------------------------------------------------------------------------------------------------------\n"
          ]
        },
        {
          "output_type": "stream",
          "name": "stderr",
          "text": [
            "epoch [60/300], loss=0.0912: 100%|██████████| 1/1 [00:00<00:00, 21.24it/s]\n"
          ]
        },
        {
          "output_type": "stream",
          "name": "stdout",
          "text": [
            "after 60 epoch, \n",
            "train-data evaluation:- acc = 0.92353, CrossEntropyLoss = 0.20, f1score = 0.92353       \n",
            "test-data evaluation:- acc = 0.92353, CrossEntropyLoss = 0.20, f1score = 0.92353       time_elapsed = 0.0 minuts. \n",
            " -----------------------------------------------------------------------------------------------------------------------\n"
          ]
        },
        {
          "output_type": "stream",
          "name": "stderr",
          "text": [
            "epoch [61/300], loss=0.0872: 100%|██████████| 1/1 [00:00<00:00, 21.54it/s]\n"
          ]
        },
        {
          "output_type": "stream",
          "name": "stdout",
          "text": [
            "after 61 epoch, \n",
            "train-data evaluation:- acc = 0.92647, CrossEntropyLoss = 0.19, f1score = 0.92647       \n",
            "test-data evaluation:- acc = 0.92647, CrossEntropyLoss = 0.19, f1score = 0.92647       time_elapsed = 0.0 minuts. \n",
            " -----------------------------------------------------------------------------------------------------------------------\n"
          ]
        },
        {
          "output_type": "stream",
          "name": "stderr",
          "text": [
            "epoch [62/300], loss=0.0832: 100%|██████████| 1/1 [00:00<00:00, 22.94it/s]\n"
          ]
        },
        {
          "output_type": "stream",
          "name": "stdout",
          "text": [
            "after 62 epoch, \n",
            "train-data evaluation:- acc = 0.93235, CrossEntropyLoss = 0.19, f1score = 0.93235       \n",
            "test-data evaluation:- acc = 0.93235, CrossEntropyLoss = 0.19, f1score = 0.93235       time_elapsed = 0.0 minuts. \n",
            " -----------------------------------------------------------------------------------------------------------------------\n"
          ]
        },
        {
          "output_type": "stream",
          "name": "stderr",
          "text": [
            "epoch [63/300], loss=0.0797: 100%|██████████| 1/1 [00:00<00:00, 22.54it/s]\n"
          ]
        },
        {
          "output_type": "stream",
          "name": "stdout",
          "text": [
            "after 63 epoch, \n",
            "train-data evaluation:- acc = 0.93235, CrossEntropyLoss = 0.18, f1score = 0.93235       \n",
            "test-data evaluation:- acc = 0.93235, CrossEntropyLoss = 0.18, f1score = 0.93235       time_elapsed = 0.0 minuts. \n",
            " -----------------------------------------------------------------------------------------------------------------------\n"
          ]
        },
        {
          "output_type": "stream",
          "name": "stderr",
          "text": [
            "epoch [64/300], loss=0.0764: 100%|██████████| 1/1 [00:00<00:00, 20.70it/s]"
          ]
        },
        {
          "output_type": "stream",
          "name": "stdout",
          "text": [
            "after 64 epoch, \n",
            "train-data evaluation:- acc = 0.93529, CrossEntropyLoss = 0.18, f1score = 0.93529       \n",
            "test-data evaluation:- acc = 0.93529, CrossEntropyLoss = 0.18, f1score = 0.93529       time_elapsed = 0.0 minuts. \n",
            " -----------------------------------------------------------------------------------------------------------------------\n"
          ]
        },
        {
          "output_type": "stream",
          "name": "stderr",
          "text": [
            "\n",
            "epoch [65/300], loss=0.0732: 100%|██████████| 1/1 [00:00<00:00, 24.55it/s]\n"
          ]
        },
        {
          "output_type": "stream",
          "name": "stdout",
          "text": [
            "after 65 epoch, \n",
            "train-data evaluation:- acc = 0.93235, CrossEntropyLoss = 0.18, f1score = 0.93235       \n",
            "test-data evaluation:- acc = 0.93235, CrossEntropyLoss = 0.18, f1score = 0.93235       time_elapsed = 0.0 minuts. \n",
            " -----------------------------------------------------------------------------------------------------------------------\n"
          ]
        },
        {
          "output_type": "stream",
          "name": "stderr",
          "text": [
            "epoch [66/300], loss=0.0703: 100%|██████████| 1/1 [00:00<00:00, 20.74it/s]\n"
          ]
        },
        {
          "output_type": "stream",
          "name": "stdout",
          "text": [
            "after 66 epoch, \n",
            "train-data evaluation:- acc = 0.93235, CrossEntropyLoss = 0.17, f1score = 0.93235       \n",
            "test-data evaluation:- acc = 0.93235, CrossEntropyLoss = 0.17, f1score = 0.93235       time_elapsed = 0.0 minuts. \n",
            " -----------------------------------------------------------------------------------------------------------------------\n"
          ]
        },
        {
          "output_type": "stream",
          "name": "stderr",
          "text": [
            "epoch [67/300], loss=0.0674: 100%|██████████| 1/1 [00:00<00:00, 18.96it/s]\n"
          ]
        },
        {
          "output_type": "stream",
          "name": "stdout",
          "text": [
            "after 67 epoch, \n",
            "train-data evaluation:- acc = 0.93529, CrossEntropyLoss = 0.17, f1score = 0.93529       \n",
            "test-data evaluation:- acc = 0.93529, CrossEntropyLoss = 0.17, f1score = 0.93529       time_elapsed = 0.0 minuts. \n",
            " -----------------------------------------------------------------------------------------------------------------------\n"
          ]
        },
        {
          "output_type": "stream",
          "name": "stderr",
          "text": [
            "epoch [68/300], loss=0.0647: 100%|██████████| 1/1 [00:00<00:00, 22.17it/s]\n"
          ]
        },
        {
          "output_type": "stream",
          "name": "stdout",
          "text": [
            "after 68 epoch, \n",
            "train-data evaluation:- acc = 0.93529, CrossEntropyLoss = 0.17, f1score = 0.93529       \n",
            "test-data evaluation:- acc = 0.93529, CrossEntropyLoss = 0.17, f1score = 0.93529       time_elapsed = 0.0 minuts. \n",
            " -----------------------------------------------------------------------------------------------------------------------\n"
          ]
        },
        {
          "output_type": "stream",
          "name": "stderr",
          "text": [
            "epoch [69/300], loss=0.0622: 100%|██████████| 1/1 [00:00<00:00, 21.42it/s]\n"
          ]
        },
        {
          "output_type": "stream",
          "name": "stdout",
          "text": [
            "after 69 epoch, \n",
            "train-data evaluation:- acc = 0.93824, CrossEntropyLoss = 0.17, f1score = 0.93824       \n",
            "test-data evaluation:- acc = 0.93824, CrossEntropyLoss = 0.17, f1score = 0.93824       time_elapsed = 0.0 minuts. \n",
            " -----------------------------------------------------------------------------------------------------------------------\n"
          ]
        },
        {
          "output_type": "stream",
          "name": "stderr",
          "text": [
            "epoch [70/300], loss=0.0599: 100%|██████████| 1/1 [00:00<00:00, 22.67it/s]\n"
          ]
        },
        {
          "output_type": "stream",
          "name": "stdout",
          "text": [
            "after 70 epoch, \n",
            "train-data evaluation:- acc = 0.93824, CrossEntropyLoss = 0.17, f1score = 0.93824       \n",
            "test-data evaluation:- acc = 0.93824, CrossEntropyLoss = 0.17, f1score = 0.93824       time_elapsed = 0.0 minuts. \n",
            " -----------------------------------------------------------------------------------------------------------------------\n"
          ]
        },
        {
          "output_type": "stream",
          "name": "stderr",
          "text": [
            "epoch [71/300], loss=0.0576: 100%|██████████| 1/1 [00:00<00:00, 19.67it/s]\n"
          ]
        },
        {
          "output_type": "stream",
          "name": "stdout",
          "text": [
            "after 71 epoch, \n",
            "train-data evaluation:- acc = 0.94412, CrossEntropyLoss = 0.17, f1score = 0.94412       \n",
            "test-data evaluation:- acc = 0.94412, CrossEntropyLoss = 0.17, f1score = 0.94412       time_elapsed = 0.0 minuts. \n",
            " -----------------------------------------------------------------------------------------------------------------------\n"
          ]
        },
        {
          "output_type": "stream",
          "name": "stderr",
          "text": [
            "epoch [72/300], loss=0.0554: 100%|██████████| 1/1 [00:00<00:00, 20.80it/s]\n"
          ]
        },
        {
          "output_type": "stream",
          "name": "stdout",
          "text": [
            "after 72 epoch, \n",
            "train-data evaluation:- acc = 0.94412, CrossEntropyLoss = 0.17, f1score = 0.94412       \n",
            "test-data evaluation:- acc = 0.94412, CrossEntropyLoss = 0.17, f1score = 0.94412       time_elapsed = 0.0 minuts. \n",
            " -----------------------------------------------------------------------------------------------------------------------\n"
          ]
        },
        {
          "output_type": "stream",
          "name": "stderr",
          "text": [
            "epoch [73/300], loss=0.0534: 100%|██████████| 1/1 [00:00<00:00, 24.22it/s]"
          ]
        },
        {
          "output_type": "stream",
          "name": "stdout",
          "text": [
            "after 73 epoch, \n",
            "train-data evaluation:- acc = 0.94412, CrossEntropyLoss = 0.17, f1score = 0.94412       \n",
            "test-data evaluation:- acc = 0.94412, CrossEntropyLoss = 0.17, f1score = 0.94412       time_elapsed = 0.0 minuts. \n"
          ]
        },
        {
          "output_type": "stream",
          "name": "stderr",
          "text": [
            "\n"
          ]
        },
        {
          "output_type": "stream",
          "name": "stdout",
          "text": [
            " -----------------------------------------------------------------------------------------------------------------------\n"
          ]
        },
        {
          "output_type": "stream",
          "name": "stderr",
          "text": [
            "epoch [74/300], loss=0.0514: 100%|██████████| 1/1 [00:00<00:00,  2.42it/s]\n"
          ]
        },
        {
          "output_type": "stream",
          "name": "stdout",
          "text": [
            "after 74 epoch, \n",
            "train-data evaluation:- acc = 0.94118, CrossEntropyLoss = 0.17, f1score = 0.94118       \n",
            "test-data evaluation:- acc = 0.94118, CrossEntropyLoss = 0.17, f1score = 0.94118       time_elapsed = 0.0 minuts. \n",
            " -----------------------------------------------------------------------------------------------------------------------\n"
          ]
        },
        {
          "output_type": "stream",
          "name": "stderr",
          "text": [
            "epoch [75/300], loss=0.0498: 100%|██████████| 1/1 [00:00<00:00, 21.64it/s]\n"
          ]
        },
        {
          "output_type": "stream",
          "name": "stdout",
          "text": [
            "after 75 epoch, \n",
            "train-data evaluation:- acc = 0.93824, CrossEntropyLoss = 0.17, f1score = 0.93824       \n",
            "test-data evaluation:- acc = 0.93824, CrossEntropyLoss = 0.17, f1score = 0.93824       time_elapsed = 0.0 minuts. \n",
            " -----------------------------------------------------------------------------------------------------------------------\n"
          ]
        },
        {
          "output_type": "stream",
          "name": "stderr",
          "text": [
            "epoch [76/300], loss=0.0481: 100%|██████████| 1/1 [00:00<00:00, 15.72it/s]\n"
          ]
        },
        {
          "output_type": "stream",
          "name": "stdout",
          "text": [
            "after 76 epoch, \n",
            "train-data evaluation:- acc = 0.94118, CrossEntropyLoss = 0.17, f1score = 0.94118       \n",
            "test-data evaluation:- acc = 0.94118, CrossEntropyLoss = 0.17, f1score = 0.94118       time_elapsed = 0.0 minuts. \n",
            " -----------------------------------------------------------------------------------------------------------------------\n"
          ]
        },
        {
          "output_type": "stream",
          "name": "stderr",
          "text": [
            "epoch [77/300], loss=0.0465: 100%|██████████| 1/1 [00:00<00:00, 21.61it/s]\n"
          ]
        },
        {
          "output_type": "stream",
          "name": "stdout",
          "text": [
            "after 77 epoch, \n",
            "train-data evaluation:- acc = 0.94118, CrossEntropyLoss = 0.17, f1score = 0.94118       \n",
            "test-data evaluation:- acc = 0.94118, CrossEntropyLoss = 0.17, f1score = 0.94118       time_elapsed = 0.0 minuts. \n",
            " -----------------------------------------------------------------------------------------------------------------------\n"
          ]
        },
        {
          "output_type": "stream",
          "name": "stderr",
          "text": [
            "epoch [78/300], loss=0.0450: 100%|██████████| 1/1 [00:00<00:00, 20.39it/s]\n"
          ]
        },
        {
          "output_type": "stream",
          "name": "stdout",
          "text": [
            "after 78 epoch, \n",
            "train-data evaluation:- acc = 0.94118, CrossEntropyLoss = 0.17, f1score = 0.94118       \n",
            "test-data evaluation:- acc = 0.94118, CrossEntropyLoss = 0.17, f1score = 0.94118       time_elapsed = 0.0 minuts. \n",
            " -----------------------------------------------------------------------------------------------------------------------\n"
          ]
        },
        {
          "output_type": "stream",
          "name": "stderr",
          "text": [
            "epoch [79/300], loss=0.0436: 100%|██████████| 1/1 [00:00<00:00, 22.47it/s]\n"
          ]
        },
        {
          "output_type": "stream",
          "name": "stdout",
          "text": [
            "after 79 epoch, \n",
            "train-data evaluation:- acc = 0.94118, CrossEntropyLoss = 0.17, f1score = 0.94118       \n",
            "test-data evaluation:- acc = 0.94118, CrossEntropyLoss = 0.17, f1score = 0.94118       time_elapsed = 0.0 minuts. \n",
            " -----------------------------------------------------------------------------------------------------------------------\n"
          ]
        },
        {
          "output_type": "stream",
          "name": "stderr",
          "text": [
            "epoch [80/300], loss=0.0422: 100%|██████████| 1/1 [00:00<00:00, 32.63it/s]\n"
          ]
        },
        {
          "output_type": "stream",
          "name": "stdout",
          "text": [
            "after 80 epoch, \n",
            "train-data evaluation:- acc = 0.94118, CrossEntropyLoss = 0.17, f1score = 0.94118       \n",
            "test-data evaluation:- acc = 0.94118, CrossEntropyLoss = 0.17, f1score = 0.94118       time_elapsed = 0.0 minuts. \n",
            " -----------------------------------------------------------------------------------------------------------------------\n"
          ]
        },
        {
          "output_type": "stream",
          "name": "stderr",
          "text": [
            "epoch [81/300], loss=0.0410: 100%|██████████| 1/1 [00:00<00:00, 25.58it/s]\n"
          ]
        },
        {
          "output_type": "stream",
          "name": "stdout",
          "text": [
            "after 81 epoch, \n",
            "train-data evaluation:- acc = 0.94118, CrossEntropyLoss = 0.17, f1score = 0.94118       \n",
            "test-data evaluation:- acc = 0.94118, CrossEntropyLoss = 0.17, f1score = 0.94118       time_elapsed = 0.0 minuts. \n",
            " -----------------------------------------------------------------------------------------------------------------------\n"
          ]
        },
        {
          "output_type": "stream",
          "name": "stderr",
          "text": [
            "epoch [82/300], loss=0.0399: 100%|██████████| 1/1 [00:00<00:00, 28.00it/s]\n"
          ]
        },
        {
          "output_type": "stream",
          "name": "stdout",
          "text": [
            "after 82 epoch, \n",
            "train-data evaluation:- acc = 0.94118, CrossEntropyLoss = 0.17, f1score = 0.94118       \n",
            "test-data evaluation:- acc = 0.94118, CrossEntropyLoss = 0.17, f1score = 0.94118       time_elapsed = 0.0 minuts. \n",
            " -----------------------------------------------------------------------------------------------------------------------\n"
          ]
        },
        {
          "output_type": "stream",
          "name": "stderr",
          "text": [
            "epoch [83/300], loss=0.0387: 100%|██████████| 1/1 [00:00<00:00, 25.49it/s]\n"
          ]
        },
        {
          "output_type": "stream",
          "name": "stdout",
          "text": [
            "after 83 epoch, \n",
            "train-data evaluation:- acc = 0.94118, CrossEntropyLoss = 0.17, f1score = 0.94118       \n",
            "test-data evaluation:- acc = 0.94118, CrossEntropyLoss = 0.17, f1score = 0.94118       time_elapsed = 0.0 minuts. \n",
            " -----------------------------------------------------------------------------------------------------------------------\n"
          ]
        },
        {
          "output_type": "stream",
          "name": "stderr",
          "text": [
            "epoch [84/300], loss=0.0376: 100%|██████████| 1/1 [00:00<00:00, 27.81it/s]\n"
          ]
        },
        {
          "output_type": "stream",
          "name": "stdout",
          "text": [
            "after 84 epoch, \n",
            "train-data evaluation:- acc = 0.93529, CrossEntropyLoss = 0.17, f1score = 0.93529       \n",
            "test-data evaluation:- acc = 0.93529, CrossEntropyLoss = 0.17, f1score = 0.93529       time_elapsed = 0.0 minuts. \n",
            " -----------------------------------------------------------------------------------------------------------------------\n"
          ]
        },
        {
          "output_type": "stream",
          "name": "stderr",
          "text": [
            "epoch [85/300], loss=0.0365: 100%|██████████| 1/1 [00:00<00:00, 34.88it/s]\n"
          ]
        },
        {
          "output_type": "stream",
          "name": "stdout",
          "text": [
            "after 85 epoch, \n",
            "train-data evaluation:- acc = 0.93529, CrossEntropyLoss = 0.17, f1score = 0.93529       \n",
            "test-data evaluation:- acc = 0.93529, CrossEntropyLoss = 0.17, f1score = 0.93529       time_elapsed = 0.0 minuts. \n",
            " -----------------------------------------------------------------------------------------------------------------------\n"
          ]
        },
        {
          "output_type": "stream",
          "name": "stderr",
          "text": [
            "epoch [86/300], loss=0.0354: 100%|██████████| 1/1 [00:00<00:00, 26.14it/s]\n"
          ]
        },
        {
          "output_type": "stream",
          "name": "stdout",
          "text": [
            "after 86 epoch, \n",
            "train-data evaluation:- acc = 0.93824, CrossEntropyLoss = 0.17, f1score = 0.93824       \n",
            "test-data evaluation:- acc = 0.93824, CrossEntropyLoss = 0.17, f1score = 0.93824       time_elapsed = 0.0 minuts. \n",
            " -----------------------------------------------------------------------------------------------------------------------\n"
          ]
        },
        {
          "output_type": "stream",
          "name": "stderr",
          "text": [
            "epoch [87/300], loss=0.0345: 100%|██████████| 1/1 [00:00<00:00, 27.92it/s]\n"
          ]
        },
        {
          "output_type": "stream",
          "name": "stdout",
          "text": [
            "after 87 epoch, \n",
            "train-data evaluation:- acc = 0.93824, CrossEntropyLoss = 0.17, f1score = 0.93824       \n",
            "test-data evaluation:- acc = 0.93824, CrossEntropyLoss = 0.17, f1score = 0.93824       time_elapsed = 0.0 minuts. \n",
            " -----------------------------------------------------------------------------------------------------------------------\n"
          ]
        },
        {
          "output_type": "stream",
          "name": "stderr",
          "text": [
            "epoch [88/300], loss=0.0336: 100%|██████████| 1/1 [00:00<00:00, 27.34it/s]\n"
          ]
        },
        {
          "output_type": "stream",
          "name": "stdout",
          "text": [
            "after 88 epoch, \n",
            "train-data evaluation:- acc = 0.94118, CrossEntropyLoss = 0.17, f1score = 0.94118       \n",
            "test-data evaluation:- acc = 0.94118, CrossEntropyLoss = 0.17, f1score = 0.94118       time_elapsed = 0.0 minuts. \n",
            " -----------------------------------------------------------------------------------------------------------------------\n"
          ]
        },
        {
          "output_type": "stream",
          "name": "stderr",
          "text": [
            "epoch [89/300], loss=0.0327: 100%|██████████| 1/1 [00:00<00:00, 30.94it/s]\n"
          ]
        },
        {
          "output_type": "stream",
          "name": "stdout",
          "text": [
            "after 89 epoch, \n",
            "train-data evaluation:- acc = 0.93529, CrossEntropyLoss = 0.17, f1score = 0.93529       \n",
            "test-data evaluation:- acc = 0.93529, CrossEntropyLoss = 0.17, f1score = 0.93529       time_elapsed = 0.0 minuts. \n",
            " -----------------------------------------------------------------------------------------------------------------------\n"
          ]
        },
        {
          "output_type": "stream",
          "name": "stderr",
          "text": [
            "epoch [90/300], loss=0.0318: 100%|██████████| 1/1 [00:00<00:00, 30.05it/s]\n"
          ]
        },
        {
          "output_type": "stream",
          "name": "stdout",
          "text": [
            "after 90 epoch, \n",
            "train-data evaluation:- acc = 0.93235, CrossEntropyLoss = 0.17, f1score = 0.93235       \n",
            "test-data evaluation:- acc = 0.93235, CrossEntropyLoss = 0.17, f1score = 0.93235       time_elapsed = 0.0 minuts. \n",
            " -----------------------------------------------------------------------------------------------------------------------\n"
          ]
        },
        {
          "output_type": "stream",
          "name": "stderr",
          "text": [
            "epoch [91/300], loss=0.0310: 100%|██████████| 1/1 [00:00<00:00, 28.85it/s]\n"
          ]
        },
        {
          "output_type": "stream",
          "name": "stdout",
          "text": [
            "after 91 epoch, \n",
            "train-data evaluation:- acc = 0.93529, CrossEntropyLoss = 0.17, f1score = 0.93529       \n",
            "test-data evaluation:- acc = 0.93529, CrossEntropyLoss = 0.17, f1score = 0.93529       time_elapsed = 0.0 minuts. \n",
            " -----------------------------------------------------------------------------------------------------------------------\n"
          ]
        },
        {
          "output_type": "stream",
          "name": "stderr",
          "text": [
            "epoch [92/300], loss=0.0302: 100%|██████████| 1/1 [00:00<00:00, 29.84it/s]\n"
          ]
        },
        {
          "output_type": "stream",
          "name": "stdout",
          "text": [
            "after 92 epoch, \n",
            "train-data evaluation:- acc = 0.93529, CrossEntropyLoss = 0.17, f1score = 0.93529       \n",
            "test-data evaluation:- acc = 0.93529, CrossEntropyLoss = 0.17, f1score = 0.93529       time_elapsed = 0.0 minuts. \n",
            " -----------------------------------------------------------------------------------------------------------------------\n"
          ]
        },
        {
          "output_type": "stream",
          "name": "stderr",
          "text": [
            "epoch [93/300], loss=0.0295: 100%|██████████| 1/1 [00:00<00:00, 31.45it/s]\n"
          ]
        },
        {
          "output_type": "stream",
          "name": "stdout",
          "text": [
            "after 93 epoch, \n",
            "train-data evaluation:- acc = 0.93529, CrossEntropyLoss = 0.17, f1score = 0.93529       \n",
            "test-data evaluation:- acc = 0.93529, CrossEntropyLoss = 0.17, f1score = 0.93529       time_elapsed = 0.0 minuts. \n",
            " -----------------------------------------------------------------------------------------------------------------------\n"
          ]
        },
        {
          "output_type": "stream",
          "name": "stderr",
          "text": [
            "epoch [94/300], loss=0.0288: 100%|██████████| 1/1 [00:00<00:00, 28.91it/s]\n"
          ]
        },
        {
          "output_type": "stream",
          "name": "stdout",
          "text": [
            "after 94 epoch, \n",
            "train-data evaluation:- acc = 0.93529, CrossEntropyLoss = 0.17, f1score = 0.93529       \n",
            "test-data evaluation:- acc = 0.93529, CrossEntropyLoss = 0.17, f1score = 0.93529       time_elapsed = 0.0 minuts. \n",
            " -----------------------------------------------------------------------------------------------------------------------\n"
          ]
        },
        {
          "output_type": "stream",
          "name": "stderr",
          "text": [
            "epoch [95/300], loss=0.0282: 100%|██████████| 1/1 [00:00<00:00, 35.02it/s]\n"
          ]
        },
        {
          "output_type": "stream",
          "name": "stdout",
          "text": [
            "after 95 epoch, \n",
            "train-data evaluation:- acc = 0.93529, CrossEntropyLoss = 0.17, f1score = 0.93529       \n",
            "test-data evaluation:- acc = 0.93529, CrossEntropyLoss = 0.17, f1score = 0.93529       time_elapsed = 0.0 minuts. \n",
            " -----------------------------------------------------------------------------------------------------------------------\n"
          ]
        },
        {
          "output_type": "stream",
          "name": "stderr",
          "text": [
            "epoch [96/300], loss=0.0275: 100%|██████████| 1/1 [00:00<00:00, 27.68it/s]\n"
          ]
        },
        {
          "output_type": "stream",
          "name": "stdout",
          "text": [
            "after 96 epoch, \n",
            "train-data evaluation:- acc = 0.93529, CrossEntropyLoss = 0.17, f1score = 0.93529       \n",
            "test-data evaluation:- acc = 0.93529, CrossEntropyLoss = 0.17, f1score = 0.93529       time_elapsed = 0.0 minuts. \n",
            " -----------------------------------------------------------------------------------------------------------------------\n"
          ]
        },
        {
          "output_type": "stream",
          "name": "stderr",
          "text": [
            "epoch [97/300], loss=0.0269: 100%|██████████| 1/1 [00:00<00:00, 35.47it/s]\n"
          ]
        },
        {
          "output_type": "stream",
          "name": "stdout",
          "text": [
            "after 97 epoch, \n",
            "train-data evaluation:- acc = 0.93529, CrossEntropyLoss = 0.17, f1score = 0.93529       \n",
            "test-data evaluation:- acc = 0.93529, CrossEntropyLoss = 0.17, f1score = 0.93529       time_elapsed = 0.0 minuts. \n",
            " -----------------------------------------------------------------------------------------------------------------------\n"
          ]
        },
        {
          "output_type": "stream",
          "name": "stderr",
          "text": [
            "epoch [98/300], loss=0.0263: 100%|██████████| 1/1 [00:00<00:00, 25.27it/s]\n"
          ]
        },
        {
          "output_type": "stream",
          "name": "stdout",
          "text": [
            "after 98 epoch, \n",
            "train-data evaluation:- acc = 0.93529, CrossEntropyLoss = 0.17, f1score = 0.93529       \n",
            "test-data evaluation:- acc = 0.93529, CrossEntropyLoss = 0.17, f1score = 0.93529       time_elapsed = 0.0 minuts. \n",
            " -----------------------------------------------------------------------------------------------------------------------\n"
          ]
        },
        {
          "output_type": "stream",
          "name": "stderr",
          "text": [
            "epoch [99/300], loss=0.0257: 100%|██████████| 1/1 [00:00<00:00, 25.97it/s]\n"
          ]
        },
        {
          "output_type": "stream",
          "name": "stdout",
          "text": [
            "after 99 epoch, \n",
            "train-data evaluation:- acc = 0.93529, CrossEntropyLoss = 0.17, f1score = 0.93529       \n",
            "test-data evaluation:- acc = 0.93529, CrossEntropyLoss = 0.17, f1score = 0.93529       time_elapsed = 0.0 minuts. \n",
            " -----------------------------------------------------------------------------------------------------------------------\n"
          ]
        },
        {
          "output_type": "stream",
          "name": "stderr",
          "text": [
            "epoch [100/300], loss=0.0252: 100%|██████████| 1/1 [00:00<00:00, 29.17it/s]\n"
          ]
        },
        {
          "output_type": "stream",
          "name": "stdout",
          "text": [
            "after 100 epoch, \n",
            "train-data evaluation:- acc = 0.93529, CrossEntropyLoss = 0.17, f1score = 0.93529       \n",
            "test-data evaluation:- acc = 0.93529, CrossEntropyLoss = 0.17, f1score = 0.93529       time_elapsed = 0.0 minuts. \n",
            " -----------------------------------------------------------------------------------------------------------------------\n"
          ]
        },
        {
          "output_type": "stream",
          "name": "stderr",
          "text": [
            "epoch [101/300], loss=0.0247: 100%|██████████| 1/1 [00:00<00:00, 28.52it/s]\n"
          ]
        },
        {
          "output_type": "stream",
          "name": "stdout",
          "text": [
            "after 101 epoch, \n",
            "train-data evaluation:- acc = 0.93529, CrossEntropyLoss = 0.17, f1score = 0.93529       \n",
            "test-data evaluation:- acc = 0.93529, CrossEntropyLoss = 0.17, f1score = 0.93529       time_elapsed = 0.0 minuts. \n",
            " -----------------------------------------------------------------------------------------------------------------------\n"
          ]
        },
        {
          "output_type": "stream",
          "name": "stderr",
          "text": [
            "epoch [102/300], loss=0.0242: 100%|██████████| 1/1 [00:00<00:00, 30.36it/s]\n"
          ]
        },
        {
          "output_type": "stream",
          "name": "stdout",
          "text": [
            "after 102 epoch, \n",
            "train-data evaluation:- acc = 0.93529, CrossEntropyLoss = 0.17, f1score = 0.93529       \n",
            "test-data evaluation:- acc = 0.93529, CrossEntropyLoss = 0.17, f1score = 0.93529       time_elapsed = 0.0 minuts. \n",
            " -----------------------------------------------------------------------------------------------------------------------\n"
          ]
        },
        {
          "output_type": "stream",
          "name": "stderr",
          "text": [
            "epoch [103/300], loss=0.0237: 100%|██████████| 1/1 [00:00<00:00, 26.12it/s]\n"
          ]
        },
        {
          "output_type": "stream",
          "name": "stdout",
          "text": [
            "after 103 epoch, \n",
            "train-data evaluation:- acc = 0.93235, CrossEntropyLoss = 0.17, f1score = 0.93235       \n",
            "test-data evaluation:- acc = 0.93235, CrossEntropyLoss = 0.17, f1score = 0.93235       time_elapsed = 0.0 minuts. \n",
            " -----------------------------------------------------------------------------------------------------------------------\n"
          ]
        },
        {
          "output_type": "stream",
          "name": "stderr",
          "text": [
            "epoch [104/300], loss=0.0232: 100%|██████████| 1/1 [00:00<00:00, 32.48it/s]\n"
          ]
        },
        {
          "output_type": "stream",
          "name": "stdout",
          "text": [
            "after 104 epoch, \n",
            "train-data evaluation:- acc = 0.93235, CrossEntropyLoss = 0.17, f1score = 0.93235       \n",
            "test-data evaluation:- acc = 0.93235, CrossEntropyLoss = 0.17, f1score = 0.93235       time_elapsed = 0.0 minuts. \n",
            " -----------------------------------------------------------------------------------------------------------------------\n"
          ]
        },
        {
          "output_type": "stream",
          "name": "stderr",
          "text": [
            "epoch [105/300], loss=0.0228: 100%|██████████| 1/1 [00:00<00:00, 29.23it/s]\n"
          ]
        },
        {
          "output_type": "stream",
          "name": "stdout",
          "text": [
            "after 105 epoch, \n",
            "train-data evaluation:- acc = 0.93235, CrossEntropyLoss = 0.17, f1score = 0.93235       \n",
            "test-data evaluation:- acc = 0.93235, CrossEntropyLoss = 0.17, f1score = 0.93235       time_elapsed = 0.0 minuts. \n",
            " -----------------------------------------------------------------------------------------------------------------------\n"
          ]
        },
        {
          "output_type": "stream",
          "name": "stderr",
          "text": [
            "epoch [106/300], loss=0.0224: 100%|██████████| 1/1 [00:00<00:00, 28.32it/s]\n"
          ]
        },
        {
          "output_type": "stream",
          "name": "stdout",
          "text": [
            "after 106 epoch, \n",
            "train-data evaluation:- acc = 0.93235, CrossEntropyLoss = 0.17, f1score = 0.93235       \n",
            "test-data evaluation:- acc = 0.93235, CrossEntropyLoss = 0.17, f1score = 0.93235       time_elapsed = 0.0 minuts. \n",
            " -----------------------------------------------------------------------------------------------------------------------\n"
          ]
        },
        {
          "output_type": "stream",
          "name": "stderr",
          "text": [
            "epoch [107/300], loss=0.0220: 100%|██████████| 1/1 [00:00<00:00, 27.87it/s]\n"
          ]
        },
        {
          "output_type": "stream",
          "name": "stdout",
          "text": [
            "after 107 epoch, \n",
            "train-data evaluation:- acc = 0.93235, CrossEntropyLoss = 0.17, f1score = 0.93235       \n",
            "test-data evaluation:- acc = 0.93235, CrossEntropyLoss = 0.17, f1score = 0.93235       time_elapsed = 0.0 minuts. \n",
            " -----------------------------------------------------------------------------------------------------------------------\n"
          ]
        },
        {
          "output_type": "stream",
          "name": "stderr",
          "text": [
            "epoch [108/300], loss=0.0216: 100%|██████████| 1/1 [00:00<00:00, 32.82it/s]\n"
          ]
        },
        {
          "output_type": "stream",
          "name": "stdout",
          "text": [
            "after 108 epoch, \n",
            "train-data evaluation:- acc = 0.92941, CrossEntropyLoss = 0.17, f1score = 0.92941       \n",
            "test-data evaluation:- acc = 0.92941, CrossEntropyLoss = 0.17, f1score = 0.92941       time_elapsed = 0.0 minuts. \n",
            " -----------------------------------------------------------------------------------------------------------------------\n"
          ]
        },
        {
          "output_type": "stream",
          "name": "stderr",
          "text": [
            "epoch [109/300], loss=0.0213: 100%|██████████| 1/1 [00:00<00:00, 26.63it/s]\n"
          ]
        },
        {
          "output_type": "stream",
          "name": "stdout",
          "text": [
            "after 109 epoch, \n",
            "train-data evaluation:- acc = 0.93235, CrossEntropyLoss = 0.17, f1score = 0.93235       \n",
            "test-data evaluation:- acc = 0.93235, CrossEntropyLoss = 0.17, f1score = 0.93235       time_elapsed = 0.0 minuts. \n",
            " -----------------------------------------------------------------------------------------------------------------------\n"
          ]
        },
        {
          "output_type": "stream",
          "name": "stderr",
          "text": [
            "epoch [110/300], loss=0.0209: 100%|██████████| 1/1 [00:00<00:00, 28.97it/s]\n"
          ]
        },
        {
          "output_type": "stream",
          "name": "stdout",
          "text": [
            "after 110 epoch, \n",
            "train-data evaluation:- acc = 0.93235, CrossEntropyLoss = 0.17, f1score = 0.93235       \n",
            "test-data evaluation:- acc = 0.93235, CrossEntropyLoss = 0.17, f1score = 0.93235       time_elapsed = 0.0 minuts. \n",
            " -----------------------------------------------------------------------------------------------------------------------\n"
          ]
        },
        {
          "output_type": "stream",
          "name": "stderr",
          "text": [
            "epoch [111/300], loss=0.0206: 100%|██████████| 1/1 [00:00<00:00, 25.36it/s]\n"
          ]
        },
        {
          "output_type": "stream",
          "name": "stdout",
          "text": [
            "after 111 epoch, \n",
            "train-data evaluation:- acc = 0.93235, CrossEntropyLoss = 0.17, f1score = 0.93235       \n",
            "test-data evaluation:- acc = 0.93235, CrossEntropyLoss = 0.17, f1score = 0.93235       time_elapsed = 0.0 minuts. \n",
            " -----------------------------------------------------------------------------------------------------------------------\n"
          ]
        },
        {
          "output_type": "stream",
          "name": "stderr",
          "text": [
            "epoch [112/300], loss=0.0203: 100%|██████████| 1/1 [00:00<00:00, 32.88it/s]\n"
          ]
        },
        {
          "output_type": "stream",
          "name": "stdout",
          "text": [
            "after 112 epoch, \n",
            "train-data evaluation:- acc = 0.93235, CrossEntropyLoss = 0.17, f1score = 0.93235       \n",
            "test-data evaluation:- acc = 0.93235, CrossEntropyLoss = 0.17, f1score = 0.93235       time_elapsed = 0.0 minuts. \n",
            " -----------------------------------------------------------------------------------------------------------------------\n"
          ]
        },
        {
          "output_type": "stream",
          "name": "stderr",
          "text": [
            "epoch [113/300], loss=0.0199: 100%|██████████| 1/1 [00:00<00:00, 28.67it/s]\n"
          ]
        },
        {
          "output_type": "stream",
          "name": "stdout",
          "text": [
            "after 113 epoch, \n",
            "train-data evaluation:- acc = 0.93235, CrossEntropyLoss = 0.17, f1score = 0.93235       \n",
            "test-data evaluation:- acc = 0.93235, CrossEntropyLoss = 0.17, f1score = 0.93235       time_elapsed = 0.0 minuts. \n",
            " -----------------------------------------------------------------------------------------------------------------------\n"
          ]
        },
        {
          "output_type": "stream",
          "name": "stderr",
          "text": [
            "epoch [114/300], loss=0.0196: 100%|██████████| 1/1 [00:00<00:00, 26.33it/s]\n"
          ]
        },
        {
          "output_type": "stream",
          "name": "stdout",
          "text": [
            "after 114 epoch, \n",
            "train-data evaluation:- acc = 0.93235, CrossEntropyLoss = 0.17, f1score = 0.93235       \n",
            "test-data evaluation:- acc = 0.93235, CrossEntropyLoss = 0.17, f1score = 0.93235       time_elapsed = 0.0 minuts. \n",
            " -----------------------------------------------------------------------------------------------------------------------\n"
          ]
        },
        {
          "output_type": "stream",
          "name": "stderr",
          "text": [
            "epoch [115/300], loss=0.0193: 100%|██████████| 1/1 [00:00<00:00, 27.36it/s]\n"
          ]
        },
        {
          "output_type": "stream",
          "name": "stdout",
          "text": [
            "after 115 epoch, \n",
            "train-data evaluation:- acc = 0.93529, CrossEntropyLoss = 0.17, f1score = 0.93529       \n",
            "test-data evaluation:- acc = 0.93529, CrossEntropyLoss = 0.17, f1score = 0.93529       time_elapsed = 0.0 minuts. \n",
            " -----------------------------------------------------------------------------------------------------------------------\n"
          ]
        },
        {
          "output_type": "stream",
          "name": "stderr",
          "text": [
            "epoch [116/300], loss=0.0190: 100%|██████████| 1/1 [00:00<00:00, 25.34it/s]\n"
          ]
        },
        {
          "output_type": "stream",
          "name": "stdout",
          "text": [
            "after 116 epoch, \n",
            "train-data evaluation:- acc = 0.93529, CrossEntropyLoss = 0.17, f1score = 0.93529       \n",
            "test-data evaluation:- acc = 0.93529, CrossEntropyLoss = 0.17, f1score = 0.93529       time_elapsed = 0.0 minuts. \n",
            " -----------------------------------------------------------------------------------------------------------------------\n"
          ]
        },
        {
          "output_type": "stream",
          "name": "stderr",
          "text": [
            "epoch [117/300], loss=0.0188: 100%|██████████| 1/1 [00:00<00:00, 27.61it/s]\n"
          ]
        },
        {
          "output_type": "stream",
          "name": "stdout",
          "text": [
            "after 117 epoch, \n",
            "train-data evaluation:- acc = 0.93529, CrossEntropyLoss = 0.17, f1score = 0.93529       \n",
            "test-data evaluation:- acc = 0.93529, CrossEntropyLoss = 0.17, f1score = 0.93529       time_elapsed = 0.0 minuts. \n",
            " -----------------------------------------------------------------------------------------------------------------------\n"
          ]
        },
        {
          "output_type": "stream",
          "name": "stderr",
          "text": [
            "epoch [118/300], loss=0.0185: 100%|██████████| 1/1 [00:00<00:00,  3.07it/s]\n"
          ]
        },
        {
          "output_type": "stream",
          "name": "stdout",
          "text": [
            "after 118 epoch, \n",
            "train-data evaluation:- acc = 0.93529, CrossEntropyLoss = 0.17, f1score = 0.93529       \n",
            "test-data evaluation:- acc = 0.93529, CrossEntropyLoss = 0.17, f1score = 0.93529       time_elapsed = 0.0 minuts. \n",
            " -----------------------------------------------------------------------------------------------------------------------\n"
          ]
        },
        {
          "output_type": "stream",
          "name": "stderr",
          "text": [
            "epoch [119/300], loss=0.0182: 100%|██████████| 1/1 [00:00<00:00, 33.16it/s]\n"
          ]
        },
        {
          "output_type": "stream",
          "name": "stdout",
          "text": [
            "after 119 epoch, \n",
            "train-data evaluation:- acc = 0.93529, CrossEntropyLoss = 0.17, f1score = 0.93529       \n",
            "test-data evaluation:- acc = 0.93529, CrossEntropyLoss = 0.17, f1score = 0.93529       time_elapsed = 0.0 minuts. \n",
            " -----------------------------------------------------------------------------------------------------------------------\n"
          ]
        },
        {
          "output_type": "stream",
          "name": "stderr",
          "text": [
            "epoch [120/300], loss=0.0180: 100%|██████████| 1/1 [00:00<00:00, 27.87it/s]\n"
          ]
        },
        {
          "output_type": "stream",
          "name": "stdout",
          "text": [
            "after 120 epoch, \n",
            "train-data evaluation:- acc = 0.93529, CrossEntropyLoss = 0.17, f1score = 0.93529       \n",
            "test-data evaluation:- acc = 0.93529, CrossEntropyLoss = 0.17, f1score = 0.93529       time_elapsed = 0.0 minuts. \n",
            " -----------------------------------------------------------------------------------------------------------------------\n"
          ]
        },
        {
          "output_type": "stream",
          "name": "stderr",
          "text": [
            "epoch [121/300], loss=0.0177: 100%|██████████| 1/1 [00:00<00:00, 23.76it/s]\n"
          ]
        },
        {
          "output_type": "stream",
          "name": "stdout",
          "text": [
            "after 121 epoch, \n",
            "train-data evaluation:- acc = 0.93824, CrossEntropyLoss = 0.17, f1score = 0.93824       \n",
            "test-data evaluation:- acc = 0.93824, CrossEntropyLoss = 0.17, f1score = 0.93824       time_elapsed = 0.0 minuts. \n",
            " -----------------------------------------------------------------------------------------------------------------------\n"
          ]
        },
        {
          "output_type": "stream",
          "name": "stderr",
          "text": [
            "epoch [122/300], loss=0.0175: 100%|██████████| 1/1 [00:00<00:00, 26.98it/s]\n"
          ]
        },
        {
          "output_type": "stream",
          "name": "stdout",
          "text": [
            "after 122 epoch, \n",
            "train-data evaluation:- acc = 0.93824, CrossEntropyLoss = 0.17, f1score = 0.93824       \n",
            "test-data evaluation:- acc = 0.93824, CrossEntropyLoss = 0.17, f1score = 0.93824       time_elapsed = 0.0 minuts. \n",
            " -----------------------------------------------------------------------------------------------------------------------\n"
          ]
        },
        {
          "output_type": "stream",
          "name": "stderr",
          "text": [
            "epoch [123/300], loss=0.0173: 100%|██████████| 1/1 [00:00<00:00, 26.94it/s]\n"
          ]
        },
        {
          "output_type": "stream",
          "name": "stdout",
          "text": [
            "after 123 epoch, \n",
            "train-data evaluation:- acc = 0.93824, CrossEntropyLoss = 0.17, f1score = 0.93824       \n",
            "test-data evaluation:- acc = 0.93824, CrossEntropyLoss = 0.17, f1score = 0.93824       time_elapsed = 0.0 minuts. \n",
            " -----------------------------------------------------------------------------------------------------------------------\n"
          ]
        },
        {
          "output_type": "stream",
          "name": "stderr",
          "text": [
            "epoch [124/300], loss=0.0170: 100%|██████████| 1/1 [00:00<00:00, 27.54it/s]\n"
          ]
        },
        {
          "output_type": "stream",
          "name": "stdout",
          "text": [
            "after 124 epoch, \n",
            "train-data evaluation:- acc = 0.93824, CrossEntropyLoss = 0.17, f1score = 0.93824       \n",
            "test-data evaluation:- acc = 0.93824, CrossEntropyLoss = 0.17, f1score = 0.93824       time_elapsed = 0.0 minuts. \n",
            " -----------------------------------------------------------------------------------------------------------------------\n"
          ]
        },
        {
          "output_type": "stream",
          "name": "stderr",
          "text": [
            "epoch [125/300], loss=0.0168: 100%|██████████| 1/1 [00:00<00:00, 29.43it/s]\n"
          ]
        },
        {
          "output_type": "stream",
          "name": "stdout",
          "text": [
            "after 125 epoch, \n",
            "train-data evaluation:- acc = 0.93824, CrossEntropyLoss = 0.17, f1score = 0.93824       \n",
            "test-data evaluation:- acc = 0.93824, CrossEntropyLoss = 0.17, f1score = 0.93824       time_elapsed = 0.0 minuts. \n",
            " -----------------------------------------------------------------------------------------------------------------------\n"
          ]
        },
        {
          "output_type": "stream",
          "name": "stderr",
          "text": [
            "epoch [126/300], loss=0.0166: 100%|██████████| 1/1 [00:00<00:00, 26.79it/s]\n"
          ]
        },
        {
          "output_type": "stream",
          "name": "stdout",
          "text": [
            "after 126 epoch, \n",
            "train-data evaluation:- acc = 0.93824, CrossEntropyLoss = 0.17, f1score = 0.93824       \n",
            "test-data evaluation:- acc = 0.93824, CrossEntropyLoss = 0.17, f1score = 0.93824       time_elapsed = 0.0 minuts. \n",
            " -----------------------------------------------------------------------------------------------------------------------\n"
          ]
        },
        {
          "output_type": "stream",
          "name": "stderr",
          "text": [
            "epoch [127/300], loss=0.0164: 100%|██████████| 1/1 [00:00<00:00, 31.28it/s]\n"
          ]
        },
        {
          "output_type": "stream",
          "name": "stdout",
          "text": [
            "after 127 epoch, \n",
            "train-data evaluation:- acc = 0.93824, CrossEntropyLoss = 0.17, f1score = 0.93824       \n",
            "test-data evaluation:- acc = 0.93824, CrossEntropyLoss = 0.17, f1score = 0.93824       time_elapsed = 0.0 minuts. \n",
            " -----------------------------------------------------------------------------------------------------------------------\n"
          ]
        },
        {
          "output_type": "stream",
          "name": "stderr",
          "text": [
            "epoch [128/300], loss=0.0162: 100%|██████████| 1/1 [00:00<00:00, 30.58it/s]\n"
          ]
        },
        {
          "output_type": "stream",
          "name": "stdout",
          "text": [
            "after 128 epoch, \n",
            "train-data evaluation:- acc = 0.93824, CrossEntropyLoss = 0.17, f1score = 0.93824       \n",
            "test-data evaluation:- acc = 0.93824, CrossEntropyLoss = 0.17, f1score = 0.93824       time_elapsed = 0.0 minuts. \n",
            " -----------------------------------------------------------------------------------------------------------------------\n"
          ]
        },
        {
          "output_type": "stream",
          "name": "stderr",
          "text": [
            "epoch [129/300], loss=0.0160: 100%|██████████| 1/1 [00:00<00:00, 28.25it/s]\n"
          ]
        },
        {
          "output_type": "stream",
          "name": "stdout",
          "text": [
            "after 129 epoch, \n",
            "train-data evaluation:- acc = 0.93824, CrossEntropyLoss = 0.17, f1score = 0.93824       \n",
            "test-data evaluation:- acc = 0.93824, CrossEntropyLoss = 0.17, f1score = 0.93824       time_elapsed = 0.0 minuts. \n",
            " -----------------------------------------------------------------------------------------------------------------------\n"
          ]
        },
        {
          "output_type": "stream",
          "name": "stderr",
          "text": [
            "epoch [130/300], loss=0.0159: 100%|██████████| 1/1 [00:00<00:00, 27.05it/s]\n"
          ]
        },
        {
          "output_type": "stream",
          "name": "stdout",
          "text": [
            "after 130 epoch, \n",
            "train-data evaluation:- acc = 0.93529, CrossEntropyLoss = 0.17, f1score = 0.93529       \n",
            "test-data evaluation:- acc = 0.93529, CrossEntropyLoss = 0.17, f1score = 0.93529       time_elapsed = 0.0 minuts. \n",
            " -----------------------------------------------------------------------------------------------------------------------\n"
          ]
        },
        {
          "output_type": "stream",
          "name": "stderr",
          "text": [
            "epoch [131/300], loss=0.0157: 100%|██████████| 1/1 [00:00<00:00, 29.18it/s]\n"
          ]
        },
        {
          "output_type": "stream",
          "name": "stdout",
          "text": [
            "after 131 epoch, \n",
            "train-data evaluation:- acc = 0.93529, CrossEntropyLoss = 0.17, f1score = 0.93529       \n",
            "test-data evaluation:- acc = 0.93529, CrossEntropyLoss = 0.17, f1score = 0.93529       time_elapsed = 0.0 minuts. \n",
            " -----------------------------------------------------------------------------------------------------------------------\n"
          ]
        },
        {
          "output_type": "stream",
          "name": "stderr",
          "text": [
            "epoch [132/300], loss=0.0155: 100%|██████████| 1/1 [00:00<00:00, 27.25it/s]\n"
          ]
        },
        {
          "output_type": "stream",
          "name": "stdout",
          "text": [
            "after 132 epoch, \n",
            "train-data evaluation:- acc = 0.93529, CrossEntropyLoss = 0.17, f1score = 0.93529       \n",
            "test-data evaluation:- acc = 0.93529, CrossEntropyLoss = 0.17, f1score = 0.93529       time_elapsed = 0.0 minuts. \n",
            " -----------------------------------------------------------------------------------------------------------------------\n"
          ]
        },
        {
          "output_type": "stream",
          "name": "stderr",
          "text": [
            "epoch [133/300], loss=0.0153: 100%|██████████| 1/1 [00:00<00:00, 27.32it/s]\n"
          ]
        },
        {
          "output_type": "stream",
          "name": "stdout",
          "text": [
            "after 133 epoch, \n",
            "train-data evaluation:- acc = 0.93529, CrossEntropyLoss = 0.17, f1score = 0.93529       \n",
            "test-data evaluation:- acc = 0.93529, CrossEntropyLoss = 0.17, f1score = 0.93529       time_elapsed = 0.0 minuts. \n",
            " -----------------------------------------------------------------------------------------------------------------------\n"
          ]
        },
        {
          "output_type": "stream",
          "name": "stderr",
          "text": [
            "epoch [134/300], loss=0.0152: 100%|██████████| 1/1 [00:00<00:00, 21.82it/s]\n"
          ]
        },
        {
          "output_type": "stream",
          "name": "stdout",
          "text": [
            "after 134 epoch, \n",
            "train-data evaluation:- acc = 0.93529, CrossEntropyLoss = 0.17, f1score = 0.93529       \n",
            "test-data evaluation:- acc = 0.93529, CrossEntropyLoss = 0.17, f1score = 0.93529       time_elapsed = 0.0 minuts. \n",
            " -----------------------------------------------------------------------------------------------------------------------\n"
          ]
        },
        {
          "output_type": "stream",
          "name": "stderr",
          "text": [
            "epoch [135/300], loss=0.0150: 100%|██████████| 1/1 [00:00<00:00, 31.91it/s]\n"
          ]
        },
        {
          "output_type": "stream",
          "name": "stdout",
          "text": [
            "after 135 epoch, \n",
            "train-data evaluation:- acc = 0.93529, CrossEntropyLoss = 0.17, f1score = 0.93529       \n",
            "test-data evaluation:- acc = 0.93529, CrossEntropyLoss = 0.17, f1score = 0.93529       time_elapsed = 0.0 minuts. \n",
            " -----------------------------------------------------------------------------------------------------------------------\n"
          ]
        },
        {
          "output_type": "stream",
          "name": "stderr",
          "text": [
            "epoch [136/300], loss=0.0149: 100%|██████████| 1/1 [00:00<00:00, 29.39it/s]\n"
          ]
        },
        {
          "output_type": "stream",
          "name": "stdout",
          "text": [
            "after 136 epoch, \n",
            "train-data evaluation:- acc = 0.93529, CrossEntropyLoss = 0.17, f1score = 0.93529       \n",
            "test-data evaluation:- acc = 0.93529, CrossEntropyLoss = 0.17, f1score = 0.93529       time_elapsed = 0.0 minuts. \n",
            " -----------------------------------------------------------------------------------------------------------------------\n"
          ]
        },
        {
          "output_type": "stream",
          "name": "stderr",
          "text": [
            "epoch [137/300], loss=0.0147: 100%|██████████| 1/1 [00:00<00:00, 25.66it/s]\n"
          ]
        },
        {
          "output_type": "stream",
          "name": "stdout",
          "text": [
            "after 137 epoch, \n",
            "train-data evaluation:- acc = 0.93529, CrossEntropyLoss = 0.17, f1score = 0.93529       \n",
            "test-data evaluation:- acc = 0.93529, CrossEntropyLoss = 0.17, f1score = 0.93529       time_elapsed = 0.0 minuts. \n",
            " -----------------------------------------------------------------------------------------------------------------------\n"
          ]
        },
        {
          "output_type": "stream",
          "name": "stderr",
          "text": [
            "epoch [138/300], loss=0.0146: 100%|██████████| 1/1 [00:00<00:00, 26.93it/s]\n"
          ]
        },
        {
          "output_type": "stream",
          "name": "stdout",
          "text": [
            "after 138 epoch, \n",
            "train-data evaluation:- acc = 0.93529, CrossEntropyLoss = 0.17, f1score = 0.93529       \n",
            "test-data evaluation:- acc = 0.93529, CrossEntropyLoss = 0.17, f1score = 0.93529       time_elapsed = 0.0 minuts. \n",
            " -----------------------------------------------------------------------------------------------------------------------\n"
          ]
        },
        {
          "output_type": "stream",
          "name": "stderr",
          "text": [
            "epoch [139/300], loss=0.0144: 100%|██████████| 1/1 [00:00<00:00, 26.11it/s]\n"
          ]
        },
        {
          "output_type": "stream",
          "name": "stdout",
          "text": [
            "after 139 epoch, \n",
            "train-data evaluation:- acc = 0.93529, CrossEntropyLoss = 0.17, f1score = 0.93529       \n",
            "test-data evaluation:- acc = 0.93529, CrossEntropyLoss = 0.17, f1score = 0.93529       time_elapsed = 0.0 minuts. \n",
            " -----------------------------------------------------------------------------------------------------------------------\n"
          ]
        },
        {
          "output_type": "stream",
          "name": "stderr",
          "text": [
            "epoch [140/300], loss=0.0143: 100%|██████████| 1/1 [00:00<00:00, 29.09it/s]\n"
          ]
        },
        {
          "output_type": "stream",
          "name": "stdout",
          "text": [
            "after 140 epoch, \n",
            "train-data evaluation:- acc = 0.93529, CrossEntropyLoss = 0.17, f1score = 0.93529       \n",
            "test-data evaluation:- acc = 0.93529, CrossEntropyLoss = 0.17, f1score = 0.93529       time_elapsed = 0.0 minuts. \n",
            " -----------------------------------------------------------------------------------------------------------------------\n"
          ]
        },
        {
          "output_type": "stream",
          "name": "stderr",
          "text": [
            "epoch [141/300], loss=0.0141: 100%|██████████| 1/1 [00:00<00:00, 27.83it/s]\n"
          ]
        },
        {
          "output_type": "stream",
          "name": "stdout",
          "text": [
            "after 141 epoch, \n",
            "train-data evaluation:- acc = 0.93529, CrossEntropyLoss = 0.17, f1score = 0.93529       \n",
            "test-data evaluation:- acc = 0.93529, CrossEntropyLoss = 0.17, f1score = 0.93529       time_elapsed = 0.0 minuts. \n",
            " -----------------------------------------------------------------------------------------------------------------------\n"
          ]
        },
        {
          "output_type": "stream",
          "name": "stderr",
          "text": [
            "epoch [142/300], loss=0.0140: 100%|██████████| 1/1 [00:00<00:00, 22.74it/s]\n"
          ]
        },
        {
          "output_type": "stream",
          "name": "stdout",
          "text": [
            "after 142 epoch, \n",
            "train-data evaluation:- acc = 0.93529, CrossEntropyLoss = 0.17, f1score = 0.93529       \n",
            "test-data evaluation:- acc = 0.93529, CrossEntropyLoss = 0.17, f1score = 0.93529       time_elapsed = 0.0 minuts. \n",
            " -----------------------------------------------------------------------------------------------------------------------\n"
          ]
        },
        {
          "output_type": "stream",
          "name": "stderr",
          "text": [
            "epoch [143/300], loss=0.0139: 100%|██████████| 1/1 [00:00<00:00, 28.62it/s]\n"
          ]
        },
        {
          "output_type": "stream",
          "name": "stdout",
          "text": [
            "after 143 epoch, \n",
            "train-data evaluation:- acc = 0.93529, CrossEntropyLoss = 0.17, f1score = 0.93529       \n",
            "test-data evaluation:- acc = 0.93529, CrossEntropyLoss = 0.17, f1score = 0.93529       time_elapsed = 0.0 minuts. \n",
            " -----------------------------------------------------------------------------------------------------------------------\n"
          ]
        },
        {
          "output_type": "stream",
          "name": "stderr",
          "text": [
            "epoch [144/300], loss=0.0138: 100%|██████████| 1/1 [00:00<00:00, 27.59it/s]\n"
          ]
        },
        {
          "output_type": "stream",
          "name": "stdout",
          "text": [
            "after 144 epoch, \n",
            "train-data evaluation:- acc = 0.93529, CrossEntropyLoss = 0.17, f1score = 0.93529       \n",
            "test-data evaluation:- acc = 0.93529, CrossEntropyLoss = 0.17, f1score = 0.93529       time_elapsed = 0.0 minuts. \n",
            " -----------------------------------------------------------------------------------------------------------------------\n"
          ]
        },
        {
          "output_type": "stream",
          "name": "stderr",
          "text": [
            "epoch [145/300], loss=0.0136: 100%|██████████| 1/1 [00:00<00:00, 27.52it/s]\n"
          ]
        },
        {
          "output_type": "stream",
          "name": "stdout",
          "text": [
            "after 145 epoch, \n",
            "train-data evaluation:- acc = 0.93529, CrossEntropyLoss = 0.17, f1score = 0.93529       \n",
            "test-data evaluation:- acc = 0.93529, CrossEntropyLoss = 0.17, f1score = 0.93529       time_elapsed = 0.0 minuts. \n",
            " -----------------------------------------------------------------------------------------------------------------------\n"
          ]
        },
        {
          "output_type": "stream",
          "name": "stderr",
          "text": [
            "epoch [146/300], loss=0.0135: 100%|██████████| 1/1 [00:00<00:00, 25.65it/s]\n"
          ]
        },
        {
          "output_type": "stream",
          "name": "stdout",
          "text": [
            "after 146 epoch, \n",
            "train-data evaluation:- acc = 0.93529, CrossEntropyLoss = 0.17, f1score = 0.93529       \n",
            "test-data evaluation:- acc = 0.93529, CrossEntropyLoss = 0.17, f1score = 0.93529       time_elapsed = 0.0 minuts. \n",
            " -----------------------------------------------------------------------------------------------------------------------\n"
          ]
        },
        {
          "output_type": "stream",
          "name": "stderr",
          "text": [
            "epoch [147/300], loss=0.0134: 100%|██████████| 1/1 [00:00<00:00, 30.95it/s]\n"
          ]
        },
        {
          "output_type": "stream",
          "name": "stdout",
          "text": [
            "after 147 epoch, \n",
            "train-data evaluation:- acc = 0.93529, CrossEntropyLoss = 0.17, f1score = 0.93529       \n",
            "test-data evaluation:- acc = 0.93529, CrossEntropyLoss = 0.17, f1score = 0.93529       time_elapsed = 0.0 minuts. \n",
            " -----------------------------------------------------------------------------------------------------------------------\n"
          ]
        },
        {
          "output_type": "stream",
          "name": "stderr",
          "text": [
            "epoch [148/300], loss=0.0133: 100%|██████████| 1/1 [00:00<00:00, 29.12it/s]\n"
          ]
        },
        {
          "output_type": "stream",
          "name": "stdout",
          "text": [
            "after 148 epoch, \n",
            "train-data evaluation:- acc = 0.93529, CrossEntropyLoss = 0.17, f1score = 0.93529       \n",
            "test-data evaluation:- acc = 0.93529, CrossEntropyLoss = 0.17, f1score = 0.93529       time_elapsed = 0.0 minuts. \n",
            " -----------------------------------------------------------------------------------------------------------------------\n"
          ]
        },
        {
          "output_type": "stream",
          "name": "stderr",
          "text": [
            "epoch [149/300], loss=0.0132: 100%|██████████| 1/1 [00:00<00:00, 29.47it/s]\n"
          ]
        },
        {
          "output_type": "stream",
          "name": "stdout",
          "text": [
            "after 149 epoch, \n",
            "train-data evaluation:- acc = 0.93529, CrossEntropyLoss = 0.17, f1score = 0.93529       \n",
            "test-data evaluation:- acc = 0.93529, CrossEntropyLoss = 0.17, f1score = 0.93529       time_elapsed = 0.0 minuts. \n",
            " -----------------------------------------------------------------------------------------------------------------------\n"
          ]
        },
        {
          "output_type": "stream",
          "name": "stderr",
          "text": [
            "epoch [150/300], loss=0.0131: 100%|██████████| 1/1 [00:00<00:00, 27.28it/s]\n"
          ]
        },
        {
          "output_type": "stream",
          "name": "stdout",
          "text": [
            "after 150 epoch, \n",
            "train-data evaluation:- acc = 0.93529, CrossEntropyLoss = 0.17, f1score = 0.93529       \n",
            "test-data evaluation:- acc = 0.93529, CrossEntropyLoss = 0.17, f1score = 0.93529       time_elapsed = 0.0 minuts. \n",
            " -----------------------------------------------------------------------------------------------------------------------\n"
          ]
        },
        {
          "output_type": "stream",
          "name": "stderr",
          "text": [
            "epoch [151/300], loss=0.0130: 100%|██████████| 1/1 [00:00<00:00, 29.52it/s]\n"
          ]
        },
        {
          "output_type": "stream",
          "name": "stdout",
          "text": [
            "after 151 epoch, \n",
            "train-data evaluation:- acc = 0.93529, CrossEntropyLoss = 0.17, f1score = 0.93529       \n",
            "test-data evaluation:- acc = 0.93529, CrossEntropyLoss = 0.17, f1score = 0.93529       time_elapsed = 0.0 minuts. \n",
            " -----------------------------------------------------------------------------------------------------------------------\n"
          ]
        },
        {
          "output_type": "stream",
          "name": "stderr",
          "text": [
            "epoch [152/300], loss=0.0129: 100%|██████████| 1/1 [00:00<00:00, 27.85it/s]\n"
          ]
        },
        {
          "output_type": "stream",
          "name": "stdout",
          "text": [
            "after 152 epoch, \n",
            "train-data evaluation:- acc = 0.93529, CrossEntropyLoss = 0.17, f1score = 0.93529       \n",
            "test-data evaluation:- acc = 0.93529, CrossEntropyLoss = 0.17, f1score = 0.93529       time_elapsed = 0.0 minuts. \n",
            " -----------------------------------------------------------------------------------------------------------------------\n"
          ]
        },
        {
          "output_type": "stream",
          "name": "stderr",
          "text": [
            "epoch [153/300], loss=0.0128: 100%|██████████| 1/1 [00:00<00:00, 25.30it/s]\n"
          ]
        },
        {
          "output_type": "stream",
          "name": "stdout",
          "text": [
            "after 153 epoch, \n",
            "train-data evaluation:- acc = 0.93529, CrossEntropyLoss = 0.17, f1score = 0.93529       \n",
            "test-data evaluation:- acc = 0.93529, CrossEntropyLoss = 0.17, f1score = 0.93529       time_elapsed = 0.0 minuts. \n",
            " -----------------------------------------------------------------------------------------------------------------------\n"
          ]
        },
        {
          "output_type": "stream",
          "name": "stderr",
          "text": [
            "epoch [154/300], loss=0.0127: 100%|██████████| 1/1 [00:00<00:00, 26.95it/s]\n"
          ]
        },
        {
          "output_type": "stream",
          "name": "stdout",
          "text": [
            "after 154 epoch, \n",
            "train-data evaluation:- acc = 0.93529, CrossEntropyLoss = 0.17, f1score = 0.93529       \n",
            "test-data evaluation:- acc = 0.93529, CrossEntropyLoss = 0.17, f1score = 0.93529       time_elapsed = 0.0 minuts. \n",
            " -----------------------------------------------------------------------------------------------------------------------\n"
          ]
        },
        {
          "output_type": "stream",
          "name": "stderr",
          "text": [
            "epoch [155/300], loss=0.0126: 100%|██████████| 1/1 [00:00<00:00, 26.20it/s]\n"
          ]
        },
        {
          "output_type": "stream",
          "name": "stdout",
          "text": [
            "after 155 epoch, \n",
            "train-data evaluation:- acc = 0.93529, CrossEntropyLoss = 0.17, f1score = 0.93529       \n",
            "test-data evaluation:- acc = 0.93529, CrossEntropyLoss = 0.17, f1score = 0.93529       time_elapsed = 0.0 minuts. \n",
            " -----------------------------------------------------------------------------------------------------------------------\n"
          ]
        },
        {
          "output_type": "stream",
          "name": "stderr",
          "text": [
            "epoch [156/300], loss=0.0125: 100%|██████████| 1/1 [00:00<00:00, 29.09it/s]\n"
          ]
        },
        {
          "output_type": "stream",
          "name": "stdout",
          "text": [
            "after 156 epoch, \n",
            "train-data evaluation:- acc = 0.93824, CrossEntropyLoss = 0.17, f1score = 0.93824       \n",
            "test-data evaluation:- acc = 0.93824, CrossEntropyLoss = 0.17, f1score = 0.93824       time_elapsed = 0.0 minuts. \n",
            " -----------------------------------------------------------------------------------------------------------------------\n"
          ]
        },
        {
          "output_type": "stream",
          "name": "stderr",
          "text": [
            "epoch [157/300], loss=0.0124: 100%|██████████| 1/1 [00:00<00:00, 26.69it/s]\n"
          ]
        },
        {
          "output_type": "stream",
          "name": "stdout",
          "text": [
            "after 157 epoch, \n",
            "train-data evaluation:- acc = 0.93824, CrossEntropyLoss = 0.17, f1score = 0.93824       \n",
            "test-data evaluation:- acc = 0.93824, CrossEntropyLoss = 0.17, f1score = 0.93824       time_elapsed = 0.0 minuts. \n",
            " -----------------------------------------------------------------------------------------------------------------------\n"
          ]
        },
        {
          "output_type": "stream",
          "name": "stderr",
          "text": [
            "epoch [158/300], loss=0.0124: 100%|██████████| 1/1 [00:00<00:00, 25.22it/s]\n"
          ]
        },
        {
          "output_type": "stream",
          "name": "stdout",
          "text": [
            "after 158 epoch, \n",
            "train-data evaluation:- acc = 0.93824, CrossEntropyLoss = 0.17, f1score = 0.93824       \n",
            "test-data evaluation:- acc = 0.93824, CrossEntropyLoss = 0.17, f1score = 0.93824       time_elapsed = 0.0 minuts. \n",
            " -----------------------------------------------------------------------------------------------------------------------\n"
          ]
        },
        {
          "output_type": "stream",
          "name": "stderr",
          "text": [
            "epoch [159/300], loss=0.0123: 100%|██████████| 1/1 [00:00<00:00, 26.27it/s]\n"
          ]
        },
        {
          "output_type": "stream",
          "name": "stdout",
          "text": [
            "after 159 epoch, \n",
            "train-data evaluation:- acc = 0.93824, CrossEntropyLoss = 0.17, f1score = 0.93824       \n",
            "test-data evaluation:- acc = 0.93824, CrossEntropyLoss = 0.17, f1score = 0.93824       time_elapsed = 0.0 minuts. \n",
            " -----------------------------------------------------------------------------------------------------------------------\n"
          ]
        },
        {
          "output_type": "stream",
          "name": "stderr",
          "text": [
            "epoch [160/300], loss=0.0122: 100%|██████████| 1/1 [00:00<00:00, 26.54it/s]\n"
          ]
        },
        {
          "output_type": "stream",
          "name": "stdout",
          "text": [
            "after 160 epoch, \n",
            "train-data evaluation:- acc = 0.93824, CrossEntropyLoss = 0.18, f1score = 0.93824       \n",
            "test-data evaluation:- acc = 0.93824, CrossEntropyLoss = 0.18, f1score = 0.93824       time_elapsed = 0.0 minuts. \n",
            " -----------------------------------------------------------------------------------------------------------------------\n"
          ]
        },
        {
          "output_type": "stream",
          "name": "stderr",
          "text": [
            "epoch [161/300], loss=0.0121: 100%|██████████| 1/1 [00:00<00:00, 29.02it/s]\n"
          ]
        },
        {
          "output_type": "stream",
          "name": "stdout",
          "text": [
            "after 161 epoch, \n",
            "train-data evaluation:- acc = 0.93824, CrossEntropyLoss = 0.18, f1score = 0.93824       \n",
            "test-data evaluation:- acc = 0.93824, CrossEntropyLoss = 0.18, f1score = 0.93824       time_elapsed = 0.0 minuts. \n",
            " -----------------------------------------------------------------------------------------------------------------------\n"
          ]
        },
        {
          "output_type": "stream",
          "name": "stderr",
          "text": [
            "epoch [162/300], loss=0.0120: 100%|██████████| 1/1 [00:00<00:00,  3.12it/s]\n"
          ]
        },
        {
          "output_type": "stream",
          "name": "stdout",
          "text": [
            "after 162 epoch, \n",
            "train-data evaluation:- acc = 0.93824, CrossEntropyLoss = 0.18, f1score = 0.93824       \n",
            "test-data evaluation:- acc = 0.93824, CrossEntropyLoss = 0.18, f1score = 0.93824       time_elapsed = 0.0 minuts. \n",
            " -----------------------------------------------------------------------------------------------------------------------\n"
          ]
        },
        {
          "output_type": "stream",
          "name": "stderr",
          "text": [
            "epoch [163/300], loss=0.0120: 100%|██████████| 1/1 [00:00<00:00, 26.88it/s]\n"
          ]
        },
        {
          "output_type": "stream",
          "name": "stdout",
          "text": [
            "after 163 epoch, \n",
            "train-data evaluation:- acc = 0.93824, CrossEntropyLoss = 0.18, f1score = 0.93824       \n",
            "test-data evaluation:- acc = 0.93824, CrossEntropyLoss = 0.18, f1score = 0.93824       time_elapsed = 0.0 minuts. \n",
            " -----------------------------------------------------------------------------------------------------------------------\n"
          ]
        },
        {
          "output_type": "stream",
          "name": "stderr",
          "text": [
            "epoch [164/300], loss=0.0119: 100%|██████████| 1/1 [00:00<00:00, 29.82it/s]\n"
          ]
        },
        {
          "output_type": "stream",
          "name": "stdout",
          "text": [
            "after 164 epoch, \n",
            "train-data evaluation:- acc = 0.93824, CrossEntropyLoss = 0.18, f1score = 0.93824       \n",
            "test-data evaluation:- acc = 0.93824, CrossEntropyLoss = 0.18, f1score = 0.93824       time_elapsed = 0.0 minuts. \n",
            " -----------------------------------------------------------------------------------------------------------------------\n"
          ]
        },
        {
          "output_type": "stream",
          "name": "stderr",
          "text": [
            "epoch [165/300], loss=0.0118: 100%|██████████| 1/1 [00:00<00:00, 30.47it/s]\n"
          ]
        },
        {
          "output_type": "stream",
          "name": "stdout",
          "text": [
            "after 165 epoch, \n",
            "train-data evaluation:- acc = 0.93824, CrossEntropyLoss = 0.18, f1score = 0.93824       \n",
            "test-data evaluation:- acc = 0.93824, CrossEntropyLoss = 0.18, f1score = 0.93824       time_elapsed = 0.0 minuts. \n",
            " -----------------------------------------------------------------------------------------------------------------------\n"
          ]
        },
        {
          "output_type": "stream",
          "name": "stderr",
          "text": [
            "epoch [166/300], loss=0.0118: 100%|██████████| 1/1 [00:00<00:00, 27.33it/s]\n"
          ]
        },
        {
          "output_type": "stream",
          "name": "stdout",
          "text": [
            "after 166 epoch, \n",
            "train-data evaluation:- acc = 0.93824, CrossEntropyLoss = 0.18, f1score = 0.93824       \n",
            "test-data evaluation:- acc = 0.93824, CrossEntropyLoss = 0.18, f1score = 0.93824       time_elapsed = 0.0 minuts. \n",
            " -----------------------------------------------------------------------------------------------------------------------\n"
          ]
        },
        {
          "output_type": "stream",
          "name": "stderr",
          "text": [
            "epoch [167/300], loss=0.0117: 100%|██████████| 1/1 [00:00<00:00, 26.11it/s]\n"
          ]
        },
        {
          "output_type": "stream",
          "name": "stdout",
          "text": [
            "after 167 epoch, \n",
            "train-data evaluation:- acc = 0.93824, CrossEntropyLoss = 0.18, f1score = 0.93824       \n",
            "test-data evaluation:- acc = 0.93824, CrossEntropyLoss = 0.18, f1score = 0.93824       time_elapsed = 0.0 minuts. \n",
            " -----------------------------------------------------------------------------------------------------------------------\n"
          ]
        },
        {
          "output_type": "stream",
          "name": "stderr",
          "text": [
            "epoch [168/300], loss=0.0116: 100%|██████████| 1/1 [00:00<00:00, 27.15it/s]\n"
          ]
        },
        {
          "output_type": "stream",
          "name": "stdout",
          "text": [
            "after 168 epoch, \n",
            "train-data evaluation:- acc = 0.93824, CrossEntropyLoss = 0.18, f1score = 0.93824       \n",
            "test-data evaluation:- acc = 0.93824, CrossEntropyLoss = 0.18, f1score = 0.93824       time_elapsed = 0.0 minuts. \n",
            " -----------------------------------------------------------------------------------------------------------------------\n"
          ]
        },
        {
          "output_type": "stream",
          "name": "stderr",
          "text": [
            "epoch [169/300], loss=0.0116: 100%|██████████| 1/1 [00:00<00:00, 29.17it/s]\n"
          ]
        },
        {
          "output_type": "stream",
          "name": "stdout",
          "text": [
            "after 169 epoch, \n",
            "train-data evaluation:- acc = 0.93824, CrossEntropyLoss = 0.18, f1score = 0.93824       \n",
            "test-data evaluation:- acc = 0.93824, CrossEntropyLoss = 0.18, f1score = 0.93824       time_elapsed = 0.0 minuts. \n",
            " -----------------------------------------------------------------------------------------------------------------------\n"
          ]
        },
        {
          "output_type": "stream",
          "name": "stderr",
          "text": [
            "epoch [170/300], loss=0.0115: 100%|██████████| 1/1 [00:00<00:00, 24.52it/s]\n"
          ]
        },
        {
          "output_type": "stream",
          "name": "stdout",
          "text": [
            "after 170 epoch, \n",
            "train-data evaluation:- acc = 0.93824, CrossEntropyLoss = 0.18, f1score = 0.93824       \n",
            "test-data evaluation:- acc = 0.93824, CrossEntropyLoss = 0.18, f1score = 0.93824       time_elapsed = 0.0 minuts. \n",
            " -----------------------------------------------------------------------------------------------------------------------\n"
          ]
        },
        {
          "output_type": "stream",
          "name": "stderr",
          "text": [
            "epoch [171/300], loss=0.0114: 100%|██████████| 1/1 [00:00<00:00, 27.56it/s]\n"
          ]
        },
        {
          "output_type": "stream",
          "name": "stdout",
          "text": [
            "after 171 epoch, \n",
            "train-data evaluation:- acc = 0.93824, CrossEntropyLoss = 0.18, f1score = 0.93824       \n",
            "test-data evaluation:- acc = 0.93824, CrossEntropyLoss = 0.18, f1score = 0.93824       time_elapsed = 0.0 minuts. \n",
            " -----------------------------------------------------------------------------------------------------------------------\n"
          ]
        },
        {
          "output_type": "stream",
          "name": "stderr",
          "text": [
            "epoch [172/300], loss=0.0114: 100%|██████████| 1/1 [00:00<00:00, 27.22it/s]\n"
          ]
        },
        {
          "output_type": "stream",
          "name": "stdout",
          "text": [
            "after 172 epoch, \n",
            "train-data evaluation:- acc = 0.93824, CrossEntropyLoss = 0.18, f1score = 0.93824       \n",
            "test-data evaluation:- acc = 0.93824, CrossEntropyLoss = 0.18, f1score = 0.93824       time_elapsed = 0.0 minuts. \n",
            " -----------------------------------------------------------------------------------------------------------------------\n"
          ]
        },
        {
          "output_type": "stream",
          "name": "stderr",
          "text": [
            "epoch [173/300], loss=0.0113: 100%|██████████| 1/1 [00:00<00:00, 27.37it/s]\n"
          ]
        },
        {
          "output_type": "stream",
          "name": "stdout",
          "text": [
            "after 173 epoch, \n",
            "train-data evaluation:- acc = 0.93824, CrossEntropyLoss = 0.18, f1score = 0.93824       \n",
            "test-data evaluation:- acc = 0.93824, CrossEntropyLoss = 0.18, f1score = 0.93824       time_elapsed = 0.0 minuts. \n",
            " -----------------------------------------------------------------------------------------------------------------------\n"
          ]
        },
        {
          "output_type": "stream",
          "name": "stderr",
          "text": [
            "epoch [174/300], loss=0.0113: 100%|██████████| 1/1 [00:00<00:00, 26.64it/s]\n"
          ]
        },
        {
          "output_type": "stream",
          "name": "stdout",
          "text": [
            "after 174 epoch, \n",
            "train-data evaluation:- acc = 0.93824, CrossEntropyLoss = 0.18, f1score = 0.93824       \n",
            "test-data evaluation:- acc = 0.93824, CrossEntropyLoss = 0.18, f1score = 0.93824       time_elapsed = 0.0 minuts. \n",
            " -----------------------------------------------------------------------------------------------------------------------\n"
          ]
        },
        {
          "output_type": "stream",
          "name": "stderr",
          "text": [
            "epoch [175/300], loss=0.0112: 100%|██████████| 1/1 [00:00<00:00, 27.51it/s]\n"
          ]
        },
        {
          "output_type": "stream",
          "name": "stdout",
          "text": [
            "after 175 epoch, \n",
            "train-data evaluation:- acc = 0.93824, CrossEntropyLoss = 0.18, f1score = 0.93824       \n",
            "test-data evaluation:- acc = 0.93824, CrossEntropyLoss = 0.18, f1score = 0.93824       time_elapsed = 0.0 minuts. \n",
            " -----------------------------------------------------------------------------------------------------------------------\n"
          ]
        },
        {
          "output_type": "stream",
          "name": "stderr",
          "text": [
            "epoch [176/300], loss=0.0111: 100%|██████████| 1/1 [00:00<00:00, 26.95it/s]\n"
          ]
        },
        {
          "output_type": "stream",
          "name": "stdout",
          "text": [
            "after 176 epoch, \n",
            "train-data evaluation:- acc = 0.93824, CrossEntropyLoss = 0.18, f1score = 0.93824       \n",
            "test-data evaluation:- acc = 0.93824, CrossEntropyLoss = 0.18, f1score = 0.93824       time_elapsed = 0.0 minuts. \n",
            " -----------------------------------------------------------------------------------------------------------------------\n"
          ]
        },
        {
          "output_type": "stream",
          "name": "stderr",
          "text": [
            "epoch [177/300], loss=0.0111: 100%|██████████| 1/1 [00:00<00:00, 28.62it/s]\n"
          ]
        },
        {
          "output_type": "stream",
          "name": "stdout",
          "text": [
            "after 177 epoch, \n",
            "train-data evaluation:- acc = 0.93824, CrossEntropyLoss = 0.18, f1score = 0.93824       \n",
            "test-data evaluation:- acc = 0.93824, CrossEntropyLoss = 0.18, f1score = 0.93824       time_elapsed = 0.0 minuts. \n",
            " -----------------------------------------------------------------------------------------------------------------------\n"
          ]
        },
        {
          "output_type": "stream",
          "name": "stderr",
          "text": [
            "epoch [178/300], loss=0.0110: 100%|██████████| 1/1 [00:00<00:00, 20.76it/s]\n"
          ]
        },
        {
          "output_type": "stream",
          "name": "stdout",
          "text": [
            "after 178 epoch, \n",
            "train-data evaluation:- acc = 0.93824, CrossEntropyLoss = 0.18, f1score = 0.93824       \n",
            "test-data evaluation:- acc = 0.93824, CrossEntropyLoss = 0.18, f1score = 0.93824       time_elapsed = 0.0 minuts. \n",
            " -----------------------------------------------------------------------------------------------------------------------\n"
          ]
        },
        {
          "output_type": "stream",
          "name": "stderr",
          "text": [
            "epoch [179/300], loss=0.0110: 100%|██████████| 1/1 [00:00<00:00, 23.93it/s]\n"
          ]
        },
        {
          "output_type": "stream",
          "name": "stdout",
          "text": [
            "after 179 epoch, \n",
            "train-data evaluation:- acc = 0.93824, CrossEntropyLoss = 0.18, f1score = 0.93824       \n",
            "test-data evaluation:- acc = 0.93824, CrossEntropyLoss = 0.18, f1score = 0.93824       time_elapsed = 0.0 minuts. \n",
            " -----------------------------------------------------------------------------------------------------------------------\n"
          ]
        },
        {
          "output_type": "stream",
          "name": "stderr",
          "text": [
            "epoch [180/300], loss=0.0109: 100%|██████████| 1/1 [00:00<00:00, 28.57it/s]\n"
          ]
        },
        {
          "output_type": "stream",
          "name": "stdout",
          "text": [
            "after 180 epoch, \n",
            "train-data evaluation:- acc = 0.93824, CrossEntropyLoss = 0.18, f1score = 0.93824       \n",
            "test-data evaluation:- acc = 0.93824, CrossEntropyLoss = 0.18, f1score = 0.93824       time_elapsed = 0.0 minuts. \n",
            " -----------------------------------------------------------------------------------------------------------------------\n"
          ]
        },
        {
          "output_type": "stream",
          "name": "stderr",
          "text": [
            "epoch [181/300], loss=0.0109: 100%|██████████| 1/1 [00:00<00:00, 23.61it/s]\n"
          ]
        },
        {
          "output_type": "stream",
          "name": "stdout",
          "text": [
            "after 181 epoch, \n",
            "train-data evaluation:- acc = 0.93824, CrossEntropyLoss = 0.18, f1score = 0.93824       \n",
            "test-data evaluation:- acc = 0.93824, CrossEntropyLoss = 0.18, f1score = 0.93824       time_elapsed = 0.0 minuts. \n",
            " -----------------------------------------------------------------------------------------------------------------------\n"
          ]
        },
        {
          "output_type": "stream",
          "name": "stderr",
          "text": [
            "epoch [182/300], loss=0.0108: 100%|██████████| 1/1 [00:00<00:00, 24.57it/s]\n"
          ]
        },
        {
          "output_type": "stream",
          "name": "stdout",
          "text": [
            "after 182 epoch, \n",
            "train-data evaluation:- acc = 0.93824, CrossEntropyLoss = 0.18, f1score = 0.93824       \n",
            "test-data evaluation:- acc = 0.93824, CrossEntropyLoss = 0.18, f1score = 0.93824       time_elapsed = 0.0 minuts. \n",
            " -----------------------------------------------------------------------------------------------------------------------\n"
          ]
        },
        {
          "output_type": "stream",
          "name": "stderr",
          "text": [
            "epoch [183/300], loss=0.0108: 100%|██████████| 1/1 [00:00<00:00, 30.30it/s]\n"
          ]
        },
        {
          "output_type": "stream",
          "name": "stdout",
          "text": [
            "after 183 epoch, \n",
            "train-data evaluation:- acc = 0.93824, CrossEntropyLoss = 0.18, f1score = 0.93824       \n",
            "test-data evaluation:- acc = 0.93824, CrossEntropyLoss = 0.18, f1score = 0.93824       time_elapsed = 0.0 minuts. \n",
            " -----------------------------------------------------------------------------------------------------------------------\n"
          ]
        },
        {
          "output_type": "stream",
          "name": "stderr",
          "text": [
            "epoch [184/300], loss=0.0107: 100%|██████████| 1/1 [00:00<00:00, 28.14it/s]\n"
          ]
        },
        {
          "output_type": "stream",
          "name": "stdout",
          "text": [
            "after 184 epoch, \n",
            "train-data evaluation:- acc = 0.94118, CrossEntropyLoss = 0.18, f1score = 0.94118       \n",
            "test-data evaluation:- acc = 0.94118, CrossEntropyLoss = 0.18, f1score = 0.94118       time_elapsed = 0.0 minuts. \n",
            " -----------------------------------------------------------------------------------------------------------------------\n"
          ]
        },
        {
          "output_type": "stream",
          "name": "stderr",
          "text": [
            "epoch [185/300], loss=0.0107: 100%|██████████| 1/1 [00:00<00:00, 28.38it/s]\n"
          ]
        },
        {
          "output_type": "stream",
          "name": "stdout",
          "text": [
            "after 185 epoch, \n",
            "train-data evaluation:- acc = 0.94118, CrossEntropyLoss = 0.18, f1score = 0.94118       \n",
            "test-data evaluation:- acc = 0.94118, CrossEntropyLoss = 0.18, f1score = 0.94118       time_elapsed = 0.0 minuts. \n",
            " -----------------------------------------------------------------------------------------------------------------------\n"
          ]
        },
        {
          "output_type": "stream",
          "name": "stderr",
          "text": [
            "epoch [186/300], loss=0.0107: 100%|██████████| 1/1 [00:00<00:00, 20.95it/s]\n"
          ]
        },
        {
          "output_type": "stream",
          "name": "stdout",
          "text": [
            "after 186 epoch, \n",
            "train-data evaluation:- acc = 0.94118, CrossEntropyLoss = 0.18, f1score = 0.94118       \n",
            "test-data evaluation:- acc = 0.94118, CrossEntropyLoss = 0.18, f1score = 0.94118       time_elapsed = 0.0 minuts. \n",
            " -----------------------------------------------------------------------------------------------------------------------\n"
          ]
        },
        {
          "output_type": "stream",
          "name": "stderr",
          "text": [
            "epoch [187/300], loss=0.0106: 100%|██████████| 1/1 [00:00<00:00, 18.59it/s]\n"
          ]
        },
        {
          "output_type": "stream",
          "name": "stdout",
          "text": [
            "after 187 epoch, \n",
            "train-data evaluation:- acc = 0.94118, CrossEntropyLoss = 0.18, f1score = 0.94118       \n",
            "test-data evaluation:- acc = 0.94118, CrossEntropyLoss = 0.18, f1score = 0.94118       time_elapsed = 0.0 minuts. \n",
            " -----------------------------------------------------------------------------------------------------------------------\n"
          ]
        },
        {
          "output_type": "stream",
          "name": "stderr",
          "text": [
            "epoch [188/300], loss=0.0106: 100%|██████████| 1/1 [00:00<00:00, 23.45it/s]\n"
          ]
        },
        {
          "output_type": "stream",
          "name": "stdout",
          "text": [
            "after 188 epoch, \n",
            "train-data evaluation:- acc = 0.94118, CrossEntropyLoss = 0.18, f1score = 0.94118       \n",
            "test-data evaluation:- acc = 0.94118, CrossEntropyLoss = 0.18, f1score = 0.94118       time_elapsed = 0.0 minuts. \n",
            " -----------------------------------------------------------------------------------------------------------------------\n"
          ]
        },
        {
          "output_type": "stream",
          "name": "stderr",
          "text": [
            "epoch [189/300], loss=0.0105: 100%|██████████| 1/1 [00:00<00:00, 22.14it/s]\n"
          ]
        },
        {
          "output_type": "stream",
          "name": "stdout",
          "text": [
            "after 189 epoch, \n",
            "train-data evaluation:- acc = 0.94118, CrossEntropyLoss = 0.18, f1score = 0.94118       \n",
            "test-data evaluation:- acc = 0.94118, CrossEntropyLoss = 0.18, f1score = 0.94118       time_elapsed = 0.0 minuts. \n",
            " -----------------------------------------------------------------------------------------------------------------------\n"
          ]
        },
        {
          "output_type": "stream",
          "name": "stderr",
          "text": [
            "epoch [190/300], loss=0.0105: 100%|██████████| 1/1 [00:00<00:00, 20.33it/s]\n"
          ]
        },
        {
          "output_type": "stream",
          "name": "stdout",
          "text": [
            "after 190 epoch, \n",
            "train-data evaluation:- acc = 0.94118, CrossEntropyLoss = 0.18, f1score = 0.94118       \n",
            "test-data evaluation:- acc = 0.94118, CrossEntropyLoss = 0.18, f1score = 0.94118       time_elapsed = 0.0 minuts. \n",
            " -----------------------------------------------------------------------------------------------------------------------\n"
          ]
        },
        {
          "output_type": "stream",
          "name": "stderr",
          "text": [
            "epoch [191/300], loss=0.0104: 100%|██████████| 1/1 [00:00<00:00, 25.57it/s]\n"
          ]
        },
        {
          "output_type": "stream",
          "name": "stdout",
          "text": [
            "after 191 epoch, \n",
            "train-data evaluation:- acc = 0.94118, CrossEntropyLoss = 0.18, f1score = 0.94118       \n",
            "test-data evaluation:- acc = 0.94118, CrossEntropyLoss = 0.18, f1score = 0.94118       time_elapsed = 0.0 minuts. \n",
            " -----------------------------------------------------------------------------------------------------------------------\n"
          ]
        },
        {
          "output_type": "stream",
          "name": "stderr",
          "text": [
            "epoch [192/300], loss=0.0104: 100%|██████████| 1/1 [00:00<00:00, 23.74it/s]\n"
          ]
        },
        {
          "output_type": "stream",
          "name": "stdout",
          "text": [
            "after 192 epoch, \n",
            "train-data evaluation:- acc = 0.94118, CrossEntropyLoss = 0.18, f1score = 0.94118       \n",
            "test-data evaluation:- acc = 0.94118, CrossEntropyLoss = 0.18, f1score = 0.94118       time_elapsed = 0.0 minuts. \n",
            " -----------------------------------------------------------------------------------------------------------------------\n"
          ]
        },
        {
          "output_type": "stream",
          "name": "stderr",
          "text": [
            "epoch [193/300], loss=0.0104: 100%|██████████| 1/1 [00:00<00:00, 18.72it/s]\n"
          ]
        },
        {
          "output_type": "stream",
          "name": "stdout",
          "text": [
            "after 193 epoch, \n",
            "train-data evaluation:- acc = 0.94118, CrossEntropyLoss = 0.18, f1score = 0.94118       \n",
            "test-data evaluation:- acc = 0.94118, CrossEntropyLoss = 0.18, f1score = 0.94118       time_elapsed = 0.0 minuts. \n",
            " -----------------------------------------------------------------------------------------------------------------------\n"
          ]
        },
        {
          "output_type": "stream",
          "name": "stderr",
          "text": [
            "epoch [194/300], loss=0.0103: 100%|██████████| 1/1 [00:00<00:00, 21.10it/s]\n"
          ]
        },
        {
          "output_type": "stream",
          "name": "stdout",
          "text": [
            "after 194 epoch, \n",
            "train-data evaluation:- acc = 0.94118, CrossEntropyLoss = 0.18, f1score = 0.94118       \n",
            "test-data evaluation:- acc = 0.94118, CrossEntropyLoss = 0.18, f1score = 0.94118       time_elapsed = 0.0 minuts. \n",
            " -----------------------------------------------------------------------------------------------------------------------\n"
          ]
        },
        {
          "output_type": "stream",
          "name": "stderr",
          "text": [
            "epoch [195/300], loss=0.0103: 100%|██████████| 1/1 [00:00<00:00, 26.87it/s]\n"
          ]
        },
        {
          "output_type": "stream",
          "name": "stdout",
          "text": [
            "after 195 epoch, \n",
            "train-data evaluation:- acc = 0.94118, CrossEntropyLoss = 0.18, f1score = 0.94118       \n",
            "test-data evaluation:- acc = 0.94118, CrossEntropyLoss = 0.18, f1score = 0.94118       time_elapsed = 0.0 minuts. \n",
            " -----------------------------------------------------------------------------------------------------------------------\n"
          ]
        },
        {
          "output_type": "stream",
          "name": "stderr",
          "text": [
            "epoch [196/300], loss=0.0103: 100%|██████████| 1/1 [00:00<00:00, 27.53it/s]\n"
          ]
        },
        {
          "output_type": "stream",
          "name": "stdout",
          "text": [
            "after 196 epoch, \n",
            "train-data evaluation:- acc = 0.94118, CrossEntropyLoss = 0.18, f1score = 0.94118       \n",
            "test-data evaluation:- acc = 0.94118, CrossEntropyLoss = 0.18, f1score = 0.94118       time_elapsed = 0.0 minuts. \n",
            " -----------------------------------------------------------------------------------------------------------------------\n"
          ]
        },
        {
          "output_type": "stream",
          "name": "stderr",
          "text": [
            "epoch [197/300], loss=0.0102: 100%|██████████| 1/1 [00:00<00:00, 22.79it/s]\n"
          ]
        },
        {
          "output_type": "stream",
          "name": "stdout",
          "text": [
            "after 197 epoch, \n",
            "train-data evaluation:- acc = 0.94118, CrossEntropyLoss = 0.18, f1score = 0.94118       \n",
            "test-data evaluation:- acc = 0.94118, CrossEntropyLoss = 0.18, f1score = 0.94118       time_elapsed = 0.0 minuts. \n",
            " -----------------------------------------------------------------------------------------------------------------------\n"
          ]
        },
        {
          "output_type": "stream",
          "name": "stderr",
          "text": [
            "epoch [198/300], loss=0.0102: 100%|██████████| 1/1 [00:00<00:00, 25.78it/s]\n"
          ]
        },
        {
          "output_type": "stream",
          "name": "stdout",
          "text": [
            "after 198 epoch, \n",
            "train-data evaluation:- acc = 0.94118, CrossEntropyLoss = 0.18, f1score = 0.94118       \n",
            "test-data evaluation:- acc = 0.94118, CrossEntropyLoss = 0.18, f1score = 0.94118       time_elapsed = 0.0 minuts. \n",
            " -----------------------------------------------------------------------------------------------------------------------\n"
          ]
        },
        {
          "output_type": "stream",
          "name": "stderr",
          "text": [
            "epoch [199/300], loss=0.0102: 100%|██████████| 1/1 [00:00<00:00, 28.92it/s]\n"
          ]
        },
        {
          "output_type": "stream",
          "name": "stdout",
          "text": [
            "after 199 epoch, \n",
            "train-data evaluation:- acc = 0.94118, CrossEntropyLoss = 0.18, f1score = 0.94118       \n",
            "test-data evaluation:- acc = 0.94118, CrossEntropyLoss = 0.18, f1score = 0.94118       time_elapsed = 0.0 minuts. \n",
            " -----------------------------------------------------------------------------------------------------------------------\n"
          ]
        },
        {
          "output_type": "stream",
          "name": "stderr",
          "text": [
            "epoch [200/300], loss=0.0101: 100%|██████████| 1/1 [00:00<00:00, 27.99it/s]\n"
          ]
        },
        {
          "output_type": "stream",
          "name": "stdout",
          "text": [
            "after 200 epoch, \n",
            "train-data evaluation:- acc = 0.94118, CrossEntropyLoss = 0.18, f1score = 0.94118       \n",
            "test-data evaluation:- acc = 0.94118, CrossEntropyLoss = 0.18, f1score = 0.94118       time_elapsed = 0.0 minuts. \n",
            " -----------------------------------------------------------------------------------------------------------------------\n"
          ]
        },
        {
          "output_type": "stream",
          "name": "stderr",
          "text": [
            "epoch [201/300], loss=0.0101: 100%|██████████| 1/1 [00:00<00:00, 24.44it/s]\n"
          ]
        },
        {
          "output_type": "stream",
          "name": "stdout",
          "text": [
            "after 201 epoch, \n",
            "train-data evaluation:- acc = 0.94118, CrossEntropyLoss = 0.18, f1score = 0.94118       \n",
            "test-data evaluation:- acc = 0.94118, CrossEntropyLoss = 0.18, f1score = 0.94118       time_elapsed = 0.0 minuts. \n",
            " -----------------------------------------------------------------------------------------------------------------------\n"
          ]
        },
        {
          "output_type": "stream",
          "name": "stderr",
          "text": [
            "epoch [202/300], loss=0.0101: 100%|██████████| 1/1 [00:00<00:00, 18.48it/s]\n"
          ]
        },
        {
          "output_type": "stream",
          "name": "stdout",
          "text": [
            "after 202 epoch, \n",
            "train-data evaluation:- acc = 0.94118, CrossEntropyLoss = 0.18, f1score = 0.94118       \n",
            "test-data evaluation:- acc = 0.94118, CrossEntropyLoss = 0.18, f1score = 0.94118       time_elapsed = 0.0 minuts. \n",
            " -----------------------------------------------------------------------------------------------------------------------\n"
          ]
        },
        {
          "output_type": "stream",
          "name": "stderr",
          "text": [
            "epoch [203/300], loss=0.0100: 100%|██████████| 1/1 [00:00<00:00, 27.80it/s]\n"
          ]
        },
        {
          "output_type": "stream",
          "name": "stdout",
          "text": [
            "after 203 epoch, \n",
            "train-data evaluation:- acc = 0.94118, CrossEntropyLoss = 0.18, f1score = 0.94118       \n",
            "test-data evaluation:- acc = 0.94118, CrossEntropyLoss = 0.18, f1score = 0.94118       time_elapsed = 0.0 minuts. \n",
            " -----------------------------------------------------------------------------------------------------------------------\n"
          ]
        },
        {
          "output_type": "stream",
          "name": "stderr",
          "text": [
            "epoch [204/300], loss=0.0100: 100%|██████████| 1/1 [00:00<00:00, 28.21it/s]\n"
          ]
        },
        {
          "output_type": "stream",
          "name": "stdout",
          "text": [
            "after 204 epoch, \n",
            "train-data evaluation:- acc = 0.94118, CrossEntropyLoss = 0.18, f1score = 0.94118       \n",
            "test-data evaluation:- acc = 0.94118, CrossEntropyLoss = 0.18, f1score = 0.94118       time_elapsed = 0.0 minuts. \n",
            " -----------------------------------------------------------------------------------------------------------------------\n"
          ]
        },
        {
          "output_type": "stream",
          "name": "stderr",
          "text": [
            "epoch [205/300], loss=0.0100: 100%|██████████| 1/1 [00:00<00:00, 28.59it/s]\n"
          ]
        },
        {
          "output_type": "stream",
          "name": "stdout",
          "text": [
            "after 205 epoch, \n",
            "train-data evaluation:- acc = 0.94118, CrossEntropyLoss = 0.18, f1score = 0.94118       \n",
            "test-data evaluation:- acc = 0.94118, CrossEntropyLoss = 0.18, f1score = 0.94118       time_elapsed = 0.0 minuts. \n",
            " -----------------------------------------------------------------------------------------------------------------------\n"
          ]
        },
        {
          "output_type": "stream",
          "name": "stderr",
          "text": [
            "epoch [206/300], loss=0.0099: 100%|██████████| 1/1 [00:00<00:00,  2.33it/s]\n"
          ]
        },
        {
          "output_type": "stream",
          "name": "stdout",
          "text": [
            "after 206 epoch, \n",
            "train-data evaluation:- acc = 0.94118, CrossEntropyLoss = 0.18, f1score = 0.94118       \n",
            "test-data evaluation:- acc = 0.94118, CrossEntropyLoss = 0.18, f1score = 0.94118       time_elapsed = 0.0 minuts. \n",
            " -----------------------------------------------------------------------------------------------------------------------\n"
          ]
        },
        {
          "output_type": "stream",
          "name": "stderr",
          "text": [
            "epoch [207/300], loss=0.0099: 100%|██████████| 1/1 [00:00<00:00, 21.82it/s]\n"
          ]
        },
        {
          "output_type": "stream",
          "name": "stdout",
          "text": [
            "after 207 epoch, \n",
            "train-data evaluation:- acc = 0.94118, CrossEntropyLoss = 0.18, f1score = 0.94118       \n",
            "test-data evaluation:- acc = 0.94118, CrossEntropyLoss = 0.18, f1score = 0.94118       time_elapsed = 0.0 minuts. \n",
            " -----------------------------------------------------------------------------------------------------------------------\n"
          ]
        },
        {
          "output_type": "stream",
          "name": "stderr",
          "text": [
            "epoch [208/300], loss=0.0099: 100%|██████████| 1/1 [00:00<00:00, 24.06it/s]\n"
          ]
        },
        {
          "output_type": "stream",
          "name": "stdout",
          "text": [
            "after 208 epoch, \n",
            "train-data evaluation:- acc = 0.94118, CrossEntropyLoss = 0.18, f1score = 0.94118       \n",
            "test-data evaluation:- acc = 0.94118, CrossEntropyLoss = 0.18, f1score = 0.94118       time_elapsed = 0.0 minuts. \n",
            " -----------------------------------------------------------------------------------------------------------------------\n"
          ]
        },
        {
          "output_type": "stream",
          "name": "stderr",
          "text": [
            "epoch [209/300], loss=0.0098: 100%|██████████| 1/1 [00:00<00:00, 27.98it/s]\n"
          ]
        },
        {
          "output_type": "stream",
          "name": "stdout",
          "text": [
            "after 209 epoch, \n",
            "train-data evaluation:- acc = 0.94118, CrossEntropyLoss = 0.18, f1score = 0.94118       \n",
            "test-data evaluation:- acc = 0.94118, CrossEntropyLoss = 0.18, f1score = 0.94118       time_elapsed = 0.0 minuts. \n",
            " -----------------------------------------------------------------------------------------------------------------------\n"
          ]
        },
        {
          "output_type": "stream",
          "name": "stderr",
          "text": [
            "epoch [210/300], loss=0.0098: 100%|██████████| 1/1 [00:00<00:00, 20.84it/s]\n"
          ]
        },
        {
          "output_type": "stream",
          "name": "stdout",
          "text": [
            "after 210 epoch, \n",
            "train-data evaluation:- acc = 0.94118, CrossEntropyLoss = 0.18, f1score = 0.94118       \n",
            "test-data evaluation:- acc = 0.94118, CrossEntropyLoss = 0.18, f1score = 0.94118       time_elapsed = 0.0 minuts. \n",
            " -----------------------------------------------------------------------------------------------------------------------\n"
          ]
        },
        {
          "output_type": "stream",
          "name": "stderr",
          "text": [
            "epoch [211/300], loss=0.0098: 100%|██████████| 1/1 [00:00<00:00, 21.12it/s]\n"
          ]
        },
        {
          "output_type": "stream",
          "name": "stdout",
          "text": [
            "after 211 epoch, \n",
            "train-data evaluation:- acc = 0.94118, CrossEntropyLoss = 0.18, f1score = 0.94118       \n",
            "test-data evaluation:- acc = 0.94118, CrossEntropyLoss = 0.18, f1score = 0.94118       time_elapsed = 0.0 minuts. \n",
            " -----------------------------------------------------------------------------------------------------------------------\n"
          ]
        },
        {
          "output_type": "stream",
          "name": "stderr",
          "text": [
            "epoch [212/300], loss=0.0098: 100%|██████████| 1/1 [00:00<00:00, 20.56it/s]\n"
          ]
        },
        {
          "output_type": "stream",
          "name": "stdout",
          "text": [
            "after 212 epoch, \n",
            "train-data evaluation:- acc = 0.94118, CrossEntropyLoss = 0.18, f1score = 0.94118       \n",
            "test-data evaluation:- acc = 0.94118, CrossEntropyLoss = 0.18, f1score = 0.94118       time_elapsed = 0.0 minuts. \n",
            " -----------------------------------------------------------------------------------------------------------------------\n"
          ]
        },
        {
          "output_type": "stream",
          "name": "stderr",
          "text": [
            "epoch [213/300], loss=0.0097: 100%|██████████| 1/1 [00:00<00:00, 25.80it/s]\n"
          ]
        },
        {
          "output_type": "stream",
          "name": "stdout",
          "text": [
            "after 213 epoch, \n",
            "train-data evaluation:- acc = 0.94118, CrossEntropyLoss = 0.18, f1score = 0.94118       \n",
            "test-data evaluation:- acc = 0.94118, CrossEntropyLoss = 0.18, f1score = 0.94118       time_elapsed = 0.0 minuts. \n",
            " -----------------------------------------------------------------------------------------------------------------------\n"
          ]
        },
        {
          "output_type": "stream",
          "name": "stderr",
          "text": [
            "epoch [214/300], loss=0.0097: 100%|██████████| 1/1 [00:00<00:00, 23.24it/s]\n"
          ]
        },
        {
          "output_type": "stream",
          "name": "stdout",
          "text": [
            "after 214 epoch, \n",
            "train-data evaluation:- acc = 0.94118, CrossEntropyLoss = 0.18, f1score = 0.94118       \n",
            "test-data evaluation:- acc = 0.94118, CrossEntropyLoss = 0.18, f1score = 0.94118       time_elapsed = 0.0 minuts. \n",
            " -----------------------------------------------------------------------------------------------------------------------\n"
          ]
        },
        {
          "output_type": "stream",
          "name": "stderr",
          "text": [
            "epoch [215/300], loss=0.0097: 100%|██████████| 1/1 [00:00<00:00, 21.10it/s]\n"
          ]
        },
        {
          "output_type": "stream",
          "name": "stdout",
          "text": [
            "after 215 epoch, \n",
            "train-data evaluation:- acc = 0.94118, CrossEntropyLoss = 0.18, f1score = 0.94118       \n",
            "test-data evaluation:- acc = 0.94118, CrossEntropyLoss = 0.18, f1score = 0.94118       time_elapsed = 0.0 minuts. \n",
            " -----------------------------------------------------------------------------------------------------------------------\n"
          ]
        },
        {
          "output_type": "stream",
          "name": "stderr",
          "text": [
            "epoch [216/300], loss=0.0097: 100%|██████████| 1/1 [00:00<00:00, 20.27it/s]\n"
          ]
        },
        {
          "output_type": "stream",
          "name": "stdout",
          "text": [
            "after 216 epoch, \n",
            "train-data evaluation:- acc = 0.94118, CrossEntropyLoss = 0.18, f1score = 0.94118       \n",
            "test-data evaluation:- acc = 0.94118, CrossEntropyLoss = 0.18, f1score = 0.94118       time_elapsed = 0.0 minuts. \n",
            " -----------------------------------------------------------------------------------------------------------------------\n"
          ]
        },
        {
          "output_type": "stream",
          "name": "stderr",
          "text": [
            "epoch [217/300], loss=0.0096: 100%|██████████| 1/1 [00:00<00:00, 26.11it/s]\n"
          ]
        },
        {
          "output_type": "stream",
          "name": "stdout",
          "text": [
            "after 217 epoch, \n",
            "train-data evaluation:- acc = 0.94118, CrossEntropyLoss = 0.18, f1score = 0.94118       \n",
            "test-data evaluation:- acc = 0.94118, CrossEntropyLoss = 0.18, f1score = 0.94118       time_elapsed = 0.0 minuts. \n",
            " -----------------------------------------------------------------------------------------------------------------------\n"
          ]
        },
        {
          "output_type": "stream",
          "name": "stderr",
          "text": [
            "epoch [218/300], loss=0.0096: 100%|██████████| 1/1 [00:00<00:00, 21.03it/s]\n"
          ]
        },
        {
          "output_type": "stream",
          "name": "stdout",
          "text": [
            "after 218 epoch, \n",
            "train-data evaluation:- acc = 0.94118, CrossEntropyLoss = 0.18, f1score = 0.94118       \n",
            "test-data evaluation:- acc = 0.94118, CrossEntropyLoss = 0.18, f1score = 0.94118       time_elapsed = 0.0 minuts. \n",
            " -----------------------------------------------------------------------------------------------------------------------\n"
          ]
        },
        {
          "output_type": "stream",
          "name": "stderr",
          "text": [
            "epoch [219/300], loss=0.0096: 100%|██████████| 1/1 [00:00<00:00, 27.15it/s]\n"
          ]
        },
        {
          "output_type": "stream",
          "name": "stdout",
          "text": [
            "after 219 epoch, \n",
            "train-data evaluation:- acc = 0.94118, CrossEntropyLoss = 0.18, f1score = 0.94118       \n",
            "test-data evaluation:- acc = 0.94118, CrossEntropyLoss = 0.18, f1score = 0.94118       time_elapsed = 0.0 minuts. \n",
            " -----------------------------------------------------------------------------------------------------------------------\n"
          ]
        },
        {
          "output_type": "stream",
          "name": "stderr",
          "text": [
            "epoch [220/300], loss=0.0096: 100%|██████████| 1/1 [00:00<00:00, 26.89it/s]\n"
          ]
        },
        {
          "output_type": "stream",
          "name": "stdout",
          "text": [
            "after 220 epoch, \n",
            "train-data evaluation:- acc = 0.94118, CrossEntropyLoss = 0.18, f1score = 0.94118       \n",
            "test-data evaluation:- acc = 0.94118, CrossEntropyLoss = 0.18, f1score = 0.94118       time_elapsed = 0.0 minuts. \n",
            " -----------------------------------------------------------------------------------------------------------------------\n"
          ]
        },
        {
          "output_type": "stream",
          "name": "stderr",
          "text": [
            "epoch [221/300], loss=0.0096: 100%|██████████| 1/1 [00:00<00:00, 26.35it/s]\n"
          ]
        },
        {
          "output_type": "stream",
          "name": "stdout",
          "text": [
            "after 221 epoch, \n",
            "train-data evaluation:- acc = 0.94118, CrossEntropyLoss = 0.18, f1score = 0.94118       \n",
            "test-data evaluation:- acc = 0.94118, CrossEntropyLoss = 0.18, f1score = 0.94118       time_elapsed = 0.0 minuts. \n",
            " -----------------------------------------------------------------------------------------------------------------------\n"
          ]
        },
        {
          "output_type": "stream",
          "name": "stderr",
          "text": [
            "epoch [222/300], loss=0.0095: 100%|██████████| 1/1 [00:00<00:00, 25.96it/s]\n"
          ]
        },
        {
          "output_type": "stream",
          "name": "stdout",
          "text": [
            "after 222 epoch, \n",
            "train-data evaluation:- acc = 0.94118, CrossEntropyLoss = 0.18, f1score = 0.94118       \n",
            "test-data evaluation:- acc = 0.94118, CrossEntropyLoss = 0.18, f1score = 0.94118       time_elapsed = 0.0 minuts. \n",
            " -----------------------------------------------------------------------------------------------------------------------\n"
          ]
        },
        {
          "output_type": "stream",
          "name": "stderr",
          "text": [
            "epoch [223/300], loss=0.0095: 100%|██████████| 1/1 [00:00<00:00, 26.65it/s]\n"
          ]
        },
        {
          "output_type": "stream",
          "name": "stdout",
          "text": [
            "after 223 epoch, \n",
            "train-data evaluation:- acc = 0.94118, CrossEntropyLoss = 0.18, f1score = 0.94118       \n",
            "test-data evaluation:- acc = 0.94118, CrossEntropyLoss = 0.18, f1score = 0.94118       time_elapsed = 0.0 minuts. \n",
            " -----------------------------------------------------------------------------------------------------------------------\n"
          ]
        },
        {
          "output_type": "stream",
          "name": "stderr",
          "text": [
            "epoch [224/300], loss=0.0095: 100%|██████████| 1/1 [00:00<00:00, 18.84it/s]\n"
          ]
        },
        {
          "output_type": "stream",
          "name": "stdout",
          "text": [
            "after 224 epoch, \n",
            "train-data evaluation:- acc = 0.94118, CrossEntropyLoss = 0.18, f1score = 0.94118       \n",
            "test-data evaluation:- acc = 0.94118, CrossEntropyLoss = 0.18, f1score = 0.94118       time_elapsed = 0.0 minuts. \n",
            " -----------------------------------------------------------------------------------------------------------------------\n"
          ]
        },
        {
          "output_type": "stream",
          "name": "stderr",
          "text": [
            "epoch [225/300], loss=0.0095: 100%|██████████| 1/1 [00:00<00:00, 29.24it/s]\n"
          ]
        },
        {
          "output_type": "stream",
          "name": "stdout",
          "text": [
            "after 225 epoch, \n",
            "train-data evaluation:- acc = 0.94118, CrossEntropyLoss = 0.18, f1score = 0.94118       \n",
            "test-data evaluation:- acc = 0.94118, CrossEntropyLoss = 0.18, f1score = 0.94118       time_elapsed = 0.0 minuts. \n",
            " -----------------------------------------------------------------------------------------------------------------------\n"
          ]
        },
        {
          "output_type": "stream",
          "name": "stderr",
          "text": [
            "epoch [226/300], loss=0.0094: 100%|██████████| 1/1 [00:00<00:00, 27.81it/s]\n"
          ]
        },
        {
          "output_type": "stream",
          "name": "stdout",
          "text": [
            "after 226 epoch, \n",
            "train-data evaluation:- acc = 0.94118, CrossEntropyLoss = 0.18, f1score = 0.94118       \n",
            "test-data evaluation:- acc = 0.94118, CrossEntropyLoss = 0.18, f1score = 0.94118       time_elapsed = 0.0 minuts. \n",
            " -----------------------------------------------------------------------------------------------------------------------\n"
          ]
        },
        {
          "output_type": "stream",
          "name": "stderr",
          "text": [
            "epoch [227/300], loss=0.0094: 100%|██████████| 1/1 [00:00<00:00, 27.15it/s]\n"
          ]
        },
        {
          "output_type": "stream",
          "name": "stdout",
          "text": [
            "after 227 epoch, \n",
            "train-data evaluation:- acc = 0.94118, CrossEntropyLoss = 0.18, f1score = 0.94118       \n",
            "test-data evaluation:- acc = 0.94118, CrossEntropyLoss = 0.18, f1score = 0.94118       time_elapsed = 0.0 minuts. \n",
            " -----------------------------------------------------------------------------------------------------------------------\n"
          ]
        },
        {
          "output_type": "stream",
          "name": "stderr",
          "text": [
            "epoch [228/300], loss=0.0094: 100%|██████████| 1/1 [00:00<00:00, 27.62it/s]\n"
          ]
        },
        {
          "output_type": "stream",
          "name": "stdout",
          "text": [
            "after 228 epoch, \n",
            "train-data evaluation:- acc = 0.94118, CrossEntropyLoss = 0.18, f1score = 0.94118       \n",
            "test-data evaluation:- acc = 0.94118, CrossEntropyLoss = 0.18, f1score = 0.94118       time_elapsed = 0.0 minuts. \n",
            " -----------------------------------------------------------------------------------------------------------------------\n"
          ]
        },
        {
          "output_type": "stream",
          "name": "stderr",
          "text": [
            "epoch [229/300], loss=0.0094: 100%|██████████| 1/1 [00:00<00:00, 27.07it/s]\n"
          ]
        },
        {
          "output_type": "stream",
          "name": "stdout",
          "text": [
            "after 229 epoch, \n",
            "train-data evaluation:- acc = 0.94118, CrossEntropyLoss = 0.18, f1score = 0.94118       \n",
            "test-data evaluation:- acc = 0.94118, CrossEntropyLoss = 0.18, f1score = 0.94118       time_elapsed = 0.0 minuts. \n",
            " -----------------------------------------------------------------------------------------------------------------------\n"
          ]
        },
        {
          "output_type": "stream",
          "name": "stderr",
          "text": [
            "epoch [230/300], loss=0.0094: 100%|██████████| 1/1 [00:00<00:00, 23.24it/s]\n"
          ]
        },
        {
          "output_type": "stream",
          "name": "stdout",
          "text": [
            "after 230 epoch, \n",
            "train-data evaluation:- acc = 0.94118, CrossEntropyLoss = 0.18, f1score = 0.94118       \n",
            "test-data evaluation:- acc = 0.94118, CrossEntropyLoss = 0.18, f1score = 0.94118       time_elapsed = 0.0 minuts. \n",
            " -----------------------------------------------------------------------------------------------------------------------\n"
          ]
        },
        {
          "output_type": "stream",
          "name": "stderr",
          "text": [
            "epoch [231/300], loss=0.0094: 100%|██████████| 1/1 [00:00<00:00, 21.60it/s]\n"
          ]
        },
        {
          "output_type": "stream",
          "name": "stdout",
          "text": [
            "after 231 epoch, \n",
            "train-data evaluation:- acc = 0.94118, CrossEntropyLoss = 0.18, f1score = 0.94118       \n",
            "test-data evaluation:- acc = 0.94118, CrossEntropyLoss = 0.18, f1score = 0.94118       time_elapsed = 0.0 minuts. \n",
            " -----------------------------------------------------------------------------------------------------------------------\n"
          ]
        },
        {
          "output_type": "stream",
          "name": "stderr",
          "text": [
            "epoch [232/300], loss=0.0093: 100%|██████████| 1/1 [00:00<00:00, 28.08it/s]\n"
          ]
        },
        {
          "output_type": "stream",
          "name": "stdout",
          "text": [
            "after 232 epoch, \n",
            "train-data evaluation:- acc = 0.94118, CrossEntropyLoss = 0.18, f1score = 0.94118       \n",
            "test-data evaluation:- acc = 0.94118, CrossEntropyLoss = 0.18, f1score = 0.94118       time_elapsed = 0.0 minuts. \n",
            " -----------------------------------------------------------------------------------------------------------------------\n"
          ]
        },
        {
          "output_type": "stream",
          "name": "stderr",
          "text": [
            "epoch [233/300], loss=0.0093: 100%|██████████| 1/1 [00:00<00:00, 19.69it/s]\n"
          ]
        },
        {
          "output_type": "stream",
          "name": "stdout",
          "text": [
            "after 233 epoch, \n",
            "train-data evaluation:- acc = 0.94118, CrossEntropyLoss = 0.18, f1score = 0.94118       \n",
            "test-data evaluation:- acc = 0.94118, CrossEntropyLoss = 0.18, f1score = 0.94118       time_elapsed = 0.0 minuts. \n",
            " -----------------------------------------------------------------------------------------------------------------------\n"
          ]
        },
        {
          "output_type": "stream",
          "name": "stderr",
          "text": [
            "epoch [234/300], loss=0.0093: 100%|██████████| 1/1 [00:00<00:00, 20.69it/s]\n"
          ]
        },
        {
          "output_type": "stream",
          "name": "stdout",
          "text": [
            "after 234 epoch, \n",
            "train-data evaluation:- acc = 0.94118, CrossEntropyLoss = 0.18, f1score = 0.94118       \n",
            "test-data evaluation:- acc = 0.94118, CrossEntropyLoss = 0.18, f1score = 0.94118       time_elapsed = 0.0 minuts. \n",
            " -----------------------------------------------------------------------------------------------------------------------\n"
          ]
        },
        {
          "output_type": "stream",
          "name": "stderr",
          "text": [
            "epoch [235/300], loss=0.0093: 100%|██████████| 1/1 [00:00<00:00, 22.55it/s]\n"
          ]
        },
        {
          "output_type": "stream",
          "name": "stdout",
          "text": [
            "after 235 epoch, \n",
            "train-data evaluation:- acc = 0.94118, CrossEntropyLoss = 0.18, f1score = 0.94118       \n",
            "test-data evaluation:- acc = 0.94118, CrossEntropyLoss = 0.18, f1score = 0.94118       time_elapsed = 0.0 minuts. \n",
            " -----------------------------------------------------------------------------------------------------------------------\n"
          ]
        },
        {
          "output_type": "stream",
          "name": "stderr",
          "text": [
            "epoch [236/300], loss=0.0093: 100%|██████████| 1/1 [00:00<00:00, 20.57it/s]\n"
          ]
        },
        {
          "output_type": "stream",
          "name": "stdout",
          "text": [
            "after 236 epoch, \n",
            "train-data evaluation:- acc = 0.94118, CrossEntropyLoss = 0.18, f1score = 0.94118       \n",
            "test-data evaluation:- acc = 0.94118, CrossEntropyLoss = 0.18, f1score = 0.94118       time_elapsed = 0.0 minuts. \n",
            " -----------------------------------------------------------------------------------------------------------------------\n"
          ]
        },
        {
          "output_type": "stream",
          "name": "stderr",
          "text": [
            "epoch [237/300], loss=0.0092: 100%|██████████| 1/1 [00:00<00:00, 27.37it/s]\n"
          ]
        },
        {
          "output_type": "stream",
          "name": "stdout",
          "text": [
            "after 237 epoch, \n",
            "train-data evaluation:- acc = 0.94118, CrossEntropyLoss = 0.18, f1score = 0.94118       \n",
            "test-data evaluation:- acc = 0.94118, CrossEntropyLoss = 0.18, f1score = 0.94118       time_elapsed = 0.0 minuts. \n",
            " -----------------------------------------------------------------------------------------------------------------------\n"
          ]
        },
        {
          "output_type": "stream",
          "name": "stderr",
          "text": [
            "epoch [238/300], loss=0.0092: 100%|██████████| 1/1 [00:00<00:00, 26.32it/s]\n"
          ]
        },
        {
          "output_type": "stream",
          "name": "stdout",
          "text": [
            "after 238 epoch, \n",
            "train-data evaluation:- acc = 0.94118, CrossEntropyLoss = 0.18, f1score = 0.94118       \n",
            "test-data evaluation:- acc = 0.94118, CrossEntropyLoss = 0.18, f1score = 0.94118       time_elapsed = 0.0 minuts. \n",
            " -----------------------------------------------------------------------------------------------------------------------\n"
          ]
        },
        {
          "output_type": "stream",
          "name": "stderr",
          "text": [
            "epoch [239/300], loss=0.0092: 100%|██████████| 1/1 [00:00<00:00, 22.85it/s]\n"
          ]
        },
        {
          "output_type": "stream",
          "name": "stdout",
          "text": [
            "after 239 epoch, \n",
            "train-data evaluation:- acc = 0.94118, CrossEntropyLoss = 0.18, f1score = 0.94118       \n",
            "test-data evaluation:- acc = 0.94118, CrossEntropyLoss = 0.18, f1score = 0.94118       time_elapsed = 0.0 minuts. \n",
            " -----------------------------------------------------------------------------------------------------------------------\n"
          ]
        },
        {
          "output_type": "stream",
          "name": "stderr",
          "text": [
            "epoch [240/300], loss=0.0092: 100%|██████████| 1/1 [00:00<00:00, 21.34it/s]\n"
          ]
        },
        {
          "output_type": "stream",
          "name": "stdout",
          "text": [
            "after 240 epoch, \n",
            "train-data evaluation:- acc = 0.94118, CrossEntropyLoss = 0.18, f1score = 0.94118       \n",
            "test-data evaluation:- acc = 0.94118, CrossEntropyLoss = 0.18, f1score = 0.94118       time_elapsed = 0.0 minuts. \n",
            " -----------------------------------------------------------------------------------------------------------------------\n"
          ]
        },
        {
          "output_type": "stream",
          "name": "stderr",
          "text": [
            "epoch [241/300], loss=0.0092: 100%|██████████| 1/1 [00:00<00:00, 20.06it/s]\n"
          ]
        },
        {
          "output_type": "stream",
          "name": "stdout",
          "text": [
            "after 241 epoch, \n",
            "train-data evaluation:- acc = 0.94118, CrossEntropyLoss = 0.18, f1score = 0.94118       \n",
            "test-data evaluation:- acc = 0.94118, CrossEntropyLoss = 0.18, f1score = 0.94118       time_elapsed = 0.0 minuts. \n",
            " -----------------------------------------------------------------------------------------------------------------------\n"
          ]
        },
        {
          "output_type": "stream",
          "name": "stderr",
          "text": [
            "epoch [242/300], loss=0.0092: 100%|██████████| 1/1 [00:00<00:00, 19.61it/s]\n"
          ]
        },
        {
          "output_type": "stream",
          "name": "stdout",
          "text": [
            "after 242 epoch, \n",
            "train-data evaluation:- acc = 0.94118, CrossEntropyLoss = 0.18, f1score = 0.94118       \n",
            "test-data evaluation:- acc = 0.94118, CrossEntropyLoss = 0.18, f1score = 0.94118       time_elapsed = 0.0 minuts. \n",
            " -----------------------------------------------------------------------------------------------------------------------\n"
          ]
        },
        {
          "output_type": "stream",
          "name": "stderr",
          "text": [
            "epoch [243/300], loss=0.0092: 100%|██████████| 1/1 [00:00<00:00, 17.26it/s]\n"
          ]
        },
        {
          "output_type": "stream",
          "name": "stdout",
          "text": [
            "after 243 epoch, \n",
            "train-data evaluation:- acc = 0.94118, CrossEntropyLoss = 0.18, f1score = 0.94118       \n",
            "test-data evaluation:- acc = 0.94118, CrossEntropyLoss = 0.18, f1score = 0.94118       time_elapsed = 0.0 minuts. \n",
            " -----------------------------------------------------------------------------------------------------------------------\n"
          ]
        },
        {
          "output_type": "stream",
          "name": "stderr",
          "text": [
            "epoch [244/300], loss=0.0091: 100%|██████████| 1/1 [00:00<00:00, 19.73it/s]\n"
          ]
        },
        {
          "output_type": "stream",
          "name": "stdout",
          "text": [
            "after 244 epoch, \n",
            "train-data evaluation:- acc = 0.94118, CrossEntropyLoss = 0.18, f1score = 0.94118       \n",
            "test-data evaluation:- acc = 0.94118, CrossEntropyLoss = 0.18, f1score = 0.94118       time_elapsed = 0.0 minuts. \n",
            " -----------------------------------------------------------------------------------------------------------------------\n"
          ]
        },
        {
          "output_type": "stream",
          "name": "stderr",
          "text": [
            "epoch [245/300], loss=0.0091: 100%|██████████| 1/1 [00:00<00:00, 21.38it/s]\n"
          ]
        },
        {
          "output_type": "stream",
          "name": "stdout",
          "text": [
            "after 245 epoch, \n",
            "train-data evaluation:- acc = 0.94118, CrossEntropyLoss = 0.18, f1score = 0.94118       \n",
            "test-data evaluation:- acc = 0.94118, CrossEntropyLoss = 0.18, f1score = 0.94118       time_elapsed = 0.0 minuts. \n",
            " -----------------------------------------------------------------------------------------------------------------------\n"
          ]
        },
        {
          "output_type": "stream",
          "name": "stderr",
          "text": [
            "epoch [246/300], loss=0.0091: 100%|██████████| 1/1 [00:00<00:00, 20.77it/s]\n"
          ]
        },
        {
          "output_type": "stream",
          "name": "stdout",
          "text": [
            "after 246 epoch, \n",
            "train-data evaluation:- acc = 0.94118, CrossEntropyLoss = 0.18, f1score = 0.94118       \n",
            "test-data evaluation:- acc = 0.94118, CrossEntropyLoss = 0.18, f1score = 0.94118       time_elapsed = 0.0 minuts. \n",
            " -----------------------------------------------------------------------------------------------------------------------\n"
          ]
        },
        {
          "output_type": "stream",
          "name": "stderr",
          "text": [
            "epoch [247/300], loss=0.0091: 100%|██████████| 1/1 [00:00<00:00, 25.57it/s]\n"
          ]
        },
        {
          "output_type": "stream",
          "name": "stdout",
          "text": [
            "after 247 epoch, \n",
            "train-data evaluation:- acc = 0.94118, CrossEntropyLoss = 0.18, f1score = 0.94118       \n",
            "test-data evaluation:- acc = 0.94118, CrossEntropyLoss = 0.18, f1score = 0.94118       time_elapsed = 0.0 minuts. \n",
            " -----------------------------------------------------------------------------------------------------------------------\n"
          ]
        },
        {
          "output_type": "stream",
          "name": "stderr",
          "text": [
            "epoch [248/300], loss=0.0091: 100%|██████████| 1/1 [00:00<00:00, 24.27it/s]\n"
          ]
        },
        {
          "output_type": "stream",
          "name": "stdout",
          "text": [
            "after 248 epoch, \n",
            "train-data evaluation:- acc = 0.94118, CrossEntropyLoss = 0.18, f1score = 0.94118       \n",
            "test-data evaluation:- acc = 0.94118, CrossEntropyLoss = 0.18, f1score = 0.94118       time_elapsed = 0.0 minuts. \n",
            " -----------------------------------------------------------------------------------------------------------------------\n"
          ]
        },
        {
          "output_type": "stream",
          "name": "stderr",
          "text": [
            "epoch [249/300], loss=0.0091: 100%|██████████| 1/1 [00:00<00:00, 27.50it/s]\n"
          ]
        },
        {
          "output_type": "stream",
          "name": "stdout",
          "text": [
            "after 249 epoch, \n",
            "train-data evaluation:- acc = 0.94118, CrossEntropyLoss = 0.18, f1score = 0.94118       \n",
            "test-data evaluation:- acc = 0.94118, CrossEntropyLoss = 0.18, f1score = 0.94118       time_elapsed = 0.0 minuts. \n",
            " -----------------------------------------------------------------------------------------------------------------------\n"
          ]
        },
        {
          "output_type": "stream",
          "name": "stderr",
          "text": [
            "epoch [250/300], loss=0.0091: 100%|██████████| 1/1 [00:00<00:00,  2.43it/s]\n"
          ]
        },
        {
          "output_type": "stream",
          "name": "stdout",
          "text": [
            "after 250 epoch, \n",
            "train-data evaluation:- acc = 0.94118, CrossEntropyLoss = 0.18, f1score = 0.94118       \n",
            "test-data evaluation:- acc = 0.94118, CrossEntropyLoss = 0.18, f1score = 0.94118       time_elapsed = 0.0 minuts. \n",
            " -----------------------------------------------------------------------------------------------------------------------\n"
          ]
        },
        {
          "output_type": "stream",
          "name": "stderr",
          "text": [
            "epoch [251/300], loss=0.0090: 100%|██████████| 1/1 [00:00<00:00, 26.41it/s]\n"
          ]
        },
        {
          "output_type": "stream",
          "name": "stdout",
          "text": [
            "after 251 epoch, \n",
            "train-data evaluation:- acc = 0.94118, CrossEntropyLoss = 0.18, f1score = 0.94118       \n",
            "test-data evaluation:- acc = 0.94118, CrossEntropyLoss = 0.18, f1score = 0.94118       time_elapsed = 0.0 minuts. \n",
            " -----------------------------------------------------------------------------------------------------------------------\n"
          ]
        },
        {
          "output_type": "stream",
          "name": "stderr",
          "text": [
            "epoch [252/300], loss=0.0090: 100%|██████████| 1/1 [00:00<00:00, 23.84it/s]\n"
          ]
        },
        {
          "output_type": "stream",
          "name": "stdout",
          "text": [
            "after 252 epoch, \n",
            "train-data evaluation:- acc = 0.94118, CrossEntropyLoss = 0.18, f1score = 0.94118       \n",
            "test-data evaluation:- acc = 0.94118, CrossEntropyLoss = 0.18, f1score = 0.94118       time_elapsed = 0.0 minuts. \n",
            " -----------------------------------------------------------------------------------------------------------------------\n"
          ]
        },
        {
          "output_type": "stream",
          "name": "stderr",
          "text": [
            "epoch [253/300], loss=0.0090: 100%|██████████| 1/1 [00:00<00:00, 24.11it/s]\n"
          ]
        },
        {
          "output_type": "stream",
          "name": "stdout",
          "text": [
            "after 253 epoch, \n",
            "train-data evaluation:- acc = 0.94118, CrossEntropyLoss = 0.18, f1score = 0.94118       \n",
            "test-data evaluation:- acc = 0.94118, CrossEntropyLoss = 0.18, f1score = 0.94118       time_elapsed = 0.0 minuts. \n",
            " -----------------------------------------------------------------------------------------------------------------------\n"
          ]
        },
        {
          "output_type": "stream",
          "name": "stderr",
          "text": [
            "epoch [254/300], loss=0.0090: 100%|██████████| 1/1 [00:00<00:00, 19.01it/s]\n"
          ]
        },
        {
          "output_type": "stream",
          "name": "stdout",
          "text": [
            "after 254 epoch, \n",
            "train-data evaluation:- acc = 0.94118, CrossEntropyLoss = 0.18, f1score = 0.94118       \n",
            "test-data evaluation:- acc = 0.94118, CrossEntropyLoss = 0.18, f1score = 0.94118       time_elapsed = 0.0 minuts. \n",
            " -----------------------------------------------------------------------------------------------------------------------\n"
          ]
        },
        {
          "output_type": "stream",
          "name": "stderr",
          "text": [
            "epoch [255/300], loss=0.0090: 100%|██████████| 1/1 [00:00<00:00, 18.92it/s]\n"
          ]
        },
        {
          "output_type": "stream",
          "name": "stdout",
          "text": [
            "after 255 epoch, \n",
            "train-data evaluation:- acc = 0.94118, CrossEntropyLoss = 0.18, f1score = 0.94118       \n",
            "test-data evaluation:- acc = 0.94118, CrossEntropyLoss = 0.18, f1score = 0.94118       time_elapsed = 0.0 minuts. \n",
            " -----------------------------------------------------------------------------------------------------------------------\n"
          ]
        },
        {
          "output_type": "stream",
          "name": "stderr",
          "text": [
            "epoch [256/300], loss=0.0090: 100%|██████████| 1/1 [00:00<00:00, 18.17it/s]\n"
          ]
        },
        {
          "output_type": "stream",
          "name": "stdout",
          "text": [
            "after 256 epoch, \n",
            "train-data evaluation:- acc = 0.94118, CrossEntropyLoss = 0.18, f1score = 0.94118       \n",
            "test-data evaluation:- acc = 0.94118, CrossEntropyLoss = 0.18, f1score = 0.94118       time_elapsed = 0.0 minuts. \n",
            " -----------------------------------------------------------------------------------------------------------------------\n"
          ]
        },
        {
          "output_type": "stream",
          "name": "stderr",
          "text": [
            "epoch [257/300], loss=0.0090: 100%|██████████| 1/1 [00:00<00:00, 20.41it/s]\n"
          ]
        },
        {
          "output_type": "stream",
          "name": "stdout",
          "text": [
            "after 257 epoch, \n",
            "train-data evaluation:- acc = 0.94118, CrossEntropyLoss = 0.18, f1score = 0.94118       \n",
            "test-data evaluation:- acc = 0.94118, CrossEntropyLoss = 0.18, f1score = 0.94118       time_elapsed = 0.0 minuts. \n",
            " -----------------------------------------------------------------------------------------------------------------------\n"
          ]
        },
        {
          "output_type": "stream",
          "name": "stderr",
          "text": [
            "epoch [258/300], loss=0.0090: 100%|██████████| 1/1 [00:00<00:00, 19.09it/s]\n"
          ]
        },
        {
          "output_type": "stream",
          "name": "stdout",
          "text": [
            "after 258 epoch, \n",
            "train-data evaluation:- acc = 0.94118, CrossEntropyLoss = 0.18, f1score = 0.94118       \n",
            "test-data evaluation:- acc = 0.94118, CrossEntropyLoss = 0.18, f1score = 0.94118       time_elapsed = 0.0 minuts. \n",
            " -----------------------------------------------------------------------------------------------------------------------\n"
          ]
        },
        {
          "output_type": "stream",
          "name": "stderr",
          "text": [
            "epoch [259/300], loss=0.0090: 100%|██████████| 1/1 [00:00<00:00, 16.99it/s]\n"
          ]
        },
        {
          "output_type": "stream",
          "name": "stdout",
          "text": [
            "after 259 epoch, \n",
            "train-data evaluation:- acc = 0.94118, CrossEntropyLoss = 0.18, f1score = 0.94118       \n",
            "test-data evaluation:- acc = 0.94118, CrossEntropyLoss = 0.18, f1score = 0.94118       time_elapsed = 0.0 minuts. \n",
            " -----------------------------------------------------------------------------------------------------------------------\n"
          ]
        },
        {
          "output_type": "stream",
          "name": "stderr",
          "text": [
            "epoch [260/300], loss=0.0089: 100%|██████████| 1/1 [00:00<00:00, 20.18it/s]\n"
          ]
        },
        {
          "output_type": "stream",
          "name": "stdout",
          "text": [
            "after 260 epoch, \n",
            "train-data evaluation:- acc = 0.94118, CrossEntropyLoss = 0.18, f1score = 0.94118       \n",
            "test-data evaluation:- acc = 0.94118, CrossEntropyLoss = 0.18, f1score = 0.94118       time_elapsed = 0.0 minuts. \n",
            " -----------------------------------------------------------------------------------------------------------------------\n"
          ]
        },
        {
          "output_type": "stream",
          "name": "stderr",
          "text": [
            "epoch [261/300], loss=0.0089: 100%|██████████| 1/1 [00:00<00:00, 20.58it/s]\n"
          ]
        },
        {
          "output_type": "stream",
          "name": "stdout",
          "text": [
            "after 261 epoch, \n",
            "train-data evaluation:- acc = 0.94118, CrossEntropyLoss = 0.18, f1score = 0.94118       \n",
            "test-data evaluation:- acc = 0.94118, CrossEntropyLoss = 0.18, f1score = 0.94118       time_elapsed = 0.0 minuts. \n",
            " -----------------------------------------------------------------------------------------------------------------------\n"
          ]
        },
        {
          "output_type": "stream",
          "name": "stderr",
          "text": [
            "epoch [262/300], loss=0.0089: 100%|██████████| 1/1 [00:00<00:00, 17.68it/s]\n"
          ]
        },
        {
          "output_type": "stream",
          "name": "stdout",
          "text": [
            "after 262 epoch, \n",
            "train-data evaluation:- acc = 0.94118, CrossEntropyLoss = 0.18, f1score = 0.94118       \n",
            "test-data evaluation:- acc = 0.94118, CrossEntropyLoss = 0.18, f1score = 0.94118       time_elapsed = 0.0 minuts. \n",
            " -----------------------------------------------------------------------------------------------------------------------\n"
          ]
        },
        {
          "output_type": "stream",
          "name": "stderr",
          "text": [
            "epoch [263/300], loss=0.0089: 100%|██████████| 1/1 [00:00<00:00, 22.32it/s]\n"
          ]
        },
        {
          "output_type": "stream",
          "name": "stdout",
          "text": [
            "after 263 epoch, \n",
            "train-data evaluation:- acc = 0.94118, CrossEntropyLoss = 0.18, f1score = 0.94118       \n",
            "test-data evaluation:- acc = 0.94118, CrossEntropyLoss = 0.18, f1score = 0.94118       time_elapsed = 0.0 minuts. \n",
            " -----------------------------------------------------------------------------------------------------------------------\n"
          ]
        },
        {
          "output_type": "stream",
          "name": "stderr",
          "text": [
            "epoch [264/300], loss=0.0089: 100%|██████████| 1/1 [00:00<00:00, 26.63it/s]\n"
          ]
        },
        {
          "output_type": "stream",
          "name": "stdout",
          "text": [
            "after 264 epoch, \n",
            "train-data evaluation:- acc = 0.94118, CrossEntropyLoss = 0.18, f1score = 0.94118       \n",
            "test-data evaluation:- acc = 0.94118, CrossEntropyLoss = 0.18, f1score = 0.94118       time_elapsed = 0.0 minuts. \n",
            " -----------------------------------------------------------------------------------------------------------------------\n"
          ]
        },
        {
          "output_type": "stream",
          "name": "stderr",
          "text": [
            "epoch [265/300], loss=0.0089: 100%|██████████| 1/1 [00:00<00:00, 27.26it/s]\n"
          ]
        },
        {
          "output_type": "stream",
          "name": "stdout",
          "text": [
            "after 265 epoch, \n",
            "train-data evaluation:- acc = 0.94118, CrossEntropyLoss = 0.18, f1score = 0.94118       \n",
            "test-data evaluation:- acc = 0.94118, CrossEntropyLoss = 0.18, f1score = 0.94118       time_elapsed = 0.0 minuts. \n",
            " -----------------------------------------------------------------------------------------------------------------------\n"
          ]
        },
        {
          "output_type": "stream",
          "name": "stderr",
          "text": [
            "epoch [266/300], loss=0.0089: 100%|██████████| 1/1 [00:00<00:00, 25.91it/s]\n"
          ]
        },
        {
          "output_type": "stream",
          "name": "stdout",
          "text": [
            "after 266 epoch, \n",
            "train-data evaluation:- acc = 0.94118, CrossEntropyLoss = 0.18, f1score = 0.94118       \n",
            "test-data evaluation:- acc = 0.94118, CrossEntropyLoss = 0.18, f1score = 0.94118       time_elapsed = 0.0 minuts. \n",
            " -----------------------------------------------------------------------------------------------------------------------\n"
          ]
        },
        {
          "output_type": "stream",
          "name": "stderr",
          "text": [
            "epoch [267/300], loss=0.0089: 100%|██████████| 1/1 [00:00<00:00, 23.81it/s]\n"
          ]
        },
        {
          "output_type": "stream",
          "name": "stdout",
          "text": [
            "after 267 epoch, \n",
            "train-data evaluation:- acc = 0.94118, CrossEntropyLoss = 0.18, f1score = 0.94118       \n",
            "test-data evaluation:- acc = 0.94118, CrossEntropyLoss = 0.18, f1score = 0.94118       time_elapsed = 0.0 minuts. \n",
            " -----------------------------------------------------------------------------------------------------------------------\n"
          ]
        },
        {
          "output_type": "stream",
          "name": "stderr",
          "text": [
            "epoch [268/300], loss=0.0089: 100%|██████████| 1/1 [00:00<00:00, 25.27it/s]\n"
          ]
        },
        {
          "output_type": "stream",
          "name": "stdout",
          "text": [
            "after 268 epoch, \n",
            "train-data evaluation:- acc = 0.94118, CrossEntropyLoss = 0.18, f1score = 0.94118       \n",
            "test-data evaluation:- acc = 0.94118, CrossEntropyLoss = 0.18, f1score = 0.94118       time_elapsed = 0.0 minuts. \n",
            " -----------------------------------------------------------------------------------------------------------------------\n"
          ]
        },
        {
          "output_type": "stream",
          "name": "stderr",
          "text": [
            "epoch [269/300], loss=0.0089: 100%|██████████| 1/1 [00:00<00:00, 25.61it/s]\n"
          ]
        },
        {
          "output_type": "stream",
          "name": "stdout",
          "text": [
            "after 269 epoch, \n",
            "train-data evaluation:- acc = 0.94118, CrossEntropyLoss = 0.18, f1score = 0.94118       \n",
            "test-data evaluation:- acc = 0.94118, CrossEntropyLoss = 0.18, f1score = 0.94118       time_elapsed = 0.0 minuts. \n",
            " -----------------------------------------------------------------------------------------------------------------------\n"
          ]
        },
        {
          "output_type": "stream",
          "name": "stderr",
          "text": [
            "epoch [270/300], loss=0.0088: 100%|██████████| 1/1 [00:00<00:00, 25.53it/s]\n"
          ]
        },
        {
          "output_type": "stream",
          "name": "stdout",
          "text": [
            "after 270 epoch, \n",
            "train-data evaluation:- acc = 0.94118, CrossEntropyLoss = 0.18, f1score = 0.94118       \n",
            "test-data evaluation:- acc = 0.94118, CrossEntropyLoss = 0.18, f1score = 0.94118       time_elapsed = 0.0 minuts. \n",
            " -----------------------------------------------------------------------------------------------------------------------\n"
          ]
        },
        {
          "output_type": "stream",
          "name": "stderr",
          "text": [
            "epoch [271/300], loss=0.0088: 100%|██████████| 1/1 [00:00<00:00, 28.07it/s]\n"
          ]
        },
        {
          "output_type": "stream",
          "name": "stdout",
          "text": [
            "after 271 epoch, \n",
            "train-data evaluation:- acc = 0.94118, CrossEntropyLoss = 0.18, f1score = 0.94118       \n",
            "test-data evaluation:- acc = 0.94118, CrossEntropyLoss = 0.18, f1score = 0.94118       time_elapsed = 0.0 minuts. \n",
            " -----------------------------------------------------------------------------------------------------------------------\n"
          ]
        },
        {
          "output_type": "stream",
          "name": "stderr",
          "text": [
            "epoch [272/300], loss=0.0088: 100%|██████████| 1/1 [00:00<00:00, 26.81it/s]\n"
          ]
        },
        {
          "output_type": "stream",
          "name": "stdout",
          "text": [
            "after 272 epoch, \n",
            "train-data evaluation:- acc = 0.94118, CrossEntropyLoss = 0.18, f1score = 0.94118       \n",
            "test-data evaluation:- acc = 0.94118, CrossEntropyLoss = 0.18, f1score = 0.94118       time_elapsed = 0.0 minuts. \n",
            " -----------------------------------------------------------------------------------------------------------------------\n"
          ]
        },
        {
          "output_type": "stream",
          "name": "stderr",
          "text": [
            "epoch [273/300], loss=0.0088: 100%|██████████| 1/1 [00:00<00:00, 26.77it/s]\n"
          ]
        },
        {
          "output_type": "stream",
          "name": "stdout",
          "text": [
            "after 273 epoch, \n",
            "train-data evaluation:- acc = 0.94118, CrossEntropyLoss = 0.18, f1score = 0.94118       \n",
            "test-data evaluation:- acc = 0.94118, CrossEntropyLoss = 0.18, f1score = 0.94118       time_elapsed = 0.0 minuts. \n",
            " -----------------------------------------------------------------------------------------------------------------------\n"
          ]
        },
        {
          "output_type": "stream",
          "name": "stderr",
          "text": [
            "epoch [274/300], loss=0.0088: 100%|██████████| 1/1 [00:00<00:00, 22.35it/s]\n"
          ]
        },
        {
          "output_type": "stream",
          "name": "stdout",
          "text": [
            "after 274 epoch, \n",
            "train-data evaluation:- acc = 0.94118, CrossEntropyLoss = 0.18, f1score = 0.94118       \n",
            "test-data evaluation:- acc = 0.94118, CrossEntropyLoss = 0.18, f1score = 0.94118       time_elapsed = 0.0 minuts. \n",
            " -----------------------------------------------------------------------------------------------------------------------\n"
          ]
        },
        {
          "output_type": "stream",
          "name": "stderr",
          "text": [
            "epoch [275/300], loss=0.0088: 100%|██████████| 1/1 [00:00<00:00, 25.92it/s]\n"
          ]
        },
        {
          "output_type": "stream",
          "name": "stdout",
          "text": [
            "after 275 epoch, \n",
            "train-data evaluation:- acc = 0.94118, CrossEntropyLoss = 0.18, f1score = 0.94118       \n",
            "test-data evaluation:- acc = 0.94118, CrossEntropyLoss = 0.18, f1score = 0.94118       time_elapsed = 0.0 minuts. \n",
            " -----------------------------------------------------------------------------------------------------------------------\n"
          ]
        },
        {
          "output_type": "stream",
          "name": "stderr",
          "text": [
            "epoch [276/300], loss=0.0088: 100%|██████████| 1/1 [00:00<00:00, 30.11it/s]\n"
          ]
        },
        {
          "output_type": "stream",
          "name": "stdout",
          "text": [
            "after 276 epoch, \n",
            "train-data evaluation:- acc = 0.94118, CrossEntropyLoss = 0.18, f1score = 0.94118       \n",
            "test-data evaluation:- acc = 0.94118, CrossEntropyLoss = 0.18, f1score = 0.94118       time_elapsed = 0.0 minuts. \n",
            " -----------------------------------------------------------------------------------------------------------------------\n"
          ]
        },
        {
          "output_type": "stream",
          "name": "stderr",
          "text": [
            "epoch [277/300], loss=0.0088: 100%|██████████| 1/1 [00:00<00:00, 27.23it/s]\n"
          ]
        },
        {
          "output_type": "stream",
          "name": "stdout",
          "text": [
            "after 277 epoch, \n",
            "train-data evaluation:- acc = 0.94118, CrossEntropyLoss = 0.18, f1score = 0.94118       \n",
            "test-data evaluation:- acc = 0.94118, CrossEntropyLoss = 0.18, f1score = 0.94118       time_elapsed = 0.0 minuts. \n",
            " -----------------------------------------------------------------------------------------------------------------------\n"
          ]
        },
        {
          "output_type": "stream",
          "name": "stderr",
          "text": [
            "epoch [278/300], loss=0.0088: 100%|██████████| 1/1 [00:00<00:00, 26.96it/s]\n"
          ]
        },
        {
          "output_type": "stream",
          "name": "stdout",
          "text": [
            "after 278 epoch, \n",
            "train-data evaluation:- acc = 0.94118, CrossEntropyLoss = 0.18, f1score = 0.94118       \n",
            "test-data evaluation:- acc = 0.94118, CrossEntropyLoss = 0.18, f1score = 0.94118       time_elapsed = 0.0 minuts. \n",
            " -----------------------------------------------------------------------------------------------------------------------\n"
          ]
        },
        {
          "output_type": "stream",
          "name": "stderr",
          "text": [
            "epoch [279/300], loss=0.0088: 100%|██████████| 1/1 [00:00<00:00, 26.94it/s]\n"
          ]
        },
        {
          "output_type": "stream",
          "name": "stdout",
          "text": [
            "after 279 epoch, \n",
            "train-data evaluation:- acc = 0.94118, CrossEntropyLoss = 0.18, f1score = 0.94118       \n",
            "test-data evaluation:- acc = 0.94118, CrossEntropyLoss = 0.18, f1score = 0.94118       time_elapsed = 0.0 minuts. \n",
            " -----------------------------------------------------------------------------------------------------------------------\n"
          ]
        },
        {
          "output_type": "stream",
          "name": "stderr",
          "text": [
            "epoch [280/300], loss=0.0088: 100%|██████████| 1/1 [00:00<00:00, 22.14it/s]\n"
          ]
        },
        {
          "output_type": "stream",
          "name": "stdout",
          "text": [
            "after 280 epoch, \n",
            "train-data evaluation:- acc = 0.94118, CrossEntropyLoss = 0.18, f1score = 0.94118       \n",
            "test-data evaluation:- acc = 0.94118, CrossEntropyLoss = 0.18, f1score = 0.94118       time_elapsed = 0.0 minuts. \n",
            " -----------------------------------------------------------------------------------------------------------------------\n"
          ]
        },
        {
          "output_type": "stream",
          "name": "stderr",
          "text": [
            "epoch [281/300], loss=0.0088: 100%|██████████| 1/1 [00:00<00:00, 23.19it/s]\n"
          ]
        },
        {
          "output_type": "stream",
          "name": "stdout",
          "text": [
            "after 281 epoch, \n",
            "train-data evaluation:- acc = 0.94118, CrossEntropyLoss = 0.18, f1score = 0.94118       \n",
            "test-data evaluation:- acc = 0.94118, CrossEntropyLoss = 0.18, f1score = 0.94118       time_elapsed = 0.0 minuts. \n",
            " -----------------------------------------------------------------------------------------------------------------------\n"
          ]
        },
        {
          "output_type": "stream",
          "name": "stderr",
          "text": [
            "epoch [282/300], loss=0.0087: 100%|██████████| 1/1 [00:00<00:00, 21.88it/s]\n"
          ]
        },
        {
          "output_type": "stream",
          "name": "stdout",
          "text": [
            "after 282 epoch, \n",
            "train-data evaluation:- acc = 0.94118, CrossEntropyLoss = 0.18, f1score = 0.94118       \n",
            "test-data evaluation:- acc = 0.94118, CrossEntropyLoss = 0.18, f1score = 0.94118       time_elapsed = 0.0 minuts. \n",
            " -----------------------------------------------------------------------------------------------------------------------\n"
          ]
        },
        {
          "output_type": "stream",
          "name": "stderr",
          "text": [
            "epoch [283/300], loss=0.0087: 100%|██████████| 1/1 [00:00<00:00, 28.56it/s]\n"
          ]
        },
        {
          "output_type": "stream",
          "name": "stdout",
          "text": [
            "after 283 epoch, \n",
            "train-data evaluation:- acc = 0.94118, CrossEntropyLoss = 0.18, f1score = 0.94118       \n",
            "test-data evaluation:- acc = 0.94118, CrossEntropyLoss = 0.18, f1score = 0.94118       time_elapsed = 0.0 minuts. \n",
            " -----------------------------------------------------------------------------------------------------------------------\n"
          ]
        },
        {
          "output_type": "stream",
          "name": "stderr",
          "text": [
            "epoch [284/300], loss=0.0087: 100%|██████████| 1/1 [00:00<00:00, 25.51it/s]\n"
          ]
        },
        {
          "output_type": "stream",
          "name": "stdout",
          "text": [
            "after 284 epoch, \n",
            "train-data evaluation:- acc = 0.94118, CrossEntropyLoss = 0.18, f1score = 0.94118       \n",
            "test-data evaluation:- acc = 0.94118, CrossEntropyLoss = 0.18, f1score = 0.94118       time_elapsed = 0.0 minuts. \n",
            " -----------------------------------------------------------------------------------------------------------------------\n"
          ]
        },
        {
          "output_type": "stream",
          "name": "stderr",
          "text": [
            "epoch [285/300], loss=0.0087: 100%|██████████| 1/1 [00:00<00:00, 27.08it/s]\n"
          ]
        },
        {
          "output_type": "stream",
          "name": "stdout",
          "text": [
            "after 285 epoch, \n",
            "train-data evaluation:- acc = 0.94118, CrossEntropyLoss = 0.18, f1score = 0.94118       \n",
            "test-data evaluation:- acc = 0.94118, CrossEntropyLoss = 0.18, f1score = 0.94118       time_elapsed = 0.0 minuts. \n",
            " -----------------------------------------------------------------------------------------------------------------------\n"
          ]
        },
        {
          "output_type": "stream",
          "name": "stderr",
          "text": [
            "epoch [286/300], loss=0.0087: 100%|██████████| 1/1 [00:00<00:00, 24.27it/s]\n"
          ]
        },
        {
          "output_type": "stream",
          "name": "stdout",
          "text": [
            "after 286 epoch, \n",
            "train-data evaluation:- acc = 0.94118, CrossEntropyLoss = 0.18, f1score = 0.94118       \n",
            "test-data evaluation:- acc = 0.94118, CrossEntropyLoss = 0.18, f1score = 0.94118       time_elapsed = 0.0 minuts. \n",
            " -----------------------------------------------------------------------------------------------------------------------\n"
          ]
        },
        {
          "output_type": "stream",
          "name": "stderr",
          "text": [
            "epoch [287/300], loss=0.0087: 100%|██████████| 1/1 [00:00<00:00, 26.05it/s]\n"
          ]
        },
        {
          "output_type": "stream",
          "name": "stdout",
          "text": [
            "after 287 epoch, \n",
            "train-data evaluation:- acc = 0.94118, CrossEntropyLoss = 0.18, f1score = 0.94118       \n",
            "test-data evaluation:- acc = 0.94118, CrossEntropyLoss = 0.18, f1score = 0.94118       time_elapsed = 0.0 minuts. \n",
            " -----------------------------------------------------------------------------------------------------------------------\n"
          ]
        },
        {
          "output_type": "stream",
          "name": "stderr",
          "text": [
            "epoch [288/300], loss=0.0087: 100%|██████████| 1/1 [00:00<00:00, 25.82it/s]\n"
          ]
        },
        {
          "output_type": "stream",
          "name": "stdout",
          "text": [
            "after 288 epoch, \n",
            "train-data evaluation:- acc = 0.94118, CrossEntropyLoss = 0.18, f1score = 0.94118       \n",
            "test-data evaluation:- acc = 0.94118, CrossEntropyLoss = 0.18, f1score = 0.94118       time_elapsed = 0.0 minuts. \n",
            " -----------------------------------------------------------------------------------------------------------------------\n"
          ]
        },
        {
          "output_type": "stream",
          "name": "stderr",
          "text": [
            "epoch [289/300], loss=0.0087: 100%|██████████| 1/1 [00:00<00:00, 24.84it/s]\n"
          ]
        },
        {
          "output_type": "stream",
          "name": "stdout",
          "text": [
            "after 289 epoch, \n",
            "train-data evaluation:- acc = 0.94118, CrossEntropyLoss = 0.18, f1score = 0.94118       \n",
            "test-data evaluation:- acc = 0.94118, CrossEntropyLoss = 0.18, f1score = 0.94118       time_elapsed = 0.0 minuts. \n",
            " -----------------------------------------------------------------------------------------------------------------------\n"
          ]
        },
        {
          "output_type": "stream",
          "name": "stderr",
          "text": [
            "epoch [290/300], loss=0.0087: 100%|██████████| 1/1 [00:00<00:00, 25.35it/s]\n"
          ]
        },
        {
          "output_type": "stream",
          "name": "stdout",
          "text": [
            "after 290 epoch, \n",
            "train-data evaluation:- acc = 0.94118, CrossEntropyLoss = 0.18, f1score = 0.94118       \n",
            "test-data evaluation:- acc = 0.94118, CrossEntropyLoss = 0.18, f1score = 0.94118       time_elapsed = 0.0 minuts. \n",
            " -----------------------------------------------------------------------------------------------------------------------\n"
          ]
        },
        {
          "output_type": "stream",
          "name": "stderr",
          "text": [
            "epoch [291/300], loss=0.0087: 100%|██████████| 1/1 [00:00<00:00, 32.28it/s]\n"
          ]
        },
        {
          "output_type": "stream",
          "name": "stdout",
          "text": [
            "after 291 epoch, \n",
            "train-data evaluation:- acc = 0.94118, CrossEntropyLoss = 0.18, f1score = 0.94118       \n",
            "test-data evaluation:- acc = 0.94118, CrossEntropyLoss = 0.18, f1score = 0.94118       time_elapsed = 0.0 minuts. \n",
            " -----------------------------------------------------------------------------------------------------------------------\n"
          ]
        },
        {
          "output_type": "stream",
          "name": "stderr",
          "text": [
            "epoch [292/300], loss=0.0087: 100%|██████████| 1/1 [00:00<00:00, 20.86it/s]\n"
          ]
        },
        {
          "output_type": "stream",
          "name": "stdout",
          "text": [
            "after 292 epoch, \n",
            "train-data evaluation:- acc = 0.94118, CrossEntropyLoss = 0.18, f1score = 0.94118       \n",
            "test-data evaluation:- acc = 0.94118, CrossEntropyLoss = 0.18, f1score = 0.94118       time_elapsed = 0.0 minuts. \n",
            " -----------------------------------------------------------------------------------------------------------------------\n"
          ]
        },
        {
          "output_type": "stream",
          "name": "stderr",
          "text": [
            "epoch [293/300], loss=0.0087: 100%|██████████| 1/1 [00:00<00:00, 23.71it/s]\n"
          ]
        },
        {
          "output_type": "stream",
          "name": "stdout",
          "text": [
            "after 293 epoch, \n",
            "train-data evaluation:- acc = 0.94118, CrossEntropyLoss = 0.18, f1score = 0.94118       \n",
            "test-data evaluation:- acc = 0.94118, CrossEntropyLoss = 0.18, f1score = 0.94118       time_elapsed = 0.0 minuts. \n",
            " -----------------------------------------------------------------------------------------------------------------------\n"
          ]
        },
        {
          "output_type": "stream",
          "name": "stderr",
          "text": [
            "epoch [294/300], loss=0.0087: 100%|██████████| 1/1 [00:00<00:00,  3.11it/s]\n"
          ]
        },
        {
          "output_type": "stream",
          "name": "stdout",
          "text": [
            "after 294 epoch, \n",
            "train-data evaluation:- acc = 0.94118, CrossEntropyLoss = 0.18, f1score = 0.94118       \n",
            "test-data evaluation:- acc = 0.94118, CrossEntropyLoss = 0.18, f1score = 0.94118       time_elapsed = 0.0 minuts. \n",
            " -----------------------------------------------------------------------------------------------------------------------\n"
          ]
        },
        {
          "output_type": "stream",
          "name": "stderr",
          "text": [
            "epoch [295/300], loss=0.0087: 100%|██████████| 1/1 [00:00<00:00, 25.76it/s]\n"
          ]
        },
        {
          "output_type": "stream",
          "name": "stdout",
          "text": [
            "after 295 epoch, \n",
            "train-data evaluation:- acc = 0.94118, CrossEntropyLoss = 0.18, f1score = 0.94118       \n",
            "test-data evaluation:- acc = 0.94118, CrossEntropyLoss = 0.18, f1score = 0.94118       time_elapsed = 0.0 minuts. \n",
            " -----------------------------------------------------------------------------------------------------------------------\n"
          ]
        },
        {
          "output_type": "stream",
          "name": "stderr",
          "text": [
            "epoch [296/300], loss=0.0087: 100%|██████████| 1/1 [00:00<00:00, 26.29it/s]\n"
          ]
        },
        {
          "output_type": "stream",
          "name": "stdout",
          "text": [
            "after 296 epoch, \n",
            "train-data evaluation:- acc = 0.94118, CrossEntropyLoss = 0.18, f1score = 0.94118       \n",
            "test-data evaluation:- acc = 0.94118, CrossEntropyLoss = 0.18, f1score = 0.94118       time_elapsed = 0.0 minuts. \n",
            " -----------------------------------------------------------------------------------------------------------------------\n"
          ]
        },
        {
          "output_type": "stream",
          "name": "stderr",
          "text": [
            "epoch [297/300], loss=0.0087: 100%|██████████| 1/1 [00:00<00:00, 26.64it/s]\n"
          ]
        },
        {
          "output_type": "stream",
          "name": "stdout",
          "text": [
            "after 297 epoch, \n",
            "train-data evaluation:- acc = 0.94118, CrossEntropyLoss = 0.18, f1score = 0.94118       \n",
            "test-data evaluation:- acc = 0.94118, CrossEntropyLoss = 0.18, f1score = 0.94118       time_elapsed = 0.0 minuts. \n",
            " -----------------------------------------------------------------------------------------------------------------------\n"
          ]
        },
        {
          "output_type": "stream",
          "name": "stderr",
          "text": [
            "epoch [298/300], loss=0.0086: 100%|██████████| 1/1 [00:00<00:00, 26.88it/s]\n"
          ]
        },
        {
          "output_type": "stream",
          "name": "stdout",
          "text": [
            "after 298 epoch, \n",
            "train-data evaluation:- acc = 0.94118, CrossEntropyLoss = 0.18, f1score = 0.94118       \n",
            "test-data evaluation:- acc = 0.94118, CrossEntropyLoss = 0.18, f1score = 0.94118       time_elapsed = 0.0 minuts. \n",
            " -----------------------------------------------------------------------------------------------------------------------\n"
          ]
        },
        {
          "output_type": "stream",
          "name": "stderr",
          "text": [
            "epoch [299/300], loss=0.0086: 100%|██████████| 1/1 [00:00<00:00, 27.24it/s]\n"
          ]
        },
        {
          "output_type": "stream",
          "name": "stdout",
          "text": [
            "after 299 epoch, \n",
            "train-data evaluation:- acc = 0.94118, CrossEntropyLoss = 0.18, f1score = 0.94118       \n",
            "test-data evaluation:- acc = 0.94118, CrossEntropyLoss = 0.18, f1score = 0.94118       time_elapsed = 0.0 minuts. \n",
            " -----------------------------------------------------------------------------------------------------------------------\n"
          ]
        },
        {
          "output_type": "stream",
          "name": "stderr",
          "text": [
            "epoch [300/300], loss=0.0086: 100%|██████████| 1/1 [00:00<00:00, 30.70it/s]\n"
          ]
        },
        {
          "output_type": "stream",
          "name": "stdout",
          "text": [
            "after 300 epoch, \n",
            "train-data evaluation:- acc = 0.94118, CrossEntropyLoss = 0.18, f1score = 0.94118       \n",
            "test-data evaluation:- acc = 0.94118, CrossEntropyLoss = 0.18, f1score = 0.94118       time_elapsed = 0.0 minuts. \n",
            " -----------------------------------------------------------------------------------------------------------------------\n"
          ]
        }
      ],
      "source": [
        "# from this cell you can adjust/tune almost all the hyper paremeters,\n",
        "# except the model structure which can be adjusted from the previous cell\n",
        "\n",
        "# initializing the model and convert it to device(gpu or cpu)\n",
        "model = network().to(device)\n",
        "\n",
        "# print the model structure\n",
        "print(model)\n",
        "\n",
        "# the Learning Rate hyperparameter\n",
        "learning_rate = 0.017\n",
        "\n",
        "# loss initializing\n",
        "#criterion = nn.MSELoss()\n",
        "criterion = nn.CrossEntropyLoss()\n",
        "\n",
        "# optimizer initializing\n",
        "optimizer = torch.optim.Adam(params=model.parameters(), lr=learning_rate)\n",
        "\n",
        "#learning-rate schedular initialization\n",
        "# i used values here to elimiate this function effect, as i found i don't need it now, and i didn't remove it totally\n",
        "# to be able to call it again just by modify the factor and patience values without change any other part of the code\n",
        "schedular = torch.optim.lr_scheduler.ReduceLROnPlateau(optimizer, factor=0.9, patience=5)\n",
        "\n",
        "# determine number of calculations\n",
        "num_epochs = 300\n",
        "\n",
        "# set the batch size\n",
        "batch_size = 2000\n",
        "\n",
        "# create the train_loader object\n",
        "train_loader = DataLoader(dataset=train_set, shuffle=True, batch_size=batch_size)\n",
        "\n",
        "# create the test_loader object\n",
        "test_loader = DataLoader(dataset=test_set, batch_size=batch_size)\n",
        "\n",
        "# lets check the valaidation before training\n",
        "starting_test_eval = evaluate_model(model, data_loader=test_loader)\n",
        "\n",
        "# call the training function\n",
        "evaluations_progress = train_model(num_epochs, data_loader=train_loader)"
      ]
    },
    {
      "cell_type": "markdown",
      "metadata": {
        "id": "b0lFHs5Q4M6H"
      },
      "source": [
        "why i print maximum accuracy the model reached? as sometimes the model reach to a very good accuracy then it's accuracy degraded, but the point is as long as the model can to reach to that good accuracy then i need to know that to figure out if i'm close to optimum hyperparameters or no and to decide if i need to change the hyperparameters with small scale or large one."
      ]
    },
    {
      "cell_type": "code",
      "execution_count": 26,
      "metadata": {
        "id": "2ONGH5gBBKIQ"
      },
      "outputs": [],
      "source": [
        "# printing the maximum training accuracy and maximum testing accuracy the model reached\n",
        "#print(f\"maximun accuracy training evaluation={(max(evaluations_progress[:, 0, 0])):.5f}\\\n",
        "#\\nmaximun accuracy test evaluation={(max(evaluations_progress[:, 0, 0])):.5f}\\\n",
        "#\\nminimun cross_entropy_loss training evaluation={(min(evaluations_progress[:, 0, 1]))}\\\n",
        "#\\nminimun cross_entropy_loss test evaluation={(min(evaluations_progress[:, 0, 1]))}\\\n",
        "#\\nmaximun f1score training evaluation={(min(evaluations_progress[:, 0, 2])):.5f}\\\n",
        "#\\nmaximun f1score test evaluation={(min(evaluations_progress[:, 0, 2])):.5f}\")\n"
      ]
    },
    {
      "cell_type": "markdown",
      "metadata": {
        "id": "wQMI2xqKQgUH"
      },
      "source": [
        "### plot the overall training and testing accuracy progress"
      ]
    },
    {
      "cell_type": "code",
      "execution_count": 27,
      "metadata": {
        "colab": {
          "base_uri": "https://localhost:8080/",
          "height": 472
        },
        "id": "HWV83STLBJ-J",
        "outputId": "2fe9cfcc-3e33-4ce0-dc63-7764c2d9b042"
      },
      "outputs": [
        {
          "output_type": "display_data",
          "data": {
            "text/plain": [
              "<Figure size 640x480 with 1 Axes>"
            ],
            "image/png": "[encoded data removed]"
          },
          "metadata": {}
        }
      ],
      "source": [
        "def plot_evaluation(train_progress, test_progress, title):\n",
        "    '''function to plot the progress of training and testing data'''\n",
        "\n",
        "    # convert the train accuracy list into numpy array.\n",
        "    train_line_val = np.array([val for val in train_progress])\n",
        "    # convert the train accuracy list into numpy array.\n",
        "    test_line_val = np.array([val for val in test_progress])\n",
        "\n",
        "    # plot the progress of training accuracy over epochs.\n",
        "    train_progress, = plt.plot((range(len(train_line_val))), train_line_val, label=\"train progress\", marker=\"*\", linewidth=3)\n",
        "    # plot the progress of testing accuracy over epochs.\n",
        "    test_progress, = plt.plot((range(len(test_line_val))), test_line_val, label=\"test progress\", marker=\"o\", linewidth=1)\n",
        "\n",
        "    # set the legend parameters.\n",
        "    plt.legend(loc=\"best\", handles=[train_progress, test_progress])\n",
        "    # write the figure title.\n",
        "    plt.title(title)\n",
        "    # write the label of x axis.\n",
        "    plt.xlabel(\"epochs\")\n",
        "    # write the label of y axis.\n",
        "    plt.ylabel(\"validation\")\n",
        "    # add grid to the figure\n",
        "    plt.grid(which='major')\n",
        "    # to show the figure and remove any unwanted appered words\n",
        "    plt.show()\n",
        "\n",
        "plot_evaluation(evaluations_progress[:, 0, 0], evaluations_progress[:, 1, 0], 'accuracy evaluation progress while training')"
      ]
    },
    {
      "cell_type": "code",
      "execution_count": 28,
      "metadata": {
        "colab": {
          "base_uri": "https://localhost:8080/",
          "height": 472
        },
        "id": "E9rA1gDIx0sw",
        "outputId": "e7eb3372-3160-4bae-a1c9-70f73eb636fc"
      },
      "outputs": [
        {
          "output_type": "display_data",
          "data": {
            "text/plain": [
              "<Figure size 640x480 with 1 Axes>"
            ],
            "image/png": "[encoded data removed]"
          },
          "metadata": {}
        }
      ],
      "source": [
        "plot_evaluation(evaluations_progress[:, 0, 1], evaluations_progress[:, 1, 1], 'cross_entropy_loss evaluation progress while training')"
      ]
    },
    {
      "cell_type": "code",
      "execution_count": 29,
      "metadata": {
        "colab": {
          "base_uri": "https://localhost:8080/",
          "height": 472
        },
        "id": "svmxgyivdCOm",
        "outputId": "1d003f89-aa60-4dfd-a35b-11a649aaa6a2"
      },
      "outputs": [
        {
          "output_type": "display_data",
          "data": {
            "text/plain": [
              "<Figure size 640x480 with 1 Axes>"
            ],
            "image/png": "[encoded data removed]"
          },
          "metadata": {}
        }
      ],
      "source": [
        "plot_evaluation(evaluations_progress[:, 0, 2], evaluations_progress[:, 1, 2], 'f1score evaluation progress while training')"
      ]
    },
    {
      "cell_type": "code",
      "execution_count": 30,
      "metadata": {
        "colab": {
          "base_uri": "https://localhost:8080/"
        },
        "id": "5fvaK2UWsvNE",
        "outputId": "b5c041f8-f4d6-4311-aef2-c4a31bb1439a"
      },
      "outputs": [
        {
          "output_type": "stream",
          "name": "stdout",
          "text": [
            "/content/drive/MyDrive/maids.cc/data\n"
          ]
        }
      ],
      "source": [
        "# to change to this directory\n",
        "%cd /content/drive/MyDrive/maids.cc/data\n",
        "# path to the saving file\n",
        "PATH = '/content/drive/MyDrive/maids.cc/data/pytorch_model.sav'\n",
        "\n",
        "# saving the model using pytorch refer to https://pytorch.org/tutorials/beginner/saving_loading_models.html\n",
        "#torch.save(model, PATH)\n",
        "\n",
        "# loading the model when needed\n",
        "# Model class must be defined somewhere\n",
        "loaded_model = torch.load(PATH)\n",
        "loaded_model.eval()\n",
        "\n",
        "\n",
        "\n",
        "# # # #save the trained model to disk\n",
        "filename = 'pytorch_model_.sav'\n",
        "#joblib.dump(model, filename)\n",
        "# # # # to load the model from disk\n",
        "pytorch_model_ = joblib.load(filename)\n",
        "\n",
        "\n",
        "\n",
        "# # # another way to save the trained model\n",
        "filename = 'pytorch_model.sav'\n",
        "#pickle.dump(model, open(filename, 'wb'))\n",
        "# # # # to load the model from disk\n",
        "pytorch_model = pickle.load(open(filename, 'rb'))"
      ]
    },
    {
      "cell_type": "code",
      "execution_count": null,
      "metadata": {
        "id": "ihQcDAV1C_nI"
      },
      "outputs": [],
      "source": [
        "# preprocessing the data in the inference time\n",
        "preprocessor_1 = make_column_transformer((MinMaxScaler(feature_range=(0, 3)), [\"ram\"]), remainder=\"passthrough\")\n",
        "preprocessor_2 = make_column_transformer(\n",
        "     (IterativeImputer(random_state=seed, tol=1e-5, max_iter=55), slice(0, 20)), remainder=\"passthrough\")\n",
        "preprocessor_3 = make_column_transformer((StandardScaler(), slice(1, 20)), remainder=\"passthrough\")\n",
        "pipe = make_pipeline(preprocessor_1, preprocessor_2, preprocessor_3)\n",
        "# apply the needed transformations over the testing data\n",
        "xtest = pipe.transform(xtest_unprocessed)\n",
        "class CollectedData(Dataset):\n",
        "    '''create the class to deal with the data convert them into torch tensors, getting the data item and getting the length of the data'''\n",
        "    def __init__(self, x, y):\n",
        "        self.data = torch.tensor(x, dtype=torch.float32)\n",
        "        self.label = torch.tensor(y.values)\n",
        "        self.n_smpl = x.shape[0]\n",
        "    def __getitem__(self, idx):\n",
        "        '''return the data sample given the index'''\n",
        "        return (self.data[idx].float(), self.label[idx]#.float()\n",
        "        )\n",
        "    def __len__(self):\n",
        "        '''function to return the length of the dataset'''\n",
        "        return self.n_smpl\n",
        "#compine the features and the corresponding labels into one object\n",
        "test_set = CollectedData(xtest, ytest)"
      ]
    }
  ],
  "metadata": {
    "colab": {
      "provenance": []
    },
    "kernelspec": {
      "display_name": "Python 3",
      "name": "python3"
    },
    "language_info": {
      "name": "python"
    }
  },
  "nbformat": 4,
  "nbformat_minor": 0
}